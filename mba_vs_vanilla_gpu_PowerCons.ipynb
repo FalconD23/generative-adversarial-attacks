{
  "cells": [
    {
      "cell_type": "markdown",
      "id": "kgeuhz3EgsmA",
      "metadata": {
        "id": "kgeuhz3EgsmA"
      },
      "source": [
        "# Model-based attacks VS FGSM / iFGSM"
      ]
    },
    {
      "cell_type": "markdown",
      "id": "84b1bc67",
      "metadata": {
        "id": "84b1bc67"
      },
      "source": [
        "## Preprocessing"
      ]
    },
    {
      "cell_type": "code",
      "execution_count": 1,
      "id": "30ad4698",
      "metadata": {
        "id": "30ad4698"
      },
      "outputs": [
        {
          "name": "stdout",
          "output_type": "stream",
          "text": [
            "Defaulting to user installation because normal site-packages is not writeable\n",
            "Requirement already satisfied: tsai in /home/jupyter/.local/lib/python3.10/site-packages (0.4.1)\n",
            "Requirement already satisfied: pip in /kernel/lib/python3.10/site-packages (from tsai) (23.0.1)\n",
            "Requirement already satisfied: packaging in /usr/local/lib/python3.10/dist-packages (from tsai) (23.1)\n",
            "Requirement already satisfied: fastai>=2.8.2 in /home/jupyter/.local/lib/python3.10/site-packages (from tsai) (2.8.3)\n",
            "Requirement already satisfied: pyts>=0.13.0 in /home/jupyter/.local/lib/python3.10/site-packages (from tsai) (0.13.0)\n",
            "Requirement already satisfied: imbalanced-learn>=0.12.4 in /home/jupyter/.local/lib/python3.10/site-packages (from tsai) (0.14.0)\n",
            "Requirement already satisfied: psutil>=6.1.0 in /kernel/lib/python3.10/site-packages (from tsai) (7.0.0)\n",
            "Requirement already satisfied: scikit-learn>=1.5.2 in /home/jupyter/.local/lib/python3.10/site-packages (from tsai) (1.7.1)\n",
            "Requirement already satisfied: torch<2.8,>=1.10 in /usr/local/lib/python3.10/dist-packages (from tsai) (2.0.1+cu118)\n",
            "Requirement already satisfied: filelock in /usr/local/lib/python3.10/dist-packages (from torch<2.8,>=1.10->tsai) (3.12.2)\n",
            "Requirement already satisfied: typing-extensions in /home/jupyter/.local/lib/python3.10/site-packages (from torch<2.8,>=1.10->tsai) (4.14.1)\n",
            "Requirement already satisfied: sympy in /usr/local/lib/python3.10/dist-packages (from torch<2.8,>=1.10->tsai) (1.11.1)\n",
            "Requirement already satisfied: networkx in /usr/local/lib/python3.10/dist-packages (from torch<2.8,>=1.10->tsai) (3.1)\n",
            "Requirement already satisfied: jinja2 in /usr/local/lib/python3.10/dist-packages (from torch<2.8,>=1.10->tsai) (3.1.2)\n",
            "Requirement already satisfied: triton==2.0.0 in /usr/local/lib/python3.10/dist-packages (from torch<2.8,>=1.10->tsai) (2.0.0)\n",
            "Requirement already satisfied: cmake in /usr/local/lib/python3.10/dist-packages (from triton==2.0.0->torch<2.8,>=1.10->tsai) (3.25.2)\n",
            "Requirement already satisfied: lit in /usr/local/lib/python3.10/dist-packages (from triton==2.0.0->torch<2.8,>=1.10->tsai) (16.0.6)\n",
            "Requirement already satisfied: fastdownload<2,>=0.0.5 in /usr/local/lib/python3.10/dist-packages (from fastai>=2.8.2->tsai) (0.0.7)\n",
            "Requirement already satisfied: fastcore<1.9,>=1.8.0 in /home/jupyter/.local/lib/python3.10/site-packages (from fastai>=2.8.2->tsai) (1.8.7)\n",
            "Requirement already satisfied: fasttransform>=0.0.2 in /home/jupyter/.local/lib/python3.10/site-packages (from fastai>=2.8.2->tsai) (0.0.2)\n",
            "Requirement already satisfied: torchvision>=0.11 in /usr/local/lib/python3.10/dist-packages (from fastai>=2.8.2->tsai) (0.15.2+cu118)\n",
            "Requirement already satisfied: matplotlib in /usr/local/lib/python3.10/dist-packages (from fastai>=2.8.2->tsai) (3.7.1)\n",
            "Requirement already satisfied: pandas in /usr/local/lib/python3.10/dist-packages (from fastai>=2.8.2->tsai) (1.5.3)\n",
            "Requirement already satisfied: requests in /usr/local/lib/python3.10/dist-packages (from fastai>=2.8.2->tsai) (2.27.1)\n",
            "Requirement already satisfied: pyyaml in /usr/local/lib/python3.10/dist-packages (from fastai>=2.8.2->tsai) (6.0.1)\n",
            "Requirement already satisfied: fastprogress>=0.2.4 in /usr/local/lib/python3.10/dist-packages (from fastai>=2.8.2->tsai) (1.0.3)\n",
            "Requirement already satisfied: pillow>=9.0.0 in /usr/local/lib/python3.10/dist-packages (from fastai>=2.8.2->tsai) (9.4.0)\n",
            "Requirement already satisfied: scipy in /home/jupyter/.local/lib/python3.10/site-packages (from fastai>=2.8.2->tsai) (1.15.3)\n",
            "Requirement already satisfied: spacy<4 in /usr/local/lib/python3.10/dist-packages (from fastai>=2.8.2->tsai) (3.5.4)\n",
            "Requirement already satisfied: plum-dispatch in /home/jupyter/.local/lib/python3.10/site-packages (from fastai>=2.8.2->tsai) (2.5.7)\n",
            "Requirement already satisfied: cloudpickle in /usr/local/lib/python3.10/dist-packages (from fastai>=2.8.2->tsai) (2.2.1)\n",
            "Requirement already satisfied: spacy-legacy<3.1.0,>=3.0.11 in /usr/local/lib/python3.10/dist-packages (from spacy<4->fastai>=2.8.2->tsai) (3.0.12)\n",
            "Requirement already satisfied: spacy-loggers<2.0.0,>=1.0.0 in /usr/local/lib/python3.10/dist-packages (from spacy<4->fastai>=2.8.2->tsai) (1.0.4)\n",
            "Requirement already satisfied: murmurhash<1.1.0,>=0.28.0 in /usr/local/lib/python3.10/dist-packages (from spacy<4->fastai>=2.8.2->tsai) (1.0.9)\n",
            "Requirement already satisfied: cymem<2.1.0,>=2.0.2 in /usr/local/lib/python3.10/dist-packages (from spacy<4->fastai>=2.8.2->tsai) (2.0.7)\n",
            "Requirement already satisfied: preshed<3.1.0,>=3.0.2 in /usr/local/lib/python3.10/dist-packages (from spacy<4->fastai>=2.8.2->tsai) (3.0.8)\n",
            "Requirement already satisfied: thinc<8.2.0,>=8.1.8 in /usr/local/lib/python3.10/dist-packages (from spacy<4->fastai>=2.8.2->tsai) (8.1.10)\n",
            "Requirement already satisfied: wasabi<1.2.0,>=0.9.1 in /usr/local/lib/python3.10/dist-packages (from spacy<4->fastai>=2.8.2->tsai) (1.1.2)\n",
            "Requirement already satisfied: srsly<3.0.0,>=2.4.3 in /usr/local/lib/python3.10/dist-packages (from spacy<4->fastai>=2.8.2->tsai) (2.4.7)\n",
            "Requirement already satisfied: catalogue<2.1.0,>=2.0.6 in /usr/local/lib/python3.10/dist-packages (from spacy<4->fastai>=2.8.2->tsai) (2.0.9)\n",
            "Requirement already satisfied: typer<0.10.0,>=0.3.0 in /usr/local/lib/python3.10/dist-packages (from spacy<4->fastai>=2.8.2->tsai) (0.9.0)\n",
            "Requirement already satisfied: pathy>=0.10.0 in /usr/local/lib/python3.10/dist-packages (from spacy<4->fastai>=2.8.2->tsai) (0.10.2)\n",
            "Requirement already satisfied: smart-open<7.0.0,>=5.2.1 in /usr/local/lib/python3.10/dist-packages (from spacy<4->fastai>=2.8.2->tsai) (6.3.0)\n",
            "Requirement already satisfied: tqdm<5.0.0,>=4.38.0 in /usr/local/lib/python3.10/dist-packages (from spacy<4->fastai>=2.8.2->tsai) (4.65.0)\n",
            "Requirement already satisfied: numpy>=1.15.0 in /home/jupyter/.local/lib/python3.10/site-packages (from spacy<4->fastai>=2.8.2->tsai) (2.2.6)\n",
            "Requirement already satisfied: pydantic!=1.8,!=1.8.1,<1.11.0,>=1.7.4 in /usr/local/lib/python3.10/dist-packages (from spacy<4->fastai>=2.8.2->tsai) (1.10.12)\n",
            "Requirement already satisfied: setuptools in /kernel/lib/python3.10/site-packages (from spacy<4->fastai>=2.8.2->tsai) (65.5.0)\n",
            "Requirement already satisfied: langcodes<4.0.0,>=3.2.0 in /usr/local/lib/python3.10/dist-packages (from spacy<4->fastai>=2.8.2->tsai) (3.3.0)\n",
            "Requirement already satisfied: urllib3<1.27,>=1.21.1 in /usr/local/lib/python3.10/dist-packages (from requests->fastai>=2.8.2->tsai) (1.26.16)\n",
            "Requirement already satisfied: certifi>=2017.4.17 in /usr/local/lib/python3.10/dist-packages (from requests->fastai>=2.8.2->tsai) (2023.7.22)\n",
            "Requirement already satisfied: charset-normalizer~=2.0.0 in /usr/local/lib/python3.10/dist-packages (from requests->fastai>=2.8.2->tsai) (2.0.12)\n",
            "Requirement already satisfied: idna<4,>=2.5 in /usr/local/lib/python3.10/dist-packages (from requests->fastai>=2.8.2->tsai) (3.4)\n",
            "Requirement already satisfied: blis<0.8.0,>=0.7.8 in /usr/local/lib/python3.10/dist-packages (from thinc<8.2.0,>=8.1.8->spacy<4->fastai>=2.8.2->tsai) (0.7.10)\n",
            "Requirement already satisfied: confection<1.0.0,>=0.0.1 in /usr/local/lib/python3.10/dist-packages (from thinc<8.2.0,>=8.1.8->spacy<4->fastai>=2.8.2->tsai) (0.1.0)\n",
            "Requirement already satisfied: click<9.0.0,>=7.1.1 in /usr/local/lib/python3.10/dist-packages (from typer<0.10.0,>=0.3.0->spacy<4->fastai>=2.8.2->tsai) (8.1.6)\n",
            "Requirement already satisfied: joblib<2,>=1.2.0 in /usr/local/lib/python3.10/dist-packages (from imbalanced-learn>=0.12.4->tsai) (1.3.1)\n",
            "Requirement already satisfied: threadpoolctl<4,>=2.0.0 in /usr/local/lib/python3.10/dist-packages (from imbalanced-learn>=0.12.4->tsai) (3.2.0)\n",
            "Requirement already satisfied: numba>=0.55.2 in /home/jupyter/.local/lib/python3.10/site-packages (from pyts>=0.13.0->tsai) (0.61.2)\n",
            "Requirement already satisfied: llvmlite<0.45,>=0.44.0dev0 in /home/jupyter/.local/lib/python3.10/site-packages (from numba>=0.55.2->pyts>=0.13.0->tsai) (0.44.0)\n",
            "Requirement already satisfied: MarkupSafe>=2.0 in /usr/local/lib/python3.10/dist-packages (from jinja2->torch<2.8,>=1.10->tsai) (2.1.3)\n",
            "Requirement already satisfied: contourpy>=1.0.1 in /usr/local/lib/python3.10/dist-packages (from matplotlib->fastai>=2.8.2->tsai) (1.1.0)\n",
            "Requirement already satisfied: cycler>=0.10 in /usr/local/lib/python3.10/dist-packages (from matplotlib->fastai>=2.8.2->tsai) (0.11.0)\n",
            "Requirement already satisfied: fonttools>=4.22.0 in /usr/local/lib/python3.10/dist-packages (from matplotlib->fastai>=2.8.2->tsai) (4.41.1)\n",
            "Requirement already satisfied: kiwisolver>=1.0.1 in /usr/local/lib/python3.10/dist-packages (from matplotlib->fastai>=2.8.2->tsai) (1.4.4)\n",
            "Requirement already satisfied: pyparsing>=2.3.1 in /usr/local/lib/python3.10/dist-packages (from matplotlib->fastai>=2.8.2->tsai) (3.1.0)\n",
            "Requirement already satisfied: python-dateutil>=2.7 in /usr/local/lib/python3.10/dist-packages (from matplotlib->fastai>=2.8.2->tsai) (2.8.2)\n",
            "Requirement already satisfied: six>=1.5 in /usr/lib/python3/dist-packages (from python-dateutil>=2.7->matplotlib->fastai>=2.8.2->tsai) (1.16.0)\n",
            "Requirement already satisfied: pytz>=2020.1 in /usr/local/lib/python3.10/dist-packages (from pandas->fastai>=2.8.2->tsai) (2022.7.1)\n",
            "Requirement already satisfied: beartype>=0.16.2 in /home/jupyter/.local/lib/python3.10/site-packages (from plum-dispatch->fastai>=2.8.2->tsai) (0.21.0)\n",
            "Requirement already satisfied: rich>=10.0 in /usr/local/lib/python3.10/dist-packages (from plum-dispatch->fastai>=2.8.2->tsai) (13.4.2)\n",
            "Requirement already satisfied: markdown-it-py>=2.2.0 in /usr/local/lib/python3.10/dist-packages (from rich>=10.0->plum-dispatch->fastai>=2.8.2->tsai) (3.0.0)\n",
            "Requirement already satisfied: pygments<3.0.0,>=2.13.0 in /usr/local/lib/python3.10/dist-packages (from rich>=10.0->plum-dispatch->fastai>=2.8.2->tsai) (2.14.0)\n",
            "Requirement already satisfied: mdurl~=0.1 in /usr/local/lib/python3.10/dist-packages (from markdown-it-py>=2.2.0->rich>=10.0->plum-dispatch->fastai>=2.8.2->tsai) (0.1.2)\n",
            "Requirement already satisfied: mpmath>=0.19 in /usr/local/lib/python3.10/dist-packages (from sympy->torch<2.8,>=1.10->tsai) (1.3.0)\n",
            "\n",
            "\u001b[1m[\u001b[0m\u001b[34;49mnotice\u001b[0m\u001b[1;39;49m]\u001b[0m\u001b[39;49m A new release of pip is available: \u001b[0m\u001b[31;49m23.0.1\u001b[0m\u001b[39;49m -> \u001b[0m\u001b[32;49m25.2\u001b[0m\n",
            "\u001b[1m[\u001b[0m\u001b[34;49mnotice\u001b[0m\u001b[1;39;49m]\u001b[0m\u001b[39;49m To update, run: \u001b[0m\u001b[32;49mpython3 -m pip install --upgrade pip\u001b[0m\n",
            "Defaulting to user installation because normal site-packages is not writeable\n",
            "Requirement already satisfied: optuna in /home/jupyter/.local/lib/python3.10/site-packages (4.4.0)\n",
            "Requirement already satisfied: alembic>=1.5.0 in /home/jupyter/.local/lib/python3.10/site-packages (from optuna) (1.16.4)\n",
            "Requirement already satisfied: colorlog in /home/jupyter/.local/lib/python3.10/site-packages (from optuna) (6.9.0)\n",
            "Requirement already satisfied: numpy in /home/jupyter/.local/lib/python3.10/site-packages (from optuna) (2.2.6)\n",
            "Requirement already satisfied: packaging>=20.0 in /usr/local/lib/python3.10/dist-packages (from optuna) (23.1)\n",
            "Requirement already satisfied: sqlalchemy>=1.4.2 in /usr/local/lib/python3.10/dist-packages (from optuna) (2.0.19)\n",
            "Requirement already satisfied: tqdm in /usr/local/lib/python3.10/dist-packages (from optuna) (4.65.0)\n",
            "Requirement already satisfied: PyYAML in /usr/local/lib/python3.10/dist-packages (from optuna) (6.0.1)\n",
            "Requirement already satisfied: Mako in /home/jupyter/.local/lib/python3.10/site-packages (from alembic>=1.5.0->optuna) (1.3.10)\n",
            "Requirement already satisfied: typing-extensions>=4.12 in /home/jupyter/.local/lib/python3.10/site-packages (from alembic>=1.5.0->optuna) (4.14.1)\n",
            "Requirement already satisfied: tomli in /usr/local/lib/python3.10/dist-packages (from alembic>=1.5.0->optuna) (2.0.1)\n",
            "Requirement already satisfied: greenlet!=0.4.17 in /usr/local/lib/python3.10/dist-packages (from sqlalchemy>=1.4.2->optuna) (2.0.2)\n",
            "Requirement already satisfied: MarkupSafe>=0.9.2 in /usr/local/lib/python3.10/dist-packages (from Mako->alembic>=1.5.0->optuna) (2.1.3)\n",
            "\n",
            "\u001b[1m[\u001b[0m\u001b[34;49mnotice\u001b[0m\u001b[1;39;49m]\u001b[0m\u001b[39;49m A new release of pip is available: \u001b[0m\u001b[31;49m23.0.1\u001b[0m\u001b[39;49m -> \u001b[0m\u001b[32;49m25.2\u001b[0m\n",
            "\u001b[1m[\u001b[0m\u001b[34;49mnotice\u001b[0m\u001b[1;39;49m]\u001b[0m\u001b[39;49m To update, run: \u001b[0m\u001b[32;49mpython3 -m pip install --upgrade pip\u001b[0m\n"
          ]
        }
      ],
      "source": [
        "%pip install tsai\n",
        "%pip install optuna"
      ]
    },
    {
      "cell_type": "code",
      "execution_count": 2,
      "id": "lYEegFEd-Ta4",
      "metadata": {
        "id": "lYEegFEd-Ta4"
      },
      "outputs": [],
      "source": [
        "SEED = 123\n",
        "import random, os\n",
        "import numpy as np\n",
        "import torch\n",
        "\n",
        "import pandas as pd\n",
        "import matplotlib.pyplot as plt\n",
        "\n",
        "import pandas as pd\n",
        "import numpy as np\n",
        "from pathlib import Path\n",
        "import torch\n",
        "from torch import nn\n",
        "from torch.utils.data import Dataset, DataLoader\n",
        "from sklearn.preprocessing import StandardScaler, LabelEncoder\n",
        "\n",
        "from tsai.models.all import ResCNN\n",
        "import torch, torch.nn as nn, torch.nn.functional as F\n",
        "from collections import defaultdict\n",
        "import copy\n",
        "import math\n",
        "import optuna\n",
        "\n",
        "from typing import Optional\n",
        "import tsai.models.all as mdls\n",
        "import random\n"
      ]
    },
    {
      "cell_type": "code",
      "execution_count": 3,
      "id": "3f46cb61",
      "metadata": {
        "id": "3f46cb61"
      },
      "outputs": [],
      "source": [
        "\n",
        "random.seed(SEED)\n",
        "os.environ[\"PYTHONHASHSEED\"] = str(SEED)\n",
        "np.random.seed(SEED)\n",
        "torch.manual_seed(SEED)\n",
        "torch.cuda.manual_seed_all(SEED)\n",
        "\n",
        "torch.backends.cudnn.deterministic = True\n",
        "torch.backends.cudnn.benchmark = False"
      ]
    },
    {
      "cell_type": "code",
      "execution_count": 4,
      "id": "71b8a74e",
      "metadata": {
        "id": "71b8a74e"
      },
      "outputs": [],
      "source": [
        "os.environ[\"PYTHONHASHSEED\"] = str(SEED)\n",
        "np.random.seed(SEED)\n",
        "torch.manual_seed(SEED)\n",
        "torch.cuda.manual_seed_all(SEED)\n",
        "\n",
        "torch.backends.cudnn.deterministic = True\n",
        "torch.backends.cudnn.benchmark = False"
      ]
    },
    {
      "cell_type": "markdown",
      "id": "5698e565",
      "metadata": {
        "id": "5698e565"
      },
      "source": [
        "### EarlyStopping utility"
      ]
    },
    {
      "cell_type": "code",
      "execution_count": 5,
      "id": "4c8d9acc",
      "metadata": {
        "id": "4c8d9acc"
      },
      "outputs": [],
      "source": [
        "class EarlyStopping:\n",
        "    def __init__(self, patience=5, min_delta=1e-4, mode='min'):\n",
        "        assert mode in ('min', 'max')\n",
        "        self.patience = patience\n",
        "        self.min_delta = min_delta\n",
        "        self.mode = mode\n",
        "        self.best = None\n",
        "        self.counter = 0\n",
        "        self.should_stop = False\n",
        "\n",
        "    def step(self, metric):\n",
        "        if self.best is None:\n",
        "            self.best = metric\n",
        "            self.counter = 0\n",
        "            return False\n",
        "        improvement = (metric < self.best - self.min_delta) if self.mode == 'min' else (metric > self.best + self.min_delta)\n",
        "        if improvement:\n",
        "            self.best = metric\n",
        "            self.counter = 0\n",
        "        else:\n",
        "            self.counter += 1\n",
        "            if self.counter >= self.patience:\n",
        "                self.should_stop = True\n",
        "        return self.should_stop\n"
      ]
    },
    {
      "cell_type": "markdown",
      "id": "bLFzVkZkg-f9",
      "metadata": {
        "id": "bLFzVkZkg-f9"
      },
      "source": [
        "### Dataset preparation"
      ]
    },
    {
      "cell_type": "code",
      "execution_count": 6,
      "id": "09da18d3",
      "metadata": {
        "colab": {
          "base_uri": "https://localhost:8080/"
        },
        "id": "09da18d3",
        "outputId": "9176742a-fb72-46cb-a06d-c5a4a0a87537"
      },
      "outputs": [
        {
          "name": "stdout",
          "output_type": "stream",
          "text": [
            "cuda\n"
          ]
        }
      ],
      "source": [
        "TRAIN_PATH = Path('PowerCons_TRAIN.tsv')\n",
        "TEST_PATH = Path('PowerCons_TEST.tsv')\n",
        "BATCH_SIZE = 64\n",
        "# EPOCHS = 50\n",
        "# LR = 1e-3\n",
        "device = 'cuda' if torch.cuda.is_available() else 'cpu'\n",
        "print(device)"
      ]
    },
    {
      "cell_type": "code",
      "execution_count": 7,
      "id": "96b46b88",
      "metadata": {
        "id": "96b46b88"
      },
      "outputs": [],
      "source": [
        "def load_powercon(path: Path):\n",
        "    df = pd.read_csv(path, sep='\\t', header=None)\n",
        "    y = df.iloc[:, 0].values\n",
        "    X = df.iloc[:, 1:].values.astype(np.float32)\n",
        "    scaler = StandardScaler()\n",
        "    X = scaler.fit_transform(X)\n",
        "    X = X.reshape(X.shape[0], X.shape[1], 1)\n",
        "    le = LabelEncoder()\n",
        "    y_encoded = le.fit_transform(y).astype(np.int64)\n",
        "    return X, y_encoded, le.classes_"
      ]
    },
    {
      "cell_type": "code",
      "execution_count": 8,
      "id": "faaef73d",
      "metadata": {
        "colab": {
          "base_uri": "https://localhost:8080/"
        },
        "id": "faaef73d",
        "outputId": "4135c542-3b9f-4e76-b00c-4b0dd9e7a01e"
      },
      "outputs": [
        {
          "name": "stdout",
          "output_type": "stream",
          "text": [
            "Train shape: (180, 144, 1) Test shape: (180, 144, 1) n_classes: 2\n"
          ]
        }
      ],
      "source": [
        "X_train, y_train, classes_ = load_powercon(TRAIN_PATH)\n",
        "X_test, y_test, _ = load_powercon(TEST_PATH)\n",
        "n_classes = len(classes_)\n",
        "print('Train shape:', X_train.shape, 'Test shape:', X_test.shape, 'n_classes:', n_classes)"
      ]
    },
    {
      "cell_type": "code",
      "execution_count": 9,
      "id": "b6952fde",
      "metadata": {
        "id": "b6952fde"
      },
      "outputs": [],
      "source": [
        "class PowerConDataset(Dataset):\n",
        "    def __init__(self, X, y):\n",
        "        self.X = torch.tensor(X, dtype=torch.float32)\n",
        "        self.y = torch.tensor(y, dtype=torch.long)\n",
        "    def __len__(self):\n",
        "        return len(self.X)\n",
        "    def __getitem__(self, idx):\n",
        "        return self.X[idx], self.y[idx]\n",
        "\n",
        "train_ds = PowerConDataset(X_train, y_train)\n",
        "test_ds = PowerConDataset(X_test, y_test)\n",
        "train_dl = DataLoader(train_ds, batch_size=BATCH_SIZE, shuffle=True)\n",
        "test_dl = DataLoader(test_ds, batch_size=BATCH_SIZE)"
      ]
    },
    {
      "cell_type": "code",
      "execution_count": 10,
      "id": "655b9572",
      "metadata": {
        "colab": {
          "base_uri": "https://localhost:8080/"
        },
        "id": "655b9572",
        "outputId": "351e28c2-b166-492e-acd4-f694897dd79a"
      },
      "outputs": [
        {
          "name": "stdout",
          "output_type": "stream",
          "text": [
            "-1.6031435 6.4025993 -1.6804967 5.9844995\n"
          ]
        }
      ],
      "source": [
        "print(X_train.min(), X_train.max(), X_test.min(), X_test.max())"
      ]
    },
    {
      "cell_type": "code",
      "execution_count": 11,
      "id": "1adfe382",
      "metadata": {
        "colab": {
          "base_uri": "https://localhost:8080/",
          "height": 651
        },
        "id": "1adfe382",
        "outputId": "b2fb13f5-37de-4919-cac0-baa31c5d793a"
      },
      "outputs": [
        {
          "name": "stdout",
          "output_type": "stream",
          "text": [
            "counts:\n",
            "1    90\n",
            "2    90\n",
            "Name: 0, dtype: int64\n",
            "shares:\n",
            "1    0.5\n",
            "2    0.5\n",
            "Name: 0, dtype: float64\n"
          ]
        },
        {
          "data": {
            "image/png": "[encoded data removed]",
            "text/plain": [
              "<Figure size 640x480 with 1 Axes>"
            ]
          },
          "metadata": {},
          "output_type": "display_data"
        }
      ],
      "source": [
        "# check data-balance\n",
        "\n",
        "df = pd.read_csv(TRAIN_PATH, sep='\\t', header=None)\n",
        "\n",
        "# 1. Считаем количество примеров каждого класса\n",
        "label_counts = df.iloc[:, 0].value_counts().sort_index()\n",
        "print(f'counts:\\n{label_counts}')                # абсолютные значения\n",
        "print(f'shares:\\n{label_counts / len(df)}')      # доли\n",
        "\n",
        "# 2. Быстрый бар-чарт\n",
        "label_counts.plot.bar()\n",
        "plt.title('Class distribution in TRAIN set')\n",
        "plt.xlabel('Class')\n",
        "plt.ylabel('Count')\n",
        "plt.show()\n"
      ]
    },
    {
      "cell_type": "code",
      "execution_count": 12,
      "id": "evY2hOVW-YwX",
      "metadata": {
        "id": "evY2hOVW-YwX"
      },
      "outputs": [],
      "source": [
        "def seed_worker(worker_id):\n",
        "    worker_seed = SEED + worker_id\n",
        "    np.random.seed(worker_seed)\n",
        "    random.seed(worker_seed)\n",
        "\n",
        "g = torch.Generator()\n",
        "g.manual_seed(SEED)\n",
        "train_dl = DataLoader(train_ds, batch_size=BATCH_SIZE, shuffle=True, num_workers=4, worker_init_fn=seed_worker, generator=g)"
      ]
    },
    {
      "cell_type": "markdown",
      "id": "1eb6b862",
      "metadata": {
        "id": "1eb6b862"
      },
      "source": [
        "## Classifiers"
      ]
    },
    {
      "cell_type": "code",
      "execution_count": 13,
      "id": "321159ef",
      "metadata": {
        "id": "321159ef"
      },
      "outputs": [],
      "source": [
        "def accuracy(logits, target):\n",
        "    return (logits.argmax(1) == target).float().mean().item()"
      ]
    },
    {
      "cell_type": "code",
      "execution_count": 14,
      "id": "71a9b382",
      "metadata": {
        "id": "71a9b382"
      },
      "outputs": [],
      "source": [
        "class Activation(nn.Module):\n",
        "    def __init__(self, kind='identity'):\n",
        "        super().__init__()\n",
        "        if kind == 'identity':\n",
        "            self.act = nn.Identity()\n",
        "        elif kind == 'relu':\n",
        "            self.act = nn.ReLU()\n",
        "        elif kind == 'tanh':\n",
        "            self.act = nn.Tanh()\n",
        "        else:\n",
        "            raise ValueError(f'Unknown activation {kind}')\n",
        "    def forward(self, x):\n",
        "        return self.act(x)"
      ]
    },
    {
      "cell_type": "markdown",
      "id": "2xywORKmhG9M",
      "metadata": {
        "id": "2xywORKmhG9M"
      },
      "source": [
        "### LSTM Classifier"
      ]
    },
    {
      "cell_type": "code",
      "execution_count": 15,
      "id": "bff920e8",
      "metadata": {
        "id": "bff920e8"
      },
      "outputs": [],
      "source": [
        "class LSTMClassifier(nn.Module):\n",
        "    def __init__(self, n_classes, input_size=1, hidden_size=64, num_layers=2, dropout=0.2):\n",
        "        super().__init__()\n",
        "        self.lstm = nn.LSTM(input_size, hidden_size, num_layers=num_layers, batch_first=True, dropout=dropout)\n",
        "        self.fc = nn.Linear(hidden_size, n_classes)\n",
        "    def forward(self, x):\n",
        "        out, (h_n, _) = self.lstm(x)\n",
        "        return self.fc(h_n[-1])\n"
      ]
    },
    {
      "cell_type": "markdown",
      "id": "8a611c1b",
      "metadata": {
        "id": "8a611c1b"
      },
      "source": [
        "### ResCNN Classifier"
      ]
    },
    {
      "cell_type": "code",
      "execution_count": 16,
      "id": "a7b384c6",
      "metadata": {
        "id": "a7b384c6"
      },
      "outputs": [],
      "source": [
        "class ResCNNClassifier(nn.Module):\n",
        "    def __init__(self, n_classes, x_dim=1, activation_type='identity', rescnn_kwargs=None):\n",
        "        super().__init__()\n",
        "        self.x_dim = x_dim\n",
        "        rescnn_kwargs = rescnn_kwargs or {}\n",
        "\n",
        "        # NN-backbone: tsai.models.ResCNN\n",
        "        self.body = ResCNN(c_in=x_dim, c_out=n_classes, **rescnn_kwargs)\n",
        "        self.fin = Activation(activation_type)\n",
        "\n",
        "    def forward(self, x):\n",
        "        # (B,L,C) or (B,C,L) —> (B,C,L)\n",
        "        if x.ndim == 3 and x.shape[1] != self.x_dim:   # (B,L,C)\n",
        "            x = x.transpose(1, 2)\n",
        "        return self.fin(self.body(x))                  # logits"
      ]
    },
    {
      "cell_type": "markdown",
      "id": "13b3775b",
      "metadata": {
        "id": "13b3775b"
      },
      "source": [
        "### Training classifiers"
      ]
    },
    {
      "cell_type": "code",
      "execution_count": 17,
      "id": "b648db81",
      "metadata": {
        "id": "b648db81"
      },
      "outputs": [],
      "source": [
        "def train_classifier(model,\n",
        "                     train_loader,\n",
        "                     val_loader=None,\n",
        "                     epochs=50,\n",
        "                     lr=1e-3,\n",
        "                     weight_decay=0.,\n",
        "                     device=\"cpu\",\n",
        "                     patience=5,\n",
        "                     verbose_every=3):\n",
        "    \"\"\"\n",
        "    returns: dict(history), best_val_loss, best_state_dict\n",
        "    \"\"\"\n",
        "    model.to(device)\n",
        "    opt      = torch.optim.Adam(model.parameters(), lr=lr, weight_decay=weight_decay)\n",
        "    stopper  = EarlyStopping(patience=patience, mode=\"min\") if val_loader else None\n",
        "    history  = defaultdict(list)\n",
        "    best_wts = model.state_dict()\n",
        "    best_val = float(\"inf\")\n",
        "\n",
        "    for ep in range(1, epochs + 1):\n",
        "        # ----- train -----\n",
        "        model.train()\n",
        "        loss_sum, acc_sum, n = 0., 0., 0\n",
        "        for x, y in train_loader:\n",
        "            x, y = x.to(device), y.to(device)\n",
        "            logits = model(x)\n",
        "            loss   = F.cross_entropy(logits, y)\n",
        "\n",
        "            opt.zero_grad()\n",
        "            loss.backward()\n",
        "            opt.step()\n",
        "\n",
        "            loss_sum += loss.item() * x.size(0)\n",
        "            acc_sum  += (logits.argmax(1) == y).float().sum().item()\n",
        "            n += x.size(0)\n",
        "\n",
        "        train_loss = loss_sum / n\n",
        "        train_acc  = acc_sum  / n\n",
        "        history[\"train_loss\"].append(train_loss)\n",
        "        history[\"train_acc\"].append(train_acc)\n",
        "\n",
        "        # ----- validation -----\n",
        "        if val_loader:\n",
        "            model.eval()\n",
        "            with torch.no_grad():\n",
        "                loss_sum, acc_sum, n = 0., 0., 0\n",
        "                for x, y in val_loader:\n",
        "                    x, y = x.to(device), y.to(device)\n",
        "                    logits = model(x)\n",
        "                    loss   = F.cross_entropy(logits, y)\n",
        "                    loss_sum += loss.item() * x.size(0)\n",
        "                    acc_sum  += (logits.argmax(1) == y).float().sum().item()\n",
        "                    n += x.size(0)\n",
        "\n",
        "            val_loss = loss_sum / n\n",
        "            val_acc  = acc_sum  / n\n",
        "            history[\"val_loss\"].append(val_loss)\n",
        "            history[\"val_acc\"].append(val_acc)\n",
        "\n",
        "            if val_loss < best_val:\n",
        "                best_val = val_loss\n",
        "                best_wts = {k: v.cpu() for k, v in model.state_dict().items()}\n",
        "\n",
        "            if stopper and stopper.step(val_loss):\n",
        "                if verbose_every:\n",
        "                    print(f\"⏹ Early stopping on epoch {ep:02d}\")\n",
        "                break\n",
        "\n",
        "        if verbose_every and ep % verbose_every == 0:\n",
        "            msg = f\"Epoch {ep:02d}: train_loss={train_loss:.4f} acc={train_acc:.4f}\"\n",
        "            if val_loader:\n",
        "                msg += f\" | val_loss={val_loss:.4f} acc={val_acc:.4f}\"\n",
        "            print(msg)\n",
        "\n",
        "    model.load_state_dict(best_wts)\n",
        "    return history, best_val, best_wts\n",
        "\n"
      ]
    },
    {
      "cell_type": "markdown",
      "id": "9c3aa839",
      "metadata": {
        "id": "9c3aa839"
      },
      "source": [
        "#### train clf_LSTM"
      ]
    },
    {
      "cell_type": "code",
      "execution_count": 18,
      "id": "f619dc4b",
      "metadata": {
        "colab": {
          "base_uri": "https://localhost:8080/"
        },
        "id": "f619dc4b",
        "outputId": "7963ad31-6a7f-4b43-898c-f59f47909a20"
      },
      "outputs": [
        {
          "name": "stdout",
          "output_type": "stream",
          "text": [
            "Epoch 01: train_loss=0.6898 acc=0.5000 | val_loss=0.6879 acc=0.5000\n",
            "Epoch 02: train_loss=0.6860 acc=0.5000 | val_loss=0.6857 acc=0.5500\n",
            "Epoch 03: train_loss=0.6827 acc=0.5778 | val_loss=0.6835 acc=0.6167\n",
            "Epoch 04: train_loss=0.6805 acc=0.5778 | val_loss=0.6813 acc=0.5889\n",
            "Epoch 05: train_loss=0.6777 acc=0.5611 | val_loss=0.6791 acc=0.5556\n",
            "Epoch 06: train_loss=0.6743 acc=0.5833 | val_loss=0.6768 acc=0.5611\n",
            "Epoch 07: train_loss=0.6708 acc=0.5722 | val_loss=0.6743 acc=0.5611\n",
            "Epoch 08: train_loss=0.6660 acc=0.6056 | val_loss=0.6713 acc=0.5611\n",
            "Epoch 09: train_loss=0.6606 acc=0.6056 | val_loss=0.6670 acc=0.5778\n",
            "Epoch 10: train_loss=0.6513 acc=0.6278 | val_loss=0.6593 acc=0.5889\n",
            "Epoch 11: train_loss=0.6329 acc=0.6556 | val_loss=0.6404 acc=0.6444\n",
            "Epoch 12: train_loss=0.5962 acc=0.6889 | val_loss=0.5836 acc=0.6944\n",
            "Epoch 13: train_loss=0.5140 acc=0.7722 | val_loss=0.4367 acc=0.8722\n",
            "Epoch 14: train_loss=0.3818 acc=0.8500 | val_loss=0.3654 acc=0.8722\n",
            "Epoch 15: train_loss=0.4509 acc=0.8167 | val_loss=0.3706 acc=0.8611\n",
            "Epoch 16: train_loss=0.4254 acc=0.8222 | val_loss=0.3806 acc=0.8611\n",
            "Epoch 17: train_loss=0.3286 acc=0.8778 | val_loss=0.3672 acc=0.8833\n",
            "Epoch 18: train_loss=0.3350 acc=0.8833 | val_loss=0.3641 acc=0.8667\n",
            "Epoch 19: train_loss=0.3346 acc=0.8444 | val_loss=0.3459 acc=0.8833\n",
            "Epoch 20: train_loss=0.3316 acc=0.8556 | val_loss=0.3423 acc=0.8722\n",
            "Epoch 21: train_loss=0.3034 acc=0.8833 | val_loss=0.3305 acc=0.8833\n",
            "Epoch 22: train_loss=0.2944 acc=0.9000 | val_loss=0.3489 acc=0.8722\n",
            "Epoch 23: train_loss=0.3172 acc=0.8500 | val_loss=0.3387 acc=0.8611\n",
            "Epoch 24: train_loss=0.2991 acc=0.8944 | val_loss=0.3137 acc=0.8944\n",
            "Epoch 25: train_loss=0.2874 acc=0.8889 | val_loss=0.3410 acc=0.8778\n",
            "Epoch 26: train_loss=0.2943 acc=0.8778 | val_loss=0.3212 acc=0.8667\n",
            "Epoch 27: train_loss=0.2922 acc=0.8778 | val_loss=0.2989 acc=0.9000\n",
            "Epoch 28: train_loss=0.2777 acc=0.8889 | val_loss=0.3187 acc=0.8722\n",
            "Epoch 29: train_loss=0.2771 acc=0.8889 | val_loss=0.3043 acc=0.8778\n",
            "Epoch 30: train_loss=0.2671 acc=0.9111 | val_loss=0.2833 acc=0.9056\n",
            "Epoch 31: train_loss=0.2677 acc=0.8944 | val_loss=0.2860 acc=0.9111\n",
            "Epoch 32: train_loss=0.2627 acc=0.8889 | val_loss=0.2969 acc=0.8944\n",
            "Epoch 33: train_loss=0.2574 acc=0.8944 | val_loss=0.2744 acc=0.9000\n",
            "Epoch 34: train_loss=0.2517 acc=0.9000 | val_loss=0.2632 acc=0.9111\n",
            "Epoch 35: train_loss=0.2463 acc=0.8944 | val_loss=0.2761 acc=0.8833\n",
            "Epoch 36: train_loss=0.2487 acc=0.9056 | val_loss=0.2738 acc=0.9000\n",
            "Epoch 37: train_loss=0.2321 acc=0.9111 | val_loss=0.2464 acc=0.9167\n",
            "Epoch 38: train_loss=0.2541 acc=0.8833 | val_loss=0.2369 acc=0.9111\n",
            "Epoch 39: train_loss=0.2322 acc=0.9111 | val_loss=0.2584 acc=0.8889\n",
            "Epoch 40: train_loss=0.2292 acc=0.9056 | val_loss=0.2557 acc=0.8944\n",
            "Epoch 41: train_loss=0.2257 acc=0.9111 | val_loss=0.2283 acc=0.9167\n",
            "Epoch 42: train_loss=0.2191 acc=0.9056 | val_loss=0.2175 acc=0.9222\n",
            "Epoch 43: train_loss=0.2111 acc=0.9000 | val_loss=0.2201 acc=0.9278\n",
            "Epoch 44: train_loss=0.2128 acc=0.9222 | val_loss=0.2223 acc=0.9222\n",
            "Epoch 45: train_loss=0.2054 acc=0.9167 | val_loss=0.2223 acc=0.9222\n",
            "Epoch 46: train_loss=0.2085 acc=0.9222 | val_loss=0.2157 acc=0.9278\n",
            "Epoch 47: train_loss=0.2007 acc=0.9278 | val_loss=0.2068 acc=0.9278\n",
            "Epoch 48: train_loss=0.1995 acc=0.9167 | val_loss=0.1988 acc=0.9278\n",
            "Epoch 49: train_loss=0.1936 acc=0.9111 | val_loss=0.2090 acc=0.9333\n",
            "Epoch 50: train_loss=0.1887 acc=0.9278 | val_loss=0.1953 acc=0.9278\n"
          ]
        }
      ],
      "source": [
        "clf_LSTM = LSTMClassifier(n_classes, hidden_size=50, num_layers=1)\n",
        "\n",
        "history, _, _=  train_classifier(\n",
        "    clf_LSTM,\n",
        "    train_dl,\n",
        "    val_loader=test_dl,\n",
        "    epochs=50,\n",
        "    lr=1e-3,\n",
        "    weight_decay=0.,\n",
        "    device=device,\n",
        "    patience=4,\n",
        "    verbose_every=1\n",
        ")"
      ]
    },
    {
      "cell_type": "markdown",
      "id": "9f756779",
      "metadata": {
        "id": "9f756779"
      },
      "source": [
        "#### train clf_resCNN"
      ]
    },
    {
      "cell_type": "code",
      "execution_count": 19,
      "id": "0ea983bb",
      "metadata": {
        "colab": {
          "base_uri": "https://localhost:8080/"
        },
        "id": "0ea983bb",
        "outputId": "8ce9be72-4a69-4158-ea34-f5af3b57fff4"
      },
      "outputs": [
        {
          "name": "stdout",
          "output_type": "stream",
          "text": [
            "Epoch 01: train_loss=0.4919 acc=0.6889 | val_loss=0.5004 acc=0.8444\n",
            "Epoch 02: train_loss=0.3612 acc=0.8444 | val_loss=0.4718 acc=0.7833\n",
            "Epoch 03: train_loss=0.3397 acc=0.8667 | val_loss=0.4015 acc=0.8444\n",
            "Epoch 04: train_loss=0.3095 acc=0.8667 | val_loss=0.3365 acc=0.8722\n"
          ]
        }
      ],
      "source": [
        "clf_resCNN = ResCNNClassifier(n_classes=n_classes, x_dim=1).to(device)\n",
        "\n",
        "history, best_val, best_state = train_classifier(\n",
        "    clf_resCNN,\n",
        "    train_loader=train_dl,\n",
        "    val_loader=test_dl,\n",
        "    epochs=4,\n",
        "    lr=1e-3,\n",
        "    weight_decay=1e-4,\n",
        "    device=device,\n",
        "    patience=10,\n",
        "    verbose_every=1\n",
        ")\n",
        "\n",
        "torch.save(best_state, \"rescnn_classifier_best.pth\")"
      ]
    },
    {
      "cell_type": "markdown",
      "id": "17cad414",
      "metadata": {
        "id": "17cad414"
      },
      "source": [
        "#### optuna for LSTM clf"
      ]
    },
    {
      "cell_type": "code",
      "execution_count": 20,
      "id": "badc9924",
      "metadata": {
        "id": "badc9924"
      },
      "outputs": [],
      "source": [
        "def objective(trial):\n",
        "    # --- hyperparams ---\n",
        "    lr  = trial.suggest_float(\"lr\",     1e-3, 1e-2,   log=True)\n",
        "    patience  = trial.suggest_int(\"patience\", 3, 10)\n",
        "    dropout    = trial.suggest_float(\"dropout\", 0.1, 0.6, step=0.1)\n",
        "    hidden_dim = trial.suggest_categorical(\"hidden_dim\", [64, 128, 256])\n",
        "\n",
        "    clf_model = LSTMClassifier(n_classes,\n",
        "                               hidden_size=hidden_dim,\n",
        "                               dropout=dropout)\n",
        "\n",
        "    history, _, _=  train_classifier(clf_model,\n",
        "                     train_dl,\n",
        "                     val_loader=test_dl,\n",
        "                     epochs=50,\n",
        "                     lr=lr,\n",
        "                     weight_decay=0.,\n",
        "                     device=device,\n",
        "                     patience=patience,\n",
        "                     verbose_every=1)\n",
        "\n",
        "\n",
        "    return history['val_acc'][-1]\n",
        "\n",
        "\n",
        "# study = optuna.create_study(direction=\"minimize\", sampler=optuna.samplers.TPESampler(),\n",
        "#                             pruner=optuna.pruners.MedianPruner(n_warmup_steps=3))\n",
        "\n",
        "# study.optimize(objective, n_trials=50, timeout=60*60)\n",
        "# print(\"BEST_PARAMS:\", study.best_params)\n"
      ]
    },
    {
      "cell_type": "markdown",
      "id": "9c00b6fc",
      "metadata": {
        "id": "9c00b6fc"
      },
      "source": [
        "## Adversarial Attacks"
      ]
    },
    {
      "cell_type": "code",
      "execution_count": 21,
      "id": "18eef1da",
      "metadata": {
        "id": "18eef1da"
      },
      "outputs": [],
      "source": [
        "class Attack:\n",
        "    def __init__(self, eps: float, clamp=(-1, 1)):\n",
        "        self.eps = eps\n",
        "        self.clamp = clamp\n",
        "\n",
        "# class ModelBasedAttack(Attack):\n",
        "#     def __init__(self, surrogate, eps, clamp=(-1, 1)):\n",
        "#         super().__init__(eps, clamp)\n",
        "#         self.surr = surrogate.eval()\n",
        "\n",
        "#     @torch.no_grad()\n",
        "#     def __call__(self, model, x, y):\n",
        "#         delta = self.eps * torch.tanh(self.surr(x))\n",
        "#         return torch.clamp(x + delta, *self.clamp)\n",
        "\n",
        "class ModelBasedAttack(Attack):\n",
        "    def __init__(self, attacker, eps, clamp=None, is_iter=False):\n",
        "        super().__init__(eps, clamp)\n",
        "        self.attacker = attacker.eval()\n",
        "        self.is_iter = is_iter\n",
        "\n",
        "    @torch.no_grad()\n",
        "    def __call__(self, model, x, y):\n",
        "        if not self.is_iter:\n",
        "            # delta = self.eps * self.attacker(x).sign()\n",
        "            delta = self.eps * torch.tanh(self.attacker(x))\n",
        "            # print(f\"L2 norm = {torch.norm(delta, p=2)}, L_infty norm = {torch.norm(delta, p=float('inf'))}\")\n",
        "            x_adv = x + delta\n",
        "            if not self.clamp is None:\n",
        "                x_adv = torch.clamp(x_adv, *self.clamp)\n",
        "            return x_adv\n",
        "        else:\n",
        "            return self.attacker(x)\n"
      ]
    },
    {
      "cell_type": "markdown",
      "id": "f5ea3fbe",
      "metadata": {
        "id": "f5ea3fbe"
      },
      "source": [
        "### train_atk_model"
      ]
    },
    {
      "cell_type": "code",
      "execution_count": 22,
      "id": "6de7992d",
      "metadata": {
        "id": "6de7992d"
      },
      "outputs": [],
      "source": [
        "def train_atk_model(atk_model,\n",
        "                    victim,\n",
        "                    loader,\n",
        "                    eps=0.5,\n",
        "                    epochs=50,\n",
        "                    lr=1e-4,\n",
        "                    alpha_l2=1e-3,\n",
        "                    device='cpu',\n",
        "                    patience=4,\n",
        "                    is_clamped=False,\n",
        "                    is_debugged=False\n",
        "                    ):\n",
        "    atk_model.to(device)\n",
        "    # victim.to(device).eval()\n",
        "    victim.to(device).train()\n",
        "    for param in victim.parameters():\n",
        "      param.requires_grad_(False)\n",
        "    opt = torch.optim.Adam(atk_model.parameters(), lr)\n",
        "    stopper = EarlyStopping(patience=patience, mode=\"max\")\n",
        "    for ep in range(1, epochs+1):\n",
        "        atk_model.train()\n",
        "        run_vloss, run_acc, n = 0., 0., 0\n",
        "\n",
        "\n",
        "        for x, y in loader:\n",
        "            x, y = x.to(device), y.to(device)\n",
        "\n",
        "            # atk_model.eval()\n",
        "            delta = eps * torch.tanh(atk_model(x))\n",
        "            # atk_model.train()\n",
        "\n",
        "            if is_clamped:\n",
        "                delta = torch.clamp(delta, -1, 1)\n",
        "\n",
        "            # x_adv = torch.clamp(x + delta, -1, 1)\n",
        "\n",
        "            x_adv = x + delta\n",
        "            logits = victim(x_adv)\n",
        "\n",
        "            vloss = F.cross_entropy(logits, y)\n",
        "            acc = (logits.argmax(1) == y).float().mean().item()\n",
        "            reg = alpha_l2 * (delta**2).mean()\n",
        "            loss = -(vloss - reg)\n",
        "            if is_debugged:\n",
        "                print(f'\\nx={((x[0].detach().cpu()**2).mean())**0.5}')\n",
        "                print(f'delta={((delta[0].detach().cpu()**2).mean())**0.5}')\n",
        "                print(f'y={y.detach().cpu()[0]}|logits={logits.detach().cpu().argmax(1)[0]}')\n",
        "                print(f'vloss = {vloss}| reg = {reg}')\n",
        "\n",
        "                with torch.no_grad():\n",
        "                    # ----- (2) % L2-нормы входа -----\n",
        "                    # L2 посчитаем по каждому объекту, затем усредним\n",
        "                    l2_delta = torch.norm(delta.view(delta.size(0), -1), p=2, dim=1)\n",
        "                    l2_x_adv = torch.norm(x_adv.view(x_adv.size(0), -1), p=2, dim=1) + 1e-8\n",
        "                    l2_x     = torch.norm(x.view(x.size(0), -1),     p=2, dim=1) + 1e-8\n",
        "                    perc_l2_x_adv  = (l2_delta / l2_x_adv * 100).mean().item()\n",
        "                    perc_l2_x  = (l2_x_adv / l2_x * 100).mean().item()\n",
        "\n",
        "                print(f'\\nL2:Δ/x_adv: {perc_l2_x_adv:6.2f}%   x_adv/x: {perc_l2_x:6.2f}%')\n",
        "\n",
        "\n",
        "            opt.zero_grad()\n",
        "            loss.backward()\n",
        "            opt.step()\n",
        "            run_vloss += vloss.item()*x.size(0)\n",
        "            run_acc += acc * x.size(0)\n",
        "            n += x.size(0)\n",
        "\n",
        "        val_loss = run_vloss / n\n",
        "        print(f'\\nEpoch {ep:02d} | victim‑loss {val_loss:.4f} | acc {run_acc/n:.4f}')\n",
        "        if stopper.step(val_loss):\n",
        "            print(f'⏹ Early stopping at epoch {ep}')\n",
        "            break\n",
        "    torch.save(atk_model.state_dict(), 'surrogate_maxloss.pth')\n",
        "    return val_loss, run_acc/n\n"
      ]
    },
    {
      "cell_type": "markdown",
      "id": "d42be3dc",
      "metadata": {
        "id": "d42be3dc"
      },
      "source": [
        "### LSTM Attack"
      ]
    },
    {
      "cell_type": "code",
      "execution_count": 23,
      "id": "0f056a37",
      "metadata": {
        "id": "0f056a37"
      },
      "outputs": [],
      "source": [
        "\n",
        "\n",
        "class attack_LSTM(nn.Module):\n",
        "    def __init__(self, hidden_dim=64, x_dim=1, activation_type='identity', dropout=0.25):\n",
        "        super().__init__()\n",
        "        self.rnn_inp = nn.LSTM(x_dim, hidden_dim, num_layers=3, batch_first=True, dropout=dropout)\n",
        "        self.act = Activation(activation_type)\n",
        "        # ! delete fc\n",
        "        self.rnn_out = nn.LSTM(hidden_dim, x_dim, num_layers=3, batch_first=True, dropout=dropout)\n",
        "        # self.fc = nn.Linear(hidden_dim, x_dim)\n",
        "    def forward(self, data):\n",
        "        x, _ = self.rnn_inp(data)\n",
        "        x = self.act(x)\n",
        "        x, _ = self.rnn_out(x)\n",
        "        return x\n"
      ]
    },
    {
      "cell_type": "markdown",
      "id": "caf1ab2c",
      "metadata": {
        "id": "caf1ab2c"
      },
      "source": [
        "#### train"
      ]
    },
    {
      "cell_type": "code",
      "execution_count": 24,
      "id": "b771fb84",
      "metadata": {
        "colab": {
          "base_uri": "https://localhost:8080/"
        },
        "id": "b771fb84",
        "outputId": "d9e9b2ba-8793-4e31-ecae-0a83c3e72274"
      },
      "outputs": [
        {
          "name": "stdout",
          "output_type": "stream",
          "text": [
            "\n",
            "Epoch 01 | victim‑loss 0.4882 | acc 0.8056\n",
            "\n",
            "Epoch 02 | victim‑loss 0.6758 | acc 0.7556\n",
            "\n",
            "Epoch 03 | victim‑loss 0.9146 | acc 0.6944\n",
            "\n",
            "Epoch 04 | victim‑loss 1.1237 | acc 0.6500\n",
            "\n",
            "Epoch 05 | victim‑loss 1.3155 | acc 0.5944\n",
            "\n",
            "Epoch 06 | victim‑loss 1.4963 | acc 0.5556\n",
            "\n",
            "Epoch 07 | victim‑loss 1.6652 | acc 0.5278\n",
            "\n",
            "Epoch 08 | victim‑loss 1.7865 | acc 0.5167\n",
            "\n",
            "Epoch 09 | victim‑loss 1.9001 | acc 0.5000\n",
            "\n",
            "Epoch 10 | victim‑loss 1.9644 | acc 0.5000\n",
            "\n",
            "Epoch 11 | victim‑loss 1.9990 | acc 0.5000\n",
            "\n",
            "Epoch 12 | victim‑loss 2.0213 | acc 0.5000\n",
            "\n",
            "Epoch 13 | victim‑loss 2.0364 | acc 0.5000\n",
            "\n",
            "Epoch 14 | victim‑loss 2.0492 | acc 0.5000\n",
            "\n",
            "Epoch 15 | victim‑loss 2.0589 | acc 0.5000\n",
            "\n",
            "Epoch 16 | victim‑loss 2.0673 | acc 0.5000\n",
            "\n",
            "Epoch 17 | victim‑loss 2.0753 | acc 0.5000\n",
            "\n",
            "Epoch 18 | victim‑loss 2.0821 | acc 0.5000\n",
            "\n",
            "Epoch 19 | victim‑loss 2.0874 | acc 0.5000\n",
            "\n",
            "Epoch 20 | victim‑loss 2.0927 | acc 0.5000\n"
          ]
        },
        {
          "data": {
            "text/plain": [
              "(2.0926746924718223, 0.5000000026490953)"
            ]
          },
          "execution_count": 24,
          "metadata": {},
          "output_type": "execute_result"
        }
      ],
      "source": [
        "\n",
        "\"\"\"\n",
        "best params:\n",
        "{'eps': 1.371353432117841, 'lr': 0.001749500764834404,\n",
        "'alpha_l2': 0.000686630895888702, 'patience': 9,\n",
        "'hidden_dim': 128, 'dropout': 0.6}\n",
        "\n",
        "\"\"\"\n",
        "atk_LSTM = attack_LSTM(hidden_dim=128, dropout=0.6, x_dim=1, activation_type='tanh').to(device)\n",
        "for p in clf_LSTM.parameters():\n",
        "    p.requires_grad_(False)\n",
        "# clf_LSTM.eval()\n",
        "\n",
        "eps_LSTM = 1.371353\n",
        "train_atk_model(atk_LSTM,\n",
        "                clf_LSTM,\n",
        "                train_dl,\n",
        "                eps=eps_LSTM,\n",
        "                epochs=20,\n",
        "                lr=0.01749500,\n",
        "                alpha_l2=0.00068663089588,\n",
        "                device=device,\n",
        "                patience=9\n",
        ")"
      ]
    },
    {
      "cell_type": "markdown",
      "id": "6cb74954",
      "metadata": {
        "id": "6cb74954"
      },
      "source": [
        "#### optuna"
      ]
    },
    {
      "cell_type": "code",
      "execution_count": 25,
      "id": "48e17f98",
      "metadata": {
        "id": "48e17f98"
      },
      "outputs": [],
      "source": [
        "def objective(trial):\n",
        "    # --- гиперпараметры ---\n",
        "    eps = trial.suggest_float(\"eps\",    0.5, 2.0,    log=True)\n",
        "    lr  = trial.suggest_float(\"lr\",     1e-3, 1e-2,   log=True)\n",
        "    alpha_l2  = trial.suggest_float(\"alpha_l2\", 1e-5, 1e-1, log=True)\n",
        "    patience  = trial.suggest_int(\"patience\", 3, 10)\n",
        "    hidden_dim = trial.suggest_categorical(\"hidden_dim\", [64, 128, 256])\n",
        "    dropout = trial.suggest_float(\"dropout\", 0.1, 0.6, step=0.1)\n",
        "\n",
        "    atk_model = attack_LSTM(\n",
        "        hidden_dim=hidden_dim, x_dim=1,\n",
        "        activation_type='tanh', dropout=dropout\n",
        "    )\n",
        "\n",
        "    val_loss, val_acc = train_atk_model(\n",
        "        atk_model, clf_LSTM, train_dl,\n",
        "        eps=eps,  epochs=50, lr=lr, alpha_l2=alpha_l2,\n",
        "        device=device, patience=patience\n",
        "    )\n",
        "\n",
        "    return val_acc\n",
        "\n",
        "# study = optuna.create_study(direction=\"minimize\", sampler=optuna.samplers.TPESampler(),\n",
        "#                             pruner=optuna.pruners.MedianPruner(n_warmup_steps=3))\n",
        "\n",
        "# study.optimize(objective, n_trials=50, timeout=60*60)\n",
        "# print(\"BEST PARAMS:\", study.best_params)\n"
      ]
    },
    {
      "cell_type": "markdown",
      "id": "270c0873",
      "metadata": {
        "id": "270c0873"
      },
      "source": [
        "### ResCNN Attack"
      ]
    },
    {
      "cell_type": "code",
      "execution_count": 26,
      "id": "2b7ea2c5",
      "metadata": {
        "id": "2b7ea2c5"
      },
      "outputs": [],
      "source": [
        "class ResCNNModel(nn.Module):\n",
        "    def __init__(self, x_dim=1, output_dim=n_classes,\n",
        "                 activation_type='identity',\n",
        "                 rescnn_kwargs=None):\n",
        "        super().__init__()\n",
        "        self.x_dim = x_dim\n",
        "        rescnn_kwargs = rescnn_kwargs or {}\n",
        "        self.body = ResCNN(c_in=x_dim, c_out=output_dim, **rescnn_kwargs)\n",
        "        self.fin = Activation(activation_type)\n",
        "    def forward(self, x):\n",
        "        if x.ndim == 3 and x.shape[1] != self.x_dim:\n",
        "            x = x.transpose(1, 2)\n",
        "        return self.fin(self.body(x))\n",
        "\n",
        "class AttackCNN(nn.Module):\n",
        "    def __init__(self, hidden_dim=128, x_dim=1, activation_type='tanh'):\n",
        "        super().__init__()\n",
        "        self.step_cnn = ResCNNModel(x_dim=x_dim, output_dim=hidden_dim, activation_type='identity')\n",
        "        self.fc = nn.Linear(hidden_dim, x_dim)\n",
        "        self.act = Activation(activation_type)\n",
        "    def forward(self, x):\n",
        "        B, L, C = x.shape\n",
        "        x_flat = x.contiguous().view(B * L, 1, C)\n",
        "        h = self.step_cnn(x_flat)\n",
        "        h = h.view(B, L, -1)\n",
        "        return self.fc(self.act(h))\n",
        "        # return self.act(h)\n"
      ]
    },
    {
      "cell_type": "markdown",
      "id": "17fcb432",
      "metadata": {
        "id": "17fcb432"
      },
      "source": [
        "#### train"
      ]
    },
    {
      "cell_type": "code",
      "execution_count": 27,
      "id": "944bd8be",
      "metadata": {
        "colab": {
          "base_uri": "https://localhost:8080/"
        },
        "id": "944bd8be",
        "outputId": "738864b9-f18d-49ca-9b0a-877a80afa188"
      },
      "outputs": [
        {
          "name": "stdout",
          "output_type": "stream",
          "text": [
            "\n",
            "Epoch 01 | victim‑loss 0.4964 | acc 0.8222\n",
            "\n",
            "Epoch 02 | victim‑loss 1.3770 | acc 0.6556\n",
            "\n",
            "Epoch 03 | victim‑loss 1.9841 | acc 0.4722\n",
            "\n",
            "Epoch 04 | victim‑loss 2.7166 | acc 0.2722\n",
            "\n",
            "Epoch 05 | victim‑loss 2.9237 | acc 0.2056\n",
            "\n",
            "Epoch 06 | victim‑loss 3.0171 | acc 0.1611\n",
            "\n",
            "Epoch 07 | victim‑loss 3.0922 | acc 0.1222\n",
            "\n",
            "Epoch 08 | victim‑loss 3.1475 | acc 0.1333\n",
            "\n",
            "Epoch 09 | victim‑loss 3.1876 | acc 0.1222\n",
            "\n",
            "Epoch 10 | victim‑loss 3.1442 | acc 0.1278\n",
            "\n",
            "Epoch 11 | victim‑loss 3.1958 | acc 0.1278\n",
            "\n",
            "Epoch 12 | victim‑loss 3.1186 | acc 0.1222\n",
            "\n",
            "Epoch 13 | victim‑loss 3.2461 | acc 0.1167\n",
            "\n",
            "Epoch 14 | victim‑loss 3.2324 | acc 0.1167\n",
            "\n",
            "Epoch 15 | victim‑loss 3.1913 | acc 0.1056\n",
            "\n",
            "Epoch 16 | victim‑loss 3.2408 | acc 0.1000\n",
            "\n",
            "Epoch 17 | victim‑loss 3.2142 | acc 0.1000\n",
            "\n",
            "Epoch 18 | victim‑loss 3.2366 | acc 0.1111\n",
            "\n",
            "Epoch 19 | victim‑loss 3.2461 | acc 0.1167\n",
            "\n",
            "Epoch 20 | victim‑loss 3.2417 | acc 0.1167\n",
            "\n",
            "Epoch 21 | victim‑loss 3.2331 | acc 0.1222\n",
            "\n",
            "Epoch 22 | victim‑loss 3.2656 | acc 0.1167\n",
            "\n",
            "Epoch 23 | victim‑loss 3.2316 | acc 0.1167\n",
            "\n",
            "Epoch 24 | victim‑loss 3.2854 | acc 0.0833\n",
            "\n",
            "Epoch 25 | victim‑loss 3.2082 | acc 0.1056\n",
            "\n",
            "Epoch 26 | victim‑loss 3.2739 | acc 0.1000\n",
            "\n",
            "Epoch 27 | victim‑loss 3.2708 | acc 0.1000\n",
            "\n",
            "Epoch 28 | victim‑loss 3.3039 | acc 0.1167\n",
            "\n",
            "Epoch 29 | victim‑loss 3.2080 | acc 0.1556\n",
            "\n",
            "Epoch 30 | victim‑loss 3.2402 | acc 0.1167\n",
            "\n",
            "Epoch 31 | victim‑loss 3.2814 | acc 0.0889\n",
            "\n",
            "Epoch 32 | victim‑loss 3.3018 | acc 0.0944\n",
            "\n",
            "Epoch 33 | victim‑loss 3.2099 | acc 0.1278\n",
            "\n",
            "Epoch 34 | victim‑loss 3.2915 | acc 0.1167\n",
            "\n",
            "Epoch 35 | victim‑loss 3.2791 | acc 0.1000\n",
            "\n",
            "Epoch 36 | victim‑loss 3.3072 | acc 0.1000\n",
            "\n",
            "Epoch 37 | victim‑loss 3.2618 | acc 0.1111\n",
            "\n",
            "Epoch 38 | victim‑loss 3.3118 | acc 0.1111\n",
            "\n",
            "Epoch 39 | victim‑loss 3.2353 | acc 0.1000\n",
            "\n",
            "Epoch 40 | victim‑loss 3.2249 | acc 0.1167\n",
            "\n",
            "Epoch 41 | victim‑loss 3.2874 | acc 0.1000\n",
            "\n",
            "Epoch 42 | victim‑loss 3.2975 | acc 0.1111\n",
            "\n",
            "Epoch 43 | victim‑loss 3.2674 | acc 0.1056\n",
            "\n",
            "Epoch 44 | victim‑loss 3.2762 | acc 0.1111\n",
            "\n",
            "Epoch 45 | victim‑loss 3.1887 | acc 0.1000\n",
            "\n",
            "Epoch 46 | victim‑loss 3.1565 | acc 0.1333\n",
            "\n",
            "Epoch 47 | victim‑loss 3.2446 | acc 0.1111\n",
            "\n",
            "Epoch 48 | victim‑loss 3.3185 | acc 0.0889\n",
            "\n",
            "Epoch 49 | victim‑loss 3.2513 | acc 0.1333\n",
            "\n",
            "Epoch 50 | victim‑loss 3.1608 | acc 0.1167\n"
          ]
        },
        {
          "data": {
            "text/plain": [
              "(3.1607863585154217, 0.11666666749450895)"
            ]
          },
          "execution_count": 27,
          "metadata": {},
          "output_type": "execute_result"
        }
      ],
      "source": [
        "atk_resCNN = AttackCNN().to(device)\n",
        "atk_resCNN = AttackCNN(hidden_dim=64, x_dim=1, activation_type='tanh').to(device)\n",
        "\n",
        "'''\n",
        "#! training is very sensitive to random-seed\n",
        "weights were obtained with the parameters:\n",
        "{'eps': 1.9910549963365909, 'lr': 0.0021041627898080928,\n",
        "'alpha_l2': 4.549583575912758e-05, 'patience': 6}\n",
        "'''\n",
        "weights_path = 'weights/surr_resCNNfc_CPU_0.28.pth'\n",
        "# weights_path = 'weights/surrogate_resCNN_fc_0.3.pth'\n",
        "# atk_resCNN.load_state_dict(torch.load(weights_path, map_location=device))\n",
        "\n",
        "eps_resCNN = 1.9910549963365909\n",
        "train_atk_model(atk_resCNN, clf_LSTM, train_dl,\n",
        "                eps=eps_resCNN,\n",
        "                epochs=50, lr=0.00021041627898080928, alpha_l2=4.549583575912758e-05,\n",
        "                device=device, patience=10, is_debugged=False)"
      ]
    },
    {
      "cell_type": "markdown",
      "id": "91e39460",
      "metadata": {
        "id": "91e39460"
      },
      "source": [
        "#### optuna"
      ]
    },
    {
      "cell_type": "code",
      "execution_count": 28,
      "id": "067eb0c9",
      "metadata": {
        "id": "067eb0c9"
      },
      "outputs": [],
      "source": [
        "def objective(trial):\n",
        "    eps = trial.suggest_float(\"eps\",    0.5, 2.0,    log=True)\n",
        "    lr  = trial.suggest_float(\"lr\",     1e-3, 1e-2,   log=True)\n",
        "    alpha_l2  = trial.suggest_float(\"alpha_l2\", 1e-5, 1e-1, log=True)\n",
        "    patience  = trial.suggest_int(\"patience\", 3, 10)\n",
        "\n",
        "    atk_model = AttackCNN(hidden_dim=64, x_dim=1, activation_type='tanh')\n",
        "\n",
        "    val_loss, val_acc = train_atk_model(\n",
        "        atk_model, clf_LSTM, train_dl,\n",
        "        eps=eps,  epochs=50, lr=lr, alpha_l2=alpha_l2,\n",
        "        device=device, patience=patience\n",
        "    )\n",
        "\n",
        "    return val_acc\n",
        "\n",
        "# study = optuna.create_study(direction=\"minimize\", sampler=optuna.samplers.TPESampler(),\n",
        "#                             pruner=optuna.pruners.MedianPruner(n_warmup_steps=3))\n",
        "# study.optimize(objective, n_trials=50, timeout=60*60)\n",
        "# print(\"BEST PARAMS:\", study.best_params)\n"
      ]
    },
    {
      "cell_type": "markdown",
      "id": "1b9d8e12",
      "metadata": {
        "id": "1b9d8e12"
      },
      "source": [
        "### PatchTST Attack"
      ]
    },
    {
      "cell_type": "code",
      "execution_count": 29,
      "id": "1732b3b1",
      "metadata": {
        "colab": {
          "base_uri": "https://localhost:8080/"
        },
        "id": "1732b3b1",
        "outputId": "da115f89-9df9-4195-eb34-0736896f2194"
      },
      "outputs": [
        {
          "name": "stdout",
          "output_type": "stream",
          "text": [
            "Sequence length = 144\n"
          ]
        }
      ],
      "source": [
        "loader = train_dl\n",
        "x, _ = next(iter(loader))\n",
        "seq_len = x.size(1)           # длина последовательности\n",
        "print(\"Sequence length =\", seq_len)\n"
      ]
    },
    {
      "cell_type": "code",
      "execution_count": 30,
      "id": "f72c8c50",
      "metadata": {
        "id": "f72c8c50"
      },
      "outputs": [],
      "source": [
        "class BaseModel(torch.nn.Module):\n",
        "    def __init__(self, *args, **kwargs) -> None:\n",
        "        super().__init__()\n",
        "        self.self_supervised = False\n",
        "\n",
        "class PatchTST(BaseModel):\n",
        "    def __init__(self, activation_type: str = \"sigmoid\", **kwargs) -> None:\n",
        "        super().__init__()\n",
        "        self.model = mdls.PatchTST(**kwargs).float()\n",
        "        self.final_activation = Activation(activation_type)\n",
        "\n",
        "    def forward(self, X: torch.Tensor) -> torch.Tensor:\n",
        "        X = X.transpose(1, 2)\n",
        "        output = self.model(X)\n",
        "        return self.final_activation(output).squeeze(-1)\n",
        "\n",
        "\n",
        "class AttackPatchTST(nn.Module):\n",
        "    def __init__(\n",
        "        self,\n",
        "        hidden_dim: int = 128,\n",
        "        x_dim: int = 1,\n",
        "        activation_type: str = \"tanh\",\n",
        "        patch_kwargs: Optional[dict] = None,\n",
        "    ):\n",
        "        super().__init__()\n",
        "\n",
        "        patch_kwargs = patch_kwargs or {}\n",
        "        # гарантируем нужный выход PatchTST\n",
        "        patch_kwargs.update(dict(c_in=x_dim,\n",
        "                                 c_out=hidden_dim,\n",
        "                                 pred_dim=hidden_dim))\n",
        "\n",
        "        self.step_model = PatchTST(activation_type=\"identity\", **patch_kwargs)\n",
        "        self.fc        = nn.Linear(hidden_dim, x_dim)\n",
        "        self.act       = Activation(activation_type)\n",
        "\n",
        "    def forward(self, x: torch.Tensor) -> torch.Tensor:\n",
        "        B, L, _ = x.shape\n",
        "        h = self.step_model(x)          # (B, 1, 1, hidden_dim)\n",
        "\n",
        "        h = h.view(B, -1)\n",
        "        # либо h = h.squeeze(1).squeeze(1)\n",
        "\n",
        "        h = h.unsqueeze(1).expand(-1, L, -1)   # (B, L, hidden_dim)\n",
        "        return self.fc(self.act(h))            # (B, L, C)\n"
      ]
    },
    {
      "cell_type": "markdown",
      "id": "ff082ca8",
      "metadata": {
        "id": "ff082ca8"
      },
      "source": [
        "#### train"
      ]
    },
    {
      "cell_type": "code",
      "execution_count": 31,
      "id": "fdfb70b1",
      "metadata": {
        "colab": {
          "base_uri": "https://localhost:8080/"
        },
        "id": "fdfb70b1",
        "outputId": "7a1ed38c-a774-4350-d0f2-224af12dbb55"
      },
      "outputs": [
        {
          "name": "stdout",
          "output_type": "stream",
          "text": [
            "\n",
            "Epoch 01 | victim‑loss 1.4696 | acc 0.5111\n",
            "\n",
            "Epoch 02 | victim‑loss 2.5844 | acc 0.2611\n",
            "\n",
            "Epoch 03 | victim‑loss 2.9000 | acc 0.1722\n",
            "\n",
            "Epoch 04 | victim‑loss 3.1129 | acc 0.0944\n",
            "\n",
            "Epoch 05 | victim‑loss 3.1189 | acc 0.1167\n",
            "\n",
            "Epoch 06 | victim‑loss 3.1631 | acc 0.1000\n"
          ]
        },
        {
          "name": "stdout",
          "output_type": "stream",
          "text": [
            "\n",
            "Epoch 07 | victim‑loss 3.2354 | acc 0.0833\n",
            "\n",
            "Epoch 08 | victim‑loss 3.2592 | acc 0.0722\n",
            "\n",
            "Epoch 09 | victim‑loss 3.2797 | acc 0.0778\n",
            "\n",
            "Epoch 10 | victim‑loss 3.2918 | acc 0.0722\n",
            "\n",
            "Epoch 11 | victim‑loss 3.3187 | acc 0.0722\n",
            "\n",
            "Epoch 12 | victim‑loss 3.3152 | acc 0.0722\n",
            "\n",
            "Epoch 13 | victim‑loss 3.3351 | acc 0.0722\n",
            "\n",
            "Epoch 14 | victim‑loss 3.3455 | acc 0.0778\n",
            "\n",
            "Epoch 15 | victim‑loss 3.3391 | acc 0.0667\n",
            "\n",
            "Epoch 16 | victim‑loss 3.3176 | acc 0.0611\n",
            "\n",
            "Epoch 17 | victim‑loss 3.3584 | acc 0.0556\n",
            "\n",
            "Epoch 18 | victim‑loss 3.3464 | acc 0.0611\n",
            "\n",
            "Epoch 19 | victim‑loss 3.3243 | acc 0.0500\n",
            "\n",
            "Epoch 20 | victim‑loss 3.3557 | acc 0.0500\n",
            "\n",
            "Epoch 21 | victim‑loss 3.3622 | acc 0.0500\n",
            "\n",
            "Epoch 22 | victim‑loss 3.3627 | acc 0.0611\n",
            "\n",
            "Epoch 23 | victim‑loss 3.3603 | acc 0.0611\n",
            "\n",
            "Epoch 24 | victim‑loss 3.3219 | acc 0.0500\n",
            "\n",
            "Epoch 25 | victim‑loss 3.3642 | acc 0.0556\n",
            "\n",
            "Epoch 26 | victim‑loss 3.3642 | acc 0.0556\n",
            "\n",
            "Epoch 27 | victim‑loss 3.3204 | acc 0.0556\n",
            "\n",
            "Epoch 28 | victim‑loss 3.3700 | acc 0.0611\n",
            "\n",
            "Epoch 29 | victim‑loss 3.3341 | acc 0.0556\n",
            "\n",
            "Epoch 30 | victim‑loss 3.3457 | acc 0.0611\n",
            "\n",
            "Epoch 31 | victim‑loss 3.3538 | acc 0.0500\n",
            "\n",
            "Epoch 32 | victim‑loss 3.3641 | acc 0.0556\n",
            "\n",
            "Epoch 33 | victim‑loss 3.3538 | acc 0.0611\n",
            "\n",
            "Epoch 34 | victim‑loss 3.3760 | acc 0.0611\n",
            "\n",
            "Epoch 35 | victim‑loss 3.3389 | acc 0.0444\n",
            "\n",
            "Epoch 36 | victim‑loss 3.3636 | acc 0.0556\n",
            "\n",
            "Epoch 37 | victim‑loss 3.3554 | acc 0.0556\n",
            "\n",
            "Epoch 38 | victim‑loss 3.3050 | acc 0.0500\n",
            "\n",
            "Epoch 39 | victim‑loss 3.3805 | acc 0.0556\n",
            "\n",
            "Epoch 40 | victim‑loss 3.3611 | acc 0.0444\n",
            "\n",
            "Epoch 41 | victim‑loss 3.3582 | acc 0.0500\n",
            "\n",
            "Epoch 42 | victim‑loss 3.3617 | acc 0.0556\n",
            "\n",
            "Epoch 43 | victim‑loss 3.3618 | acc 0.0444\n",
            "\n",
            "Epoch 44 | victim‑loss 3.3741 | acc 0.0556\n",
            "\n",
            "Epoch 45 | victim‑loss 3.3620 | acc 0.0500\n",
            "\n",
            "Epoch 46 | victim‑loss 3.3477 | acc 0.0556\n",
            "\n",
            "Epoch 47 | victim‑loss 3.3646 | acc 0.0500\n",
            "⏹ Early stopping at epoch 47\n"
          ]
        },
        {
          "data": {
            "text/plain": [
              "(3.364581478966607, 0.05000000020696057)"
            ]
          },
          "execution_count": 31,
          "metadata": {},
          "output_type": "execute_result"
        }
      ],
      "source": [
        "patch_params = dict(\n",
        "    seq_len=144,\n",
        "    n_layers=3,\n",
        "    n_heads=8,\n",
        "    d_model=512,\n",
        "    d_ff=2048,\n",
        "    dropout=0.4,\n",
        "    attn_dropout=0.0,\n",
        "    patch_len=28,\n",
        "    stride=24,\n",
        "    padding_patch=True,\n",
        "    revin=True,\n",
        "    affine=False,\n",
        "    individual=False,\n",
        "    subtract_last=False,\n",
        "    decomposition=False,\n",
        "    kernel_size=25,\n",
        "    activation=\"gelu\",\n",
        "    norm=\"BatchNorm\",\n",
        "    pre_norm=False,\n",
        "    res_attention=True,\n",
        "    store_attn=False,\n",
        ")\n",
        "\n",
        "atk_PatchTST = AttackPatchTST(\n",
        "    hidden_dim=256,\n",
        "    x_dim=1,\n",
        "    activation_type=\"tanh\",\n",
        "    patch_kwargs=patch_params,\n",
        ")\n",
        "\n",
        "eps_PatchTST = 1.52738926\n",
        "train_atk_model(atk_PatchTST, clf_resCNN, train_dl,\n",
        "                eps=eps_PatchTST,\n",
        "                epochs=50, lr=0.000202314, alpha_l2=0.000114732,\n",
        "                device=device, patience=8, is_debugged=False)"
      ]
    },
    {
      "cell_type": "markdown",
      "id": "96440164",
      "metadata": {
        "id": "96440164"
      },
      "source": [
        "#### optuna"
      ]
    },
    {
      "cell_type": "code",
      "execution_count": 32,
      "id": "28317248",
      "metadata": {
        "id": "28317248"
      },
      "outputs": [],
      "source": [
        "SEQ_LEN  = seq_len\n",
        "X_DIM    = 1\n",
        "DEVICE   = device\n",
        "VICTIM   = clf_resCNN\n",
        "TRAIN_DL = train_dl\n",
        "\n",
        "def objective(trial: optuna.Trial):\n",
        "\n",
        "    # atk params\n",
        "    eps        = trial.suggest_float(\"eps\",        0.1, 0.5,    log=True)\n",
        "    lr         = trial.suggest_float(\"lr\",         1e-4, 1e-2,  log=True)\n",
        "    alpha_l2   = trial.suggest_float(\"alpha_l2\",   1e-5, 1e-2,  log=True)\n",
        "    patience   = trial.suggest_int  (\"patience\",   3, 10)\n",
        "\n",
        "    # architecture\n",
        "    hidden_dim = trial.suggest_categorical(\"hidden_dim\", [64, 128, 256])\n",
        "\n",
        "    # main hyperparams\n",
        "    patch_len  = trial.suggest_int(\"patch_len\", 8, 32, step=4)\n",
        "    stride_max = patch_len                      # stride не может превышать patch_len\n",
        "    stride     = trial.suggest_int(\"stride\",    4, stride_max, step=4)\n",
        "    n_layers   = trial.suggest_int(\"n_layers\",  1, 4)\n",
        "    d_model    = trial.suggest_categorical(\"d_model\", [256, 512, 768])\n",
        "    dropout    = trial.suggest_float(\"dropout\", 0.1, 0.6, step=0.1)\n",
        "\n",
        "    # подготовим patch-kwargs\n",
        "    patch_kwargs = dict(\n",
        "        seq_len       = SEQ_LEN,\n",
        "        n_layers      = n_layers,\n",
        "        n_heads       = 8,\n",
        "        d_model       = d_model,\n",
        "        d_ff          = 4 * d_model,\n",
        "        dropout       = dropout,\n",
        "        attn_dropout  = 0.0,\n",
        "        patch_len     = patch_len,\n",
        "        stride        = stride,\n",
        "        padding_patch = True,\n",
        "        revin         = True,\n",
        "        affine        = False,\n",
        "        individual    = False,\n",
        "        subtract_last = False,\n",
        "        decomposition = False,\n",
        "        kernel_size   = 25,\n",
        "        activation    = \"gelu\",\n",
        "        norm          = \"BatchNorm\",\n",
        "        pre_norm      = False,\n",
        "        res_attention = True,\n",
        "        store_attn    = False,\n",
        "    )\n",
        "\n",
        "    surrogate = AttackPatchTST(\n",
        "        hidden_dim     = hidden_dim,\n",
        "        x_dim          = X_DIM,\n",
        "        activation_type= \"tanh\",\n",
        "        patch_kwargs   = patch_kwargs\n",
        "    )\n",
        "\n",
        "    val_loss, val_acc = train_atk_model(\n",
        "        surrogate, VICTIM, TRAIN_DL,\n",
        "        eps=eps, epochs=50, lr=lr, alpha_l2=alpha_l2,\n",
        "        device=DEVICE, patience=patience\n",
        "    )\n",
        "\n",
        "    return val_acc\n",
        "\n",
        "\n",
        "# sampler = optuna.samplers.TPESampler()\n",
        "# pruner  = optuna.pruners.MedianPruner(n_warmup_steps=3)\n",
        "\n",
        "# study = optuna.create_study(direction=\"minimize\", sampler=sampler, pruner=pruner)\n",
        "# study.optimize(objective, n_trials=50, timeout=60*60)\n",
        "\n",
        "# print(\"BEST PARAMS:\", study.best_params)\n"
      ]
    },
    {
      "cell_type": "markdown",
      "id": "_EF_3eeThs72",
      "metadata": {
        "id": "_EF_3eeThs72"
      },
      "source": [
        "### FGSM && iFGSM"
      ]
    },
    {
      "cell_type": "code",
      "execution_count": 33,
      "id": "42ac3b0e",
      "metadata": {
        "id": "42ac3b0e"
      },
      "outputs": [],
      "source": [
        "class FGSMAttack(Attack):\n",
        "    def __call__(self, model, x, y):\n",
        "        x_req = x.clone().detach().requires_grad_(True)\n",
        "        loss = F.cross_entropy(model(x_req), y)\n",
        "        loss.backward()\n",
        "        delta = self.eps * x_req.grad.sign()\n",
        "        # print(f\"FGSM L2 norm = {torch.norm(delta, p=2)}, L_infty norm = {torch.norm(delta, p=float('inf'))}\")\n",
        "        x_adv = x + delta\n",
        "        if not self.clamp is None:\n",
        "          x_adv = torch.clamp(x_adv, *self.clamp)\n",
        "        return x_adv.detach()\n",
        "\n",
        "class iFGSMAttack(Attack):\n",
        "    def __init__(self, eps, n_iter=20, alpha=None, clamp=None,\n",
        "                 rand_init=True, momentum=0.9):\n",
        "        super().__init__(eps, clamp)\n",
        "        self.n_iter, self.alpha = n_iter, alpha or 1.5*eps/n_iter\n",
        "        self.rand_init, self.mu = rand_init, momentum\n",
        "\n",
        "    def __call__(self, model, x, y):\n",
        "        x_adv = x.detach()\n",
        "        if self.rand_init:\n",
        "            x_adv = x_adv + torch.empty_like(x).uniform_(-self.eps, self.eps)\n",
        "            if not self.clamp is None:\n",
        "              x_adv = torch.clamp(x_adv, *self.clamp)\n",
        "        g = torch.zeros_like(x)\n",
        "        for _ in range(self.n_iter):\n",
        "            x_adv.requires_grad_(True)\n",
        "            loss = F.cross_entropy(model(x_adv), y)\n",
        "            model.zero_grad(); loss.backward()\n",
        "            grad = x_adv.grad / x_adv.grad.abs().mean(dim=(1,2), keepdim=True)\n",
        "            g = self.mu * g + grad\n",
        "            x_adv = x_adv + self.alpha * g.sign()\n",
        "            delta = torch.clamp(x_adv - x, min=-self.eps, max=self.eps)\n",
        "            x_adv = x + delta\n",
        "            if not self.clamp is None:\n",
        "              x_adv = torch.clamp(x_adv, *self.clamp)\n",
        "            x_adv = x_adv.detach()\n",
        "        # print(f\"iFGSM L2 norm = {torch.norm(x_adv - x, p=2)}, L_infty norm = {torch.norm(x_adv - x, p=float('inf'))}\")\n",
        "        return x_adv"
      ]
    },
    {
      "cell_type": "markdown",
      "id": "601b161f",
      "metadata": {},
      "source": [
        "### Iter model-based attack"
      ]
    },
    {
      "cell_type": "code",
      "execution_count": 49,
      "id": "10e1520a",
      "metadata": {},
      "outputs": [],
      "source": [
        "import torch\n",
        "import torch.nn as nn\n",
        "import torch.nn.functional as F\n",
        "\n",
        "# --- straight-through clamp/projection (BPDA) ---\n",
        "class _STClamp(torch.autograd.Function):\n",
        "    @staticmethod\n",
        "    def forward(ctx, x, lo, hi):\n",
        "        return x.clamp(lo, hi)\n",
        "    @staticmethod\n",
        "    def backward(ctx, g):\n",
        "        return g, None, None\n",
        "\n",
        "def st_clamp(x, lo, hi, use_st: bool):\n",
        "    return _STClamp.apply(x, lo, hi) if use_st else x.clamp(lo, hi)\n",
        "\n",
        "def _normalize_step(d, kind: str | None):\n",
        "    if kind in (None, \"none\"):\n",
        "        return d\n",
        "    if kind == \"meanabs\":\n",
        "        s = d.abs().mean(dim=tuple(range(1, d.dim())), keepdim=True) + 1e-12\n",
        "        return d / s\n",
        "    if kind == \"l2\":\n",
        "        s = torch.norm(d.flatten(1), p=2, dim=1).view(-1, *[1]*(d.dim()-1)) + 1e-12\n",
        "        return d / s\n",
        "    if kind == \"linf\":\n",
        "        s = d.abs().flatten(1).amax(dim=1).view(-1, *[1]*(d.dim()-1)) + 1e-12\n",
        "        return d / s\n",
        "    raise ValueError(f\"Unknown normalize kind: {kind}\")\n",
        "\n",
        "class IterModelAttackk(nn.Module):\n",
        "    \"\"\"\n",
        "    x_{t+1} = Proj( Clamp( x_t + alpha * dir(attacker(x_t), momentum) ) ).\n",
        "    Флаги по умолчанию повторяют твоё текущее поведение: БЕЗ проекции/клампа/моментума.\n",
        "    \"\"\"\n",
        "    def __init__(\n",
        "        self,\n",
        "        attacker: nn.Module,\n",
        "        eps: float,\n",
        "        n_iter: int = 10,\n",
        "        alpha: float | None = None,\n",
        "        # --- сохранённые аргументы для совместимости ---\n",
        "        clamp: tuple | None = None,        # было data_clamp в train-функции\n",
        "        rand_init: bool = True,\n",
        "        use_sign: bool = False,\n",
        "        equal_eps: bool = False,\n",
        "        bpda: bool = True,\n",
        "        # --- новые флаги (все выключены по умолчанию) ---\n",
        "        proj: str = \"none\",                # \"none\" | \"linf\" | \"l2\"\n",
        "        proj_equal_eps: bool = False,      # дотягивать до ||δ|| = eps\n",
        "        data_clamp: tuple | None = None,   # (min, max) по данным; по умолчанию None\n",
        "        momentum_mu: float = 0.0,          # 0.0 = без momentum (как у тебя)\n",
        "        step_normalize: str | None = None, # \"meanabs\" | \"l2\" | \"linf\" | None\n",
        "        step_noise_std: float = 0.0,       # гаусс. шум в шаге (для стабилизации)\n",
        "    ):\n",
        "        super().__init__()\n",
        "        self.attacker = attacker\n",
        "        self.eps = eps\n",
        "        self.n_iter = n_iter\n",
        "        self.alpha = alpha or (1.0 * eps / max(1, n_iter))\n",
        "        # совместимость:\n",
        "        self.rand_init = rand_init\n",
        "        self.use_sign = use_sign\n",
        "        self.equal_eps = equal_eps\n",
        "        self.bpda = bpda\n",
        "        # новые опции:\n",
        "        self.proj = proj\n",
        "        self.proj_equal_eps = proj_equal_eps\n",
        "        self.data_clamp = data_clamp if clamp is None else clamp  # поддержка старого имени\n",
        "        self.momentum_mu = momentum_mu\n",
        "        self.step_normalize = step_normalize\n",
        "        self.step_noise_std = step_noise_std\n",
        "\n",
        "    @staticmethod\n",
        "    def _project(delta, eps, mode: str, equal_eps: bool, bpda: bool):\n",
        "        if mode == \"none\":\n",
        "            return delta\n",
        "        if mode == \"linf\":\n",
        "            delta = st_clamp(delta, -eps, eps, use_st=bpda)\n",
        "            if equal_eps:\n",
        "                amax = delta.detach().abs().flatten(1).amax(dim=1)  # (B,)\n",
        "                scale = (eps / (amax + 1e-12)).view(-1, *[1]*(delta.dim()-1))\n",
        "                delta = delta * scale\n",
        "                delta = st_clamp(delta, -eps, eps, use_st=bpda)\n",
        "            return delta\n",
        "        if mode == \"l2\":\n",
        "            flat = delta.flatten(1)\n",
        "            nrm = torch.norm(flat, p=2, dim=1).view(-1, *[1]*(delta.dim()-1)) + 1e-12\n",
        "            # проекция в L2-шар\n",
        "            delta = delta * torch.clamp(eps / nrm, max=1.0)\n",
        "            if equal_eps:\n",
        "                delta = delta * (eps / (nrm + 1e-12))\n",
        "            return delta\n",
        "        raise ValueError(f\"Unknown projection mode: {mode}\")\n",
        "\n",
        "    def forward(self, x: torch.Tensor) -> torch.Tensor:\n",
        "        x0 = x\n",
        "        # random start\n",
        "        if self.rand_init:\n",
        "            if self.proj == \"linf\":\n",
        "                delta0 = torch.empty_like(x0).uniform_(-self.eps, self.eps)\n",
        "            elif self.proj == \"l2\":\n",
        "                delta0 = torch.randn_like(x0)\n",
        "                delta0 = self._project(delta0, self.eps, \"l2\", False, self.bpda)\n",
        "            else:  # none\n",
        "                delta0 = torch.empty_like(x0).uniform_(-self.eps, self.eps)\n",
        "            x_adv = x0 + delta0\n",
        "        else:\n",
        "            x_adv = x0.clone()\n",
        "\n",
        "        g = torch.zeros_like(x_adv)  # momentum buffer\n",
        "\n",
        "        for _ in range(self.n_iter):\n",
        "            step_dir = self.attacker(x_adv)\n",
        "            step_dir = step_dir.sign() if self.use_sign else torch.tanh(step_dir)\n",
        "            if self.step_normalize:\n",
        "                step_dir = _normalize_step(step_dir, self.step_normalize)\n",
        "            if self.step_noise_std > 0:\n",
        "                step_dir = step_dir + self.step_noise_std * torch.randn_like(step_dir)\n",
        "\n",
        "            # momentum (как в MI-FGSM: накопление направления)\n",
        "            if self.momentum_mu > 0.0:\n",
        "                g = self.momentum_mu * g + step_dir\n",
        "                step_dir = g.sign() if self.use_sign else g\n",
        "\n",
        "            x_adv = x_adv + self.alpha * step_dir\n",
        "\n",
        "            # проекция в ε-шар (если включена)\n",
        "            delta = x_adv - x0\n",
        "            delta = self._project(delta, self.eps, self.proj, self.proj_equal_eps, self.bpda)\n",
        "            x_adv = x0 + delta\n",
        "\n",
        "            # clamp по данным (если указан)\n",
        "            if self.data_clamp is not None:\n",
        "                x_adv = st_clamp(x_adv, self.data_clamp[0], self.data_clamp[1], use_st=self.bpda)\n",
        "\n",
        "        return x_adv\n"
      ]
    },
    {
      "cell_type": "code",
      "execution_count": 41,
      "id": "25e02eb6",
      "metadata": {},
      "outputs": [],
      "source": [
        "\n",
        "\n",
        "#* -------------------------------------------------\n",
        "#* light version of ModelIterAttack\n",
        "#* -------------------------------------------------\n",
        "# import torch\n",
        "# import torch.nn as nn\n",
        "\n",
        "# class DifferentiableModelIterAttack(nn.Module):\n",
        "#     \"\"\"\n",
        "#     Итеративная атака без каких-либо проекций и clamp:\n",
        "#     x_{t+1} = x_t + alpha * dir(attacker(x_t)),\n",
        "#     где dir = sign(.) или tanh(.).\n",
        "#     Никаких ограничений на ||x_t - x0|| и диапазон значений нет.\n",
        "#     \"\"\"\n",
        "#     def __init__(\n",
        "#         self,\n",
        "#         attacker: nn.Module,\n",
        "#         eps: float,\n",
        "#         n_iter: int = 10,\n",
        "#         alpha: float = None,\n",
        "#         rand_init: bool = True,\n",
        "#         use_sign: bool = False,\n",
        "#         equal_eps: bool = False,  # не используется, оставлен для совместимости интерфейса\n",
        "#         **kwargs                 # чтобы молча принимать старые аргументы (clamp, bpda и т.п.)\n",
        "#     ):\n",
        "#         super().__init__()\n",
        "#         self.attacker  = attacker\n",
        "#         self.eps       = eps\n",
        "#         self.n_iter    = n_iter\n",
        "#         self.alpha     = alpha or (1 * eps / max(1, n_iter))\n",
        "#         self.rand_init = rand_init\n",
        "#         self.use_sign  = use_sign\n",
        "\n",
        "#     def forward(self, x: torch.Tensor) -> torch.Tensor:\n",
        "#         x0 = x\n",
        "#         if self.rand_init:\n",
        "#             # случайный старт внутри [-eps, +eps] БЕЗ какой-либо проекции/клиппинга\n",
        "#             delta0 = torch.empty_like(x0).uniform_(-self.eps, self.eps)\n",
        "#             x_adv = x0 + delta0\n",
        "#         else:\n",
        "#             x_adv = x0.clone()\n",
        "\n",
        "#         for _ in range(self.n_iter):\n",
        "#             # направление шага от атакера\n",
        "#             step_dir = self.attacker(x_adv)\n",
        "#             step_dir = step_dir.sign() if self.use_sign else torch.tanh(step_dir)\n",
        "#             # шаг без проекций/клиппинга\n",
        "#             x_adv = x_adv + self.alpha * step_dir\n",
        "\n",
        "#         return x_adv\n"
      ]
    },
    {
      "cell_type": "markdown",
      "id": "f5696ea4",
      "metadata": {},
      "source": [
        "#### train function"
      ]
    },
    {
      "cell_type": "code",
      "execution_count": 50,
      "id": "7ca2e6df",
      "metadata": {},
      "outputs": [],
      "source": [
        "\n",
        "@torch.no_grad()\n",
        "def _freeze_(m: nn.Module):\n",
        "    for p in m.parameters():\n",
        "        p.requires_grad_(False)\n",
        "\n",
        "def train_attack_iter(\n",
        "    attacker: nn.Module,\n",
        "    victim: nn.Module,\n",
        "    loader,\n",
        "    eps=0.5,\n",
        "    steps=10,\n",
        "    alpha=None,\n",
        "    epochs=50,\n",
        "    lr=1e-4,\n",
        "    alpha_l2=1e-3,\n",
        "    lambda_disc=0.0,\n",
        "    disc: nn.Module | None = None,\n",
        "    device=\"cpu\",\n",
        "    patience=4,\n",
        "    data_clamp=None,          # как раньше\n",
        "    rand_init=True,\n",
        "    use_sign=False,\n",
        "    equal_eps=False,\n",
        "    bpda=True,\n",
        "    verbose=True,\n",
        "    # ---- новые флаги (все опциональны, дефолты сохраняют прежнее поведение) ----\n",
        "    proj: str = \"none\",       # \"none\" | \"linf\" | \"l2\"\n",
        "    proj_equal_eps: bool = False,\n",
        "    momentum_mu: float = 0.0, # MI-FGSM\n",
        "    step_normalize: str | None = None,  # \"meanabs\" | \"l2\" | \"linf\" | None\n",
        "    step_noise_std: float = 0.0,\n",
        "    victim_eval: bool = True,\n",
        "    grad_clip: float | None = None,\n",
        "):\n",
        "    attacker.to(device).train()\n",
        "    victim.to(device)\n",
        "    if victim_eval:\n",
        "        victim.eval()\n",
        "    _freeze_(victim)\n",
        "    if disc is not None:\n",
        "        disc.to(device).eval()\n",
        "        _freeze_(disc)\n",
        "\n",
        "    iter_attack = IterModelAttackk(\n",
        "        attacker=attacker, eps=eps, n_iter=steps, alpha=alpha,\n",
        "        clamp=data_clamp, rand_init=rand_init, use_sign=use_sign,\n",
        "        equal_eps=equal_eps, bpda=bpda,\n",
        "        proj=proj, proj_equal_eps=proj_equal_eps,\n",
        "        data_clamp=data_clamp,\n",
        "        momentum_mu=momentum_mu, step_normalize=step_normalize,\n",
        "        step_noise_std=step_noise_std,\n",
        "    ).to(device)\n",
        "\n",
        "    opt = torch.optim.Adam(attacker.parameters(), lr=lr)\n",
        "    stopper = EarlyStopping(patience=patience, mode=\"max\")  # максимизируем victim-loss\n",
        "\n",
        "    best_val, best_acc = float(\"-inf\"), 0.0\n",
        "    for ep in range(1, epochs+1):\n",
        "        attacker.train()\n",
        "        run_vloss, run_acc, n = 0.0, 0.0, 0\n",
        "\n",
        "        for x, y in loader:\n",
        "            x, y = x.to(device), y.to(device)\n",
        "            x_adv = iter_attack(x)\n",
        "\n",
        "            # ---- средняя норма по батчу ----\n",
        "            if verbose:\n",
        "                with torch.no_grad():\n",
        "                    delta = (x_adv - x).detach()\n",
        "                    # L2 по объектам, затем среднее по батчу\n",
        "                    l2_mean = delta.view(delta.size(0), -1).norm(p=2, dim=1).mean().item()\n",
        "                    # L_inf по объектам, затем среднее по батчу\n",
        "                    linf_mean = delta.view(delta.size(0), -1).abs().amax(dim=1).mean().item()\n",
        "                    x_mean = x.view(x.size(0), -1).norm(p=2, dim=1).mean().item()\n",
        "                    x_adv_mean = x_adv.view(x_adv.size(0), -1).norm(p=2, dim=1).mean().item()\n",
        "                print(f\"[Δ] mean ||δ||_2 = {l2_mean:.3f} | mean ||δ||_∞ = {linf_mean:.3f}\")\n",
        "                print(f\"[Δ] mean ||x||_2 = {x_mean:.3f} | mean ||x_adv||_2 = {x_adv_mean:.3f}\")\n",
        "\n",
        "\n",
        "            logits = victim(x_adv)\n",
        "            vloss  = F.cross_entropy(logits, y)\n",
        "            acc    = (logits.argmax(1) == y).float().mean().item()\n",
        "\n",
        "            loss_disc = torch.tensor(0.0, device=device)\n",
        "            if disc is not None:\n",
        "                d_out = disc(x_adv)\n",
        "                if d_out.dim() == 1 or d_out.size(-1) == 1:\n",
        "                    target = torch.zeros_like(d_out)\n",
        "                    loss_disc = nn.BCEWithLogitsLoss()(d_out, target)\n",
        "                else:\n",
        "                    target = torch.zeros(d_out.size(0), dtype=torch.long, device=device)\n",
        "                    loss_disc = nn.CrossEntropyLoss()(d_out, target)\n",
        "\n",
        "            delta = (x_adv - x)\n",
        "            reg = alpha_l2 * (delta**2).mean()\n",
        "\n",
        "            loss = -(vloss) + lambda_disc * loss_disc + reg\n",
        "\n",
        "            opt.zero_grad()\n",
        "            loss.backward()\n",
        "            if grad_clip is not None:\n",
        "                nn.utils.clip_grad_norm_(attacker.parameters(), grad_clip)\n",
        "            opt.step()\n",
        "\n",
        "            run_vloss += vloss.item() * x.size(0)\n",
        "            run_acc   += acc * x.size(0)\n",
        "            n += x.size(0)\n",
        "\n",
        "        val_loss = run_vloss / n\n",
        "        val_acc  = run_acc / n\n",
        "        if verbose:\n",
        "            print(f\"Epoch {ep:02d} | victim-loss {val_loss:.4f} | acc {val_acc:.4f}\")\n",
        "\n",
        "        \n",
        "        if stopper.step(val_loss):\n",
        "            if verbose: print(f\"⏹ Early stopping at epoch {ep}\")\n",
        "            break\n",
        "\n",
        "    torch.save(attacker.state_dict(), 'attacker_iter_unrolled.pth')\n",
        "    return val_loss, val_acc\n"
      ]
    },
    {
      "cell_type": "code",
      "execution_count": 43,
      "id": "bbddccb1",
      "metadata": {},
      "outputs": [],
      "source": [
        "\n",
        "# * -------------------------------------------------\n",
        "# * light version of ModelIterAttack\n",
        "# * -------------------------------------------------\n",
        "\n",
        "# @torch.no_grad()\n",
        "# def _freeze_(m: nn.Module):\n",
        "#     # m.eval()\n",
        "#     for p in m.parameters():\n",
        "#         p.requires_grad_(False)\n",
        "\n",
        "# def train_attack_iter(\n",
        "#     attacker: nn.Module,\n",
        "#     victim: nn.Module,\n",
        "#     loader,\n",
        "#     eps=0.5,\n",
        "#     steps=10,\n",
        "#     alpha=None,\n",
        "#     epochs=50,\n",
        "#     lr=1e-4,\n",
        "#     alpha_l2=1e-3,\n",
        "#     lambda_disc=0.0,\n",
        "#     disc: nn.Module | None = None,    # обученный дискриминатор D (опционально)\n",
        "#     device=device,\n",
        "#     patience=4,\n",
        "#     data_clamp=(-1, 1),\n",
        "#     rand_init=True,\n",
        "#     use_sign=False,\n",
        "#     equal_eps=False,\n",
        "#     bpda=True,\n",
        "#     verbose=True,\n",
        "# ):\n",
        "#     attacker.to(device).train()\n",
        "#     victim.to(device)\n",
        "#     _freeze_(victim)\n",
        "#     if disc is not None:\n",
        "#         disc.to(device)\n",
        "#         _freeze_(disc)\n",
        "\n",
        "#     # K-шаговый\n",
        "#     iter_attack = IterModelAttack(\n",
        "#         attacker=attacker, eps=eps, n_iter=steps, alpha=alpha,\n",
        "#         clamp=data_clamp, rand_init=rand_init,\n",
        "#         use_sign=use_sign, equal_eps=equal_eps, bpda=bpda\n",
        "#     ).to(device)\n",
        "\n",
        "#     opt = torch.optim.Adam(attacker.parameters(), lr=lr)\n",
        "#     scheduler = None\n",
        "#     stopper = EarlyStopping(patience=patience, mode=\"max\")\n",
        "\n",
        "#     best_val, best_acc = float('inf'), 0.0\n",
        "#     for ep in range(1, epochs+1):\n",
        "#         attacker.train()\n",
        "#         run_vloss, run_acc, n = 0., 0., 0\n",
        "\n",
        "#         for x, y in loader:\n",
        "#             x, y = x.to(device), y.to(device)\n",
        "\n",
        "#             # K-шаговый x_adv = Attack(x)\n",
        "#             x_adv = iter_attack(x)\n",
        "#             # Вычисление средней по бачу L2 нормы x_adv и x\n",
        "#             l2_norm_x_adv_rms = torch.norm(x_adv, p=2, dim=1) / math.sqrt(x_adv.size(1))\n",
        "#             l2_norm_x_rms = torch.norm(x, p=2, dim=1) / math.sqrt(x.size(1))\n",
        "#             print(f\"RMS норма x_adv: {l2_norm_x_adv_rms.mean().item():.3f}\")\n",
        "#             print(f\"RMS норма x: {l2_norm_x_rms.mean().item():.3f}\")\n",
        "\n",
        "#             # потери\n",
        "#             logits = victim(x_adv)\n",
        "\n",
        "#             vloss = F.cross_entropy(logits, y)\n",
        "#             acc   = (logits.argmax(1) == y).float().mean().item()\n",
        "\n",
        "#             # скрытность (опционально): хотим, чтобы D(x_adv) -> \"чисто\" (0)\n",
        "#             loss_disc = torch.tensor(0., device=device)\n",
        "#             # if disc is not None:\n",
        "#             #     d_out = disc(x_adv)\n",
        "#             #     # если D обучен BCELoss(logit, y∈{0,1}), берём нули как цель «чисто»\n",
        "#             #     # если мульткласс — подправь под свою реализацию\n",
        "#             #     if d_out.dim() == 1 or d_out.size(-1) == 1:\n",
        "#             #         target = torch.zeros_like(d_out)\n",
        "#             #         bce = nn.BCEWithLogitsLoss()\n",
        "#             #         loss_disc = bce(d_out, target)\n",
        "#             #     else:\n",
        "#             #         target = torch.zeros(d_out.size(0), dtype=torch.long, device=device)\n",
        "#             #         ce = nn.CrossEntropyLoss()\n",
        "#             #         loss_disc = ce(d_out, target)\n",
        "\n",
        "#             # регуляризация по норме возмущения\n",
        "#             delta = (x_adv - x)\n",
        "#             reg = alpha_l2 * (delta**2).mean()\n",
        "\n",
        "#             loss = -(vloss) + lambda_disc * loss_disc + reg\n",
        "\n",
        "#             opt.zero_grad()\n",
        "#             loss.backward()\n",
        "#             opt.step()\n",
        "\n",
        "#             run_vloss += vloss.item() * x.size(0)\n",
        "#             run_acc   += acc * x.size(0)\n",
        "#             n += x.size(0)\n",
        "\n",
        "#         val_loss = run_vloss / n\n",
        "#         val_acc  = run_acc / n\n",
        "#         if verbose:\n",
        "#             print(f\"Epoch {ep:02d} | victim-loss {val_loss:.4f} | acc {val_acc:.4f}\")\n",
        "\n",
        "#         if scheduler:\n",
        "#             scheduler.step()\n",
        "\n",
        "#         if stopper.step(val_loss):\n",
        "#             if verbose: print(f\"⏹ Early stopping at epoch {ep}\")\n",
        "#             break\n",
        "\n",
        "#     torch.save(attacker.state_dict(), 'attacker_iter_unrolled.pth')\n",
        "#     return val_loss, val_acc\n"
      ]
    },
    {
      "cell_type": "markdown",
      "id": "792e07d3",
      "metadata": {},
      "source": [
        "#### train"
      ]
    },
    {
      "cell_type": "code",
      "execution_count": 51,
      "id": "e39d8c62",
      "metadata": {},
      "outputs": [],
      "source": [
        "\n",
        "def prepare_victim_for_input_grad(victim: nn.Module):\n",
        "    # 1) общий eval + заморозка весов\n",
        "    victim.eval()\n",
        "    for p in victim.parameters():\n",
        "        p.requires_grad_(False)\n",
        "\n",
        "    # 2) RNN в train(True), без dropout\n",
        "    for m in victim.modules():\n",
        "        if isinstance(m, (nn.LSTM, nn.GRU, nn.RNN)):\n",
        "            m.train(True)\n",
        "            if hasattr(m, 'dropout'):\n",
        "                m.dropout = 0.0\n",
        "            # иногда полезно обновить внутренние буферы для cuDNN\n",
        "            try:\n",
        "                m.flatten_parameters()\n",
        "            except Exception:\n",
        "                pass\n",
        "\n",
        "    # 3) отключаем стохастику в явных Dropout, BN оставляем в eval\n",
        "    for m in victim.modules():\n",
        "        if isinstance(m, nn.Dropout):\n",
        "            m.p = 0.0\n",
        "            m.eval()\n",
        "        elif isinstance(m, (nn.BatchNorm1d, nn.BatchNorm2d, nn.BatchNorm3d)):\n",
        "            m.eval()\n"
      ]
    },
    {
      "cell_type": "code",
      "execution_count": 52,
      "id": "ef4d6695",
      "metadata": {},
      "outputs": [
        {
          "name": "stdout",
          "output_type": "stream",
          "text": [
            "[Δ] mean ||δ||_2 = 6.332 | mean ||δ||_∞ = 0.841\n",
            "[Δ] mean ||x||_2 = 11.165 | mean ||x_adv||_2 = 14.908\n",
            "[Δ] mean ||δ||_2 = 16.492 | mean ||δ||_∞ = 1.742\n",
            "[Δ] mean ||x||_2 = 10.917 | mean ||x_adv||_2 = 20.602\n",
            "[Δ] mean ||δ||_2 = 19.005 | mean ||δ||_∞ = 1.953\n",
            "[Δ] mean ||x||_2 = 11.663 | mean ||x_adv||_2 = 21.934\n",
            "Epoch 01 | victim-loss 1.7753 | acc 0.5333\n",
            "[Δ] mean ||δ||_2 = 18.781 | mean ||δ||_∞ = 1.929\n",
            "[Δ] mean ||x||_2 = 11.980 | mean ||x_adv||_2 = 21.556\n",
            "[Δ] mean ||δ||_2 = 18.681 | mean ||δ||_∞ = 1.924\n",
            "[Δ] mean ||x||_2 = 10.761 | mean ||x_adv||_2 = 20.574\n",
            "[Δ] mean ||δ||_2 = 19.015 | mean ||δ||_∞ = 1.955\n",
            "[Δ] mean ||x||_2 = 10.850 | mean ||x_adv||_2 = 19.463\n",
            "Epoch 02 | victim-loss 3.0633 | acc 0.2444\n",
            "[Δ] mean ||δ||_2 = 20.405 | mean ||δ||_∞ = 2.075\n",
            "[Δ] mean ||x||_2 = 11.296 | mean ||x_adv||_2 = 20.567\n",
            "[Δ] mean ||δ||_2 = 20.307 | mean ||δ||_∞ = 2.064\n",
            "[Δ] mean ||x||_2 = 10.776 | mean ||x_adv||_2 = 20.654\n",
            "[Δ] mean ||δ||_2 = 20.170 | mean ||δ||_∞ = 2.051\n",
            "[Δ] mean ||x||_2 = 11.674 | mean ||x_adv||_2 = 21.751\n",
            "Epoch 03 | victim-loss 3.6167 | acc 0.1444\n",
            "[Δ] mean ||δ||_2 = 20.612 | mean ||δ||_∞ = 2.091\n",
            "[Δ] mean ||x||_2 = 11.339 | mean ||x_adv||_2 = 21.130\n",
            "[Δ] mean ||δ||_2 = 20.455 | mean ||δ||_∞ = 2.078\n",
            "[Δ] mean ||x||_2 = 11.453 | mean ||x_adv||_2 = 21.039\n",
            "[Δ] mean ||δ||_2 = 21.269 | mean ||δ||_∞ = 2.146\n",
            "[Δ] mean ||x||_2 = 10.789 | mean ||x_adv||_2 = 21.783\n",
            "Epoch 04 | victim-loss 3.8165 | acc 0.1000\n",
            "[Δ] mean ||δ||_2 = 21.122 | mean ||δ||_∞ = 2.129\n",
            "[Δ] mean ||x||_2 = 10.924 | mean ||x_adv||_2 = 20.776\n",
            "[Δ] mean ||δ||_2 = 20.914 | mean ||δ||_∞ = 2.122\n",
            "[Δ] mean ||x||_2 = 11.380 | mean ||x_adv||_2 = 20.932\n",
            "[Δ] mean ||δ||_2 = 20.564 | mean ||δ||_∞ = 2.086\n",
            "[Δ] mean ||x||_2 = 11.389 | mean ||x_adv||_2 = 22.410\n",
            "Epoch 05 | victim-loss 3.9202 | acc 0.0889\n",
            "[Δ] mean ||δ||_2 = 20.956 | mean ||δ||_∞ = 2.121\n",
            "[Δ] mean ||x||_2 = 11.281 | mean ||x_adv||_2 = 21.877\n",
            "[Δ] mean ||δ||_2 = 20.968 | mean ||δ||_∞ = 2.117\n",
            "[Δ] mean ||x||_2 = 11.611 | mean ||x_adv||_2 = 21.188\n",
            "[Δ] mean ||δ||_2 = 21.239 | mean ||δ||_∞ = 2.145\n",
            "[Δ] mean ||x||_2 = 10.666 | mean ||x_adv||_2 = 21.541\n",
            "Epoch 06 | victim-loss 3.9403 | acc 0.0833\n",
            "[Δ] mean ||δ||_2 = 20.940 | mean ||δ||_∞ = 2.122\n",
            "[Δ] mean ||x||_2 = 10.901 | mean ||x_adv||_2 = 21.115\n",
            "[Δ] mean ||δ||_2 = 20.709 | mean ||δ||_∞ = 2.097\n",
            "[Δ] mean ||x||_2 = 11.187 | mean ||x_adv||_2 = 22.125\n",
            "[Δ] mean ||δ||_2 = 21.201 | mean ||δ||_∞ = 2.145\n",
            "[Δ] mean ||x||_2 = 11.656 | mean ||x_adv||_2 = 21.950\n",
            "Epoch 07 | victim-loss 3.8725 | acc 0.1111\n",
            "[Δ] mean ||δ||_2 = 20.679 | mean ||δ||_∞ = 2.101\n",
            "[Δ] mean ||x||_2 = 12.001 | mean ||x_adv||_2 = 21.899\n",
            "[Δ] mean ||δ||_2 = 21.016 | mean ||δ||_∞ = 2.123\n",
            "[Δ] mean ||x||_2 = 10.532 | mean ||x_adv||_2 = 20.753\n",
            "[Δ] mean ||δ||_2 = 20.985 | mean ||δ||_∞ = 2.122\n",
            "[Δ] mean ||x||_2 = 11.107 | mean ||x_adv||_2 = 22.101\n",
            "Epoch 08 | victim-loss 3.9178 | acc 0.1056\n",
            "[Δ] mean ||δ||_2 = 20.894 | mean ||δ||_∞ = 2.117\n",
            "[Δ] mean ||x||_2 = 11.170 | mean ||x_adv||_2 = 21.196\n",
            "[Δ] mean ||δ||_2 = 21.007 | mean ||δ||_∞ = 2.124\n",
            "[Δ] mean ||x||_2 = 11.053 | mean ||x_adv||_2 = 21.320\n",
            "[Δ] mean ||δ||_2 = 20.862 | mean ||δ||_∞ = 2.113\n",
            "[Δ] mean ||x||_2 = 11.488 | mean ||x_adv||_2 = 21.262\n",
            "Epoch 09 | victim-loss 3.9944 | acc 0.0778\n",
            "[Δ] mean ||δ||_2 = 21.218 | mean ||δ||_∞ = 2.143\n",
            "[Δ] mean ||x||_2 = 10.890 | mean ||x_adv||_2 = 20.851\n",
            "[Δ] mean ||δ||_2 = 21.015 | mean ||δ||_∞ = 2.126\n",
            "[Δ] mean ||x||_2 = 11.165 | mean ||x_adv||_2 = 21.208\n",
            "[Δ] mean ||δ||_2 = 20.725 | mean ||δ||_∞ = 2.097\n",
            "[Δ] mean ||x||_2 = 11.695 | mean ||x_adv||_2 = 21.879\n",
            "Epoch 10 | victim-loss 3.8891 | acc 0.0889\n",
            "[done] val_loss=3.8891  |  val_acc(after attack)=0.0889\n"
          ]
        }
      ],
      "source": [
        "\n",
        "# attacker = AttackCNN(hidden_dim=64, x_dim=1, activation_type='tanh').to(device)\n",
        "# try:\n",
        "#     attacker.load_state_dict(atk_resCNN.state_dict())\n",
        "#     print(\"[info] AttackCNN weights loaded from atk_resCNN.\")\n",
        "# except Exception as e:\n",
        "#     print(\"[warn] Could not load atk_resCNN state_dict:\", e)\n",
        "\n",
        "\n",
        "attacker = AttackPatchTST(hidden_dim=256, x_dim=1, activation_type='tanh',\n",
        "                          patch_kwargs=patch_params).to(device)\n",
        "# attacker.load_state_dict(atk_PatchTST.state_dict())\n",
        "\n",
        "\n",
        "target = clf_resCNN\n",
        "prepare_victim_for_input_grad(target)\n",
        "\n",
        "disc = None\n",
        "\n",
        "# ====== Параметры из лучшего trial ======\n",
        "# best = {\n",
        "#     \"eps\": 0.30533993963027156,\n",
        "#     \"lr\": 0.000013676824461798193,\n",
        "#     \"alpha_l2\": 0.00033893444673716635,\n",
        "#     \"steps\": 15,\n",
        "#     \"use_alpha_explicit\": True,\n",
        "#     \"alpha\": 1.3993875391250798,       # коэффициент к eps/steps (см. ниже)\n",
        "#     \"proj\": \"none\",\n",
        "#     \"proj_equal_eps\": False,\n",
        "#     \"rand_init\": True,\n",
        "#     \"bpda\": True,\n",
        "#     \"use_sign\": False,\n",
        "#     \"momentum_mu\": 0.9481329192026788,\n",
        "#     \"step_normalize\": None,\n",
        "#     \"step_noise_std\": 0.0034496160170700532,\n",
        "#     \"victim_eval\": False,\n",
        "#     \"hidden_dim\": 64,\n",
        "# }\n",
        "best = {'eps': 0.3951928744395862,\n",
        "         'lr': 0.0006180267696054032,\n",
        "         'alpha_l2': 0.00019513735579565044,\n",
        "         'steps': 13, 'use_alpha_explicit': False, \n",
        "         'proj': 'none', 'proj_equal_eps': True, 'rand_init': True, 'bpda': False, \n",
        "         'use_sign': False, 'momentum_mu': 0.8785765938958393, 'step_normalize': None, \n",
        "         'step_noise_std': 0.004224670729218012, 'victim_eval': True, 'hidden_dim': 128}\n",
        "best['alpha'] = None\n",
        "\n",
        "alpha_explicit = None\n",
        "\n",
        "val_loss, val_acc = train_attack_iter(\n",
        "    attacker=attacker,\n",
        "    victim=target,\n",
        "    loader=train_dl,\n",
        "\n",
        "    eps=best[\"eps\"],\n",
        "    steps=best[\"steps\"],\n",
        "    alpha=alpha_explicit,\n",
        "    epochs=10,\n",
        "    lr=best[\"lr\"],\n",
        "    alpha_l2=best[\"alpha_l2\"],\n",
        "\n",
        "    lambda_disc=0.0,                          # disc=None → без компоненты дискриминатора\n",
        "    disc=disc,\n",
        "    device=device,\n",
        "    patience=8,\n",
        "\n",
        "    # Базовые флаги совместимости\n",
        "    data_clamp=None,\n",
        "    rand_init=best[\"rand_init\"],\n",
        "    use_sign=best[\"use_sign\"],\n",
        "    equal_eps=best[\"proj_equal_eps\"],         # для совместимости; реальный флаг ниже\n",
        "    bpda=best[\"bpda\"],\n",
        "    verbose=True,\n",
        "\n",
        "    # Новые расширенные флаги из обновлённого тренера\n",
        "    proj=best[\"proj\"],                        # \"none\"\n",
        "    proj_equal_eps=best[\"proj_equal_eps\"],    # False\n",
        "    momentum_mu=best[\"momentum_mu\"],          # MI-FGSM momentum\n",
        "    step_normalize=best[\"step_normalize\"],    # \"linf\"\n",
        "    step_noise_std=best[\"step_noise_std\"],    # небольшой шум шага\n",
        "    victim_eval=best[\"victim_eval\"],          # False (нужно для cudnn-RNN backward)\n",
        "    grad_clip=None,                            # безопасное ограничение градиента\n",
        ")\n",
        "\n",
        "print(f\"[done] val_loss={val_loss:.4f}  |  val_acc(after attack)={val_acc:.4f}\")\n",
        "\n"
      ]
    },
    {
      "cell_type": "code",
      "execution_count": 186,
      "id": "15529377",
      "metadata": {},
      "outputs": [],
      "source": [
        "\n",
        "#* -------------------------------------------------\n",
        "#* light version of ModelIterAttack\n",
        "#* -------------------------------------------------\n",
        "# # attacker = attack_LSTM(hidden_dim=64, dropout=0.6, x_dim=1, activation_type='tanh').to(device)\n",
        "\n",
        "# # attacker = AttackCNN(hidden_dim=64, x_dim=1, activation_type='tanh').to(device)\n",
        "# # attacker.load_state_dict(atk_resCNN.state_dict())\n",
        "\n",
        "# attacker = AttackPatchTST(hidden_dim=256, x_dim=1, activation_type='tanh', patch_kwargs=patch_params).to(device)\n",
        "# attacker.load_state_dict(atk_PatchTST.state_dict())\n",
        "\n",
        "# # eps_LSTM = 1.371353\n",
        "# # train_atk_model(atk_LSTM,\n",
        "# #                 clf_LSTM,\n",
        "# #                 train_dl,\n",
        "# #                 eps=eps_LSTM,\n",
        "# #                 epochs=20,\n",
        "# #                 lr=0.01749500,\n",
        "# #                 alpha_l2=0.00068663089588,\n",
        "# #                 device=device,\n",
        "# #                 patience=9\n",
        "\n",
        "\n",
        "\n",
        "# target = clf_resCNN\n",
        "# # target.eval()\n",
        "# # target.train()\n",
        "# # for p in target.parameters():\n",
        "# #     p.requires_grad_(False)\n",
        "\n",
        "# prepare_victim_for_input_grad(target)\n",
        "\n",
        "# disc = None\n",
        "# eps_iter = 0.5\n",
        "# use_sign = False\n",
        "# steps = 10\n",
        "# equal_eps = False\n",
        "# val_loss, val_acc = train_attack_iter(\n",
        "#     attacker=attacker,\n",
        "#     victim=target,\n",
        "#     loader=train_dl,   # или смешанный train+valid, как тебе удобнее\n",
        "#     eps=eps_iter, steps=steps, alpha=None,\n",
        "#     epochs=40, lr=2e-4,\n",
        "#     alpha_l2=2.8663089588e-3,\n",
        "#     lambda_disc=0.5, disc=disc,   # если нет D → lambda_disc=0, disc=None\n",
        "#     device=device,\n",
        "#     patience=8,\n",
        "#     data_clamp=None,\n",
        "#     rand_init=True, use_sign=use_sign, equal_eps=equal_eps, bpda=True\n",
        "# )\n",
        "\n"
      ]
    },
    {
      "cell_type": "code",
      "execution_count": 53,
      "id": "864e68f4",
      "metadata": {},
      "outputs": [],
      "source": [
        "iter_attack = IterModelAttackk(\n",
        "    attacker=attacker, eps=best['eps'], n_iter=best['steps'], alpha=None,\n",
        "    clamp=None, rand_init=best['rand_init'], use_sign=best['use_sign'],\n",
        "    equal_eps=best['proj_equal_eps'], bpda=best['bpda'],\n",
        "    proj=best['proj'], proj_equal_eps=best['proj_equal_eps'],\n",
        "    data_clamp=None,\n",
        "    momentum_mu=best['momentum_mu'], step_normalize=None,\n",
        "    step_noise_std=best['step_noise_std'],\n",
        ").to(device)\n",
        "\n",
        "eps_iter = best['eps']\n",
        "\n",
        "# iter_attack = DifferentiableModelIterAttack(\n",
        "#     attacker=attacker, eps=best['eps'], n_iter=best['steps'], alpha=None,\n",
        "#     clamp=None, rand_init=best['rand_init'],\n",
        "#     use_sign=best['use_sign'], equal_eps=best['proj_equal_eps'], bpda=best['bpda']\n",
        "# ).to(device)\n"
      ]
    },
    {
      "cell_type": "markdown",
      "id": "7fa68259",
      "metadata": {},
      "source": [
        "#### optuna"
      ]
    },
    {
      "cell_type": "code",
      "execution_count": 54,
      "id": "6b560822",
      "metadata": {},
      "outputs": [],
      "source": [
        "import optuna\n",
        "import torch\n",
        "import random\n",
        "import numpy as np\n",
        "\n",
        "# Фиксация сидов для повторяемости в пределах trial (опционально)\n",
        "def _fix_seeds(seed: int = 42):\n",
        "    random.seed(seed)\n",
        "    np.random.seed(seed)\n",
        "    torch.manual_seed(seed)\n",
        "    torch.cuda.manual_seed_all(seed)\n",
        "\n",
        "def objective(trial):\n",
        "    # ---------- базовые гиперпараметры ----------\n",
        "    eps        = trial.suggest_float(\"eps\",       0.1, 0.5,   log=True)\n",
        "    lr         = trial.suggest_float(\"lr\",        1e-4, 1e-2,  log=True)\n",
        "    alpha_l2   = trial.suggest_float(\"alpha_l2\",  1e-5, 1e-2,  log=True)\n",
        "    steps      = trial.suggest_int  (\"steps\",     5,    20)\n",
        "    # Можно явно перебирать alpha; если None, train_attack_iter сам возьмёт ~ eps/steps\n",
        "    use_alpha  = trial.suggest_categorical(\"use_alpha_explicit\", [False, True])\n",
        "    alpha_val  = trial.suggest_float(\"alpha\", 0.25, 2.0) if use_alpha else None\n",
        "    alpha      = (alpha_val * eps / max(1, steps)) if use_alpha else None\n",
        "\n",
        "    # ---------- флаги и расширенные настройки ----------\n",
        "    proj          = trial.suggest_categorical(\"proj\", [\"none\", \"linf\", \"l2\"])\n",
        "    proj_equal    = trial.suggest_categorical(\"proj_equal_eps\", [False, True])\n",
        "    rand_init     = trial.suggest_categorical(\"rand_init\", [True, False])\n",
        "    bpda          = trial.suggest_categorical(\"bpda\", [True, False])\n",
        "    # data_clamp    = trial.suggest_categorical(\"data_clamp\", [None, (-1.0, 1.0)])\n",
        "    data_clamp    = None\n",
        "    use_sign      = trial.suggest_categorical(\"use_sign\", [False, True])  # шаг по sign(...) или по tanh(...)\n",
        "    # Momentum и нормировка шага (MI-FGSM идеи)\n",
        "    momentum_mu   = trial.suggest_float(\"momentum_mu\", 0.0, 0.95)\n",
        "    step_norm     = trial.suggest_categorical(\"step_normalize\", [None, \"meanabs\", \"l2\", \"linf\"])\n",
        "    step_noise    = trial.suggest_float(\"step_noise_std\", 0.0, 0.01)\n",
        "\n",
        "    # Режим victim-а (BN/Dropout фиксируем для стабильности сигнала)\n",
        "    victim_eval   = trial.suggest_categorical(\"victim_eval\", [True, False])\n",
        "\n",
        "    # ---------- инициализация атакующей сети ----------\n",
        "    _fix_seeds(127 + trial.number)\n",
        "    # Вариант: брать размер скрытого слоя из набора (если нужно)\n",
        "    hidden_dim = trial.suggest_categorical(\"hidden_dim\", [64, 128])\n",
        "\n",
        "    # Способ 1: создать и загрузить state_dict (как у тебя в примере)\n",
        "    # attacker = AttackCNN(hidden_dim=hidden_dim, x_dim=1, activation_type='tanh').to(device)\n",
        "    attacker = AttackPatchTST(hidden_dim=256, x_dim=1, activation_type='tanh', patch_kwargs=patch_params).to(device)\n",
        "    # Если у тебя есть готовые веса atk_resCNN — загрузи их (иначе закомментируй строку ниже)\n",
        "    # try:\n",
        "    #     attacker.load_state_dict(atk_PatchTST.state_dict())\n",
        "    # except Exception:\n",
        "    #     pass  # если нет — просто продолжим с инициализацией по умолчанию\n",
        "\n",
        "    # ---------- жертва и (опц.) дискриминатор ----------\n",
        "    target = clf_resCNN   # можно подменить на другой victim\n",
        "    disc = None         # или подставить свой дискриминатор (и добавить lambda_disc > 0)\n",
        "    lambda_disc = 0.0\n",
        "\n",
        "    # ---------- запуск обучения итеративного атакёра ----------\n",
        "    val_loss, val_acc = train_attack_iter(\n",
        "        attacker=attacker,\n",
        "        victim=target,\n",
        "        loader=train_dl,\n",
        "        eps=eps,\n",
        "        steps=steps,\n",
        "        alpha=alpha,\n",
        "        epochs=40,              # при длинной оптимизации можно сделать 15–30 для ускорения\n",
        "        lr=lr,\n",
        "        alpha_l2=alpha_l2,\n",
        "        lambda_disc=lambda_disc,\n",
        "        disc=disc,\n",
        "        device=device,\n",
        "        patience=8,\n",
        "        data_clamp=data_clamp,          # None или (-1,1)\n",
        "        rand_init=rand_init,\n",
        "        use_sign=use_sign,\n",
        "        equal_eps=proj_equal,           # прошлый флаг; в нашем тренере есть proj_equal_eps\n",
        "        bpda=bpda,\n",
        "        verbose=False,\n",
        "        # новые флаги\n",
        "        proj=proj,\n",
        "        proj_equal_eps=proj_equal,\n",
        "        momentum_mu=momentum_mu,\n",
        "        step_normalize=step_norm,\n",
        "        step_noise_std=step_noise,\n",
        "        victim_eval=victim_eval,\n",
        "        grad_clip=1.0,                  # можно затюнить/выключить\n",
        "    )\n",
        "\n",
        "    # Хотим МИНИМИЗИРОВАТЬ точность после атаки (делаем атаку сильнее)\n",
        "    return val_acc\n",
        "\n",
        "# Пример запуска исследования:\n",
        "# - направление minimize, т.к. цель — минимизировать accuracy после атаки\n",
        "# study = optuna.create_study(\n",
        "#     direction=\"minimize\",\n",
        "#     sampler=optuna.samplers.TPESampler(seed=42),\n",
        "#     pruner=optuna.pruners.MedianPruner(n_warmup_steps=3),\n",
        "# )\n",
        "\n",
        "# # Ограничь число trial/время под свою машину\n",
        "# study.optimize(objective, n_trials=50, timeout=4*60*45)\n",
        "\n",
        "# print(\"BEST PARAMS:\", study.best_params)\n",
        "# print(\"BEST VALUE (min val_acc):\", study.best_value)\n"
      ]
    },
    {
      "cell_type": "code",
      "execution_count": 55,
      "id": "e588af89",
      "metadata": {},
      "outputs": [],
      "source": [
        "\n",
        "#* -------------------------------------------------\n",
        "#* light version of ModelIterAttack\n",
        "#* -------------------------------------------------\n",
        "def objective(trial):\n",
        "    eps = trial.suggest_float(\"eps\",    0.01, 0.5,    log=True)\n",
        "    lr  = trial.suggest_float(\"lr\",     1e-3, 1e-2,   log=True)\n",
        "    alpha_l2  = trial.suggest_float(\"alpha_l2\", 1e-5, 1e-2, log=True)\n",
        "    # patience  = trial.suggest_int(\"patience\", 3, 10)\n",
        "    hidden_dim = trial.suggest_categorical(\"hidden_dim\", [64, 128])\n",
        "    steps = trial.suggest_int(\"steps\", 5, 20)\n",
        "\n",
        "\n",
        "    # attacker = AttackCNN(hidden_dim=hidden_dim, x_dim=1, activation_type='tanh').to(device)\n",
        " \n",
        "    # Способ 1: через state_dict (более эффективный для больших моделей)\n",
        "    attacker = AttackCNN(hidden_dim=64, x_dim=1, activation_type='tanh').to(device)\n",
        "    attacker.load_state_dict(atk_resCNN.state_dict())\n",
        "   \n",
        "\n",
        "    target = clf_LSTM\n",
        "    prepare_victim_for_input_grad(target)\n",
        "    disc = None\n",
        "    val_loss, val_acc = train_attack_iter(\n",
        "        attacker=attacker,\n",
        "        victim=target,\n",
        "        loader=train_dl,   # или смешанный train+valid, как тебе удобнее\n",
        "        eps=eps, steps=steps, alpha=None,\n",
        "        epochs=50, lr=lr,\n",
        "        alpha_l2=alpha_l2,\n",
        "        lambda_disc=0.5, disc=disc,   # если нет D → lambda_disc=0, disc=None\n",
        "        device=device,\n",
        "        patience=8,\n",
        "        data_clamp=None,\n",
        "        rand_init=False, use_sign=False, equal_eps=False, bpda=True\n",
        "    )\n",
        "\n",
        "\n",
        "    return val_acc\n",
        "\n",
        "# study = optuna.create_study(direction=\"minimize\", sampler=optuna.samplers.TPESampler(),\n",
        "#                             pruner=optuna.pruners.MedianPruner(n_warmup_steps=3))\n",
        "# study.optimize(objective, n_trials=50, timeout=60*60)\n",
        "# print(\"BEST PARAMS:\", study.best_params)\n"
      ]
    },
    {
      "cell_type": "markdown",
      "id": "Bvem0V2fh_3P",
      "metadata": {
        "id": "Bvem0V2fh_3P"
      },
      "source": [
        "## Сomparison of attacks"
      ]
    },
    {
      "cell_type": "markdown",
      "id": "db625761",
      "metadata": {
        "id": "db625761"
      },
      "source": [
        "### Metrics"
      ]
    },
    {
      "cell_type": "code",
      "execution_count": 56,
      "id": "06a33e27",
      "metadata": {
        "id": "06a33e27"
      },
      "outputs": [],
      "source": [
        "def preds_to_labels(logits: torch.Tensor) -> torch.Tensor:\n",
        "    return logits.argmax(dim=1)\n",
        "\n",
        "def fooling_rate(model, loader, attack, device='cpu'):\n",
        "    # model.eval()\n",
        "    model.train()\n",
        "    for param in model.parameters():\n",
        "      param.requires_grad_(False)\n",
        "    fooled, total = 0, 0\n",
        "    with torch.no_grad():\n",
        "        for x, y in loader:\n",
        "            x, y = x.to(device), y.to(device)\n",
        "            preds_orig = preds_to_labels(model(x))\n",
        "    fooled, total = 0, 0\n",
        "    for x, y in loader:\n",
        "        x, y = x.to(device), y.to(device)\n",
        "        preds_orig = preds_to_labels(model(x).detach())\n",
        "        x_adv = attack(model, x, y)\n",
        "        preds_adv = preds_to_labels(model(x_adv).detach())\n",
        "        fooled += (preds_adv != preds_orig).sum().item()\n",
        "        total += x.size(0)\n",
        "    return fooled / total\n"
      ]
    },
    {
      "cell_type": "code",
      "execution_count": 57,
      "id": "b485d917",
      "metadata": {
        "id": "b485d917"
      },
      "outputs": [],
      "source": [
        "\n",
        "def efficiency_rate(model, loader, attack, device='cpu'):\n",
        "    # model.eval()\n",
        "    model.train()\n",
        "    for param in model.parameters():\n",
        "      param.requires_grad_(False)\n",
        "    true_positives = 0\n",
        "    false_positives = 0\n",
        "    false_negatives = 0\n",
        "\n",
        "    for x, y in loader:\n",
        "        x, y = x.to(device), y.to(device)\n",
        "        x_adv = attack(model, x, y)\n",
        "\n",
        "        with torch.no_grad():\n",
        "            logits_adv = model(x_adv)\n",
        "            preds_adv = logits_adv.argmax(dim=1)\n",
        "\n",
        "        true_positives += ((preds_adv == 1) & (y == 1)).sum().item()\n",
        "        false_positives += ((preds_adv == 1) & (y == 0)).sum().item()\n",
        "        false_negatives += ((preds_adv == 0) & (y == 1)).sum().item()\n",
        "\n",
        "    precision = true_positives / (true_positives + false_positives + 1e-10)\n",
        "    recall = true_positives / (true_positives + false_negatives + 1e-10)\n",
        "\n",
        "    f1 = 2 * (precision * recall) / (precision + recall + 1e-10)\n",
        "    return 1 - f1\n"
      ]
    },
    {
      "cell_type": "code",
      "execution_count": 58,
      "id": "d32221d5",
      "metadata": {
        "id": "d32221d5"
      },
      "outputs": [],
      "source": [
        "\n",
        "def accuracy_after_attack(model, loader, attack, device='cpu'):\n",
        "    # model.eval()\n",
        "    model.train()\n",
        "    for param in model.parameters():\n",
        "      param.requires_grad_(False)\n",
        "    correct = 0\n",
        "    total = 0\n",
        "\n",
        "    for x, y in loader:\n",
        "        x, y = x.to(device), y.to(device)\n",
        "        x_adv = attack(model, x, y)\n",
        "\n",
        "        with torch.no_grad():\n",
        "            logits_adv = model(x_adv)\n",
        "            preds_adv = logits_adv.argmax(dim=1)\n",
        "\n",
        "        correct += (preds_adv == y).sum().item()\n",
        "        total += y.size(0)\n",
        "\n",
        "    accuracy = correct / total\n",
        "    return accuracy\n",
        "\n"
      ]
    },
    {
      "cell_type": "markdown",
      "id": "bf33a630",
      "metadata": {
        "id": "bf33a630"
      },
      "source": [
        "### Estimation of efficiency"
      ]
    },
    {
      "cell_type": "code",
      "execution_count": 59,
      "id": "9012376a",
      "metadata": {
        "id": "9012376a"
      },
      "outputs": [],
      "source": [
        "eps_FGSM = 1\n",
        "fgsm_attack  = FGSMAttack(eps_FGSM)\n",
        "ifgsm_attack = iFGSMAttack(eps=eps_FGSM, n_iter=60)\n",
        "\n",
        "mba_LSTM = ModelBasedAttack(atk_LSTM, eps_LSTM)\n",
        "mba_resCNN = ModelBasedAttack(atk_resCNN, eps_resCNN)\n",
        "mba_PatchTST = ModelBasedAttack(atk_PatchTST, eps_PatchTST)\n",
        "\n",
        "mba_iter = ModelBasedAttack(iter_attack, eps_iter, is_iter=True)"
      ]
    },
    {
      "cell_type": "code",
      "execution_count": 60,
      "id": "c15ba90c",
      "metadata": {
        "colab": {
          "base_uri": "https://localhost:8080/"
        },
        "id": "c15ba90c",
        "outputId": "bd5fb3d3-7665-425e-ae97-6da811b28072"
      },
      "outputs": [
        {
          "name": "stdout",
          "output_type": "stream",
          "text": [
            "1 1.371353 1.9910549963365909 1.52738926 0.3951928744395862\n"
          ]
        }
      ],
      "source": [
        "print(eps_FGSM, eps_LSTM, eps_resCNN, eps_PatchTST, eps_iter)"
      ]
    },
    {
      "cell_type": "code",
      "execution_count": 61,
      "id": "48475259",
      "metadata": {
        "id": "48475259"
      },
      "outputs": [],
      "source": [
        "estimation_dl = train_dl\n",
        "\n",
        "attacks = {'Unattacked': lambda model, x, y: x,\n",
        "           'FGSM': fgsm_attack,\n",
        "           'iFGSM10nonrand02': iFGSMAttack(eps=eps_FGSM, n_iter=10, rand_init=False, momentum=0.2),\n",
        "           'LSTM': mba_LSTM,\n",
        "           'resCNN': mba_resCNN,\n",
        "           'PatchTST': mba_PatchTST,\n",
        "           'iter': mba_iter}\n"
      ]
    },
    {
      "cell_type": "markdown",
      "id": "ab48d3a3",
      "metadata": {
        "id": "ab48d3a3"
      },
      "source": [
        "#### attacks on LSTM classifier"
      ]
    },
    {
      "cell_type": "code",
      "execution_count": 62,
      "id": "4381ab74",
      "metadata": {
        "colab": {
          "base_uri": "https://localhost:8080/"
        },
        "id": "4381ab74",
        "outputId": "fca01a91-e121-46e8-9167-4b4183daea15"
      },
      "outputs": [
        {
          "name": "stdout",
          "output_type": "stream",
          "text": [
            "Unattacked   fooling rate:  0.000,  efficiency metric:  0.072,  target accuracy after attack:  0.928\n",
            "FGSM         fooling rate:  0.822,  efficiency metric:  0.809,  target accuracy after attack:  0.106\n",
            "iFGSM10nonrand02 fooling rate:  0.817,  efficiency metric:  0.800,  target accuracy after attack:  0.111\n",
            "LSTM         fooling rate:  0.494,  efficiency metric:  0.333,  target accuracy after attack:  0.500\n",
            "resCNN       fooling rate:  0.883,  efficiency metric:  0.860,  target accuracy after attack:  0.111\n",
            "PatchTST     fooling rate:  0.889,  efficiency metric:  0.925,  target accuracy after attack:  0.039\n",
            "iter         fooling rate:  0.867,  efficiency metric:  0.818,  target accuracy after attack:  0.100\n"
          ]
        }
      ],
      "source": [
        "\n",
        "clf_model = clf_LSTM\n",
        "for name, atk in attacks.items():\n",
        "    fl_rate = fooling_rate(clf_model, estimation_dl, atk, device=device)\n",
        "    ef_rate = efficiency_rate(clf_model, estimation_dl, atk, device=device)\n",
        "    acc = accuracy_after_attack(clf_model, estimation_dl, atk, device=device)\n",
        "    print(f'{name:<12} fooling rate:  {fl_rate:.3f},  efficiency metric:  {ef_rate:.3f},  target accuracy after attack:  {acc:.3f}')"
      ]
    },
    {
      "cell_type": "markdown",
      "id": "ecca2b98",
      "metadata": {
        "id": "ecca2b98"
      },
      "source": [
        "#### attacks on ResCNN classifier"
      ]
    },
    {
      "cell_type": "code",
      "execution_count": 63,
      "id": "77599aaa",
      "metadata": {
        "colab": {
          "base_uri": "https://localhost:8080/"
        },
        "id": "77599aaa",
        "outputId": "d83c76d3-b673-4ad9-9970-51689ba1e3e4"
      },
      "outputs": [
        {
          "name": "stdout",
          "output_type": "stream",
          "text": [
            "Unattacked   fooling rate:  0.000,  efficiency metric:  0.121,  target accuracy after attack:  0.867\n",
            "FGSM         fooling rate:  0.550,  efficiency metric:  0.520,  target accuracy after attack:  0.239\n",
            "iFGSM10nonrand02 fooling rate:  0.739,  efficiency metric:  0.774,  target accuracy after attack:  0.139\n",
            "LSTM         fooling rate:  0.000,  efficiency metric:  0.120,  target accuracy after attack:  0.883\n",
            "resCNN       fooling rate:  0.894,  efficiency metric:  0.808,  target accuracy after attack:  0.200\n",
            "PatchTST     fooling rate:  0.828,  efficiency metric:  0.915,  target accuracy after attack:  0.039\n",
            "iter         fooling rate:  0.822,  efficiency metric:  0.800,  target accuracy after attack:  0.106\n"
          ]
        }
      ],
      "source": [
        "clf_model = clf_resCNN\n",
        "for name, atk in attacks.items():\n",
        "    fl_rate = fooling_rate(clf_model, estimation_dl, atk, device=device)\n",
        "    ef_rate = efficiency_rate(clf_model, estimation_dl, atk, device=device)\n",
        "    acc = accuracy_after_attack(clf_model, estimation_dl, atk, device=device)\n",
        "    print(f'{name:<12} fooling rate:  {fl_rate:.3f},  efficiency metric:  {ef_rate:.3f},  target accuracy after attack:  {acc:.3f}')"
      ]
    },
    {
      "cell_type": "markdown",
      "id": "c47ed63f",
      "metadata": {
        "id": "c47ed63f"
      },
      "source": [
        "### Vizualization of adversarial samples"
      ]
    },
    {
      "cell_type": "code",
      "execution_count": 64,
      "id": "822dbbc8",
      "metadata": {},
      "outputs": [
        {
          "data": {
            "image/png": "[encoded data removed]",
            "text/plain": [
              "<Figure size 800x300 with 1 Axes>"
            ]
          },
          "metadata": {},
          "output_type": "display_data"
        },
        {
          "data": {
            "image/png": "[encoded data removed]",
            "text/plain": [
              "<Figure size 800x300 with 1 Axes>"
            ]
          },
          "metadata": {},
          "output_type": "display_data"
        },
        {
          "data": {
            "image/png": "[encoded data removed]",
            "text/plain": [
              "<Figure size 800x300 with 1 Axes>"
            ]
          },
          "metadata": {},
          "output_type": "display_data"
        }
      ],
      "source": [
        "N_EXAMPLES = 3\n",
        "FILTER = [2,3]\n",
        "MBA_ATTACKS = [[mba_LSTM, mba_resCNN, mba_PatchTST, mba_iter][i] for i in FILTER]\n",
        "\n",
        "# выбираем batch-и, вытаскиваем по одному примеру\n",
        "chosen = []\n",
        "for xb, yb in test_dl:\n",
        "    for i in range(xb.size(0)):\n",
        "        chosen.append((xb[i], yb[i]))\n",
        "    if len(chosen) >= 50:       # достаточно выборки для случайного выбора\n",
        "        break\n",
        "\n",
        "examples = random.sample(chosen, N_EXAMPLES)\n",
        "\n",
        "for sample_idx, (x_orig, y_lbl) in enumerate(examples, 1):\n",
        "    x_orig = x_orig.to(device).unsqueeze(0)\n",
        "    y_lbl_tensor = torch.tensor([y_lbl], device=device)  # создаем тензор для label\n",
        "    x_np = x_orig.squeeze().cpu().numpy()\n",
        "    x_adv_np_list = []\n",
        "    \n",
        "    for i, mba_attack in enumerate(MBA_ATTACKS):\n",
        "\n",
        "        dummy_model = None  # или можно передать любую модель\n",
        "        x_adv = mba_attack(dummy_model, x_orig, y_lbl_tensor)\n",
        "        x_adv_np_list.append(x_adv.squeeze().cpu().numpy())\n",
        "\n",
        "    plt.figure(figsize=(8, 3))\n",
        "    plt.plot(x_np, label='Orig', linewidth=1)\n",
        "    for i, x_adv_np in enumerate(x_adv_np_list):\n",
        "        # Получаем имя класса внутреннего атакера\n",
        "        attack_name = MBA_ATTACKS[i].attacker.__class__.__name__\n",
        "        plt.plot(x_adv_np, label=f'{attack_name}', linewidth=1)\n",
        "    plt.title(f'Sample {sample_idx} (label={int(y_lbl)})')\n",
        "    plt.xlabel('Time step')\n",
        "    plt.ylabel('Value')\n",
        "    plt.legend()\n",
        "    plt.tight_layout()\n",
        "    plt.show()"
      ]
    },
    {
      "cell_type": "code",
      "execution_count": 65,
      "id": "acc3812b",
      "metadata": {
        "colab": {
          "base_uri": "https://localhost:8080/",
          "height": 942
        },
        "id": "acc3812b",
        "outputId": "4196fb11-c044-45a1-fd47-af7ac38de7f9"
      },
      "outputs": [
        {
          "name": "stdout",
          "output_type": "stream",
          "text": [
            "FGSM            target accuracy after attack:  0.061\n",
            "iFGSM5nonrand   target accuracy after attack:  0.072\n",
            "iFGSM50nonrand  target accuracy after attack:  0.072\n"
          ]
        },
        {
          "data": {
            "image/png": "[encoded data removed]",
            "text/plain": [
              "<Figure size 800x300 with 1 Axes>"
            ]
          },
          "metadata": {},
          "output_type": "display_data"
        },
        {
          "data": {
            "image/png": "[encoded data removed]",
            "text/plain": [
              "<Figure size 800x300 with 1 Axes>"
            ]
          },
          "metadata": {},
          "output_type": "display_data"
        },
        {
          "data": {
            "image/png": "[encoded data removed]",
            "text/plain": [
              "<Figure size 800x300 with 1 Axes>"
            ]
          },
          "metadata": {},
          "output_type": "display_data"
        }
      ],
      "source": [
        "N_EXAMPLES = 3\n",
        "\n",
        "EPS = 1\n",
        "test_loader = test_dl\n",
        "clf_model = clf_LSTM\n",
        "\n",
        "attacks = { 'FGSM': fgsm_attack,\n",
        "        #    'iFGSM_2_00': iFGSMAttack(eps=EPS, n_iter=2, momentum=0.0),\n",
        "        #    'iFGSM_2_03': iFGSMAttack(eps=EPS, n_iter=2, momentum=0.3),\n",
        "        #    'iFGSM_2_07': iFGSMAttack(eps=EPS, n_iter=20, momentum=0.7),\n",
        "        #    'iFGSM_5_00': iFGSMAttack(eps=EPS, n_iter=5, momentum=0.0),\n",
        "        #    'iFGSM_5_03': iFGSMAttack(eps=EPS, n_iter=5, momentum=0.3),\n",
        "        #    'iFGSM_5_07': iFGSMAttack(eps=EPS, n_iter=5, momentum=0.7),\n",
        "\n",
        "        'iFGSM5nonrand': iFGSMAttack(eps=EPS, n_iter=5, rand_init=False, momentum=0.6),\n",
        "        'iFGSM50nonrand': iFGSMAttack(eps=EPS, n_iter=50, rand_init=False, momentum=0.0),\n",
        "           }\n",
        "\n",
        "\n",
        "idx = 7\n",
        "for name, atk in attacks.items():\n",
        "    fl_rate = -999\n",
        "    ef_rate = -999\n",
        "    # fl_rate = fooling_rate(model, test_loader, atk, device=device)\n",
        "    # ef_rate = efficiency_rate(model, test_dl, atk, device=device)\n",
        "    acc = accuracy_after_attack(clf_model, test_dl, atk, device=device)\n",
        "    print(f'{name:<15} target accuracy after attack:  {acc:.3f}')\n",
        "\n",
        "\n",
        "    x_orig = test_ds[idx][0].to(device)\n",
        "    y_orig = test_ds[idx][1].to(device)\n",
        "\n",
        "    x_orig = x_orig.unsqueeze(0)\n",
        "    y_orig = y_orig.unsqueeze(0)\n",
        "\n",
        "    x_adv = atk(clf_model, x_orig, y_orig)\n",
        "\n",
        "    x_adv_np = x_adv[0].cpu().numpy()\n",
        "    x_np = x_orig[0].cpu().numpy()\n",
        "\n",
        "    # отдельный plot для каждой пары\n",
        "    plt.figure(figsize=(8, 3))\n",
        "    plt.plot(x_np,     label='Original', linewidth=1)\n",
        "    plt.plot(x_adv_np, label=f'Adversarial', linewidth=1)\n",
        "    plt.title(f'{name} (label={int(y_orig)})')\n",
        "    plt.xlabel('Time step')\n",
        "    plt.ylabel('Value')\n",
        "    plt.legend()\n",
        "    plt.tight_layout()\n",
        "plt.show()\n",
        "\n",
        "\n",
        "\n"
      ]
    }
  ],
  "metadata": {
    "accelerator": "GPU",
    "colab": {
      "gpuType": "T4",
      "provenance": [],
      "toc_visible": true
    },
    "kernelspec": {
      "display_name": "DataSphere Kernel",
      "language": "python",
      "name": "python3"
    },
    "language_info": {
      "codemirror_mode": {
        "name": "ipython",
        "version": 3
      },
      "file_extension": ".py",
      "mimetype": "text/x-python",
      "name": "python",
      "nbconvert_exporter": "python",
      "pygments_lexer": "ipython3",
      "version": "3.10.12"
    }
  },
  "nbformat": 4,
  "nbformat_minor": 5
}

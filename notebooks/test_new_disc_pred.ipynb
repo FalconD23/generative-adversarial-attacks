{
 "cells": [
  {
   "cell_type": "code",
   "execution_count": 4,
   "metadata": {},
   "outputs": [],
   "source": [
    "# changing core directory\n",
    "import os, sys\n",
    "dir2 = os.path.abspath('')\n",
    "dir1 = os.path.dirname(dir2)\n",
    "if not dir1 in sys.path:\n",
    "    sys.path.append(dir1)\n",
    "os.chdir('..')"
   ]
  },
  {
   "cell_type": "code",
   "execution_count": 5,
   "metadata": {},
   "outputs": [
    {
     "name": "stderr",
     "output_type": "stream",
     "text": [
      "CUDA extension for structured kernels (Cauchy and Vandermonde multiplication) not found. Install by going to extensions/kernels/ and running `python setup.py install`, for improved speed and memory efficiency. Note that the kernel changed for state-spaces 4.0 and must be recompiled.\n",
      "Falling back on slow Cauchy and Vandermonde kernel. Install at least one of pykeops or the CUDA extension for better speed and memory efficiency.\n"
     ]
    }
   ],
   "source": [
    "import warnings\n",
    "\n",
    "import hydra\n",
    "import pandas as pd\n",
    "import torch\n",
    "from omegaconf import DictConfig\n",
    "from torch.utils.data import DataLoader\n",
    "\n",
    "from src.config import *\n",
    "from src.data import MyDataset, load_data, transform_data\n",
    "from src.estimation.estimators import AttackEstimator\n",
    "from src.utils import save_experiment"
   ]
  },
  {
   "cell_type": "code",
   "execution_count": 22,
   "metadata": {},
   "outputs": [],
   "source": [
    "dataset = 'PowerCons'\n",
    "\n",
    "cfg = {\n",
    "    'slice': True,\n",
    "    'dataset': dataset,\n",
    "    'batch_size': 16,\n",
    "    'cuda': 'cuda:1',\n",
    "    'train_mode': True,\n",
    "    'model_folder': f'checkpoints/LSTM/{dataset}/',\n",
    "    \"model_id_attack\": 0,\n",
    "}"
   ]
  },
  {
   "cell_type": "code",
   "execution_count": 23,
   "metadata": {},
   "outputs": [],
   "source": [
    "X_train, y_train, X_test, y_test = load_data(cfg[\"dataset\"])\n",
    "X_train, X_test, y_train, y_test = transform_data(\n",
    "    X_train, X_test, y_train, y_test, slice_data=cfg[\"slice\"]\n",
    ")\n",
    "\n",
    "test_loader = DataLoader(\n",
    "    MyDataset(X_test, y_test), batch_size=cfg[\"batch_size\"], shuffle=False\n",
    ")\n",
    "\n",
    "device = torch.device(cfg[\"cuda\"] if torch.cuda.is_available() else \"cpu\")"
   ]
  },
  {
   "cell_type": "code",
   "execution_count": 24,
   "metadata": {},
   "outputs": [],
   "source": [
    "from src.models import S4"
   ]
  },
  {
   "cell_type": "code",
   "execution_count": 25,
   "metadata": {},
   "outputs": [
    {
     "data": {
      "text/plain": [
       "<All keys matched successfully>"
      ]
     },
     "execution_count": 25,
     "metadata": {},
     "output_type": "execute_result"
    }
   ],
   "source": [
    "path_new = '/cephfs/projects/danikin/aa/HAA/results/PowerCons/S4/discriminator/fgsm_attack_NEW_CODE/fgsm_attack_eps=0.015_nsteps=10/0.pth'\n",
    "model_new = S4()\n",
    "model_new.load_state_dict(torch.load(path_new))\n",
    "\n",
    "path_old = '/cephfs/projects/danikin/aa/HAA/results/PowerCons/S4/discriminator/fgsm_attack/fgsm_attack_eps=0.015_nsteps=10/0.pt'\n",
    "model_old = S4()\n",
    "model_old.load_state_dict(torch.load(path_old))"
   ]
  },
  {
   "cell_type": "code",
   "execution_count": 30,
   "metadata": {},
   "outputs": [],
   "source": [
    "batch_test = next(iter(test_loader))[0]\n",
    "\n",
    "preds_old = model_old(batch_test)\n",
    "preds_new = model_new(batch_test)"
   ]
  },
  {
   "cell_type": "code",
   "execution_count": null,
   "metadata": {},
   "outputs": [],
   "source": []
  },
  {
   "cell_type": "code",
   "execution_count": 32,
   "metadata": {},
   "outputs": [
    {
     "data": {
      "text/plain": [
       "tensor([0.1322, 0.2022, 0.2208, 0.1682, 0.1672, 0.2354, 0.0765, 0.0354, 0.1767,\n",
       "        0.4497, 0.0785, 0.1111, 0.0915, 0.0099, 0.5941, 0.1097],\n",
       "       grad_fn=<ReshapeAliasBackward0>)"
      ]
     },
     "execution_count": 32,
     "metadata": {},
     "output_type": "execute_result"
    }
   ],
   "source": [
    "preds_old.flatten()"
   ]
  },
  {
   "cell_type": "code",
   "execution_count": 33,
   "metadata": {},
   "outputs": [
    {
     "data": {
      "text/plain": [
       "tensor([8.1368e-05, 2.7308e-03, 8.1536e-06, 1.4556e-01, 7.4403e-04, 9.6761e-05,\n",
       "        1.8732e-03, 1.5805e-02, 1.1709e-02, 3.6868e-03, 5.1837e-02, 2.8508e-01,\n",
       "        6.9866e-04, 6.1233e-03, 5.4843e-04, 7.6458e-06],\n",
       "       grad_fn=<ReshapeAliasBackward0>)"
      ]
     },
     "execution_count": 33,
     "metadata": {},
     "output_type": "execute_result"
    }
   ],
   "source": [
    "preds_new.flatten()"
   ]
  },
  {
   "cell_type": "code",
   "execution_count": null,
   "metadata": {},
   "outputs": [],
   "source": []
  }
 ],
 "metadata": {
  "kernelspec": {
   "display_name": "base",
   "language": "python",
   "name": "python3"
  },
  "language_info": {
   "codemirror_mode": {
    "name": "ipython",
    "version": 3
   },
   "file_extension": ".py",
   "mimetype": "text/x-python",
   "name": "python",
   "nbconvert_exporter": "python",
   "pygments_lexer": "ipython3",
   "version": "3.8.8"
  }
 },
 "nbformat": 4,
 "nbformat_minor": 2
}

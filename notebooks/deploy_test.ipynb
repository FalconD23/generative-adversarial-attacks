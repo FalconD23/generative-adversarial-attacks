{
 "cells": [
  {
   "cell_type": "markdown",
   "metadata": {},
   "source": [
    "# Preprocessing"
   ]
  },
  {
   "cell_type": "code",
   "execution_count": 1,
   "metadata": {},
   "outputs": [
    {
     "name": "stderr",
     "output_type": "stream",
     "text": [
      "/home/ubnps23/tecHub/AD_intro/advattacks_iitp_summer/a3_env/lib/python3.9/site-packages/tqdm/auto.py:22: TqdmWarning: IProgress not found. Please update jupyter and ipywidgets. See https://ipywidgets.readthedocs.io/en/stable/user_install.html\n",
      "  from .autonotebook import tqdm as notebook_tqdm\n"
     ]
    },
    {
     "name": "stdout",
     "output_type": "stream",
     "text": [
      "cpu\n"
     ]
    }
   ],
   "source": [
    "import torch\n",
    "from torch.utils.data import Dataset, DataLoader\n",
    "import numpy as np\n",
    "\n",
    "import random\n",
    "from pathlib import Path\n",
    "\n",
    "import pandas as pd\n",
    "import matplotlib.pyplot as plt\n",
    "\n",
    "import optuna\n",
    "import os, sys\n",
    "\n",
    "device = 'cuda' if torch.cuda.is_available() else 'cpu'\n",
    "print(device)\n"
   ]
  },
  {
   "cell_type": "code",
   "execution_count": 2,
   "metadata": {},
   "outputs": [
    {
     "name": "stdout",
     "output_type": "stream",
     "text": [
      "attacker_iter_unrolled.pth  \u001b[0m\u001b[01;34mnotebooks\u001b[0m/                  \u001b[01;34msource\u001b[0m/\n",
      "\u001b[01;34mconfig_examples\u001b[0m/            README.md                   surrogate_maxloss.pth\n",
      "\u001b[01;34mdatasets\u001b[0m/                   rescnn_classifier_best.pth\n"
     ]
    }
   ],
   "source": [
    "# changing core directory\n",
    "dir2 = os.path.abspath('')\n",
    "dir1 = os.path.dirname(dir2)\n",
    "if not dir1 in sys.path:\n",
    "    sys.path.append(dir1)\n",
    "os.chdir('..')\n",
    "%ls"
   ]
  },
  {
   "cell_type": "code",
   "execution_count": 3,
   "metadata": {},
   "outputs": [],
   "source": [
    "from source.training.early_stopping import EarlyStopping\n",
    "from source.data.power_cons import load_powercons, PowerConsDataset\n",
    "\n",
    "# from source.training.activation import Activation\n",
    "\n",
    "from source.classifiers.LSTM_Classifier import LSTMClassifier\n",
    "from source.classifiers.ResCNN_Classifier import ResCNNClassifier\n",
    "from source.classifiers.PatchTST_classifier import PatchTSTClassifier\n",
    "from source.training.train_classifier import train_classifier"
   ]
  },
  {
   "cell_type": "code",
   "execution_count": 4,
   "metadata": {},
   "outputs": [],
   "source": [
    "SEED = 1000\n",
    "random.seed(SEED)\n",
    "os.environ[\"PYTHONHASHSEED\"] = str(SEED)\n",
    "np.random.seed(SEED)\n",
    "torch.manual_seed(SEED)\n",
    "torch.cuda.manual_seed_all(SEED)\n",
    "\n",
    "torch.backends.cudnn.deterministic = True\n",
    "torch.backends.cudnn.benchmark = False"
   ]
  },
  {
   "cell_type": "code",
   "execution_count": 5,
   "metadata": {},
   "outputs": [],
   "source": [
    "TRAIN_PATH = Path('datasets/PowerCons_TRAIN.tsv')\n",
    "TEST_PATH = Path('datasets/PowerCons_TEST.tsv')\n",
    "BATCH_SIZE = 64"
   ]
  },
  {
   "cell_type": "markdown",
   "metadata": {},
   "source": [
    "# Dataset preparation"
   ]
  },
  {
   "cell_type": "code",
   "execution_count": 6,
   "metadata": {},
   "outputs": [
    {
     "name": "stdout",
     "output_type": "stream",
     "text": [
      "Train shape: (180, 144, 1) Test shape: (180, 144, 1) n_classes: 2\n"
     ]
    }
   ],
   "source": [
    "X_train, y_train, classes_ = load_powercons(TRAIN_PATH)\n",
    "X_test, y_test, _ = load_powercons(TEST_PATH)\n",
    "n_classes = len(classes_)\n",
    "print('Train shape:', X_train.shape, 'Test shape:', X_test.shape, 'n_classes:', n_classes)"
   ]
  },
  {
   "cell_type": "code",
   "execution_count": 7,
   "metadata": {},
   "outputs": [
    {
     "name": "stdout",
     "output_type": "stream",
     "text": [
      "-1.6031435 6.4025993 -1.6804967 5.9844995\n"
     ]
    }
   ],
   "source": [
    "print(X_train.min(), X_train.max(), X_test.min(), X_test.max())"
   ]
  },
  {
   "cell_type": "code",
   "execution_count": 8,
   "metadata": {},
   "outputs": [],
   "source": [
    "train_ds = PowerConsDataset(X_train, y_train)\n",
    "test_ds = PowerConsDataset(X_test, y_test)\n",
    "train_dl = DataLoader(train_ds, batch_size=BATCH_SIZE, shuffle=True)\n",
    "test_dl = DataLoader(test_ds, batch_size=BATCH_SIZE)"
   ]
  },
  {
   "cell_type": "code",
   "execution_count": 9,
   "metadata": {},
   "outputs": [
    {
     "name": "stdout",
     "output_type": "stream",
     "text": [
      "counts:\n",
      "1    90\n",
      "2    90\n",
      "Name: 0, dtype: int64\n",
      "shares:\n",
      "1    0.5\n",
      "2    0.5\n",
      "Name: 0, dtype: float64\n"
     ]
    },
    {
     "data": {
      "image/png": "[encoded data removed]",
      "text/plain": [
       "<Figure size 640x480 with 1 Axes>"
      ]
     },
     "metadata": {},
     "output_type": "display_data"
    }
   ],
   "source": [
    "# check data-balance\n",
    "df = pd.read_csv(TRAIN_PATH, sep='\\t', header=None)\n",
    "\n",
    "label_counts = df.iloc[:, 0].value_counts().sort_index()\n",
    "print(f'counts:\\n{label_counts}')     \n",
    "print(f'shares:\\n{label_counts / len(df)}')\n",
    "\n",
    "\n",
    "label_counts.plot.bar()\n",
    "plt.title('Class distribution in TRAIN set')\n",
    "plt.xlabel('Class')\n",
    "plt.ylabel('Count')\n",
    "plt.show()\n"
   ]
  },
  {
   "cell_type": "code",
   "execution_count": 10,
   "metadata": {},
   "outputs": [],
   "source": [
    "def seed_worker(worker_id):\n",
    "    worker_seed = SEED + worker_id\n",
    "    np.random.seed(worker_seed)\n",
    "    random.seed(worker_seed)\n",
    "\n",
    "g = torch.Generator()\n",
    "g.manual_seed(SEED)\n",
    "train_dl = DataLoader(train_ds, batch_size=BATCH_SIZE, shuffle=True, num_workers=4, worker_init_fn=seed_worker, generator=g)\n",
    "test_dl = DataLoader(test_ds, batch_size=BATCH_SIZE, shuffle=False, num_workers=4, worker_init_fn=seed_worker, generator=g)"
   ]
  },
  {
   "cell_type": "markdown",
   "metadata": {},
   "source": [
    "# Classifiers"
   ]
  },
  {
   "cell_type": "code",
   "execution_count": 11,
   "metadata": {},
   "outputs": [
    {
     "name": "stdout",
     "output_type": "stream",
     "text": [
      "Epoch 01: train_loss=0.6967 acc=0.4611 | val_loss=0.6944 acc=0.5000\n",
      "Epoch 02: train_loss=0.6932 acc=0.5000 | val_loss=0.6917 acc=0.5000\n"
     ]
    }
   ],
   "source": [
    "clf_LSTM = LSTMClassifier(n_classes, hidden_size=50, num_layers=1)\n",
    "\n",
    "history, _, _=  train_classifier(\n",
    "    clf_LSTM,\n",
    "    train_dl,\n",
    "    val_loader=test_dl,\n",
    "    epochs=2,\n",
    "    lr=1e-3,\n",
    "    weight_decay=1e-4,\n",
    "    device=device,\n",
    "    patience=4,\n",
    "    verbose_every=1\n",
    ")"
   ]
  },
  {
   "cell_type": "code",
   "execution_count": 12,
   "metadata": {},
   "outputs": [
    {
     "name": "stdout",
     "output_type": "stream",
     "text": [
      "Epoch 01: train_loss=0.4787 acc=0.7278 | val_loss=0.4689 acc=0.8222\n",
      "Epoch 02: train_loss=0.3573 acc=0.8389 | val_loss=0.5014 acc=0.7556\n"
     ]
    }
   ],
   "source": [
    "clf_resCNN = ResCNNClassifier(n_classes=n_classes, x_dim=1).to(device)\n",
    "\n",
    "history, best_val, best_state = train_classifier(\n",
    "    clf_resCNN,\n",
    "    train_loader=train_dl,\n",
    "    val_loader=test_dl,\n",
    "    epochs=2,\n",
    "    lr=1e-3,\n",
    "    weight_decay=1e-4,\n",
    "    device=device,\n",
    "    patience=10,\n",
    "    verbose_every=1\n",
    ")\n",
    "\n",
    "torch.save(best_state, \"rescnn_classifier_best.pth\")"
   ]
  },
  {
   "cell_type": "code",
   "execution_count": 13,
   "metadata": {},
   "outputs": [
    {
     "name": "stdout",
     "output_type": "stream",
     "text": [
      "Sequence length = 144\n"
     ]
    }
   ],
   "source": [
    "loader = train_dl\n",
    "x, _ = next(iter(loader))\n",
    "seq_len = x.size(1)\n",
    "print(\"Sequence length =\", seq_len)"
   ]
  },
  {
   "cell_type": "code",
   "execution_count": 14,
   "metadata": {},
   "outputs": [
    {
     "name": "stdout",
     "output_type": "stream",
     "text": [
      "Epoch 02: train_loss=2.5705 acc=0.7778 | val_loss=1.8489 acc=0.8667\n"
     ]
    }
   ],
   "source": [
    "patch_params = dict(\n",
    "    seq_len=seq_len,\n",
    "    n_layers=3,\n",
    "    n_heads=8,\n",
    "    d_model=512,\n",
    "    d_ff=2048,\n",
    "    dropout=0.4,\n",
    "    attn_dropout=0.0,\n",
    "    patch_len=40,\n",
    "    stride=24,\n",
    "    padding_patch=True,\n",
    "    revin=True,\n",
    "    affine=False,\n",
    "    individual=False,\n",
    "    subtract_last=False,\n",
    "    decomposition=False,\n",
    "    kernel_size=25,\n",
    "    activation=\"gelu\",\n",
    "    norm=\"BatchNorm\",\n",
    "    pre_norm=False,\n",
    "    res_attention=True,\n",
    "    store_attn=False,\n",
    ")\n",
    "\n",
    "clf_PatchTST = PatchTSTClassifier(\n",
    "    n_classes=n_classes,\n",
    "    x_dim=1,\n",
    "    activation_type=\"identity\",\n",
    "    patch_kwargs=patch_params\n",
    ").to(device)\n",
    "\n",
    "history, best_val, best_wts = train_classifier(\n",
    "    model=clf_PatchTST,\n",
    "    train_loader=train_dl,\n",
    "    val_loader=test_dl,\n",
    "    epochs=2,\n",
    "    lr=1e-3,\n",
    "    weight_decay=1e-4,\n",
    "    device=device,\n",
    "    patience=8,\n",
    "    verbose_every=2\n",
    ")"
   ]
  },
  {
   "cell_type": "markdown",
   "metadata": {},
   "source": [
    "# Adversarial attacks"
   ]
  },
  {
   "cell_type": "code",
   "execution_count": 15,
   "metadata": {},
   "outputs": [],
   "source": [
    "LEARNING_TARGET = clf_PatchTST"
   ]
  },
  {
   "cell_type": "code",
   "execution_count": 16,
   "metadata": {},
   "outputs": [],
   "source": [
    "from source.attacks.iFGSM import FGSMAttack, iFGSMAttack\n",
    "from source.attacks.PGD import PGDAttack \n",
    "\n",
    "from source.attacks.attackLSTM import AttackLSTM\n",
    "from source.attacks.attackResCNN import AttackCNN\n",
    "from source.attacks.attackPatchTST import AttackPatchTST \n",
    "from source.attacks.iMBA_PatchTST import IterModelAttack\n",
    "\n",
    "from source.attacks.mba import ModelBasedAttack\n",
    "\n",
    "\n",
    "from source.training.train_attacker import train_atk_model\n",
    "from source.training.train_iter_attack import train_attack_iter, prepare_victim_for_input_grad"
   ]
  },
  {
   "cell_type": "markdown",
   "metadata": {},
   "source": [
    "## LSTM attack"
   ]
  },
  {
   "cell_type": "code",
   "execution_count": 17,
   "metadata": {},
   "outputs": [
    {
     "name": "stdout",
     "output_type": "stream",
     "text": [
      "\n",
      "Epoch 01 | victim‑loss 1.7673 | acc 0.8556\n"
     ]
    },
    {
     "data": {
      "text/plain": [
       "(1.7672858662075466, 0.8555555489328173)"
      ]
     },
     "execution_count": 17,
     "metadata": {},
     "output_type": "execute_result"
    }
   ],
   "source": [
    "atk_LSTM = AttackLSTM(hidden_dim=128, dropout=0.6, x_dim=1, activation_type='tanh').to(device)\n",
    "for p in clf_LSTM.parameters():\n",
    "    p.requires_grad_(False)\n",
    "# clf_LSTM.eval()\n",
    "\n",
    "eps_LSTM = 1.371353\n",
    "train_atk_model(atk_LSTM,\n",
    "                LEARNING_TARGET,\n",
    "                train_dl,\n",
    "                eps=eps_LSTM,\n",
    "                epochs=1,\n",
    "                lr=1e-1,\n",
    "                alpha_l2=6e-4,\n",
    "                device=device,\n",
    "                patience=9\n",
    ")"
   ]
  },
  {
   "cell_type": "code",
   "execution_count": 18,
   "metadata": {},
   "outputs": [],
   "source": [
    "def objective(trial):\n",
    "    eps = trial.suggest_float(\"eps\",    0.5, 2.0,    log=True)\n",
    "    lr  = trial.suggest_float(\"lr\",     1e-3, 1e-2,   log=True)\n",
    "    alpha_l2  = trial.suggest_float(\"alpha_l2\", 1e-5, 1e-1, log=True)\n",
    "    patience  = trial.suggest_int(\"patience\", 3, 10)\n",
    "    hidden_dim = trial.suggest_categorical(\"hidden_dim\", [64, 128, 256])\n",
    "    dropout = trial.suggest_float(\"dropout\", 0.1, 0.6, step=0.1)\n",
    "\n",
    "    atk_model = AttackLSTM(\n",
    "        hidden_dim=hidden_dim, x_dim=1,\n",
    "        activation_type='tanh', dropout=dropout\n",
    "    )\n",
    "\n",
    "    val_loss, val_acc = train_atk_model(\n",
    "        atk_model, clf_LSTM, train_dl,\n",
    "        eps=eps,  epochs=50, lr=lr, alpha_l2=alpha_l2,\n",
    "        device=device, patience=patience\n",
    "    )\n",
    "\n",
    "    return val_acc\n",
    "\n",
    "# study = optuna.create_study(direction=\"minimize\", sampler=optuna.samplers.TPESampler(),\n",
    "#                             pruner=optuna.pruners.MedianPruner(n_warmup_steps=3))\n",
    "\n",
    "# study.optimize(objective, n_trials=50, timeout=60*60)\n",
    "# print(\"BEST PARAMS:\", study.best_params)\n"
   ]
  },
  {
   "cell_type": "markdown",
   "metadata": {},
   "source": [
    "## ResCNN attack"
   ]
  },
  {
   "cell_type": "code",
   "execution_count": 19,
   "metadata": {},
   "outputs": [
    {
     "name": "stdout",
     "output_type": "stream",
     "text": [
      "\n",
      "Epoch 01 | victim‑loss 2.7898 | acc 0.7444\n",
      "\n",
      "Epoch 02 | victim‑loss 5.3874 | acc 0.4056\n"
     ]
    },
    {
     "data": {
      "text/plain": [
       "(5.387413756052653, 0.4055555582046509)"
      ]
     },
     "execution_count": 19,
     "metadata": {},
     "output_type": "execute_result"
    }
   ],
   "source": [
    "atk_resCNN = AttackCNN().to(device)\n",
    "atk_resCNN = AttackCNN(hidden_dim=64, x_dim=1, activation_type='tanh').to(device)\n",
    "\n",
    "# weights_path = 'weights/surr_resCNNfc_CPU_0.28.pth'\n",
    "\n",
    "eps_resCNN = 2\n",
    "train_atk_model(atk_resCNN, LEARNING_TARGET, train_dl,\n",
    "                eps=eps_resCNN,\n",
    "                epochs=2, lr=2e-4, alpha_l2=4.5e-05,\n",
    "                device=device, patience=10, is_debugged=False)"
   ]
  },
  {
   "cell_type": "code",
   "execution_count": 20,
   "metadata": {},
   "outputs": [],
   "source": [
    "def objective(trial):\n",
    "    eps = trial.suggest_float(\"eps\",    0.5, 2.0,    log=True)\n",
    "    lr  = trial.suggest_float(\"lr\",     1e-3, 1e-2,   log=True)\n",
    "    alpha_l2  = trial.suggest_float(\"alpha_l2\", 1e-5, 1e-1, log=True)\n",
    "    patience  = trial.suggest_int(\"patience\", 3, 10)\n",
    "    hidden_dim = trial.suggest_categorical(\"hidden_dim\", [64, 128, 256])\n",
    "\n",
    "    atk_model = AttackCNN(hidden_dim=hidden_dim, x_dim=1, activation_type='tanh')\n",
    "\n",
    "    val_loss, val_acc = train_atk_model(\n",
    "        atk_model, clf_LSTM, train_dl,\n",
    "        eps=eps,  epochs=50, lr=lr, alpha_l2=alpha_l2,\n",
    "        device=device, patience=patience\n",
    "    )\n",
    "\n",
    "    return val_acc\n",
    "\n",
    "# study = optuna.create_study(direction=\"minimize\", sampler=optuna.samplers.TPESampler(),\n",
    "#                             pruner=optuna.pruners.MedianPruner(n_warmup_steps=3))\n",
    "# study.optimize(objective, n_trials=50, timeout=60*60)\n",
    "# print(\"BEST PARAMS:\", study.best_params)\n"
   ]
  },
  {
   "cell_type": "markdown",
   "metadata": {},
   "source": [
    "## PatchTST Attack"
   ]
  },
  {
   "cell_type": "code",
   "execution_count": 21,
   "metadata": {},
   "outputs": [
    {
     "name": "stdout",
     "output_type": "stream",
     "text": [
      "\n",
      "Epoch 01 | victim‑loss 1.7337 | acc 0.8611\n",
      "\n",
      "Epoch 02 | victim‑loss 1.6657 | acc 0.8889\n"
     ]
    },
    {
     "data": {
      "text/plain": [
       "(1.665745210647583, 0.8888888941870795)"
      ]
     },
     "execution_count": 21,
     "metadata": {},
     "output_type": "execute_result"
    }
   ],
   "source": [
    "patch_params = dict(\n",
    "    seq_len=seq_len,\n",
    "    n_layers=3,\n",
    "    n_heads=8,\n",
    "    d_model=512,\n",
    "    d_ff=2048,\n",
    "    dropout=0.4,\n",
    "    attn_dropout=0.0,\n",
    "    patch_len=28,\n",
    "    stride=24,\n",
    "    padding_patch=True,\n",
    "    revin=True,\n",
    "    affine=False,\n",
    "    individual=False,\n",
    "    subtract_last=False,\n",
    "    decomposition=False,\n",
    "    kernel_size=25,\n",
    "    activation=\"gelu\",\n",
    "    norm=\"BatchNorm\",\n",
    "    pre_norm=False,\n",
    "    res_attention=True,\n",
    "    store_attn=False,\n",
    ")\n",
    "\n",
    "atk_PatchTST = AttackPatchTST(\n",
    "    hidden_dim=256,\n",
    "    x_dim=1,\n",
    "    activation_type=\"tanh\",\n",
    "    patch_kwargs=patch_params,\n",
    ")\n",
    "\n",
    "eps_PatchTST = 1\n",
    "train_atk_model(atk_PatchTST, clf_PatchTST, train_dl,\n",
    "                eps=eps_PatchTST,\n",
    "                epochs=2, lr=2e-4, alpha_l2=1e-4,\n",
    "                device=device, patience=8, is_debugged=False)"
   ]
  },
  {
   "cell_type": "code",
   "execution_count": 22,
   "metadata": {},
   "outputs": [],
   "source": [
    "SEQ_LEN  = seq_len\n",
    "X_DIM    = 1\n",
    "DEVICE   = device\n",
    "VICTIM   = LEARNING_TARGET\n",
    "TRAIN_DL = train_dl\n",
    "\n",
    "def objective(trial: optuna.Trial):\n",
    "\n",
    "    # atk params\n",
    "    eps        = trial.suggest_float(\"eps\",        0.1, 2,    log=True)\n",
    "    lr         = trial.suggest_float(\"lr\",         1e-4, 1e0,  log=True)\n",
    "    alpha_l2   = trial.suggest_float(\"alpha_l2\",   1e-5, 1e-2,  log=True)\n",
    "    patience   = trial.suggest_int  (\"patience\",   3, 10)\n",
    "\n",
    "    # architecture\n",
    "    hidden_dim = trial.suggest_categorical(\"hidden_dim\", [64, 128, 256])\n",
    "\n",
    "    # main hyperparams\n",
    "    patch_len  = trial.suggest_int(\"patch_len\", 8, 48, step=4)\n",
    "    stride_max = patch_len                      # stride не может превышать patch_len\n",
    "    stride     = trial.suggest_int(\"stride\",    4, stride_max, step=4)\n",
    "    n_layers   = trial.suggest_int(\"n_layers\",  1, 4)\n",
    "    d_model    = trial.suggest_categorical(\"d_model\", [256, 512, 768])\n",
    "    dropout    = trial.suggest_float(\"dropout\", 0.1, 0.6, step=0.1)\n",
    "\n",
    "    # patch-kwargs\n",
    "    patch_kwargs = dict(\n",
    "        seq_len       = SEQ_LEN,\n",
    "        n_layers      = n_layers,\n",
    "        n_heads       = 8,\n",
    "        d_model       = d_model,\n",
    "        d_ff          = 4 * d_model,\n",
    "        dropout       = dropout,\n",
    "        attn_dropout  = 0.0,\n",
    "        patch_len     = patch_len,\n",
    "        stride        = stride,\n",
    "        padding_patch = True,\n",
    "        revin         = True,\n",
    "        affine        = False,\n",
    "        individual    = False,\n",
    "        subtract_last = False,\n",
    "        decomposition = False,\n",
    "        kernel_size   = 25,\n",
    "        activation    = \"gelu\",\n",
    "        norm          = \"BatchNorm\",\n",
    "        pre_norm      = False,\n",
    "        res_attention = True,\n",
    "        store_attn    = False,\n",
    "    )\n",
    "\n",
    "    surrogate = AttackPatchTST(\n",
    "        hidden_dim     = hidden_dim,\n",
    "        x_dim          = X_DIM,\n",
    "        activation_type= \"tanh\",\n",
    "        patch_kwargs   = patch_kwargs\n",
    "    )\n",
    "\n",
    "    val_loss, val_acc = train_atk_model(\n",
    "        surrogate, VICTIM, TRAIN_DL,\n",
    "        eps=eps, epochs=50, lr=lr, alpha_l2=alpha_l2,\n",
    "        device=DEVICE, patience=patience\n",
    "    )\n",
    "\n",
    "    return val_acc\n",
    "\n",
    "\n",
    "# sampler = optuna.samplers.TPESampler()\n",
    "# pruner  = optuna.pruners.MedianPruner(n_warmup_steps=3)\n",
    "\n",
    "# study = optuna.create_study(direction=\"minimize\", sampler=sampler, pruner=pruner)\n",
    "# study.optimize(objective, n_trials=50, timeout=60*60)\n",
    "\n",
    "# print(\"BEST PARAMS:\", study.best_params)\n"
   ]
  },
  {
   "cell_type": "markdown",
   "metadata": {},
   "source": [
    "## Iter-PatchTST attack"
   ]
  },
  {
   "cell_type": "code",
   "execution_count": 23,
   "metadata": {},
   "outputs": [
    {
     "name": "stdout",
     "output_type": "stream",
     "text": [
      "[Δ] mean ||δ||_2 = 0.760 | mean ||δ||_∞ = 0.067\n",
      "[Δ] mean ||x||_2 = 11.489 | mean ||x_adv||_2 = 11.338\n",
      "[Δ] mean ||δ||_2 = 0.888 | mean ||δ||_∞ = 0.078\n",
      "[Δ] mean ||x||_2 = 10.817 | mean ||x_adv||_2 = 10.841\n",
      "[Δ] mean ||δ||_2 = 1.067 | mean ||δ||_∞ = 0.093\n",
      "[Δ] mean ||x||_2 = 11.387 | mean ||x_adv||_2 = 11.413\n",
      "Epoch 01 | victim-loss 1.6785 | acc 0.8944\n",
      "[Δ] mean ||δ||_2 = 1.520 | mean ||δ||_∞ = 0.131\n",
      "[Δ] mean ||x||_2 = 11.185 | mean ||x_adv||_2 = 11.396\n",
      "[Δ] mean ||δ||_2 = 2.161 | mean ||δ||_∞ = 0.184\n",
      "[Δ] mean ||x||_2 = 11.302 | mean ||x_adv||_2 = 11.886\n",
      "[Δ] mean ||δ||_2 = 2.241 | mean ||δ||_∞ = 0.191\n",
      "[Δ] mean ||x||_2 = 11.163 | mean ||x_adv||_2 = 11.818\n",
      "Epoch 02 | victim-loss 1.6784 | acc 0.8944\n",
      "[done] val_loss=1.6784  |  val_acc(after attack)=0.8944\n"
     ]
    }
   ],
   "source": [
    "\n",
    "\n",
    "attacker = AttackPatchTST(hidden_dim=256, x_dim=1, activation_type='tanh',\n",
    "                          patch_kwargs=patch_params).to(device)\n",
    "\n",
    "target = LEARNING_TARGET\n",
    "prepare_victim_for_input_grad(target)\n",
    "\n",
    "disc = None\n",
    "best = {'eps': 0.4,\n",
    "         'lr': 1e-4,\n",
    "         'alpha_l2': 1e-4,\n",
    "         'steps': 1, 'use_alpha_explicit': False, \n",
    "         'proj': 'none', 'proj_equal_eps': True, 'rand_init': False, 'bpda': False, \n",
    "         'use_sign': False, 'momentum_mu': 0.9, 'step_normalize': None, \n",
    "         'step_noise_std': 0.004, 'victim_eval': True, 'hidden_dim': 128}\n",
    "best['alpha'] = None\n",
    "\n",
    "alpha_explicit = None\n",
    "\n",
    "val_loss, val_acc = train_attack_iter(\n",
    "    attacker=attacker,\n",
    "    victim=target,\n",
    "    loader=train_dl,\n",
    "\n",
    "    eps=best[\"eps\"],\n",
    "    steps=best[\"steps\"],\n",
    "    alpha=alpha_explicit,\n",
    "    epochs=2,\n",
    "    lr=best[\"lr\"],\n",
    "    alpha_l2=best[\"alpha_l2\"],\n",
    "\n",
    "    lambda_disc=0.0,\n",
    "    disc=disc,\n",
    "    device=device,\n",
    "    patience=8,\n",
    "\n",
    "    data_clamp=None,\n",
    "    rand_init=best[\"rand_init\"],\n",
    "    use_sign=best[\"use_sign\"],\n",
    "    equal_eps=best[\"proj_equal_eps\"],\n",
    "    bpda=best[\"bpda\"],\n",
    "    verbose=True,\n",
    "\n",
    "    proj=best[\"proj\"],\n",
    "    proj_equal_eps=best[\"proj_equal_eps\"],\n",
    "    momentum_mu=best[\"momentum_mu\"],      \n",
    "    step_normalize=best[\"step_normalize\"],\n",
    "    step_noise_std=best[\"step_noise_std\"],\n",
    "    victim_eval=best[\"victim_eval\"],      \n",
    "    grad_clip=None,                       \n",
    ")\n",
    "\n",
    "print(f\"[done] val_loss={val_loss:.4f}  |  val_acc(after attack)={val_acc:.4f}\")\n",
    "\n"
   ]
  },
  {
   "cell_type": "code",
   "execution_count": 25,
   "metadata": {},
   "outputs": [],
   "source": [
    "iter_attack = IterModelAttack(\n",
    "    attacker=attacker, eps=best['eps'], n_iter=best['steps'], alpha=None,\n",
    "    clamp=None, rand_init=best['rand_init'], use_sign=best['use_sign'],\n",
    "    equal_eps=best['proj_equal_eps'], bpda=best['bpda'],\n",
    "    proj=best['proj'], proj_equal_eps=best['proj_equal_eps'],\n",
    "    data_clamp=None,\n",
    "    momentum_mu=best['momentum_mu'], step_normalize=None,\n",
    "    step_noise_std=best['step_noise_std'],\n",
    ").to(device)\n",
    "\n",
    "eps_iter = best['eps']\n"
   ]
  },
  {
   "cell_type": "markdown",
   "metadata": {},
   "source": [
    "# Сomparison of attacks"
   ]
  },
  {
   "cell_type": "code",
   "execution_count": 26,
   "metadata": {},
   "outputs": [],
   "source": [
    "from source.estimation.metrics import fooling_rate, efficiency_rate, accuracy_after_attack"
   ]
  },
  {
   "cell_type": "code",
   "execution_count": 27,
   "metadata": {},
   "outputs": [],
   "source": [
    "eps_FGSM = 1\n",
    "fgsm_attack  = FGSMAttack(eps_FGSM)\n",
    "ifgsm_attack = iFGSMAttack(eps=eps_FGSM, n_iter=60)\n",
    "\n",
    "mba_LSTM = ModelBasedAttack(atk_LSTM, eps_LSTM)\n",
    "mba_resCNN = ModelBasedAttack(atk_resCNN, eps_resCNN)\n",
    "mba_PatchTST = ModelBasedAttack(atk_PatchTST, eps_PatchTST)\n",
    "\n",
    "mba_iter = ModelBasedAttack(iter_attack, eps_iter, is_iter=True)"
   ]
  },
  {
   "cell_type": "code",
   "execution_count": 28,
   "metadata": {},
   "outputs": [],
   "source": [
    "estimation_dl = test_dl\n",
    "\n",
    "attacks = {'Unattacked': lambda model, x, y: x,\n",
    "           'FGSM': fgsm_attack,\n",
    "           'iFGSM10nonrand02': iFGSMAttack(eps=eps_FGSM, n_iter=10, rand_init=False, momentum=0.2),\n",
    "           'LSTM': mba_LSTM,\n",
    "           'resCNN': mba_resCNN,\n",
    "           'PatchTST': mba_PatchTST,\n",
    "           'iter': mba_iter}"
   ]
  },
  {
   "cell_type": "code",
   "execution_count": 29,
   "metadata": {},
   "outputs": [],
   "source": [
    "classifiers = [clf_LSTM, clf_resCNN, clf_PatchTST]"
   ]
  },
  {
   "cell_type": "code",
   "execution_count": 33,
   "metadata": {},
   "outputs": [
    {
     "name": "stdout",
     "output_type": "stream",
     "text": [
      "\n",
      "========================================\n",
      "inference target model = LSTMClassifier\n",
      "========================================\n",
      "Unattacked   fooling rate:  0.000,  efficiency metric:  0.333,  target accuracy after attack:  0.500\n",
      "FGSM         fooling rate:  0.033,  efficiency metric:  0.364,  target accuracy after attack:  0.467\n",
      "iFGSM10nonrand02 fooling rate:  0.033,  efficiency metric:  0.364,  target accuracy after attack:  0.467\n",
      "LSTM         fooling rate:  0.000,  efficiency metric:  0.333,  target accuracy after attack:  0.500\n",
      "resCNN       fooling rate:  0.000,  efficiency metric:  0.333,  target accuracy after attack:  0.500\n",
      "PatchTST     fooling rate:  0.000,  efficiency metric:  0.333,  target accuracy after attack:  0.500\n",
      "iter         fooling rate:  0.000,  efficiency metric:  0.333,  target accuracy after attack:  0.500\n",
      "\n",
      "========================================\n",
      "inference target model = ResCNNClassifier\n",
      "========================================\n",
      "Unattacked   fooling rate:  0.000,  efficiency metric:  0.319,  target accuracy after attack:  0.756\n",
      "FGSM         fooling rate:  0.722,  efficiency metric:  0.935,  target accuracy after attack:  0.033\n",
      "iFGSM10nonrand02 fooling rate:  0.728,  efficiency metric:  0.946,  target accuracy after attack:  0.028\n",
      "LSTM         fooling rate:  0.367,  efficiency metric:  0.176,  target accuracy after attack:  0.800\n",
      "resCNN       fooling rate:  0.022,  efficiency metric:  0.282,  target accuracy after attack:  0.778\n",
      "PatchTST     fooling rate:  0.311,  efficiency metric:  0.288,  target accuracy after attack:  0.744\n",
      "iter         fooling rate:  0.183,  efficiency metric:  0.205,  target accuracy after attack:  0.828\n",
      "\n",
      "========================================\n",
      "inference target model = PatchTSTClassifier\n",
      "========================================\n",
      "Unattacked   fooling rate:  0.000,  efficiency metric:  0.100,  target accuracy after attack:  0.883\n",
      "FGSM         fooling rate:  0.911,  efficiency metric:  1.000,  target accuracy after attack:  0.000\n",
      "iFGSM10nonrand02 fooling rate:  0.911,  efficiency metric:  1.000,  target accuracy after attack:  0.000\n",
      "LSTM         fooling rate:  0.139,  efficiency metric:  0.185,  target accuracy after attack:  0.794\n",
      "resCNN       fooling rate:  0.000,  efficiency metric:  0.100,  target accuracy after attack:  0.883\n",
      "PatchTST     fooling rate:  0.000,  efficiency metric:  0.100,  target accuracy after attack:  0.883\n",
      "iter         fooling rate:  0.000,  efficiency metric:  0.100,  target accuracy after attack:  0.883\n"
     ]
    }
   ],
   "source": [
    "for clf_model in classifiers:\n",
    "    print('\\n'+'='*40)\n",
    "    print(f'inference target model: {clf_model.__class__.__name__}')\n",
    "    print('='*40)\n",
    "    for name, atk in attacks.items():\n",
    "        fl_rate = fooling_rate(clf_model, estimation_dl, atk, device=device)\n",
    "        ef_rate = efficiency_rate(clf_model, estimation_dl, atk, device=device)\n",
    "        acc = accuracy_after_attack(clf_model, estimation_dl, atk, device=device)\n",
    "        print(f'{name:<12} fooling rate:  {fl_rate:.3f},  efficiency metric:  {ef_rate:.3f},  target accuracy after attack:  {acc:.3f}')"
   ]
  },
  {
   "cell_type": "markdown",
   "metadata": {},
   "source": [
    "## visualization of the attacked data"
   ]
  },
  {
   "cell_type": "code",
   "execution_count": 40,
   "metadata": {},
   "outputs": [
    {
     "data": {
      "image/png": "[encoded data removed]",
      "text/plain": [
       "<Figure size 1000x350 with 2 Axes>"
      ]
     },
     "metadata": {},
     "output_type": "display_data"
    }
   ],
   "source": [
    "# attacks = {'Unattacked': lambda model, x, y: x,\n",
    "#            'FGSM': fgsm_attack,\n",
    "#            'iFGSM10nonrand02': iFGSMAttack(eps=eps_FGSM, n_iter=10, rand_init=False, momentum=0.2),\n",
    "#            'LSTM': mba_LSTM,\n",
    "#            'resCNN': mba_resCNN,\n",
    "#            'PatchTST': mba_PatchTST,\n",
    "#            'iter': mba_iter}\n",
    "\n",
    "\n",
    "N_EXAMPLES = 2\n",
    "FILTER = ['PatchTST',\n",
    "          'iter',\n",
    "          'iFGSM10nonrand02']\n",
    "\n",
    "van_iFGSM = iFGSMAttack(eps=eps_FGSM, n_iter=50, rand_init=False, momentum=0.0)\n",
    "van_FGSM = fgsm_attack\n",
    "van_PGD = None\n",
    "\n",
    "\n",
    "atk_f_list = [attacks[name] for name in FILTER]\n",
    "\n",
    "\n",
    "chosen = []\n",
    "for xb, yb in test_dl:\n",
    "    for i in range(xb.size(0)):\n",
    "        chosen.append((xb[i], yb[i]))\n",
    "    if len(chosen) >= 50:\n",
    "        break\n",
    "\n",
    "examples = random.sample(chosen, N_EXAMPLES)\n",
    "\n",
    "fig, axes = plt.subplots(\n",
    "    1, N_EXAMPLES,\n",
    "    figsize=(5 * N_EXAMPLES, 3.5),\n",
    "    sharey=True\n",
    ")\n",
    "if N_EXAMPLES == 1:\n",
    "    axes = [axes]\n",
    "\n",
    "for col, (x_orig, y_lbl) in enumerate(examples):\n",
    "    ax = axes[col]\n",
    "    x_orig = x_orig.to(device).unsqueeze(0)\n",
    "    y_lbl_tensor = torch.tensor([y_lbl], device=device)\n",
    "\n",
    "    x_np = x_orig.squeeze().detach().cpu().numpy()\n",
    "    ax.plot(x_np[:100], label='Orig', linewidth=1)\n",
    "\n",
    "    x_adv_np_dict = dict()\n",
    "    for name in FILTER:\n",
    "        dummy_model = clf_LSTM\n",
    "        mba_attack = attacks[name]\n",
    "        x_adv = mba_attack(dummy_model, x_orig, y_lbl_tensor)\n",
    "        x_adv_np_dict[name] = (x_adv.squeeze().detach().cpu().numpy())\n",
    "\n",
    "    for name in FILTER:\n",
    "        ax.plot(x_adv_np_dict[name][:100], label=name, linewidth=1)\n",
    "\n",
    "    ax.set_title(f'Sample {col+1} (label={int(y_lbl)})')\n",
    "    ax.set_xlabel('Time step')\n",
    "    if col == 0:\n",
    "        ax.set_ylabel('Value')\n",
    "    ax.grid(True, alpha=0.2)\n",
    "    ax.legend(fontsize=8)\n",
    "\n",
    "plt.tight_layout()\n",
    "plt.show()\n"
   ]
  }
 ],
 "metadata": {
  "kernelspec": {
   "display_name": "a3_env",
   "language": "python",
   "name": "python3"
  },
  "language_info": {
   "codemirror_mode": {
    "name": "ipython",
    "version": 3
   },
   "file_extension": ".py",
   "mimetype": "text/x-python",
   "name": "python",
   "nbconvert_exporter": "python",
   "pygments_lexer": "ipython3",
   "version": "3.9.23"
  }
 },
 "nbformat": 4,
 "nbformat_minor": 2
}

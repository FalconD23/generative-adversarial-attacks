{
 "cells": [
  {
   "cell_type": "markdown",
   "metadata": {},
   "source": [
    "# Preprocessing"
   ]
  },
  {
   "cell_type": "code",
   "execution_count": 33,
   "metadata": {},
   "outputs": [
    {
     "name": "stdout",
     "output_type": "stream",
     "text": [
      "cpu\n"
     ]
    },
    {
     "name": "stderr",
     "output_type": "stream",
     "text": [
      "/home/ubnps23/tecHub/AD_intro/advattacks_iitp_summer/a3_env/lib/python3.9/site-packages/tqdm/auto.py:22: TqdmWarning: IProgress not found. Please update jupyter and ipywidgets. See https://ipywidgets.readthedocs.io/en/stable/user_install.html\n",
      "  from .autonotebook import tqdm as notebook_tqdm\n"
     ]
    }
   ],
   "source": [
    "import torch\n",
    "from torch.utils.data import Dataset, DataLoader\n",
    "import numpy as np\n",
    "\n",
    "import random\n",
    "from pathlib import Path\n",
    "\n",
    "import pandas as pd\n",
    "import matplotlib.pyplot as plt\n",
    "\n",
    "import optuna\n",
    "import os, sys\n",
    "\n",
    "device = 'cuda' if torch.cuda.is_available() else 'cpu'\n",
    "print(device)\n"
   ]
  },
  {
   "cell_type": "code",
   "execution_count": null,
   "metadata": {},
   "outputs": [
    {
     "name": "stdout",
     "output_type": "stream",
     "text": [
      "\u001b[0m\u001b[01;34mconfig_examples\u001b[0m/  \u001b[01;34mdatasets\u001b[0m/  \u001b[01;34mnotebooks\u001b[0m/  README.md  \u001b[01;34msource\u001b[0m/\n"
     ]
    }
   ],
   "source": [
    "# changing core directory\n",
    "dir2 = os.path.abspath('')\n",
    "dir1 = os.path.dirname(dir2)\n",
    "if not dir1 in sys.path:\n",
    "    sys.path.append(dir1)\n",
    "os.chdir('..')\n",
    "%ls"
   ]
  },
  {
   "cell_type": "code",
   "execution_count": 9,
   "metadata": {},
   "outputs": [],
   "source": [
    "from source.training.early_stopping import EarlyStopping\n",
    "from source.data.power_cons import load_powercons, PowerConsDataset\n",
    "\n",
    "# from source.training.activation import Activation\n",
    "\n",
    "from source.classifiers.LSTM_Classifier import LSTMClassifier\n",
    "from source.classifiers.ResCNN_Classifier import ResCNNClassifier\n",
    "from source.classifiers.PatchTST_classifier import PatchTSTClassifier\n",
    "from source.training.train_classifier import train_classifier"
   ]
  },
  {
   "cell_type": "code",
   "execution_count": 21,
   "metadata": {},
   "outputs": [],
   "source": [
    "SEED = 1000\n",
    "random.seed(SEED)\n",
    "os.environ[\"PYTHONHASHSEED\"] = str(SEED)\n",
    "np.random.seed(SEED)\n",
    "torch.manual_seed(SEED)\n",
    "torch.cuda.manual_seed_all(SEED)\n",
    "\n",
    "torch.backends.cudnn.deterministic = True\n",
    "torch.backends.cudnn.benchmark = False"
   ]
  },
  {
   "cell_type": "code",
   "execution_count": 11,
   "metadata": {},
   "outputs": [],
   "source": [
    "TRAIN_PATH = Path('datasets/PowerCons_TRAIN.tsv')\n",
    "TEST_PATH = Path('datasets/PowerCons_TEST.tsv')\n",
    "BATCH_SIZE = 64"
   ]
  },
  {
   "cell_type": "markdown",
   "metadata": {},
   "source": [
    "# Dataset preparation"
   ]
  },
  {
   "cell_type": "code",
   "execution_count": 12,
   "metadata": {},
   "outputs": [
    {
     "name": "stdout",
     "output_type": "stream",
     "text": [
      "Train shape: (180, 144, 1) Test shape: (180, 144, 1) n_classes: 2\n"
     ]
    }
   ],
   "source": [
    "X_train, y_train, classes_ = load_powercons(TRAIN_PATH)\n",
    "X_test, y_test, _ = load_powercons(TEST_PATH)\n",
    "n_classes = len(classes_)\n",
    "print('Train shape:', X_train.shape, 'Test shape:', X_test.shape, 'n_classes:', n_classes)"
   ]
  },
  {
   "cell_type": "code",
   "execution_count": 13,
   "metadata": {},
   "outputs": [
    {
     "name": "stdout",
     "output_type": "stream",
     "text": [
      "-1.6031435 6.4025993 -1.6804967 5.9844995\n"
     ]
    }
   ],
   "source": [
    "print(X_train.min(), X_train.max(), X_test.min(), X_test.max())"
   ]
  },
  {
   "cell_type": "code",
   "execution_count": 14,
   "metadata": {},
   "outputs": [],
   "source": [
    "train_ds = PowerConsDataset(X_train, y_train)\n",
    "test_ds = PowerConsDataset(X_test, y_test)\n",
    "train_dl = DataLoader(train_ds, batch_size=BATCH_SIZE, shuffle=True)\n",
    "test_dl = DataLoader(test_ds, batch_size=BATCH_SIZE)"
   ]
  },
  {
   "cell_type": "code",
   "execution_count": null,
   "metadata": {},
   "outputs": [
    {
     "name": "stdout",
     "output_type": "stream",
     "text": [
      "counts:\n",
      "1    90\n",
      "2    90\n",
      "Name: 0, dtype: int64\n",
      "shares:\n",
      "1    0.5\n",
      "2    0.5\n",
      "Name: 0, dtype: float64\n"
     ]
    },
    {
     "data": {
      "image/png": "[encoded data removed]",
      "text/plain": [
       "<Figure size 640x480 with 1 Axes>"
      ]
     },
     "metadata": {},
     "output_type": "display_data"
    }
   ],
   "source": [
    "# check data-balance\n",
    "df = pd.read_csv(TRAIN_PATH, sep='\\t', header=None)\n",
    "\n",
    "label_counts = df.iloc[:, 0].value_counts().sort_index()\n",
    "print(f'counts:\\n{label_counts}')     \n",
    "print(f'shares:\\n{label_counts / len(df)}')\n",
    "\n",
    "\n",
    "label_counts.plot.bar()\n",
    "plt.title('Class distribution in TRAIN set')\n",
    "plt.xlabel('Class')\n",
    "plt.ylabel('Count')\n",
    "plt.show()\n"
   ]
  },
  {
   "cell_type": "code",
   "execution_count": 16,
   "metadata": {},
   "outputs": [],
   "source": [
    "def seed_worker(worker_id):\n",
    "    worker_seed = SEED + worker_id\n",
    "    np.random.seed(worker_seed)\n",
    "    random.seed(worker_seed)\n",
    "\n",
    "g = torch.Generator()\n",
    "g.manual_seed(SEED)\n",
    "train_dl = DataLoader(train_ds, batch_size=BATCH_SIZE, shuffle=True, num_workers=4, worker_init_fn=seed_worker, generator=g)\n",
    "test_dl = DataLoader(test_ds, batch_size=BATCH_SIZE, shuffle=False, num_workers=4, worker_init_fn=seed_worker, generator=g)"
   ]
  },
  {
   "cell_type": "markdown",
   "metadata": {},
   "source": [
    "# Classifiers"
   ]
  },
  {
   "cell_type": "code",
   "execution_count": 17,
   "metadata": {},
   "outputs": [
    {
     "name": "stdout",
     "output_type": "stream",
     "text": [
      "Epoch 01: train_loss=0.6967 acc=0.4611 | val_loss=0.6944 acc=0.5000\n",
      "Epoch 02: train_loss=0.6932 acc=0.5000 | val_loss=0.6917 acc=0.5000\n",
      "Epoch 03: train_loss=0.6898 acc=0.5000 | val_loss=0.6891 acc=0.5944\n",
      "Epoch 04: train_loss=0.6868 acc=0.5833 | val_loss=0.6865 acc=0.5833\n",
      "Epoch 05: train_loss=0.6844 acc=0.5778 | val_loss=0.6841 acc=0.5500\n",
      "Epoch 06: train_loss=0.6804 acc=0.5944 | val_loss=0.6819 acc=0.5556\n",
      "Epoch 07: train_loss=0.6775 acc=0.5944 | val_loss=0.6796 acc=0.5611\n",
      "Epoch 08: train_loss=0.6744 acc=0.6000 | val_loss=0.6768 acc=0.5611\n",
      "Epoch 09: train_loss=0.6696 acc=0.6000 | val_loss=0.6738 acc=0.5667\n",
      "Epoch 10: train_loss=0.6644 acc=0.6111 | val_loss=0.6698 acc=0.5778\n",
      "Epoch 11: train_loss=0.6578 acc=0.6222 | val_loss=0.6640 acc=0.5889\n",
      "Epoch 12: train_loss=0.6470 acc=0.6444 | val_loss=0.6533 acc=0.6111\n",
      "Epoch 13: train_loss=0.6277 acc=0.6667 | val_loss=0.6296 acc=0.6556\n",
      "Epoch 14: train_loss=0.5877 acc=0.6944 | val_loss=0.5663 acc=0.7111\n",
      "Epoch 15: train_loss=0.4995 acc=0.7500 | val_loss=0.4290 acc=0.8222\n",
      "Epoch 16: train_loss=0.4287 acc=0.8333 | val_loss=0.3687 acc=0.8778\n",
      "Epoch 17: train_loss=0.3837 acc=0.8500 | val_loss=0.3979 acc=0.8556\n",
      "Epoch 18: train_loss=0.3584 acc=0.8889 | val_loss=0.4118 acc=0.8500\n",
      "Epoch 19: train_loss=0.3558 acc=0.8944 | val_loss=0.3729 acc=0.8833\n",
      "Epoch 20: train_loss=0.3425 acc=0.8722 | val_loss=0.3307 acc=0.8889\n",
      "Epoch 21: train_loss=0.3426 acc=0.8667 | val_loss=0.3498 acc=0.8556\n",
      "Epoch 22: train_loss=0.3261 acc=0.8722 | val_loss=0.3787 acc=0.8500\n",
      "Epoch 23: train_loss=0.3112 acc=0.8833 | val_loss=0.3340 acc=0.8722\n",
      "Epoch 24: train_loss=0.3086 acc=0.8889 | val_loss=0.3246 acc=0.8833\n",
      "Epoch 25: train_loss=0.2965 acc=0.8833 | val_loss=0.3401 acc=0.8833\n",
      "Epoch 26: train_loss=0.2944 acc=0.8889 | val_loss=0.3426 acc=0.8556\n",
      "Epoch 27: train_loss=0.2847 acc=0.8889 | val_loss=0.3282 acc=0.8611\n",
      "Epoch 28: train_loss=0.2810 acc=0.8889 | val_loss=0.3127 acc=0.8833\n",
      "Epoch 29: train_loss=0.2821 acc=0.8944 | val_loss=0.3322 acc=0.8611\n",
      "Epoch 30: train_loss=0.2845 acc=0.9000 | val_loss=0.3372 acc=0.8778\n",
      "Epoch 31: train_loss=0.2827 acc=0.8944 | val_loss=0.3121 acc=0.8889\n",
      "Epoch 32: train_loss=0.2654 acc=0.8944 | val_loss=0.2925 acc=0.8944\n",
      "Epoch 33: train_loss=0.2746 acc=0.8889 | val_loss=0.3005 acc=0.8667\n",
      "Epoch 34: train_loss=0.2699 acc=0.8778 | val_loss=0.3176 acc=0.8722\n",
      "Epoch 35: train_loss=0.2675 acc=0.9000 | val_loss=0.2947 acc=0.8889\n",
      "Epoch 36: train_loss=0.2562 acc=0.8889 | val_loss=0.2724 acc=0.9056\n",
      "Epoch 37: train_loss=0.2567 acc=0.9000 | val_loss=0.2710 acc=0.8667\n",
      "Epoch 38: train_loss=0.2557 acc=0.9111 | val_loss=0.2714 acc=0.8833\n",
      "Epoch 39: train_loss=0.2382 acc=0.9000 | val_loss=0.2674 acc=0.8778\n",
      "Epoch 40: train_loss=0.2519 acc=0.9056 | val_loss=0.2556 acc=0.8833\n",
      "Epoch 41: train_loss=0.2321 acc=0.9111 | val_loss=0.2634 acc=0.8889\n",
      "Epoch 42: train_loss=0.2347 acc=0.9111 | val_loss=0.2431 acc=0.9167\n",
      "Epoch 43: train_loss=0.2246 acc=0.9111 | val_loss=0.2430 acc=0.9111\n",
      "Epoch 44: train_loss=0.2219 acc=0.9111 | val_loss=0.2369 acc=0.9111\n",
      "Epoch 45: train_loss=0.2163 acc=0.9111 | val_loss=0.2350 acc=0.9000\n",
      "Epoch 46: train_loss=0.2127 acc=0.9167 | val_loss=0.2270 acc=0.9222\n",
      "Epoch 47: train_loss=0.2168 acc=0.9111 | val_loss=0.2373 acc=0.9111\n",
      "Epoch 48: train_loss=0.2118 acc=0.9111 | val_loss=0.2162 acc=0.9222\n",
      "Epoch 49: train_loss=0.2042 acc=0.9222 | val_loss=0.2139 acc=0.9222\n",
      "Epoch 50: train_loss=0.1976 acc=0.9167 | val_loss=0.2119 acc=0.9222\n"
     ]
    }
   ],
   "source": [
    "clf_LSTM = LSTMClassifier(n_classes, hidden_size=50, num_layers=1)\n",
    "\n",
    "history, _, _=  train_classifier(\n",
    "    clf_LSTM,\n",
    "    train_dl,\n",
    "    val_loader=test_dl,\n",
    "    epochs=2,\n",
    "    lr=1e-3,\n",
    "    weight_decay=1e-4,\n",
    "    device=device,\n",
    "    patience=4,\n",
    "    verbose_every=1\n",
    ")"
   ]
  },
  {
   "cell_type": "code",
   "execution_count": 18,
   "metadata": {},
   "outputs": [
    {
     "name": "stdout",
     "output_type": "stream",
     "text": [
      "Epoch 01: train_loss=0.5020 acc=0.7167 | val_loss=0.4530 acc=0.8556\n",
      "Epoch 02: train_loss=0.3624 acc=0.8389 | val_loss=0.4647 acc=0.7722\n"
     ]
    }
   ],
   "source": [
    "clf_resCNN = ResCNNClassifier(n_classes=n_classes, x_dim=1).to(device)\n",
    "\n",
    "history, best_val, best_state = train_classifier(\n",
    "    clf_resCNN,\n",
    "    train_loader=train_dl,\n",
    "    val_loader=test_dl,\n",
    "    epochs=2,\n",
    "    lr=1e-3,\n",
    "    weight_decay=1e-4,\n",
    "    device=device,\n",
    "    patience=10,\n",
    "    verbose_every=1\n",
    ")\n",
    "\n",
    "torch.save(best_state, \"rescnn_classifier_best.pth\")"
   ]
  },
  {
   "cell_type": "code",
   "execution_count": 19,
   "metadata": {},
   "outputs": [
    {
     "name": "stdout",
     "output_type": "stream",
     "text": [
      "Sequence length = 144\n"
     ]
    }
   ],
   "source": [
    "loader = train_dl\n",
    "x, _ = next(iter(loader))\n",
    "seq_len = x.size(1)\n",
    "print(\"Sequence length =\", seq_len)"
   ]
  },
  {
   "cell_type": "code",
   "execution_count": 20,
   "metadata": {},
   "outputs": [
    {
     "name": "stdout",
     "output_type": "stream",
     "text": [
      "Epoch 02: train_loss=2.6224 acc=0.7778 | val_loss=1.9763 acc=0.8611\n",
      "Epoch 04: train_loss=0.8798 acc=0.9389 | val_loss=1.0531 acc=0.8944\n"
     ]
    }
   ],
   "source": [
    "patch_params = dict(\n",
    "    seq_len=seq_len,\n",
    "    n_layers=3,\n",
    "    n_heads=8,\n",
    "    d_model=512,\n",
    "    d_ff=2048,\n",
    "    dropout=0.4,\n",
    "    attn_dropout=0.0,\n",
    "    patch_len=40,\n",
    "    stride=24,\n",
    "    padding_patch=True,\n",
    "    revin=True,\n",
    "    affine=False,\n",
    "    individual=False,\n",
    "    subtract_last=False,\n",
    "    decomposition=False,\n",
    "    kernel_size=25,\n",
    "    activation=\"gelu\",\n",
    "    norm=\"BatchNorm\",\n",
    "    pre_norm=False,\n",
    "    res_attention=True,\n",
    "    store_attn=False,\n",
    ")\n",
    "\n",
    "clf_PatchTST = PatchTSTClassifier(\n",
    "    n_classes=n_classes,\n",
    "    x_dim=1,\n",
    "    activation_type=\"identity\",\n",
    "    patch_kwargs=patch_params\n",
    ").to(device)\n",
    "\n",
    "history, best_val, best_wts = train_classifier(\n",
    "    model=clf_PatchTST,\n",
    "    train_loader=train_dl,\n",
    "    val_loader=test_dl,\n",
    "    epochs=2,\n",
    "    lr=1e-3,\n",
    "    weight_decay=1e-4,\n",
    "    device=device,\n",
    "    patience=8,\n",
    "    verbose_every=2\n",
    ")"
   ]
  },
  {
   "cell_type": "markdown",
   "metadata": {},
   "source": [
    "# Adversarial attacks"
   ]
  },
  {
   "cell_type": "code",
   "execution_count": 25,
   "metadata": {},
   "outputs": [],
   "source": [
    "LEARNING_TARGET = clf_PatchTST"
   ]
  },
  {
   "cell_type": "code",
   "execution_count": 39,
   "metadata": {},
   "outputs": [],
   "source": [
    "from source.attacks.iFGSM import FGSMAttack, iFGSMAttack\n",
    "from source.attacks.PGD import PGDAttack \n",
    "\n",
    "from source.attacks.attackLSTM import AttackLSTM\n",
    "from source.attacks.attackResCNN import AttackCNN\n",
    "from source.attacks.attackPatchTST import AttackPatchTST \n",
    "\n",
    "from source.attacks.mba import ModelBasedAttack \n",
    "\n",
    "from source.training.train_attacker import train_atk_model\n",
    "from source.training.train_iter_attack import train_attack_iter, prepare_victim_for_input_grad"
   ]
  },
  {
   "cell_type": "markdown",
   "metadata": {},
   "source": [
    "## LSTM attack"
   ]
  },
  {
   "cell_type": "code",
   "execution_count": 31,
   "metadata": {},
   "outputs": [
    {
     "name": "stdout",
     "output_type": "stream",
     "text": [
      "\n",
      "Epoch 01 | victim‑loss 0.5128 | acc 0.9611\n"
     ]
    },
    {
     "data": {
      "text/plain": [
       "(0.512811976008945, 0.9611111124356587)"
      ]
     },
     "execution_count": 31,
     "metadata": {},
     "output_type": "execute_result"
    }
   ],
   "source": [
    "atk_LSTM = AttackLSTM(hidden_dim=128, dropout=0.6, x_dim=1, activation_type='tanh').to(device)\n",
    "for p in clf_LSTM.parameters():\n",
    "    p.requires_grad_(False)\n",
    "# clf_LSTM.eval()\n",
    "\n",
    "eps_LSTM = 1.371353\n",
    "train_atk_model(atk_LSTM,\n",
    "                LEARNING_TARGET,\n",
    "                train_dl,\n",
    "                eps=eps_LSTM,\n",
    "                epochs=1,\n",
    "                lr=1e-1,\n",
    "                alpha_l2=6e-4,\n",
    "                device=device,\n",
    "                patience=9\n",
    ")"
   ]
  },
  {
   "cell_type": "code",
   "execution_count": null,
   "metadata": {},
   "outputs": [],
   "source": [
    "def objective(trial):\n",
    "    eps = trial.suggest_float(\"eps\",    0.5, 2.0,    log=True)\n",
    "    lr  = trial.suggest_float(\"lr\",     1e-3, 1e-2,   log=True)\n",
    "    alpha_l2  = trial.suggest_float(\"alpha_l2\", 1e-5, 1e-1, log=True)\n",
    "    patience  = trial.suggest_int(\"patience\", 3, 10)\n",
    "    hidden_dim = trial.suggest_categorical(\"hidden_dim\", [64, 128, 256])\n",
    "    dropout = trial.suggest_float(\"dropout\", 0.1, 0.6, step=0.1)\n",
    "\n",
    "    atk_model = AttackLSTM(\n",
    "        hidden_dim=hidden_dim, x_dim=1,\n",
    "        activation_type='tanh', dropout=dropout\n",
    "    )\n",
    "\n",
    "    val_loss, val_acc = train_atk_model(\n",
    "        atk_model, clf_LSTM, train_dl,\n",
    "        eps=eps,  epochs=50, lr=lr, alpha_l2=alpha_l2,\n",
    "        device=device, patience=patience\n",
    "    )\n",
    "\n",
    "    return val_acc\n",
    "\n",
    "# study = optuna.create_study(direction=\"minimize\", sampler=optuna.samplers.TPESampler(),\n",
    "#                             pruner=optuna.pruners.MedianPruner(n_warmup_steps=3))\n",
    "\n",
    "# study.optimize(objective, n_trials=50, timeout=60*60)\n",
    "# print(\"BEST PARAMS:\", study.best_params)\n"
   ]
  },
  {
   "cell_type": "markdown",
   "metadata": {},
   "source": [
    "## ResCNN attack"
   ]
  },
  {
   "cell_type": "code",
   "execution_count": 28,
   "metadata": {},
   "outputs": [
    {
     "name": "stdout",
     "output_type": "stream",
     "text": [
      "\n",
      "Epoch 01 | victim‑loss 2.4237 | acc 0.6611\n",
      "\n",
      "Epoch 02 | victim‑loss 5.7410 | acc 0.2556\n"
     ]
    },
    {
     "data": {
      "text/plain": [
       "(5.741018507215712, 0.25555555555555554)"
      ]
     },
     "execution_count": 28,
     "metadata": {},
     "output_type": "execute_result"
    }
   ],
   "source": [
    "atk_resCNN = AttackCNN().to(device)\n",
    "atk_resCNN = AttackCNN(hidden_dim=64, x_dim=1, activation_type='tanh').to(device)\n",
    "\n",
    "# weights_path = 'weights/surr_resCNNfc_CPU_0.28.pth'\n",
    "\n",
    "eps_resCNN = 2\n",
    "train_atk_model(atk_resCNN, LEARNING_TARGET, train_dl,\n",
    "                eps=eps_resCNN,\n",
    "                epochs=2, lr=2e-4, alpha_l2=4.5e-05,\n",
    "                device=device, patience=10, is_debugged=False)"
   ]
  },
  {
   "cell_type": "code",
   "execution_count": 29,
   "metadata": {},
   "outputs": [],
   "source": [
    "def objective(trial):\n",
    "    eps = trial.suggest_float(\"eps\",    0.5, 2.0,    log=True)\n",
    "    lr  = trial.suggest_float(\"lr\",     1e-3, 1e-2,   log=True)\n",
    "    alpha_l2  = trial.suggest_float(\"alpha_l2\", 1e-5, 1e-1, log=True)\n",
    "    patience  = trial.suggest_int(\"patience\", 3, 10)\n",
    "    hidden_dim = trial.suggest_categorical(\"hidden_dim\", [64, 128, 256])\n",
    "\n",
    "    atk_model = AttackCNN(hidden_dim=hidden_dim, x_dim=1, activation_type='tanh')\n",
    "\n",
    "    val_loss, val_acc = train_atk_model(\n",
    "        atk_model, clf_LSTM, train_dl,\n",
    "        eps=eps,  epochs=50, lr=lr, alpha_l2=alpha_l2,\n",
    "        device=device, patience=patience\n",
    "    )\n",
    "\n",
    "    return val_acc\n",
    "\n",
    "# study = optuna.create_study(direction=\"minimize\", sampler=optuna.samplers.TPESampler(),\n",
    "#                             pruner=optuna.pruners.MedianPruner(n_warmup_steps=3))\n",
    "# study.optimize(objective, n_trials=50, timeout=60*60)\n",
    "# print(\"BEST PARAMS:\", study.best_params)\n"
   ]
  },
  {
   "cell_type": "markdown",
   "metadata": {},
   "source": [
    "## PatchTST Attack"
   ]
  },
  {
   "cell_type": "code",
   "execution_count": 32,
   "metadata": {},
   "outputs": [
    {
     "name": "stdout",
     "output_type": "stream",
     "text": [
      "\n",
      "Epoch 01 | victim‑loss 0.5375 | acc 0.9611\n",
      "\n",
      "Epoch 02 | victim‑loss 0.4949 | acc 0.9500\n"
     ]
    },
    {
     "data": {
      "text/plain": [
       "(0.4949381139543321, 0.949999992052714)"
      ]
     },
     "execution_count": 32,
     "metadata": {},
     "output_type": "execute_result"
    }
   ],
   "source": [
    "patch_params = dict(\n",
    "    seq_len=seq_len,\n",
    "    n_layers=3,\n",
    "    n_heads=8,\n",
    "    d_model=512,\n",
    "    d_ff=2048,\n",
    "    dropout=0.4,\n",
    "    attn_dropout=0.0,\n",
    "    patch_len=28,\n",
    "    stride=24,\n",
    "    padding_patch=True,\n",
    "    revin=True,\n",
    "    affine=False,\n",
    "    individual=False,\n",
    "    subtract_last=False,\n",
    "    decomposition=False,\n",
    "    kernel_size=25,\n",
    "    activation=\"gelu\",\n",
    "    norm=\"BatchNorm\",\n",
    "    pre_norm=False,\n",
    "    res_attention=True,\n",
    "    store_attn=False,\n",
    ")\n",
    "\n",
    "atk_PatchTST = AttackPatchTST(\n",
    "    hidden_dim=256,\n",
    "    x_dim=1,\n",
    "    activation_type=\"tanh\",\n",
    "    patch_kwargs=patch_params,\n",
    ")\n",
    "\n",
    "eps_PatchTST = 1\n",
    "train_atk_model(atk_PatchTST, clf_PatchTST, train_dl,\n",
    "                eps=eps_PatchTST,\n",
    "                epochs=2, lr=2e-4, alpha_l2=1e-4,\n",
    "                device=device, patience=8, is_debugged=False)"
   ]
  },
  {
   "cell_type": "code",
   "execution_count": 34,
   "metadata": {},
   "outputs": [],
   "source": [
    "SEQ_LEN  = seq_len\n",
    "X_DIM    = 1\n",
    "DEVICE   = device\n",
    "VICTIM   = LEARNING_TARGET\n",
    "TRAIN_DL = train_dl\n",
    "\n",
    "def objective(trial: optuna.Trial):\n",
    "\n",
    "    # atk params\n",
    "    eps        = trial.suggest_float(\"eps\",        0.1, 2,    log=True)\n",
    "    lr         = trial.suggest_float(\"lr\",         1e-4, 1e0,  log=True)\n",
    "    alpha_l2   = trial.suggest_float(\"alpha_l2\",   1e-5, 1e-2,  log=True)\n",
    "    patience   = trial.suggest_int  (\"patience\",   3, 10)\n",
    "\n",
    "    # architecture\n",
    "    hidden_dim = trial.suggest_categorical(\"hidden_dim\", [64, 128, 256])\n",
    "\n",
    "    # main hyperparams\n",
    "    patch_len  = trial.suggest_int(\"patch_len\", 8, 48, step=4)\n",
    "    stride_max = patch_len                      # stride не может превышать patch_len\n",
    "    stride     = trial.suggest_int(\"stride\",    4, stride_max, step=4)\n",
    "    n_layers   = trial.suggest_int(\"n_layers\",  1, 4)\n",
    "    d_model    = trial.suggest_categorical(\"d_model\", [256, 512, 768])\n",
    "    dropout    = trial.suggest_float(\"dropout\", 0.1, 0.6, step=0.1)\n",
    "\n",
    "    # patch-kwargs\n",
    "    patch_kwargs = dict(\n",
    "        seq_len       = SEQ_LEN,\n",
    "        n_layers      = n_layers,\n",
    "        n_heads       = 8,\n",
    "        d_model       = d_model,\n",
    "        d_ff          = 4 * d_model,\n",
    "        dropout       = dropout,\n",
    "        attn_dropout  = 0.0,\n",
    "        patch_len     = patch_len,\n",
    "        stride        = stride,\n",
    "        padding_patch = True,\n",
    "        revin         = True,\n",
    "        affine        = False,\n",
    "        individual    = False,\n",
    "        subtract_last = False,\n",
    "        decomposition = False,\n",
    "        kernel_size   = 25,\n",
    "        activation    = \"gelu\",\n",
    "        norm          = \"BatchNorm\",\n",
    "        pre_norm      = False,\n",
    "        res_attention = True,\n",
    "        store_attn    = False,\n",
    "    )\n",
    "\n",
    "    surrogate = AttackPatchTST(\n",
    "        hidden_dim     = hidden_dim,\n",
    "        x_dim          = X_DIM,\n",
    "        activation_type= \"tanh\",\n",
    "        patch_kwargs   = patch_kwargs\n",
    "    )\n",
    "\n",
    "    val_loss, val_acc = train_atk_model(\n",
    "        surrogate, VICTIM, TRAIN_DL,\n",
    "        eps=eps, epochs=50, lr=lr, alpha_l2=alpha_l2,\n",
    "        device=DEVICE, patience=patience\n",
    "    )\n",
    "\n",
    "    return val_acc\n",
    "\n",
    "\n",
    "# sampler = optuna.samplers.TPESampler()\n",
    "# pruner  = optuna.pruners.MedianPruner(n_warmup_steps=3)\n",
    "\n",
    "# study = optuna.create_study(direction=\"minimize\", sampler=sampler, pruner=pruner)\n",
    "# study.optimize(objective, n_trials=50, timeout=60*60)\n",
    "\n",
    "# print(\"BEST PARAMS:\", study.best_params)\n"
   ]
  },
  {
   "cell_type": "markdown",
   "metadata": {},
   "source": [
    "## Iter-PatchTST attack"
   ]
  },
  {
   "cell_type": "code",
   "execution_count": 40,
   "metadata": {},
   "outputs": [
    {
     "name": "stdout",
     "output_type": "stream",
     "text": [
      "[Δ] mean ||δ||_2 = 1.024 | mean ||δ||_∞ = 0.089\n",
      "[Δ] mean ||x||_2 = 10.936 | mean ||x_adv||_2 = 11.393\n",
      "[Δ] mean ||δ||_2 = 1.152 | mean ||δ||_∞ = 0.100\n",
      "[Δ] mean ||x||_2 = 11.684 | mean ||x_adv||_2 = 12.089\n",
      "[Δ] mean ||δ||_2 = 1.516 | mean ||δ||_∞ = 0.130\n",
      "[Δ] mean ||x||_2 = 11.000 | mean ||x_adv||_2 = 11.580\n",
      "Epoch 01 | victim-loss 0.4845 | acc 0.9500\n",
      "[Δ] mean ||δ||_2 = 1.938 | mean ||δ||_∞ = 0.166\n",
      "[Δ] mean ||x||_2 = 10.740 | mean ||x_adv||_2 = 11.297\n",
      "[Δ] mean ||δ||_2 = 2.067 | mean ||δ||_∞ = 0.176\n",
      "[Δ] mean ||x||_2 = 11.039 | mean ||x_adv||_2 = 11.651\n",
      "[Δ] mean ||δ||_2 = 2.532 | mean ||δ||_∞ = 0.215\n",
      "[Δ] mean ||x||_2 = 12.035 | mean ||x_adv||_2 = 12.770\n",
      "Epoch 02 | victim-loss 0.4847 | acc 0.9500\n",
      "[done] val_loss=0.4847  |  val_acc(after attack)=0.9500\n"
     ]
    }
   ],
   "source": [
    "\n",
    "\n",
    "attacker = AttackPatchTST(hidden_dim=256, x_dim=1, activation_type='tanh',\n",
    "                          patch_kwargs=patch_params).to(device)\n",
    "\n",
    "target = LEARNING_TARGET\n",
    "prepare_victim_for_input_grad(target)\n",
    "\n",
    "disc = None\n",
    "best = {'eps': 0.4,\n",
    "         'lr': 1e-4,\n",
    "         'alpha_l2': 1e-4,\n",
    "         'steps': 1, 'use_alpha_explicit': False, \n",
    "         'proj': 'none', 'proj_equal_eps': True, 'rand_init': False, 'bpda': False, \n",
    "         'use_sign': False, 'momentum_mu': 0.9, 'step_normalize': None, \n",
    "         'step_noise_std': 0.004, 'victim_eval': True, 'hidden_dim': 128}\n",
    "best['alpha'] = None\n",
    "\n",
    "alpha_explicit = None\n",
    "\n",
    "val_loss, val_acc = train_attack_iter(\n",
    "    attacker=attacker,\n",
    "    victim=target,\n",
    "    loader=train_dl,\n",
    "\n",
    "    eps=best[\"eps\"],\n",
    "    steps=best[\"steps\"],\n",
    "    alpha=alpha_explicit,\n",
    "    epochs=2,\n",
    "    lr=best[\"lr\"],\n",
    "    alpha_l2=best[\"alpha_l2\"],\n",
    "\n",
    "    lambda_disc=0.0,\n",
    "    disc=disc,\n",
    "    device=device,\n",
    "    patience=8,\n",
    "\n",
    "    data_clamp=None,\n",
    "    rand_init=best[\"rand_init\"],\n",
    "    use_sign=best[\"use_sign\"],\n",
    "    equal_eps=best[\"proj_equal_eps\"],\n",
    "    bpda=best[\"bpda\"],\n",
    "    verbose=True,\n",
    "\n",
    "    proj=best[\"proj\"],\n",
    "    proj_equal_eps=best[\"proj_equal_eps\"],\n",
    "    momentum_mu=best[\"momentum_mu\"],      \n",
    "    step_normalize=best[\"step_normalize\"],\n",
    "    step_noise_std=best[\"step_noise_std\"],\n",
    "    victim_eval=best[\"victim_eval\"],      \n",
    "    grad_clip=None,                       \n",
    ")\n",
    "\n",
    "print(f\"[done] val_loss={val_loss:.4f}  |  val_acc(after attack)={val_acc:.4f}\")\n",
    "\n"
   ]
  },
  {
   "cell_type": "markdown",
   "metadata": {},
   "source": [
    "# Сomparison of attacks"
   ]
  }
 ],
 "metadata": {
  "kernelspec": {
   "display_name": "a3_env",
   "language": "python",
   "name": "python3"
  },
  "language_info": {
   "codemirror_mode": {
    "name": "ipython",
    "version": 3
   },
   "file_extension": ".py",
   "mimetype": "text/x-python",
   "name": "python",
   "nbconvert_exporter": "python",
   "pygments_lexer": "ipython3",
   "version": "3.9.23"
  }
 },
 "nbformat": 4,
 "nbformat_minor": 2
}

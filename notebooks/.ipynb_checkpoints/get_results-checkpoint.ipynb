{
 "cells": [
  {
   "cell_type": "code",
   "execution_count": null,
   "metadata": {},
   "outputs": [
    {
     "ename": "",
     "evalue": "",
     "output_type": "error",
     "traceback": [
      "\u001b[1;31mFailed to start the Kernel. \n",
      "\u001b[1;31mJupyter Server crashed. Unable to connect. \n",
      "\u001b[1;31mError code from Jupyter: 1\n",
      "\u001b[1;31m[I 20:43:40.729 NotebookApp] The port 8888 is already in use, trying another port.\n",
      "\u001b[1;31mTraceback (most recent call last):\n",
      "\u001b[1;31m  File \"/usr/bin/jupyter-notebook\", line 10, in <module>\n",
      "\u001b[1;31m    sys.exit(main())\n",
      "\u001b[1;31m  File \"/usr/lib/python2.7/site-packages/jupyter_core/application.py\", line 266, in launch_instance\n",
      "\u001b[1;31m    return super(JupyterApp, cls).launch_instance(argv=argv, **kwargs)\n",
      "\u001b[1;31m  File \"/usr/lib/python2.7/site-packages/traitlets/config/application.py\", line 657, in launch_instance\n",
      "\u001b[1;31m    app.initialize(argv)\n",
      "\u001b[1;31m  File \"<string>\", line 2, in initialize\n",
      "\u001b[1;31m  File \"/usr/lib/python2.7/site-packages/traitlets/config/application.py\", line 87, in catch_config_error\n",
      "\u001b[1;31m    return method(app, *args, **kwargs)\n",
      "\u001b[1;31m  File \"/usr/lib/python2.7/site-packages/notebook/notebookapp.py\", line 1628, in initialize\n",
      "\u001b[1;31m    self.init_webapp()\n",
      "\u001b[1;31m  File \"/usr/lib/python2.7/site-packages/notebook/notebookapp.py\", line 1407, in init_webapp\n",
      "\u001b[1;31m    self.http_server.listen(port, self.ip)\n",
      "\u001b[1;31m  File \"/usr/lib64/python2.7/site-packages/tornado/tcpserver.py\", line 143, in listen\n",
      "\u001b[1;31m    sockets = bind_sockets(port, address=address)\n",
      "\u001b[1;31m  File \"/usr/lib64/python2.7/site-packages/tornado/netutil.py\", line 168, in bind_sockets\n",
      "\u001b[1;31m    sock.bind(sockaddr)\n",
      "\u001b[1;31m  File \"/usr/lib64/python2.7/socket.py\", line 224, in meth\n",
      "\u001b[1;31m    return getattr(self._sock,name)(*args)\n",
      "\u001b[1;31msocket.error: [Errno 99] Cannot assign requested address. \n",
      "\u001b[1;31mView Jupyter <a href='command:jupyter.viewOutput'>log</a> for further details."
     ]
    }
   ],
   "source": [
    "import pandas as pd\n",
    "import numpy as np\n",
    "\n",
    "import re\n",
    "import os\n",
    "\n",
    "os.chdir('..')\n",
    "os.chdir('results')"
   ]
  },
  {
   "cell_type": "code",
   "execution_count": null,
   "metadata": {},
   "outputs": [
    {
     "ename": "",
     "evalue": "",
     "output_type": "error",
     "traceback": [
      "\u001b[1;31mFailed to start the Kernel. \n",
      "\u001b[1;31mJupyter Server crashed. Unable to connect. \n",
      "\u001b[1;31mError code from Jupyter: 1\n",
      "\u001b[1;31m[I 17:22:59.388 NotebookApp] The port 8888 is already in use, trying another port.\n",
      "\u001b[1;31mTraceback (most recent call last):\n",
      "\u001b[1;31m  File \"/usr/bin/jupyter-notebook\", line 10, in <module>\n",
      "\u001b[1;31m    sys.exit(main())\n",
      "\u001b[1;31m  File \"/usr/lib/python2.7/site-packages/jupyter_core/application.py\", line 266, in launch_instance\n",
      "\u001b[1;31m    return super(JupyterApp, cls).launch_instance(argv=argv, **kwargs)\n",
      "\u001b[1;31m  File \"/usr/lib/python2.7/site-packages/traitlets/config/application.py\", line 657, in launch_instance\n",
      "\u001b[1;31m    app.initialize(argv)\n",
      "\u001b[1;31m  File \"<string>\", line 2, in initialize\n",
      "\u001b[1;31m  File \"/usr/lib/python2.7/site-packages/traitlets/config/application.py\", line 87, in catch_config_error\n",
      "\u001b[1;31m    return method(app, *args, **kwargs)\n",
      "\u001b[1;31m  File \"/usr/lib/python2.7/site-packages/notebook/notebookapp.py\", line 1628, in initialize\n",
      "\u001b[1;31m    self.init_webapp()\n",
      "\u001b[1;31m  File \"/usr/lib/python2.7/site-packages/notebook/notebookapp.py\", line 1407, in init_webapp\n",
      "\u001b[1;31m    self.http_server.listen(port, self.ip)\n",
      "\u001b[1;31m  File \"/usr/lib64/python2.7/site-packages/tornado/tcpserver.py\", line 143, in listen\n",
      "\u001b[1;31m    sockets = bind_sockets(port, address=address)\n",
      "\u001b[1;31m  File \"/usr/lib64/python2.7/site-packages/tornado/netutil.py\", line 168, in bind_sockets\n",
      "\u001b[1;31m    sock.bind(sockaddr)\n",
      "\u001b[1;31m  File \"/usr/lib64/python2.7/socket.py\", line 224, in meth\n",
      "\u001b[1;31m    return getattr(self._sock,name)(*args)\n",
      "\u001b[1;31msocket.error: [Errno 99] Cannot assign requested address. \n",
      "\u001b[1;31mView Jupyter <a href='command:jupyter.viewOutput'>log</a> for further details."
     ]
    }
   ],
   "source": [
    "def combined_df(dataset='FordA', model_name='ResidualCNN', reg=True, exp_name=None):\n",
    "\n",
    "    attack_type = 'fgsm_disc_attack' if reg else 'fgsm_attack'\n",
    "    exp = '_' + exp_name if exp_name else ''\n",
    "    \n",
    "    path = '/'.join([dataset, model_name, 'attack', attack_type + exp])\n",
    "\n",
    "    files = os.listdir(path)\n",
    "    files = [f for f in files if f.endswith('.csv')]\n",
    "\n",
    "    pattern = r\"(?<==).*?(?=.csv)\"\n",
    "\n",
    "    all_res = pd.DataFrame()\n",
    "\n",
    "    for file in files:\n",
    "        alpha = float(re.search(pattern, file)[0])\n",
    "        curr_res = pd.read_csv(path + '/' + file, index_col=0)\n",
    "\n",
    "        curr_res['alpha'] = alpha\n",
    "        curr_res.columns = [column.strip(' ') for column in curr_res.columns] \n",
    "\n",
    "        all_res = pd.concat([all_res, curr_res], axis=0)\n",
    "\n",
    "    return all_res.reset_index(drop=True)\n",
    "\n",
    "\n",
    "def aggregated_results(\n",
    "    dataset='Coffee', \n",
    "    model_name='RNNA', \n",
    "    reg=True, \n",
    "    exp_name='_MODE', \n",
    "    k=1, \n",
    "    metr='F_EFF_CONC',\n",
    "    metr_max=True\n",
    "    ):\n",
    "\n",
    "    all_df = combined_df(dataset=dataset, model_name=model_name, reg=reg, exp_name=exp_name)\n",
    "\n",
    "    grouped = all_df.groupby(['eps', 'alpha'])\n",
    "    result = grouped.apply(lambda x: x.nlargest(k, metr, keep='last') if metr_max else x.nsmallest(k, metr, keep='last'))\n",
    "\n",
    "    return result"
   ]
  },
  {
   "cell_type": "code",
   "execution_count": null,
   "metadata": {},
   "outputs": [
    {
     "ename": "",
     "evalue": "",
     "output_type": "error",
     "traceback": [
      "\u001b[1;31mFailed to start the Kernel. \n",
      "\u001b[1;31mJupyter Server crashed. Unable to connect. \n",
      "\u001b[1;31mError code from Jupyter: 1\n",
      "\u001b[1;31m[I 17:22:59.388 NotebookApp] The port 8888 is already in use, trying another port.\n",
      "\u001b[1;31mTraceback (most recent call last):\n",
      "\u001b[1;31m  File \"/usr/bin/jupyter-notebook\", line 10, in <module>\n",
      "\u001b[1;31m    sys.exit(main())\n",
      "\u001b[1;31m  File \"/usr/lib/python2.7/site-packages/jupyter_core/application.py\", line 266, in launch_instance\n",
      "\u001b[1;31m    return super(JupyterApp, cls).launch_instance(argv=argv, **kwargs)\n",
      "\u001b[1;31m  File \"/usr/lib/python2.7/site-packages/traitlets/config/application.py\", line 657, in launch_instance\n",
      "\u001b[1;31m    app.initialize(argv)\n",
      "\u001b[1;31m  File \"<string>\", line 2, in initialize\n",
      "\u001b[1;31m  File \"/usr/lib/python2.7/site-packages/traitlets/config/application.py\", line 87, in catch_config_error\n",
      "\u001b[1;31m    return method(app, *args, **kwargs)\n",
      "\u001b[1;31m  File \"/usr/lib/python2.7/site-packages/notebook/notebookapp.py\", line 1628, in initialize\n",
      "\u001b[1;31m    self.init_webapp()\n",
      "\u001b[1;31m  File \"/usr/lib/python2.7/site-packages/notebook/notebookapp.py\", line 1407, in init_webapp\n",
      "\u001b[1;31m    self.http_server.listen(port, self.ip)\n",
      "\u001b[1;31m  File \"/usr/lib64/python2.7/site-packages/tornado/tcpserver.py\", line 143, in listen\n",
      "\u001b[1;31m    sockets = bind_sockets(port, address=address)\n",
      "\u001b[1;31m  File \"/usr/lib64/python2.7/site-packages/tornado/netutil.py\", line 168, in bind_sockets\n",
      "\u001b[1;31m    sock.bind(sockaddr)\n",
      "\u001b[1;31m  File \"/usr/lib64/python2.7/socket.py\", line 224, in meth\n",
      "\u001b[1;31m    return getattr(self._sock,name)(*args)\n",
      "\u001b[1;31msocket.error: [Errno 99] Cannot assign requested address. \n",
      "\u001b[1;31mView Jupyter <a href='command:jupyter.viewOutput'>log</a> for further details."
     ]
    }
   ],
   "source": [
    "aggregated_results(exp_name=\"MODE\")"
   ]
  },
  {
   "cell_type": "code",
   "execution_count": null,
   "metadata": {},
   "outputs": [
    {
     "ename": "",
     "evalue": "",
     "output_type": "error",
     "traceback": [
      "\u001b[1;31mFailed to start the Kernel. \n",
      "\u001b[1;31mJupyter Server crashed. Unable to connect. \n",
      "\u001b[1;31mError code from Jupyter: 1\n",
      "\u001b[1;31m[I 17:22:59.388 NotebookApp] The port 8888 is already in use, trying another port.\n",
      "\u001b[1;31mTraceback (most recent call last):\n",
      "\u001b[1;31m  File \"/usr/bin/jupyter-notebook\", line 10, in <module>\n",
      "\u001b[1;31m    sys.exit(main())\n",
      "\u001b[1;31m  File \"/usr/lib/python2.7/site-packages/jupyter_core/application.py\", line 266, in launch_instance\n",
      "\u001b[1;31m    return super(JupyterApp, cls).launch_instance(argv=argv, **kwargs)\n",
      "\u001b[1;31m  File \"/usr/lib/python2.7/site-packages/traitlets/config/application.py\", line 657, in launch_instance\n",
      "\u001b[1;31m    app.initialize(argv)\n",
      "\u001b[1;31m  File \"<string>\", line 2, in initialize\n",
      "\u001b[1;31m  File \"/usr/lib/python2.7/site-packages/traitlets/config/application.py\", line 87, in catch_config_error\n",
      "\u001b[1;31m    return method(app, *args, **kwargs)\n",
      "\u001b[1;31m  File \"/usr/lib/python2.7/site-packages/notebook/notebookapp.py\", line 1628, in initialize\n",
      "\u001b[1;31m    self.init_webapp()\n",
      "\u001b[1;31m  File \"/usr/lib/python2.7/site-packages/notebook/notebookapp.py\", line 1407, in init_webapp\n",
      "\u001b[1;31m    self.http_server.listen(port, self.ip)\n",
      "\u001b[1;31m  File \"/usr/lib64/python2.7/site-packages/tornado/tcpserver.py\", line 143, in listen\n",
      "\u001b[1;31m    sockets = bind_sockets(port, address=address)\n",
      "\u001b[1;31m  File \"/usr/lib64/python2.7/site-packages/tornado/netutil.py\", line 168, in bind_sockets\n",
      "\u001b[1;31m    sock.bind(sockaddr)\n",
      "\u001b[1;31m  File \"/usr/lib64/python2.7/socket.py\", line 224, in meth\n",
      "\u001b[1;31m    return getattr(self._sock,name)(*args)\n",
      "\u001b[1;31msocket.error: [Errno 99] Cannot assign requested address. \n",
      "\u001b[1;31mView Jupyter <a href='command:jupyter.viewOutput'>log</a> for further details."
     ]
    }
   ],
   "source": []
  }
 ],
 "metadata": {
  "kernelspec": {
   "display_name": "Python 3",
   "language": "python",
   "name": "python3"
  },
  "language_info": {
   "codemirror_mode": {
    "name": "ipython",
    "version": 2
   },
   "file_extension": ".py",
   "mimetype": "text/x-python",
   "name": "python",
   "nbconvert_exporter": "python",
   "pygments_lexer": "ipython2",
   "version": "3.9.19"
  }
 },
 "nbformat": 4,
 "nbformat_minor": 5
}

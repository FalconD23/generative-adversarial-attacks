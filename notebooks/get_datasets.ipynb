{
 "cells": [
  {
   "cell_type": "code",
   "execution_count": 1,
   "metadata": {},
   "outputs": [],
   "source": [
    "import os"
   ]
  },
  {
   "cell_type": "code",
   "execution_count": 3,
   "metadata": {},
   "outputs": [],
   "source": [
    "os.chdir('..')"
   ]
  },
  {
   "cell_type": "code",
   "execution_count": 10,
   "metadata": {},
   "outputs": [],
   "source": [
    "aa = os.listdir('data/TS2Vec/UCR')"
   ]
  },
  {
   "cell_type": "code",
   "execution_count": 13,
   "metadata": {},
   "outputs": [
    {
     "data": {
      "text/plain": [
       "'Phoneme,SemgHandSubjectCh2,InsectEPGSmallTrain,MedicalImages,EOGHorizontalSignal,Plane,GunPointOldVersusYoung,ProximalPhalanxOutlineCorrect,GestureMidAirD1,Beef,ShapesAll,GestureMidAirD3,GunPointAgeSpan,SmallKitchenAppliances,Missing_value_and_variable_length_datasets_adjusted,Earthquakes,GesturePebbleZ2,ScreenType,Meat,InsectEPGRegularTrain,MixedShapesRegularTrain,SonyAIBORobotSurface2,Yoga,Haptics,DistalPhalanxOutlineCorrect,OSULeaf,Wafer,SwedishLeaf,BeetleFly,DistalPhalanxTW,Trace,PhalangesOutlinesCorrect,ECGFiveDays,CinCECGTorso,WordSynonyms,Car,GunPointMaleVersusFemale,ECG5000,DodgerLoopDay,PigCVP,UCRArchive_2018.zip,SmoothSubspace,Mallat,PigArtPressure,MoteStrain,GunPoint,Strawberry,SonyAIBORobotSurface1,SemgHandMovementCh2,FaceFour,Lightning2,Crop,PowerCons,ShakeGestureWiimoteZ,Adiac,AllGestureWiimoteY,DiatomSizeReduction,OliveOil,ProximalPhalanxOutlineAgeGroup,ECG200,FacesUCR,NonInvasiveFetalECGThorax1,CricketZ,UWaveGestureLibraryX,BirdChicken,WormsTwoClass,Symbols,PLAID,SyntheticControl,Fish,FordB,MiddlePhalanxOutlineAgeGroup,ShapeletSim,EOGVerticalSignal,TwoPatterns,RefrigerationDevices,HandOutlines,FreezerSmallTrain,StarLightCurves,Rock,DodgerLoopGame,GestureMidAirD2,Computers,AllGestureWiimoteZ,DistalPhalanxOutlineAgeGroup,ElectricDevices,FordA,InsectWingbeatSound,Worms,ToeSegmentation2,DodgerLoopWeekend,SemgHandGenderCh2,UWaveGestureLibraryY,CricketX,MelbournePedestrian,UMD,UWaveGestureLibraryAll,FreezerRegularTrain,LargeKitchenAppliances,PickupGestureWiimoteZ,TwoLeadECG,ProximalPhalanxTW,NonInvasiveFetalECGThorax2,BME,FiftyWords,CricketY,Lightning7,EthanolLevel,PigAirwayPressure,Herring,UWaveGestureLibraryZ,MixedShapesSmallTrain,CBF,GesturePebbleZ1,ToeSegmentation1,ChlorineConcentration,HouseTwenty,MiddlePhalanxOutlineCorrect,ItalyPowerDemand,Ham,Fungi,FaceAll,Wine,Chinatown,ArrowHead,AllGestureWiimoteX,Coffee,MiddlePhalanxTW,InlineSkate'"
      ]
     },
     "execution_count": 13,
     "metadata": {},
     "output_type": "execute_result"
    }
   ],
   "source": [
    "','.join(aa)"
   ]
  },
  {
   "cell_type": "code",
   "execution_count": 2,
   "metadata": {},
   "outputs": [],
   "source": [
    "# changing core directory\n",
    "import os\n",
    "import sys\n",
    "\n",
    "dir2 = os.path.abspath('')\n",
    "dir1 = os.path.dirname(dir2)\n",
    "if dir1 not in sys.path:\n",
    "    sys.path.append(dir1)\n",
    "os.chdir('..')"
   ]
  },
  {
   "cell_type": "code",
   "execution_count": 3,
   "metadata": {},
   "outputs": [
    {
     "name": "stderr",
     "output_type": "stream",
     "text": [
      "CUDA extension for structured kernels (Cauchy and Vandermonde multiplication) not found. Install by going to extensions/kernels/ and running `python setup.py install`, for improved speed and memory efficiency. Note that the kernel changed for state-spaces 4.0 and must be recompiled.\n",
      "Falling back on slow Cauchy and Vandermonde kernel. Install at least one of pykeops or the CUDA extension for better speed and memory efficiency.\n"
     ]
    }
   ],
   "source": [
    "import os\n",
    "\n",
    "import pandas as pd\n",
    "\n",
    "from sklearn.manifold import TSNE\n",
    "\n",
    "import seaborn as sns\n",
    "from matplotlib import pyplot as plt\n",
    "\n",
    "import torch\n",
    "from torch.utils.data import DataLoader\n",
    "\n",
    "from src.config import get_attack, get_criterion, get_disc_list, get_model\n",
    "from src.data import MyDataset, load_data, transform_data\n",
    "from src.estimation.estimators import AttackEstimator\n",
    "\n",
    "from src.models import Rocket"
   ]
  },
  {
   "cell_type": "code",
   "execution_count": 28,
   "metadata": {},
   "outputs": [],
   "source": [
    "model = Rocket(c_in=1, seq_len=10, n_kernels=1_000, device='cpu')"
   ]
  },
  {
   "cell_type": "code",
   "execution_count": 37,
   "metadata": {},
   "outputs": [],
   "source": [
    "aa = torch.rand([1, 10, 1], requires_grad=True)"
   ]
  },
  {
   "cell_type": "code",
   "execution_count": 38,
   "metadata": {},
   "outputs": [],
   "source": [
    "outputs = model(aa)"
   ]
  },
  {
   "cell_type": "code",
   "execution_count": 39,
   "metadata": {},
   "outputs": [
    {
     "data": {
      "text/plain": [
       "(tensor([[[ 0.0159],\n",
       "          [-0.0052],\n",
       "          [-0.0316],\n",
       "          [-0.0094],\n",
       "          [ 0.0869],\n",
       "          [-0.0067],\n",
       "          [ 0.0715],\n",
       "          [-0.0587],\n",
       "          [ 0.0722],\n",
       "          [ 0.0449]]]),)"
      ]
     },
     "execution_count": 39,
     "metadata": {},
     "output_type": "execute_result"
    }
   ],
   "source": [
    "torch.autograd.grad(outputs, aa)"
   ]
  }
 ],
 "metadata": {
  "kernelspec": {
   "display_name": "base",
   "language": "python",
   "name": "python3"
  },
  "language_info": {
   "codemirror_mode": {
    "name": "ipython",
    "version": 3
   },
   "file_extension": ".py",
   "mimetype": "text/x-python",
   "name": "python",
   "nbconvert_exporter": "python",
   "pygments_lexer": "ipython3",
   "version": "3.8.8"
  }
 },
 "nbformat": 4,
 "nbformat_minor": 2
}

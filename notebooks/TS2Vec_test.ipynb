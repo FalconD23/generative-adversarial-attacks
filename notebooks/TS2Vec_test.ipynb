{
 "cells": [
  {
   "cell_type": "code",
   "execution_count": 1,
   "metadata": {},
   "outputs": [],
   "source": [
    "import os, sys\n",
    "dir2 = os.path.abspath('')\n",
    "dir1 = os.path.dirname(dir2)\n",
    "if not dir1 in sys.path:\n",
    "    sys.path.append(dir1)\n",
    "os.chdir('..')"
   ]
  },
  {
   "cell_type": "code",
   "execution_count": 2,
   "metadata": {},
   "outputs": [],
   "source": [
    "import copy\n",
    "import warnings\n",
    "warnings.filterwarnings('ignore')\n",
    "\n",
    "import hydra\n",
    "from hydra.utils import instantiate\n",
    "from omegaconf import DictConfig\n",
    "\n",
    "from tqdm.auto import tqdm\n",
    "\n",
    "import torch\n",
    "from torch.utils.data import DataLoader\n",
    "\n",
    "from utils.data import load_Ford_A, transform_data, MyDataset\n",
    "from models.models import LSTM_net\n",
    "\n",
    "from utils.attacks import attack_procedure\n",
    "from utils.utils import save_experiment, load_disc_model\n",
    "from utils.config import get_attack, load_disc_config\n",
    "from utils.TS2Vec.datautils import load_UCR\n"
   ]
  },
  {
   "cell_type": "code",
   "execution_count": 3,
   "metadata": {},
   "outputs": [
    {
     "name": "stdout",
     "output_type": "stream",
     "text": [
      "dataset: GunPointOldVersusYoung\n",
      "slice: true\n",
      "use_disc_check: false\n",
      "model_folder: checkpoints/${dataset}/TS2Vec/\n",
      "save_path: results/${dataset}/IFGSM/${attack_type}\n",
      "model_id_attack: 0\n",
      "attack_model:\n",
      "  _target_: models.models.TS2VecClassifier\n",
      "disc_model:\n",
      "  _target_: models.models.LSTM_net\n",
      "  hidden_dim: 50\n",
      "  n_layers: 1\n",
      "  output_dim: 1\n",
      "  dropout: 0.0\n",
      "disc_path: results/${dataset}/IFGSM/Discriminator_pickle\n",
      "disc_model_check:\n",
      "  _target_: models.models.LSTM_net\n",
      "  hidden_dim: 50\n",
      "  n_layers: 1\n",
      "  output_dim: 1\n",
      "  dropout: 0.0\n",
      "cuda: cuda:2\n",
      "attack_type: fgsm_attack\n",
      "n_iterations: 10\n",
      "all_eps:\n",
      "- 0.1\n",
      "train_mode: true\n",
      "batch_size: 64\n",
      "alphas:\n",
      "- 10\n",
      "disc_check_params:\n",
      "  model_id: 0\n",
      "  model_name: fgsm_attack_eps=0.03_nsteps=10\n",
      "\n"
     ]
    }
   ],
   "source": [
    "from hydra import compose, initialize\n",
    "from omegaconf import OmegaConf\n",
    "initialize(config_path='../config', version_base=None)\n",
    "cfg = compose(config_name='attack_run_config')\n",
    "print(OmegaConf.to_yaml(cfg))"
   ]
  },
  {
   "cell_type": "code",
   "execution_count": 8,
   "metadata": {},
   "outputs": [
    {
     "name": "stderr",
     "output_type": "stream",
     "text": [
      "100%|██████████| 1/1 [00:00<00:00, 35.50it/s]\n"
     ]
    }
   ],
   "source": [
    "# load data\n",
    "if cfg['dataset'] == 'Ford_A':\n",
    "    X_train, X_test, y_train, y_test = load_Ford_A()\n",
    "else:\n",
    "    X_train, y_train, X_test, y_test = load_UCR(cfg['dataset'])\n",
    "\n",
    "X_train, X_test, y_train, y_test = transform_data(X_train, X_test, y_train, y_test, slice_data=cfg['slice'])\n",
    "\n",
    "test_loader = DataLoader(\n",
    "    MyDataset(X_test, y_test), \n",
    "    batch_size=cfg['batch_size'] , \n",
    "    shuffle=False\n",
    "    )\n",
    "\n",
    "criterion = torch.nn.BCELoss()\n",
    "n_objects = y_test.shape[0]\n",
    "device= torch.device(cfg['cuda'] if torch.cuda.is_available() else 'cpu')\n",
    "attack_func = get_attack(cfg['attack_type'])\n",
    "\n",
    "\n",
    "model = instantiate(cfg.attack_model).to(device)\n",
    "\n",
    "disc_model = instantiate(cfg.disc_model).to(device)\n",
    "\n",
    "if cfg['use_disc_check']:\n",
    "    disc_model_check = instantiate(cfg.disc_model_check).to(device)\n",
    "    disc_model_check = load_disc_model(\n",
    "        copy.deepcopy(disc_model_check),\n",
    "        model_id=cfg['disc_check_params']['model_id'], \n",
    "        path=cfg['disc_path'], \n",
    "        model_name=cfg['disc_check_params']['model_name'], \n",
    "        device=device\n",
    "        )\n",
    "    disc_model_check.eval()\n",
    "else: \n",
    "    disc_model_check = None\n",
    "\n",
    "alphas = [0]\n",
    "if 'reg' in cfg['attack_type'] or 'disc' in cfg['attack_type']:\n",
    "    alphas = cfg['alphas']\n",
    "\n",
    "for alpha in tqdm(alphas):\n",
    "\n",
    "    attack_params = dict()\n",
    "\n",
    "    if 'reg' in cfg['attack_type'] :\n",
    "        attack_params['alpha'] = alpha\n",
    "\n",
    "    elif 'disc' in cfg['attack_type']:\n",
    "        attack_params['alpha'] = alpha\n",
    "        attack_params['disc_models'] = load_disc_config(\n",
    "            copy.deepcopy(disc_model),\n",
    "            cfg['disc_path'], \n",
    "            device, \n",
    "            cfg['list_reg_model_params']\n",
    "            )  \n",
    "        \n",
    "        attack_params['disc_models'] = [model.eval() for model in  attack_params['disc_models']]\n",
    "    \n",
    "    model_path = cfg['model_folder'] + f'model_{cfg[\"model_id_attack\"]}_{cfg[\"dataset\"]}.pth'\n",
    "    model.load_state_dict(copy.deepcopy(torch.load(model_path)))\n",
    "    model.eval()"
   ]
  },
  {
   "cell_type": "code",
   "execution_count": 9,
   "metadata": {},
   "outputs": [
    {
     "data": {
      "text/plain": [
       "torch.Size([408, 50])"
      ]
     },
     "execution_count": 9,
     "metadata": {},
     "output_type": "execute_result"
    }
   ],
   "source": [
    "X_train.shape"
   ]
  },
  {
   "cell_type": "code",
   "execution_count": 10,
   "metadata": {},
   "outputs": [
    {
     "name": "stdout",
     "output_type": "stream",
     "text": [
      "tensor([0.2397, 0.2227, 0.2585, 0.2803, 0.3318, 0.2228, 0.2867, 0.3565, 0.2360,\n",
      "        0.3544], device='cuda:2', grad_fn=<SliceBackward0>) tensor([0., 0., 0., 0., 0., 0., 0., 0., 0., 0.])\n",
      "tensor([0.2531, 0.2863, 0.2862, 0.2658, 0.2865, 0.2841, 0.2719, 0.3055, 0.2765,\n",
      "        0.2610], device='cuda:2', grad_fn=<SliceBackward0>) tensor([0., 0., 0., 0., 0., 0., 0., 0., 0., 0.])\n",
      "tensor([0.2670, 0.3452, 0.2862, 0.3133, 0.3165, 0.2981, 0.2817, 0.2583, 0.2585,\n",
      "        0.2569], device='cuda:2', grad_fn=<SliceBackward0>) tensor([0., 0., 0., 0., 0., 0., 0., 0., 0., 0.])\n",
      "tensor([0.6477, 0.7801, 0.7936, 0.7923, 0.6777, 0.7748, 0.8004, 0.6859, 0.6816,\n",
      "        0.7812], device='cuda:2', grad_fn=<SliceBackward0>) tensor([1., 1., 1., 1., 1., 1., 1., 1., 1., 1.])\n",
      "tensor([0.7988, 0.6751, 0.7901, 0.7987, 0.7822, 0.7997, 0.7926, 0.6846, 0.6364,\n",
      "        0.7764], device='cuda:2', grad_fn=<SliceBackward0>) tensor([1., 1., 1., 1., 1., 1., 1., 1., 1., 1.])\n",
      "tensor([0.2261, 0.2910, 0.3591, 0.2403, 0.3572, 0.2634, 0.3203, 0.3383, 0.2457,\n",
      "        0.3282], device='cuda:2', grad_fn=<SliceBackward0>) tensor([0., 0., 0., 0., 0., 0., 0., 0., 0., 0.])\n",
      "tensor([0.2842, 0.2756, 0.3100, 0.2829, 0.2650, 0.3095, 0.2793, 0.2738, 0.3000,\n",
      "        0.2749], device='cuda:2', grad_fn=<SliceBackward0>) tensor([0., 0., 0., 0., 0., 0., 0., 0., 0., 0.])\n",
      "tensor([0.2981, 0.2869, 0.2633, 0.2643, 0.2622, 0.1988, 0.3078, 0.2507, 0.3328,\n",
      "        0.2967], device='cuda:2', grad_fn=<SliceBackward0>) tensor([0., 0., 0., 0., 0., 0., 0., 0., 0., 0.])\n",
      "tensor([0.7714, 0.7966, 0.6856, 0.6810, 0.7812, 0.6879, 0.4030, 0.7644, 0.7791,\n",
      "        0.7773], device='cuda:2', grad_fn=<SliceBackward0>) tensor([1., 1., 1., 1., 1., 1., 1., 1., 1., 1.])\n",
      "tensor([0.7944, 0.7910, 0.6829, 0.6467, 0.7727, 0.6830, 0.6805, 0.6726, 0.7878,\n",
      "        0.6602], device='cuda:2', grad_fn=<SliceBackward0>) tensor([1., 1., 1., 1., 1., 1., 1., 1., 1., 1.])\n",
      "tensor([0.2634, 0.3215, 0.3469, 0.2512, 0.3296, 0.3444, 0.2310, 0.2396, 0.2862,\n",
      "        0.3119], device='cuda:2', grad_fn=<SliceBackward0>) tensor([0., 0., 0., 0., 0., 0., 0., 0., 0., 0.])\n",
      "tensor([0.3177, 0.2827, 0.2775, 0.3043, 0.2745, 0.3177, 0.3436, 0.2864, 0.2953,\n",
      "        0.3150], device='cuda:2', grad_fn=<SliceBackward0>) tensor([0., 0., 0., 0., 0., 0., 0., 0., 0., 0.])\n",
      "tensor([0.1992, 0.3079, 0.2507, 0.3353, 0.2998, 0.3171, 0.2460, 0.3020, 0.3384,\n",
      "        0.2926], device='cuda:2', grad_fn=<SliceBackward0>) tensor([0., 0., 0., 0., 0., 0., 0., 0., 0., 0.])\n",
      "tensor([0.6886, 0.4255, 0.7601, 0.7761, 0.7739, 0.7599, 0.6713, 0.6859, 0.5978,\n",
      "        0.6610], device='cuda:2', grad_fn=<SliceBackward0>) tensor([1., 1., 1., 1., 1., 1., 1., 1., 1., 1.])\n",
      "tensor([0.6829, 0.6803, 0.6779, 0.7827, 0.6650, 0.7845, 0.8294, 0.7989, 0.3838,\n",
      "        0.7698], device='cuda:2', grad_fn=<SliceBackward0>) tensor([1., 1., 1., 1., 1., 1., 1., 1., 1., 1.])\n"
     ]
    }
   ],
   "source": [
    "y_true = torch.Tensor()\n",
    "y_pred = torch.Tensor()\n",
    "\n",
    "for X, y in test_loader:\n",
    "    pred = model(X.to(device))\n",
    "    print(pred.flatten()[:10], y.flatten()[:10])\n",
    "\n",
    "    y_true = torch.cat([y_true, y])\n",
    "    y_pred = torch.cat([y_pred, pred.cpu()])\n",
    "    if 1 in pred.to(int):\n",
    "        print('1 is detected')\n",
    "        break\n",
    "        "
   ]
  },
  {
   "cell_type": "code",
   "execution_count": 11,
   "metadata": {},
   "outputs": [
    {
     "data": {
      "text/plain": [
       "tensor(0.9841)"
      ]
     },
     "execution_count": 11,
     "metadata": {},
     "output_type": "execute_result"
    }
   ],
   "source": [
    "#accuracy\n",
    "torch.sum(y_true.flatten() == (y_pred.flatten() > 0.5)) / len(y_true.flatten())"
   ]
  },
  {
   "cell_type": "code",
   "execution_count": null,
   "metadata": {},
   "outputs": [],
   "source": []
  }
 ],
 "metadata": {
  "kernelspec": {
   "display_name": "base",
   "language": "python",
   "name": "python3"
  },
  "language_info": {
   "codemirror_mode": {
    "name": "ipython",
    "version": 3
   },
   "file_extension": ".py",
   "mimetype": "text/x-python",
   "name": "python",
   "nbconvert_exporter": "python",
   "pygments_lexer": "ipython3",
   "version": "3.9.16"
  },
  "orig_nbformat": 4
 },
 "nbformat": 4,
 "nbformat_minor": 2
}

{
 "cells": [
  {
   "cell_type": "code",
   "execution_count": 1,
   "metadata": {},
   "outputs": [],
   "source": [
    "# changing core directory\n",
    "import os\n",
    "import sys\n",
    "\n",
    "dir2 = os.path.abspath('')\n",
    "dir1 = os.path.dirname(dir2)\n",
    "if dir1 not in sys.path:\n",
    "    sys.path.append(dir1)\n",
    "os.chdir('..')"
   ]
  },
  {
   "cell_type": "code",
   "execution_count": 2,
   "metadata": {},
   "outputs": [
    {
     "name": "stderr",
     "output_type": "stream",
     "text": [
      "CUDA extension for structured kernels (Cauchy and Vandermonde multiplication) not found. Install by going to extensions/kernels/ and running `python setup.py install`, for improved speed and memory efficiency. Note that the kernel changed for state-spaces 4.0 and must be recompiled.\n",
      "Falling back on slow Cauchy and Vandermonde kernel. Install at least one of pykeops or the CUDA extension for better speed and memory efficiency.\n"
     ]
    }
   ],
   "source": [
    "import copy\n",
    "\n",
    "import matplotlib.pyplot as plt\n",
    "import numpy as np\n",
    "import pandas as pd\n",
    "import torch\n",
    "from torch.utils.data import DataLoader\n",
    "from tqdm.auto import tqdm\n",
    "\n",
    "# from src.attacks import fgsm_attack, only_disc_attack\n",
    "# from src.attacks.utils import calculate_metrics_class_and_hiddens, req_grad\n",
    "from src.config import get_disc_list\n",
    "from src.data import MyDataset, load_data, transform_data\n",
    "from src.models.LSTM import LSTM\n",
    "# from src.utils import load_disc_model"
   ]
  },
  {
   "cell_type": "code",
   "execution_count": 3,
   "metadata": {},
   "outputs": [
    {
     "name": "stdout",
     "output_type": "stream",
     "text": [
      "attack_model:\n",
      "  name: LSTM\n",
      "  params:\n",
      "    hidden_dim: 50\n",
      "    n_layers: 1\n",
      "    output_dim: 1\n",
      "    dropout: 0.0\n",
      "  hyperparameters_vary:\n",
      "    dropout:\n",
      "      optuna_type: float\n",
      "      low: 0.1\n",
      "      high: 0.7\n",
      "      step: 0.1\n",
      "  attack_train_mode: true\n",
      "disc_model_reg:\n",
      "  name: LSTM\n",
      "  params:\n",
      "    hidden_dim: 50\n",
      "    n_layers: 1\n",
      "    output_dim: 1\n",
      "    dropout: 0.0\n",
      "  hyperparameters_vary:\n",
      "    dropout:\n",
      "      optuna_type: float\n",
      "      low: 0.1\n",
      "      high: 0.7\n",
      "      step: 0.1\n",
      "  attack_train_mode: true\n",
      "disc_model_check:\n",
      "  name: LSTM\n",
      "  params:\n",
      "    hidden_dim: 50\n",
      "    n_layers: 1\n",
      "    output_dim: 1\n",
      "    dropout: 0.0\n",
      "  hyperparameters_vary:\n",
      "    dropout:\n",
      "      optuna_type: float\n",
      "      low: 0.1\n",
      "      high: 0.7\n",
      "      step: 0.1\n",
      "  attack_train_mode: true\n",
      "attack:\n",
      "  name: FGSMAttack\n",
      "  short_name: fgsm_attack\n",
      "  attack_params:\n",
      "    eps:\n",
      "    - 0.03\n",
      "    n_steps: 10\n",
      "  hyperparameters_vary:\n",
      "    eps:\n",
      "      optuna_type: float\n",
      "      low: 0.01\n",
      "      high: 0.5\n",
      "      log: true\n",
      "    n_steps:\n",
      "      optuna_type: const\n",
      "      value: 50\n",
      "defence:\n",
      "  name: DefenseRegDiscAttack\n",
      "  short_name: fgsm_disc_attack\n",
      "  attack_params:\n",
      "    eps:\n",
      "    - 0.03\n",
      "    n_steps: 10\n",
      "    use_sigmoid: false\n",
      "  list_reg_model_params:\n",
      "  - model_id: 0\n",
      "    model_name: fgsm_attack_eps=0.03_nsteps=10\n",
      "  hyperparameters_vary:\n",
      "    eps:\n",
      "      optuna_type: const\n",
      "      value: 0.03\n",
      "    n_steps:\n",
      "      optuna_type: const\n",
      "      value: 50\n",
      "dataset: FordA\n",
      "slice: true\n",
      "use_disc_check: true\n",
      "test_run: false\n",
      "exp_name: _multi_eps\n",
      "model_folder: checkpoints/${dataset}\n",
      "disc_path: results/${dataset}/${attack_model.name}/discriminator/fgsm_attack_multi_eps\n",
      "save_path: results/${dataset}/${attack_model.name}/attack/${attack.short_name}${exp_name}\n",
      "model_id_attack: 0\n",
      "criterion_name: BCELoss\n",
      "criterion_params: null\n",
      "batch_size: 64\n",
      "cuda: cuda:2\n",
      "metric_effect: F1\n",
      "list_check_model_params:\n",
      "- model_id: 0\n",
      "  model_name: fgsm_attack_eps=0.03_nsteps=10\n",
      "enable_optimization: true\n",
      "optuna_optimizer:\n",
      "  n_trials: 40\n",
      "  sampler:\n",
      "    _target_: optuna.samplers.TPESampler\n",
      "    seed: 0\n",
      "  pruner:\n",
      "    _target_: optuna.pruners.MedianPruner\n",
      "  optim_metric: F_EFF_CONC\n",
      "  hyperparameters_vary: ${attack.hyperparameters_vary}\n",
      "\n"
     ]
    }
   ],
   "source": [
    "from hydra import compose, initialize\n",
    "from omegaconf import OmegaConf\n",
    "initialize(config_path='../config/my_configs', version_base=None)\n",
    "cfg = compose(config_name='attack_run_config.yaml')\n",
    "print(OmegaConf.to_yaml(cfg))"
   ]
  },
  {
   "cell_type": "markdown",
   "metadata": {},
   "source": [
    "# NEW CODE"
   ]
  },
  {
   "cell_type": "code",
   "execution_count": 4,
   "metadata": {},
   "outputs": [],
   "source": [
    "import os\n",
    "import warnings\n",
    "\n",
    "import hydra\n",
    "import pandas as pd\n",
    "import torch\n",
    "from omegaconf import DictConfig\n",
    "from torch.utils.data import DataLoader\n",
    "\n",
    "from src.config import get_attack, get_criterion, get_disc_list, get_model\n",
    "from src.data import MyDataset, load_data, transform_data\n",
    "from src.estimation.estimators import AttackEstimator\n",
    "from src.utils import save_experiment"
   ]
  },
  {
   "cell_type": "code",
   "execution_count": 5,
   "metadata": {},
   "outputs": [],
   "source": [
    "X_train, y_train, X_test, y_test = load_data(cfg['dataset'])\n",
    "X_train, X_test, y_train, y_test = transform_data(X_train, X_test, y_train, y_test, slice_data=cfg['slice'])\n",
    "\n",
    "test_loader = DataLoader(\n",
    "    MyDataset(X_test, y_test), \n",
    "    batch_size=cfg['batch_size'] , \n",
    "    shuffle=True\n",
    "    )\n",
    "\n",
    "\n",
    "device = torch.device(cfg[\"cuda\"] if torch.cuda.is_available() else \"cpu\")\n",
    "\n",
    "attack_model_path = os.path.join(\n",
    "    cfg[\"model_folder\"],\n",
    "    cfg[\"attack_model\"][\"name\"],\n",
    "    f\"model_{cfg['model_id_attack']}_{cfg['dataset']}.pt\",\n",
    ")\n",
    "\n",
    "attack_model = get_model(\n",
    "    cfg[\"attack_model\"][\"name\"],\n",
    "    cfg[\"attack_model\"][\"params\"],\n",
    "    path=attack_model_path,\n",
    "    device=device,\n",
    "    train_mode=cfg[\"attack_model\"][\"attack_train_mode\"],\n",
    ")"
   ]
  },
  {
   "cell_type": "code",
   "execution_count": 6,
   "metadata": {},
   "outputs": [],
   "source": [
    "criterion = get_criterion(cfg[\"criterion_name\"], cfg[\"criterion_params\"])\n",
    "\n",
    "disc_check_list = (\n",
    "    get_disc_list(\n",
    "        model_name=cfg[\"disc_model_check\"][\"name\"],\n",
    "        model_params=cfg[\"disc_model_check\"][\"params\"],\n",
    "        list_disc_params=cfg[\"list_check_model_params\"],\n",
    "        device=device,\n",
    "        path=cfg[\"disc_path\"],\n",
    "        train_mode=False,\n",
    "    )\n",
    "    if cfg[\"use_disc_check\"]\n",
    "    else None\n",
    ")\n",
    "estimator = AttackEstimator(disc_check_list, cfg[\"metric_effect\"])"
   ]
  },
  {
   "cell_type": "code",
   "execution_count": 7,
   "metadata": {},
   "outputs": [],
   "source": [
    "alpha = 1\n",
    "eps = 0.03"
   ]
  },
  {
   "cell_type": "code",
   "execution_count": 8,
   "metadata": {},
   "outputs": [
    {
     "name": "stdout",
     "output_type": "stream",
     "text": [
      "logging\n"
     ]
    },
    {
     "data": {
      "application/json": {
       "ascii": false,
       "bar_format": null,
       "colour": null,
       "elapsed": 0.0069239139556884766,
       "initial": 0,
       "n": 0,
       "ncols": null,
       "nrows": null,
       "postfix": null,
       "prefix": "",
       "rate": null,
       "total": 10,
       "unit": "it",
       "unit_divisor": 1000,
       "unit_scale": false
      },
      "application/vnd.jupyter.widget-view+json": {
       "model_id": "6d4cdf9d30304bc3a3a87344efb3a5ff",
       "version_major": 2,
       "version_minor": 0
      },
      "text/plain": [
       "  0%|          | 0/10 [00:00<?, ?it/s]"
      ]
     },
     "metadata": {},
     "output_type": "display_data"
    }
   ],
   "source": [
    "attack_metrics = pd.DataFrame()\n",
    "attack_params = dict(cfg[\"attack\"][\"attack_params\"])\n",
    "attack_params[\"model\"] = attack_model\n",
    "attack_params[\"criterion\"] = criterion\n",
    "attack_params[\"estimator\"] = estimator\n",
    "attack_params[\"alpha\"] = alpha\n",
    "attack_params[\"eps\"] = eps\n",
    "\n",
    "if \"list_reg_model_params\" in cfg[\"attack\"]:\n",
    "    attack_params[\"disc_models\"] = get_disc_list(\n",
    "        model_name=cfg[\"disc_model_reg\"][\"name\"],\n",
    "        model_params=cfg[\"disc_model_reg\"][\"params\"],\n",
    "        list_disc_params=cfg[\"attack\"][\"list_reg_model_params\"],\n",
    "        device=device,\n",
    "        path=cfg[\"disc_path\"],\n",
    "        train_mode=cfg[\"disc_model_reg\"][\"attack_train_mode\"],\n",
    "    )\n",
    "\n",
    "attack = get_attack(cfg[\"attack\"][\"name\"], attack_params)\n",
    "X_adv = attack.apply_attack(test_loader).squeeze(-1)\n",
    "\n",
    "results = attack.get_metrics()\n",
    "results[\"eps\"] = eps\n",
    "attack_metrics = pd.concat([attack_metrics, results])"
   ]
  },
  {
   "cell_type": "code",
   "execution_count": 9,
   "metadata": {},
   "outputs": [],
   "source": [
    "X_orig = torch.tensor(test_loader.dataset.X)\n",
    "\n",
    "assert X_orig.shape == X_adv.shape\n",
    "\n",
    "dataset_class = test_loader.dataset.__class__\n",
    "dataset = dataset_class(X_adv, test_loader.dataset.y)\n",
    "\n",
    "loader = DataLoader(dataset, batch_size=test_loader.batch_size, shuffle=True)"
   ]
  },
  {
   "cell_type": "code",
   "execution_count": 10,
   "metadata": {},
   "outputs": [
    {
     "name": "stdout",
     "output_type": "stream",
     "text": [
      "logging\n"
     ]
    },
    {
     "data": {
      "application/json": {
       "ascii": false,
       "bar_format": null,
       "colour": null,
       "elapsed": 0.005559206008911133,
       "initial": 0,
       "n": 0,
       "ncols": null,
       "nrows": null,
       "postfix": null,
       "prefix": "",
       "rate": null,
       "total": 10,
       "unit": "it",
       "unit_divisor": 1000,
       "unit_scale": false
      },
      "application/vnd.jupyter.widget-view+json": {
       "model_id": "0c06c4f400934fbaa8ed0a893fc47d75",
       "version_major": 2,
       "version_minor": 0
      },
      "text/plain": [
       "  0%|          | 0/10 [00:00<?, ?it/s]"
      ]
     },
     "metadata": {},
     "output_type": "display_data"
    }
   ],
   "source": [
    "attack_params = dict(cfg[\"defence\"][\"attack_params\"])\n",
    "attack_params[\"model\"] = attack_model\n",
    "attack_params[\"criterion\"] = criterion\n",
    "attack_params[\"estimator\"] = estimator\n",
    "attack_params[\"alpha\"] = alpha\n",
    "attack_params[\"eps\"] = eps\n",
    "\n",
    "if \"list_reg_model_params\" in cfg[\"defence\"]:\n",
    "    attack_params[\"disc_models\"] = get_disc_list(\n",
    "        model_name=cfg[\"disc_model_reg\"][\"name\"],\n",
    "        model_params=cfg[\"disc_model_reg\"][\"params\"],\n",
    "        list_disc_params=cfg[\"defence\"][\"list_reg_model_params\"],\n",
    "        device=device,\n",
    "        path=cfg[\"disc_path\"],\n",
    "        train_mode=cfg[\"disc_model_reg\"][\"attack_train_mode\"],\n",
    "    )\n",
    "\n",
    "attack = get_attack(cfg[\"defence\"][\"name\"], attack_params)\n",
    "X_adv = attack.apply_attack(test_loader)\n",
    "\n",
    "results = attack.get_metrics()\n",
    "results[\"eps\"] = eps\n",
    "attack_metrics = pd.concat([attack_metrics, results])"
   ]
  },
  {
   "cell_type": "code",
   "execution_count": 11,
   "metadata": {},
   "outputs": [
    {
     "data": {
      "text/plain": [
       "<src.attacks.fgsm.DefenseRegDiscAttack at 0x7f1bf8e5b490>"
      ]
     },
     "execution_count": 11,
     "metadata": {},
     "output_type": "execute_result"
    }
   ],
   "source": [
    "attack"
   ]
  },
  {
   "cell_type": "code",
   "execution_count": 12,
   "metadata": {},
   "outputs": [
    {
     "data": {
      "image/png": "[encoded data removed]",
      "text/plain": [
       "<Figure size 640x480 with 1 Axes>"
      ]
     },
     "metadata": {},
     "output_type": "display_data"
    }
   ],
   "source": [
    "x = np.arange(len(attack_metrics))\n",
    "plt.plot(x, attack_metrics['EFF'], label='Effectiveness')\n",
    "plt.plot(x, attack_metrics['CONC'], label='Concelability')\n",
    "plt.axvline(10, label='changing', c='red', linestyle='--', linewidth=2)\n",
    "plt.legend()\n",
    "plt.xlabel('iterations')\n",
    "plt.grid()\n",
    "plt.show()"
   ]
  },
  {
   "cell_type": "code",
   "execution_count": 13,
   "metadata": {},
   "outputs": [
    {
     "data": {
      "text/plain": [
       "Index(['ACC', 'ROC', 'PR', 'F1', 'EFF', 'L1', 'ACC_ORIG_ADV', 'HID', 'CONC',\n",
       "       'F_EFF_CONC', 'step_id', 'eps'],\n",
       "      dtype='object')"
      ]
     },
     "execution_count": 13,
     "metadata": {},
     "output_type": "execute_result"
    }
   ],
   "source": [
    "attack_metrics.columns"
   ]
  },
  {
   "cell_type": "code",
   "execution_count": 14,
   "metadata": {},
   "outputs": [
    {
     "data": {
      "text/html": [
       "<div>\n",
       "<style scoped>\n",
       "    .dataframe tbody tr th:only-of-type {\n",
       "        vertical-align: middle;\n",
       "    }\n",
       "\n",
       "    .dataframe tbody tr th {\n",
       "        vertical-align: top;\n",
       "    }\n",
       "\n",
       "    .dataframe thead th {\n",
       "        text-align: right;\n",
       "    }\n",
       "</style>\n",
       "<table border=\"1\" class=\"dataframe\">\n",
       "  <thead>\n",
       "    <tr style=\"text-align: right;\">\n",
       "      <th></th>\n",
       "      <th>ACC</th>\n",
       "      <th>HID</th>\n",
       "      <th>step_id</th>\n",
       "    </tr>\n",
       "  </thead>\n",
       "  <tbody>\n",
       "    <tr>\n",
       "      <th>0</th>\n",
       "      <td>0.4925</td>\n",
       "      <td>0.09119573</td>\n",
       "      <td>0</td>\n",
       "    </tr>\n",
       "    <tr>\n",
       "      <th>0</th>\n",
       "      <td>0.504015</td>\n",
       "      <td>0.99616027</td>\n",
       "      <td>1</td>\n",
       "    </tr>\n",
       "    <tr>\n",
       "      <th>0</th>\n",
       "      <td>0.345455</td>\n",
       "      <td>0.9256919</td>\n",
       "      <td>2</td>\n",
       "    </tr>\n",
       "    <tr>\n",
       "      <th>0</th>\n",
       "      <td>0.229167</td>\n",
       "      <td>0.9969394</td>\n",
       "      <td>3</td>\n",
       "    </tr>\n",
       "    <tr>\n",
       "      <th>0</th>\n",
       "      <td>0.156742</td>\n",
       "      <td>0.9972377</td>\n",
       "      <td>4</td>\n",
       "    </tr>\n",
       "    <tr>\n",
       "      <th>0</th>\n",
       "      <td>0.114318</td>\n",
       "      <td>0.99788207</td>\n",
       "      <td>5</td>\n",
       "    </tr>\n",
       "    <tr>\n",
       "      <th>0</th>\n",
       "      <td>0.088864</td>\n",
       "      <td>0.99804646</td>\n",
       "      <td>6</td>\n",
       "    </tr>\n",
       "    <tr>\n",
       "      <th>0</th>\n",
       "      <td>0.0725</td>\n",
       "      <td>0.9982598</td>\n",
       "      <td>7</td>\n",
       "    </tr>\n",
       "    <tr>\n",
       "      <th>0</th>\n",
       "      <td>0.058712</td>\n",
       "      <td>0.9984075</td>\n",
       "      <td>8</td>\n",
       "    </tr>\n",
       "    <tr>\n",
       "      <th>0</th>\n",
       "      <td>0.049924</td>\n",
       "      <td>0.9985432</td>\n",
       "      <td>9</td>\n",
       "    </tr>\n",
       "    <tr>\n",
       "      <th>0</th>\n",
       "      <td>0.042348</td>\n",
       "      <td>0.9986207</td>\n",
       "      <td>10</td>\n",
       "    </tr>\n",
       "    <tr>\n",
       "      <th>0</th>\n",
       "      <td>0.502045</td>\n",
       "      <td>0.09119573</td>\n",
       "      <td>0</td>\n",
       "    </tr>\n",
       "    <tr>\n",
       "      <th>0</th>\n",
       "      <td>0.501667</td>\n",
       "      <td>0.99961466</td>\n",
       "      <td>1</td>\n",
       "    </tr>\n",
       "    <tr>\n",
       "      <th>0</th>\n",
       "      <td>0.500985</td>\n",
       "      <td>0.9918584</td>\n",
       "      <td>2</td>\n",
       "    </tr>\n",
       "    <tr>\n",
       "      <th>0</th>\n",
       "      <td>0.500303</td>\n",
       "      <td>0.99883896</td>\n",
       "      <td>3</td>\n",
       "    </tr>\n",
       "    <tr>\n",
       "      <th>0</th>\n",
       "      <td>0.500833</td>\n",
       "      <td>0.99179065</td>\n",
       "      <td>4</td>\n",
       "    </tr>\n",
       "    <tr>\n",
       "      <th>0</th>\n",
       "      <td>0.501288</td>\n",
       "      <td>0.99854493</td>\n",
       "      <td>5</td>\n",
       "    </tr>\n",
       "    <tr>\n",
       "      <th>0</th>\n",
       "      <td>0.501061</td>\n",
       "      <td>0.991682</td>\n",
       "      <td>6</td>\n",
       "    </tr>\n",
       "    <tr>\n",
       "      <th>0</th>\n",
       "      <td>0.501288</td>\n",
       "      <td>0.99838024</td>\n",
       "      <td>7</td>\n",
       "    </tr>\n",
       "    <tr>\n",
       "      <th>0</th>\n",
       "      <td>0.502803</td>\n",
       "      <td>0.9914878</td>\n",
       "      <td>8</td>\n",
       "    </tr>\n",
       "    <tr>\n",
       "      <th>0</th>\n",
       "      <td>0.501136</td>\n",
       "      <td>0.99827033</td>\n",
       "      <td>9</td>\n",
       "    </tr>\n",
       "    <tr>\n",
       "      <th>0</th>\n",
       "      <td>0.501364</td>\n",
       "      <td>0.9913888</td>\n",
       "      <td>10</td>\n",
       "    </tr>\n",
       "  </tbody>\n",
       "</table>\n",
       "</div>"
      ],
      "text/plain": [
       "        ACC         HID step_id\n",
       "0    0.4925  0.09119573       0\n",
       "0  0.504015  0.99616027       1\n",
       "0  0.345455   0.9256919       2\n",
       "0  0.229167   0.9969394       3\n",
       "0  0.156742   0.9972377       4\n",
       "0  0.114318  0.99788207       5\n",
       "0  0.088864  0.99804646       6\n",
       "0    0.0725   0.9982598       7\n",
       "0  0.058712   0.9984075       8\n",
       "0  0.049924   0.9985432       9\n",
       "0  0.042348   0.9986207      10\n",
       "0  0.502045  0.09119573       0\n",
       "0  0.501667  0.99961466       1\n",
       "0  0.500985   0.9918584       2\n",
       "0  0.500303  0.99883896       3\n",
       "0  0.500833  0.99179065       4\n",
       "0  0.501288  0.99854493       5\n",
       "0  0.501061    0.991682       6\n",
       "0  0.501288  0.99838024       7\n",
       "0  0.502803   0.9914878       8\n",
       "0  0.501136  0.99827033       9\n",
       "0  0.501364   0.9913888      10"
      ]
     },
     "execution_count": 14,
     "metadata": {},
     "output_type": "execute_result"
    }
   ],
   "source": [
    "attack_metrics[['ACC', 'HID', 'step_id']]"
   ]
  },
  {
   "cell_type": "markdown",
   "metadata": {},
   "source": [
    "# OLD CODE"
   ]
  },
  {
   "cell_type": "code",
   "execution_count": 15,
   "metadata": {},
   "outputs": [],
   "source": [
    "dataset = 'FordA'\n",
    "\n",
    "cfg = {\n",
    "    'slice': True,\n",
    "    'dataset': dataset,\n",
    "    'batch_size': 256,\n",
    "    'cuda': 'cuda:1',\n",
    "    'train_mode': True,\n",
    "    'model_folder': f'checkpoints/{dataset}/LSTM/',\n",
    "    \"model_id_attack\": 0,\n",
    "    \"model_id\": 1,\n",
    "    \"disc_check_params\":{\n",
    "        'model_id' : 0,\n",
    "        'model_name':\"fgsm_attack_eps=0.03_nsteps=10\",\n",
    "    },\n",
    "\n",
    "    'list_reg_model_params': [{\n",
    "        'model_id' : 0,\n",
    "        'model_name':\"fgsm_attack_eps=0.03_nsteps=10\",\n",
    "    }],\n",
    "\n",
    "    # 'list_reg_model_params': [\n",
    "    #     {'model_id' : 0, 'model_name':'fgsm_disc_attack2_eps=0.03_alpha=1_nsteps=10',},\n",
    "    #     {'model_id' : 0, 'model_name':'fgsm_disc_attack2_eps=0.03_alpha=10_nsteps=10',},\n",
    "    #     {'model_id' : 1, 'model_name':'fgsm_disc_attack2_eps=0.03_alpha=1_nsteps=10',},\n",
    "    #     {'model_id' : 1, 'model_name':'fgsm_disc_attack2_eps=0.03_alpha=10_nsteps=10',},\n",
    "    #     {'model_id' : 2, 'model_name':'fgsm_disc_attack2_eps=0.03_alpha=1_nsteps=10',},\n",
    "    # ],\n",
    "    \"disc_path\": \"results/FordA/LSTM/discriminator/fgsm_attack_SAVE_TEST\",\n",
    "    'use_extra_sigmoid': False,\n",
    "}\n",
    "\n",
    "alpha = 0.001\n",
    "criterion = torch.nn.BCELoss()"
   ]
  },
  {
   "cell_type": "code",
   "execution_count": 16,
   "metadata": {},
   "outputs": [
    {
     "data": {
      "text/plain": [
       "LSTM(\n",
       "  (rnn): LSTM(1, 50, batch_first=True)\n",
       "  (fc1): Linear(in_features=50, out_features=50, bias=True)\n",
       "  (relu): ReLU()\n",
       "  (fc2): Linear(in_features=50, out_features=1, bias=True)\n",
       "  (dropout): Dropout(p=0.0, inplace=False)\n",
       "  (final_activation): Sigmoid()\n",
       ")"
      ]
     },
     "execution_count": 16,
     "metadata": {},
     "output_type": "execute_result"
    }
   ],
   "source": [
    "X_train, y_train, X_test, y_test = load_data(cfg['dataset'])\n",
    "X_train, X_test, y_train, y_test = transform_data(X_train, X_test, y_train, y_test, slice_data=cfg['slice'])\n",
    "\n",
    "test_loader = DataLoader(\n",
    "    MyDataset(X_test, y_test), \n",
    "    batch_size=cfg['batch_size'] , \n",
    "    shuffle=True\n",
    "    )\n",
    "\n",
    "device= torch.device(cfg['cuda'] if torch.cuda.is_available() else 'cpu')\n",
    "\n",
    "model = LSTM(\n",
    "    hidden_dim = 50,\n",
    "    n_layers = 1,\n",
    "    output_dim = 1,\n",
    "    dropout = 0.0,\n",
    ").to(device)\n",
    "\n",
    "model_path = cfg['model_folder'] + f'model_{cfg[\"model_id_attack\"]}_{cfg[\"dataset\"]}.pth'\n",
    "model.load_state_dict(copy.deepcopy(torch.load(model_path)))\n",
    "\n",
    "model.train(cfg['train_mode'])"
   ]
  },
  {
   "cell_type": "code",
   "execution_count": 17,
   "metadata": {},
   "outputs": [],
   "source": [
    "disc_model_check = LSTM(\n",
    "    hidden_dim = 50,\n",
    "    n_layers = 1,\n",
    "    output_dim = 1,\n",
    "    dropout = 0.0,\n",
    ").to(device)\n",
    "\n",
    "model_name = \"fgsm_attack_eps=0.03_nsteps=10\"\n",
    "path = f\"results/{dataset}/LSTM/discriminator/fgsm_attack\"\n",
    "disc_path = f\"{path}/{model_name}/0.pt\"\n",
    "disc_model_check.load_state_dict(torch.load(disc_path))\n",
    "disc_model_check.train(cfg['train_mode'])\n",
    "\n",
    "\n",
    "disc_model = LSTM(\n",
    "    hidden_dim = 50,\n",
    "    n_layers = 1,\n",
    "    output_dim = 1,\n",
    "    dropout = 0.0,\n",
    ")"
   ]
  },
  {
   "cell_type": "code",
   "execution_count": 18,
   "metadata": {},
   "outputs": [
    {
     "data": {
      "text/plain": [
       "LSTM(\n",
       "  (rnn): LSTM(1, 50, batch_first=True)\n",
       "  (fc1): Linear(in_features=50, out_features=50, bias=True)\n",
       "  (relu): ReLU()\n",
       "  (fc2): Linear(in_features=50, out_features=1, bias=True)\n",
       "  (dropout): Dropout(p=0.0, inplace=False)\n",
       "  (final_activation): Sigmoid()\n",
       ")"
      ]
     },
     "execution_count": 18,
     "metadata": {},
     "output_type": "execute_result"
    }
   ],
   "source": [
    "disc_model_check"
   ]
  },
  {
   "cell_type": "code",
   "execution_count": null,
   "metadata": {},
   "outputs": [
    {
     "data": {
      "text/plain": [
       "tensor([[1.4741e-04],\n",
       "        [4.4087e-05],\n",
       "        [2.0915e-04],\n",
       "        [3.2020e-04],\n",
       "        [2.9881e-04],\n",
       "        [7.0435e-05],\n",
       "        [8.9056e-05],\n",
       "        [2.8993e-04],\n",
       "        [3.2768e-04],\n",
       "        [6.9433e-05]], device='cuda:1', grad_fn=<SliceBackward0>)"
      ]
     },
     "execution_count": 19,
     "metadata": {},
     "output_type": "execute_result"
    },
    {
     "data": {
      "text/plain": [
       "tensor([[1.6639e-04],\n",
       "        [1.8285e-04],\n",
       "        [1.2278e-04],\n",
       "        [3.1654e-04],\n",
       "        [1.0844e-04],\n",
       "        [2.4435e-04],\n",
       "        [5.5450e-05],\n",
       "        [7.5110e-05],\n",
       "        [1.6790e-04],\n",
       "        [1.4146e-04]], device='cuda:1', grad_fn=<SliceBackward0>)"
      ]
     },
     "execution_count": 19,
     "metadata": {},
     "output_type": "execute_result"
    }
   ],
   "source": [
    "x, y = next(iter(test_loader))\n",
    "x = x.to(device)\n",
    "\n",
    "disc_model_check(x)[:10]"
   ]
  },
  {
   "cell_type": "markdown",
   "metadata": {},
   "source": [
    "# iterations -> loader"
   ]
  },
  {
   "cell_type": "markdown",
   "metadata": {},
   "source": [
    "### ill"
   ]
  },
  {
   "cell_type": "code",
   "execution_count": null,
   "metadata": {},
   "outputs": [],
   "source": [
    "attack_params = dict()\n",
    "attack_params['eps'] = 0.005\n",
    "#attack_params['alpha'] = alpha\n",
    "# attack_params['disc_models'] = load_disc_config(\n",
    "#     copy.deepcopy(disc_model),\n",
    "#     cfg['disc_path'], \n",
    "#     device, \n",
    "#     cfg['list_reg_model_params'],\n",
    "#     train_mode=cfg['train_mode']\n",
    "# )  \n",
    "#attack_params['use_sigmoid'] = cfg['use_extra_sigmoid']"
   ]
  },
  {
   "cell_type": "code",
   "execution_count": null,
   "metadata": {},
   "outputs": [
    {
     "ename": "NameError",
     "evalue": "name 'calculate_metrics_class_and_hiddens' is not defined",
     "output_type": "error",
     "traceback": [
      "\u001b[0;31m---------------------------------------------------------------------------\u001b[0m",
      "\u001b[0;31mNameError\u001b[0m                                 Traceback (most recent call last)",
      "Cell \u001b[0;32mIn[21], line 6\u001b[0m\n\u001b[1;32m      3\u001b[0m dataset_class \u001b[38;5;241m=\u001b[39m test_loader\u001b[38;5;241m.\u001b[39mdataset\u001b[38;5;241m.\u001b[39m\u001b[38;5;18m__class__\u001b[39m\n\u001b[1;32m      5\u001b[0m n_broken \u001b[38;5;241m=\u001b[39m \u001b[38;5;241m0\u001b[39m\n\u001b[0;32m----> 6\u001b[0m metric_fun \u001b[38;5;241m=\u001b[39m \u001b[43mcalculate_metrics_class_and_hiddens\u001b[49m\n\u001b[1;32m      8\u001b[0m results_dict \u001b[38;5;241m=\u001b[39m {}\n\u001b[1;32m     10\u001b[0m \u001b[38;5;28;01mfor\u001b[39;00m step \u001b[38;5;129;01min\u001b[39;00m tqdm(\u001b[38;5;28mrange\u001b[39m(n_steps_attack)):\n",
      "\u001b[0;31mNameError\u001b[0m: name 'calculate_metrics_class_and_hiddens' is not defined"
     ]
    }
   ],
   "source": [
    "n_steps_attack = 10\n",
    "log_iters = np.zeros(len(test_loader))\n",
    "dataset_class = test_loader.dataset.__class__\n",
    "\n",
    "n_broken = 0\n",
    "metric_fun = calculate_metrics_class_and_hiddens\n",
    "\n",
    "results_dict = {}\n",
    "\n",
    "for step in tqdm(range(n_steps_attack)):\n",
    "    model.train(cfg['train_mode'])\n",
    "    req_grad(model, state=False)\n",
    "    \n",
    "    all_y_true = torch.tensor([])  # logging model for rebuilding dataloader and calculation difference with preds\n",
    "    x_tensor = torch.FloatTensor([])\n",
    "    all_preds = []\n",
    "    \n",
    "    for i, (x, y_true) in enumerate(test_loader):\n",
    "        all_y_true = torch.cat((all_y_true, y_true.cpu().detach()), dim=0)\n",
    "        # print(f'OBJECT {i}')\n",
    "        x.grad = None\n",
    "        x.requires_grad = True\n",
    "        \n",
    "        y_true = y_true.to(device)\n",
    "        y_pred = y_true.clone()\n",
    "        x = x.to(device)\n",
    "\n",
    "        y_pred = model(x)\n",
    "\n",
    "        x_adv = fgsm_attack(model, criterion, x, y_true, **attack_params)\n",
    "        x_tensor = torch.cat((x_tensor, x_adv.cpu().detach()), dim=0)\n",
    "\n",
    "        with torch.no_grad(): # prediction for adv input\n",
    "            y_pred_adv = model(x_adv)\n",
    "        all_preds.extend(y_pred_adv.cpu().detach().data.numpy())\n",
    "\n",
    "\n",
    "    preds_flat_round = np.round(np.array(all_preds)).flatten()\n",
    "    y_true_flat = all_y_true.cpu().detach().numpy().flatten()\n",
    "    results_dict[step] = metric_fun(y_true_flat, preds_flat_round, x, disc_model_check)\n",
    "\n",
    "    it_dataset = dataset_class(x_tensor, torch.tensor(all_y_true))\n",
    "    test_loader = DataLoader(it_dataset, batch_size=cfg['batch_size'])\n",
    "        "
   ]
  },
  {
   "cell_type": "markdown",
   "metadata": {},
   "source": [
    "### doctor"
   ]
  },
  {
   "cell_type": "code",
   "execution_count": null,
   "metadata": {},
   "outputs": [],
   "source": [
    "attack_params['alpha'] = alpha\n",
    "attack_params['disc_models'] = load_disc_config(\n",
    "    copy.deepcopy(disc_model),\n",
    "    cfg['disc_path'], \n",
    "    device, \n",
    "    cfg['list_reg_model_params'],\n",
    "    train_mode=cfg['train_mode']\n",
    ")  \n",
    "#attack_params['use_sigmoid'] = cfg['use_extra_sigmoid']"
   ]
  },
  {
   "cell_type": "code",
   "execution_count": null,
   "metadata": {},
   "outputs": [
    {
     "data": {
      "application/json": {
       "ascii": false,
       "bar_format": null,
       "colour": null,
       "elapsed": 0.011718988418579102,
       "initial": 0,
       "n": 0,
       "ncols": null,
       "nrows": null,
       "postfix": null,
       "prefix": "",
       "rate": null,
       "total": 10,
       "unit": "it",
       "unit_divisor": 1000,
       "unit_scale": false
      },
      "application/vnd.jupyter.widget-view+json": {
       "model_id": "c62b2fb03d7d48d3a9c37bc752aa01ee",
       "version_major": 2,
       "version_minor": 0
      },
      "text/plain": [
       "  0%|          | 0/10 [00:00<?, ?it/s]"
      ]
     },
     "metadata": {},
     "output_type": "display_data"
    },
    {
     "name": "stdout",
     "output_type": "stream",
     "text": [
      "Accuracy:  0.40234848484848484\n",
      "Accuracy:  0.40015151515151515\n",
      "Accuracy:  0.3984848484848485\n",
      "Accuracy:  0.39825757575757575\n",
      "Accuracy:  0.3987121212121212\n",
      "Accuracy:  0.3997727272727273\n",
      "Accuracy:  0.39984848484848484\n",
      "Accuracy:  0.3993939393939394\n",
      "Accuracy:  0.3997727272727273\n",
      "Accuracy:  0.39924242424242423\n"
     ]
    }
   ],
   "source": [
    "for step in tqdm(range(step, n_steps_attack + step)):\n",
    "    model.train(cfg['train_mode'])\n",
    "    req_grad(model, state=False)\n",
    "    \n",
    "    all_y_true = torch.tensor([])  # logging model for rebuilding dataloader and calculation difference with preds\n",
    "    x_tensor = torch.FloatTensor([])\n",
    "    all_preds = []\n",
    "    \n",
    "    for i, (x, y_true) in enumerate(test_loader):\n",
    "        all_y_true = torch.cat((all_y_true, y_true.cpu().detach()), dim=0)\n",
    "        # print(f'OBJECT {i}')\n",
    "        x.grad = None\n",
    "        x.requires_grad = True\n",
    "        \n",
    "        y_true = y_true.to(device)\n",
    "        y_pred = y_true.clone()\n",
    "        x = x.to(device)\n",
    "\n",
    "        y_pred = model(x)\n",
    "\n",
    "        x_adv = only_disc_attack(model, criterion, x, y_true, **attack_params)\n",
    "        x_tensor = torch.cat((x_tensor, x_adv.cpu().detach()), dim=0)\n",
    "\n",
    "        with torch.no_grad(): # prediction for adv input\n",
    "            y_pred_adv = model(x_adv)\n",
    "        all_preds.extend(y_pred_adv.cpu().detach().data.numpy())\n",
    "\n",
    "    preds_flat_round = np.round(np.array(all_preds)).flatten()\n",
    "    y_true_flat = all_y_true.cpu().detach().numpy().flatten()\n",
    "    results_dict[step] = metric_fun(y_true_flat, preds_flat_round, x, disc_model_check)\n",
    "\n",
    "    it_dataset = dataset_class(x_tensor, torch.tensor(all_y_true))\n",
    "    test_loader = DataLoader(it_dataset, batch_size=cfg['batch_size'])"
   ]
  },
  {
   "cell_type": "code",
   "execution_count": null,
   "metadata": {},
   "outputs": [
    {
     "data": {
      "image/png": "[encoded data removed]",
      "text/plain": [
       "<Figure size 640x480 with 1 Axes>"
      ]
     },
     "metadata": {},
     "output_type": "display_data"
    }
   ],
   "source": [
    "df_res = pd.DataFrame(results_dict).T\n",
    "df_res.columns = ['ACC', 'ROC_AUC', 'PR_AUC', 'Hid']\n",
    "\n",
    "#df_res[['ACC', 'Hid']].plot()\n",
    "plt.plot(df_res['ACC'], label='ACC')\n",
    "plt.plot(df_res['Hid'], label='Hid')\n",
    "plt.axvline(9, label='changing', c='red', linestyle='--', linewidth=2)\n",
    "plt.legend()\n",
    "plt.grid()\n",
    "plt.xlabel('iterations')\n",
    "plt.xticks(range(19))\n",
    "plt.show()"
   ]
  },
  {
   "cell_type": "code",
   "execution_count": null,
   "metadata": {},
   "outputs": [
    {
     "data": {
      "text/plain": [
       "ACC          0.399242\n",
       "ROC_AUC      0.394773\n",
       "PR_AUC       0.447257\n",
       "Hid        0.06283137\n",
       "Name: 18, dtype: object"
      ]
     },
     "execution_count": 22,
     "metadata": {},
     "output_type": "execute_result"
    }
   ],
   "source": [
    "df_res.iloc[-1]"
   ]
  },
  {
   "cell_type": "code",
   "execution_count": null,
   "metadata": {},
   "outputs": [
    {
     "data": {
      "image/png": "[encoded data removed]",
      "text/plain": [
       "<Figure size 640x480 with 1 Axes>"
      ]
     },
     "metadata": {},
     "output_type": "display_data"
    }
   ],
   "source": [
    "df_res = pd.DataFrame(results_dict).T\n",
    "df_res.columns = ['ACC', 'ROC_AUC', 'PR_AUC', 'Hid']\n",
    "\n",
    "#df_res[['ACC', 'Hid']].plot()\n",
    "plt.plot(df_res['ACC'], label='ACC')\n",
    "plt.plot(df_res['Hid'], label='Hid')\n",
    "plt.axvline(9, label='changing', c='red', linestyle='--', linewidth=2)\n",
    "plt.legend()\n",
    "plt.grid()\n",
    "plt.xlabel('iterations')\n",
    "plt.xticks(range(19))\n",
    "plt.show()"
   ]
  },
  {
   "cell_type": "code",
   "execution_count": null,
   "metadata": {},
   "outputs": [],
   "source": []
  }
 ],
 "metadata": {
  "kernelspec": {
   "display_name": "base",
   "language": "python",
   "name": "python3"
  },
  "language_info": {
   "codemirror_mode": {
    "name": "ipython",
    "version": 3
   },
   "file_extension": ".py",
   "mimetype": "text/x-python",
   "name": "python",
   "nbconvert_exporter": "python",
   "pygments_lexer": "ipython3",
   "version": "3.9.16"
  }
 },
 "nbformat": 4,
 "nbformat_minor": 2
}

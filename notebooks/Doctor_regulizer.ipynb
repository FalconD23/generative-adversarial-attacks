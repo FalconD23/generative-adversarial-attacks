{
 "cells": [
  {
   "cell_type": "code",
   "execution_count": 1,
   "metadata": {},
   "outputs": [],
   "source": [
    "# changing core directory\n",
    "import os, sys\n",
    "dir2 = os.path.abspath('')\n",
    "dir1 = os.path.dirname(dir2)\n",
    "if not dir1 in sys.path:\n",
    "    sys.path.append(dir1)\n",
    "os.chdir('..')"
   ]
  },
  {
   "cell_type": "code",
   "execution_count": 2,
   "metadata": {},
   "outputs": [
    {
     "name": "stderr",
     "output_type": "stream",
     "text": [
      "CUDA extension for structured kernels (Cauchy and Vandermonde multiplication) not found. Install by going to extensions/kernels/ and running `python setup.py install`, for improved speed and memory efficiency. Note that the kernel changed for state-spaces 4.0 and must be recompiled.\n",
      "Falling back on slow Cauchy and Vandermonde kernel. Install at least one of pykeops or the CUDA extension for better speed and memory efficiency.\n"
     ]
    }
   ],
   "source": [
    "import copy\n",
    "\n",
    "import numpy as np\n",
    "import matplotlib.pyplot as plt\n",
    "import pandas as pd\n",
    "import torch\n",
    "from torch.utils.data import DataLoader\n",
    "\n",
    "from tqdm.auto import tqdm\n",
    "\n",
    "from src.data import load_data, transform_data, MyDataset\n",
    "from src.attacks import attack_procedure\n",
    "from src.utils import save_experiment, load_disc_model\n",
    "from src.config import get_attack, load_disc_config\n",
    "\n",
    "from src.models.LSTM import LSTM\n",
    "from src.attacks import deepfool_attack, fgsm_attack, only_disc_attack\n",
    "\n",
    "from src.attacks.utils import calculate_metrics_class_and_hiddens, req_grad"
   ]
  },
  {
   "cell_type": "code",
   "execution_count": 3,
   "metadata": {},
   "outputs": [],
   "source": [
    "dataset = 'FordA'\n",
    "\n",
    "cfg = {\n",
    "    'slice': True,\n",
    "    'dataset': dataset,\n",
    "    'batch_size': 256,\n",
    "    'cuda': 'cuda:1',\n",
    "    'train_mode': True,\n",
    "    'model_folder': f'checkpoints/{dataset}/LSTM/',\n",
    "    \"model_id_attack\": 0,\n",
    "    \"model_id\": 1,\n",
    "    \"disc_check_params\":{\n",
    "        'model_id' : 0,\n",
    "        'model_name':\"fgsm_attack_eps=0.03_nsteps=10\",\n",
    "    },\n",
    "\n",
    "    'list_reg_model_params': [{\n",
    "        'model_id' : 0,\n",
    "        'model_name':\"fgsm_attack_eps=0.03_nsteps=10\",\n",
    "    }],\n",
    "\n",
    "    # 'list_reg_model_params': [\n",
    "    #     {'model_id' : 0, 'model_name':'fgsm_disc_attack2_eps=0.03_alpha=1_nsteps=10',},\n",
    "    #     {'model_id' : 0, 'model_name':'fgsm_disc_attack2_eps=0.03_alpha=10_nsteps=10',},\n",
    "    #     {'model_id' : 1, 'model_name':'fgsm_disc_attack2_eps=0.03_alpha=1_nsteps=10',},\n",
    "    #     {'model_id' : 1, 'model_name':'fgsm_disc_attack2_eps=0.03_alpha=10_nsteps=10',},\n",
    "    #     {'model_id' : 2, 'model_name':'fgsm_disc_attack2_eps=0.03_alpha=1_nsteps=10',},\n",
    "    # ],\n",
    "    \"disc_path\": \"results/FordA/LSTM/discriminator/fgsm_attack_SAVE_TEST\",\n",
    "    'use_extra_sigmoid': False,\n",
    "}\n",
    "\n",
    "alpha = 0.001\n",
    "criterion = torch.nn.BCELoss()"
   ]
  },
  {
   "cell_type": "code",
   "execution_count": 4,
   "metadata": {},
   "outputs": [
    {
     "data": {
      "text/plain": [
       "LSTM(\n",
       "  (rnn): LSTM(1, 50, batch_first=True)\n",
       "  (fc1): Linear(in_features=50, out_features=50, bias=True)\n",
       "  (relu): ReLU()\n",
       "  (fc2): Linear(in_features=50, out_features=1, bias=True)\n",
       "  (dropout): Dropout(p=0.0, inplace=False)\n",
       "  (tanh): Tanh()\n",
       ")"
      ]
     },
     "execution_count": 4,
     "metadata": {},
     "output_type": "execute_result"
    }
   ],
   "source": [
    "X_train, y_train, X_test, y_test = load_data(cfg['dataset'])\n",
    "X_train, X_test, y_train, y_test = transform_data(X_train, X_test, y_train, y_test, slice_data=cfg['slice'])\n",
    "\n",
    "test_loader = DataLoader(\n",
    "    MyDataset(X_test, y_test), \n",
    "    batch_size=cfg['batch_size'] , \n",
    "    shuffle=True\n",
    "    )\n",
    "\n",
    "device= torch.device(cfg['cuda'] if torch.cuda.is_available() else 'cpu')\n",
    "\n",
    "model = LSTM(\n",
    "    hidden_dim = 50,\n",
    "    n_layers = 1,\n",
    "    output_dim = 1,\n",
    "    dropout = 0.0,\n",
    ").to(device)\n",
    "\n",
    "model_path = cfg['model_folder'] + f'model_{cfg[\"model_id_attack\"]}_{cfg[\"dataset\"]}.pth'\n",
    "model.load_state_dict(copy.deepcopy(torch.load(model_path)))\n",
    "\n",
    "model.train(cfg['train_mode'])"
   ]
  },
  {
   "cell_type": "code",
   "execution_count": 5,
   "metadata": {},
   "outputs": [],
   "source": [
    "disc_model_check = LSTM(\n",
    "    hidden_dim = 50,\n",
    "    n_layers = 1,\n",
    "    output_dim = 1,\n",
    "    dropout = 0.0,\n",
    ").to(device)\n",
    "\n",
    "disc_model_check = load_disc_model(\n",
    "    copy.deepcopy(disc_model_check),\n",
    "    model_id=cfg['disc_check_params']['model_id'], \n",
    "    path=cfg['disc_path'], \n",
    "    model_name=cfg['disc_check_params']['model_name'], \n",
    "    device=device,\n",
    "    )\n",
    "disc_model_check.train(cfg['train_mode'])\n",
    "\n",
    "\n",
    "disc_model = LSTM(\n",
    "    hidden_dim = 50,\n",
    "    n_layers = 1,\n",
    "    output_dim = 1,\n",
    "    dropout = 0.0,\n",
    ")"
   ]
  },
  {
   "cell_type": "code",
   "execution_count": 11,
   "metadata": {},
   "outputs": [],
   "source": [
    "disc_models_list = load_disc_config(\n",
    "    copy.deepcopy(disc_model),\n",
    "    cfg['disc_path'], \n",
    "    device, \n",
    "    cfg['list_reg_model_params'],\n",
    "    train_mode=cfg['train_mode']\n",
    ")  "
   ]
  },
  {
   "cell_type": "code",
   "execution_count": 13,
   "metadata": {},
   "outputs": [
    {
     "data": {
      "text/plain": [
       "tensor([[1.1399e-03],\n",
       "        [6.5811e-05],\n",
       "        [4.6825e-04],\n",
       "        [2.3547e-05],\n",
       "        [5.9501e-04],\n",
       "        [4.4208e-04],\n",
       "        [4.9783e-05],\n",
       "        [1.1726e-05],\n",
       "        [4.7945e-04],\n",
       "        [1.3513e-03]], device='cuda:1', grad_fn=<SliceBackward0>)"
      ]
     },
     "execution_count": 13,
     "metadata": {},
     "output_type": "execute_result"
    }
   ],
   "source": [
    "x, y = next(iter(test_loader))\n",
    "x = x.to(device)\n",
    "\n",
    "disc_models_list[0](x)[:10]"
   ]
  },
  {
   "cell_type": "markdown",
   "metadata": {},
   "source": [
    "# iterations -> loader"
   ]
  },
  {
   "cell_type": "markdown",
   "metadata": {},
   "source": [
    "### ill"
   ]
  },
  {
   "cell_type": "code",
   "execution_count": 16,
   "metadata": {},
   "outputs": [],
   "source": [
    "attack_params = dict()\n",
    "attack_params['eps'] = 0.005\n",
    "#attack_params['alpha'] = alpha\n",
    "# attack_params['disc_models'] = load_disc_config(\n",
    "#     copy.deepcopy(disc_model),\n",
    "#     cfg['disc_path'], \n",
    "#     device, \n",
    "#     cfg['list_reg_model_params'],\n",
    "#     train_mode=cfg['train_mode']\n",
    "# )  \n",
    "#attack_params['use_sigmoid'] = cfg['use_extra_sigmoid']"
   ]
  },
  {
   "cell_type": "code",
   "execution_count": 17,
   "metadata": {},
   "outputs": [
    {
     "data": {
      "application/json": {
       "ascii": false,
       "bar_format": null,
       "colour": null,
       "elapsed": 0.00630640983581543,
       "initial": 0,
       "n": 0,
       "ncols": null,
       "nrows": null,
       "postfix": null,
       "prefix": "",
       "rate": null,
       "total": 10,
       "unit": "it",
       "unit_divisor": 1000,
       "unit_scale": false
      },
      "application/vnd.jupyter.widget-view+json": {
       "model_id": "be5e740d8d33497ab9ed18a97aeb7445",
       "version_major": 2,
       "version_minor": 0
      },
      "text/plain": [
       "  0%|          | 0/10 [00:00<?, ?it/s]"
      ]
     },
     "metadata": {},
     "output_type": "display_data"
    },
    {
     "name": "stdout",
     "output_type": "stream",
     "text": [
      "Accuracy:  0.7295454545454545\n",
      "Accuracy:  0.6968181818181818\n",
      "Accuracy:  0.66\n",
      "Accuracy:  0.6246969696969698\n",
      "Accuracy:  0.5883333333333334\n",
      "Accuracy:  0.5490909090909091\n",
      "Accuracy:  0.5071212121212121\n",
      "Accuracy:  0.4696969696969697\n",
      "Accuracy:  0.43446969696969695\n",
      "Accuracy:  0.4041666666666667\n"
     ]
    }
   ],
   "source": [
    "n_steps_attack = 10\n",
    "log_iters = np.zeros(len(test_loader))\n",
    "dataset_class = test_loader.dataset.__class__\n",
    "\n",
    "n_broken = 0\n",
    "metric_fun = calculate_metrics_class_and_hiddens\n",
    "\n",
    "results_dict = {}\n",
    "\n",
    "for step in tqdm(range(n_steps_attack)):\n",
    "    model.train(cfg['train_mode'])\n",
    "    req_grad(model, state=False)\n",
    "    \n",
    "    all_y_true = torch.tensor([])  # logging model for rebuilding dataloader and calculation difference with preds\n",
    "    x_tensor = torch.FloatTensor([])\n",
    "    all_preds = []\n",
    "    \n",
    "    for i, (x, y_true) in enumerate(test_loader):\n",
    "        all_y_true = torch.cat((all_y_true, y_true.cpu().detach()), dim=0)\n",
    "        # print(f'OBJECT {i}')\n",
    "        x.grad = None\n",
    "        x.requires_grad = True\n",
    "        \n",
    "        y_true = y_true.to(device)\n",
    "        y_pred = y_true.clone()\n",
    "        x = x.to(device)\n",
    "\n",
    "        y_pred = model(x)\n",
    "\n",
    "        x_adv = fgsm_attack(model, criterion, x, y_true, **attack_params)\n",
    "        x_tensor = torch.cat((x_tensor, x_adv.cpu().detach()), dim=0)\n",
    "\n",
    "        with torch.no_grad(): # prediction for adv input\n",
    "            y_pred_adv = model(x_adv)\n",
    "        all_preds.extend(y_pred_adv.cpu().detach().data.numpy())\n",
    "\n",
    "\n",
    "    preds_flat_round = np.round(np.array(all_preds)).flatten()\n",
    "    y_true_flat = all_y_true.cpu().detach().numpy().flatten()\n",
    "    results_dict[step] = metric_fun(y_true_flat, preds_flat_round, x, disc_model_check)\n",
    "\n",
    "    it_dataset = dataset_class(x_tensor, torch.tensor(all_y_true))\n",
    "    test_loader = DataLoader(it_dataset, batch_size=cfg['batch_size'])\n",
    "        "
   ]
  },
  {
   "cell_type": "markdown",
   "metadata": {},
   "source": [
    "### doctor"
   ]
  },
  {
   "cell_type": "code",
   "execution_count": 18,
   "metadata": {},
   "outputs": [],
   "source": [
    "attack_params['alpha'] = alpha\n",
    "attack_params['disc_models'] = load_disc_config(\n",
    "    copy.deepcopy(disc_model),\n",
    "    cfg['disc_path'], \n",
    "    device, \n",
    "    cfg['list_reg_model_params'],\n",
    "    train_mode=cfg['train_mode']\n",
    ")  \n",
    "#attack_params['use_sigmoid'] = cfg['use_extra_sigmoid']"
   ]
  },
  {
   "cell_type": "code",
   "execution_count": 19,
   "metadata": {},
   "outputs": [
    {
     "data": {
      "application/json": {
       "ascii": false,
       "bar_format": null,
       "colour": null,
       "elapsed": 0.011718988418579102,
       "initial": 0,
       "n": 0,
       "ncols": null,
       "nrows": null,
       "postfix": null,
       "prefix": "",
       "rate": null,
       "total": 10,
       "unit": "it",
       "unit_divisor": 1000,
       "unit_scale": false
      },
      "application/vnd.jupyter.widget-view+json": {
       "model_id": "c62b2fb03d7d48d3a9c37bc752aa01ee",
       "version_major": 2,
       "version_minor": 0
      },
      "text/plain": [
       "  0%|          | 0/10 [00:00<?, ?it/s]"
      ]
     },
     "metadata": {},
     "output_type": "display_data"
    },
    {
     "name": "stdout",
     "output_type": "stream",
     "text": [
      "Accuracy:  0.40234848484848484\n",
      "Accuracy:  0.40015151515151515\n",
      "Accuracy:  0.3984848484848485\n",
      "Accuracy:  0.39825757575757575\n",
      "Accuracy:  0.3987121212121212\n",
      "Accuracy:  0.3997727272727273\n",
      "Accuracy:  0.39984848484848484\n",
      "Accuracy:  0.3993939393939394\n",
      "Accuracy:  0.3997727272727273\n",
      "Accuracy:  0.39924242424242423\n"
     ]
    }
   ],
   "source": [
    "for step in tqdm(range(step, n_steps_attack + step)):\n",
    "    model.train(cfg['train_mode'])\n",
    "    req_grad(model, state=False)\n",
    "    \n",
    "    all_y_true = torch.tensor([])  # logging model for rebuilding dataloader and calculation difference with preds\n",
    "    x_tensor = torch.FloatTensor([])\n",
    "    all_preds = []\n",
    "    \n",
    "    for i, (x, y_true) in enumerate(test_loader):\n",
    "        all_y_true = torch.cat((all_y_true, y_true.cpu().detach()), dim=0)\n",
    "        # print(f'OBJECT {i}')\n",
    "        x.grad = None\n",
    "        x.requires_grad = True\n",
    "        \n",
    "        y_true = y_true.to(device)\n",
    "        y_pred = y_true.clone()\n",
    "        x = x.to(device)\n",
    "\n",
    "        y_pred = model(x)\n",
    "\n",
    "        x_adv = only_disc_attack(model, criterion, x, y_true, **attack_params)\n",
    "        x_tensor = torch.cat((x_tensor, x_adv.cpu().detach()), dim=0)\n",
    "\n",
    "        with torch.no_grad(): # prediction for adv input\n",
    "            y_pred_adv = model(x_adv)\n",
    "        all_preds.extend(y_pred_adv.cpu().detach().data.numpy())\n",
    "\n",
    "    preds_flat_round = np.round(np.array(all_preds)).flatten()\n",
    "    y_true_flat = all_y_true.cpu().detach().numpy().flatten()\n",
    "    results_dict[step] = metric_fun(y_true_flat, preds_flat_round, x, disc_model_check)\n",
    "\n",
    "    it_dataset = dataset_class(x_tensor, torch.tensor(all_y_true))\n",
    "    test_loader = DataLoader(it_dataset, batch_size=cfg['batch_size'])"
   ]
  },
  {
   "cell_type": "code",
   "execution_count": 20,
   "metadata": {},
   "outputs": [
    {
     "data": {
      "image/png": "[encoded data removed]",
      "text/plain": [
       "<Figure size 640x480 with 1 Axes>"
      ]
     },
     "metadata": {},
     "output_type": "display_data"
    }
   ],
   "source": [
    "df_res = pd.DataFrame(results_dict).T\n",
    "df_res.columns = ['ACC', 'ROC_AUC', 'PR_AUC', 'Hid']\n",
    "\n",
    "#df_res[['ACC', 'Hid']].plot()\n",
    "plt.plot(df_res['ACC'], label='ACC')\n",
    "plt.plot(df_res['Hid'], label='Hid')\n",
    "plt.axvline(9, label='changing', c='red', linestyle='--', linewidth=2)\n",
    "plt.legend()\n",
    "plt.grid()\n",
    "plt.xlabel('iterations')\n",
    "plt.xticks(range(19))\n",
    "plt.show()"
   ]
  },
  {
   "cell_type": "code",
   "execution_count": 22,
   "metadata": {},
   "outputs": [
    {
     "data": {
      "text/plain": [
       "ACC          0.399242\n",
       "ROC_AUC      0.394773\n",
       "PR_AUC       0.447257\n",
       "Hid        0.06283137\n",
       "Name: 18, dtype: object"
      ]
     },
     "execution_count": 22,
     "metadata": {},
     "output_type": "execute_result"
    }
   ],
   "source": [
    "df_res.iloc[-1]"
   ]
  },
  {
   "cell_type": "code",
   "execution_count": 11,
   "metadata": {},
   "outputs": [
    {
     "data": {
      "image/png": "[encoded data removed]",
      "text/plain": [
       "<Figure size 640x480 with 1 Axes>"
      ]
     },
     "metadata": {},
     "output_type": "display_data"
    }
   ],
   "source": [
    "df_res = pd.DataFrame(results_dict).T\n",
    "df_res.columns = ['ACC', 'ROC_AUC', 'PR_AUC', 'Hid']\n",
    "\n",
    "#df_res[['ACC', 'Hid']].plot()\n",
    "plt.plot(df_res['ACC'], label='ACC')\n",
    "plt.plot(df_res['Hid'], label='Hid')\n",
    "plt.axvline(9, label='changing', c='red', linestyle='--', linewidth=2)\n",
    "plt.legend()\n",
    "plt.grid()\n",
    "plt.xlabel('iterations')\n",
    "plt.xticks(range(19))\n",
    "plt.show()"
   ]
  },
  {
   "cell_type": "code",
   "execution_count": null,
   "metadata": {},
   "outputs": [],
   "source": []
  }
 ],
 "metadata": {
  "kernelspec": {
   "display_name": "base",
   "language": "python",
   "name": "python3"
  },
  "language_info": {
   "codemirror_mode": {
    "name": "ipython",
    "version": 3
   },
   "file_extension": ".py",
   "mimetype": "text/x-python",
   "name": "python",
   "nbconvert_exporter": "python",
   "pygments_lexer": "ipython3",
   "version": "3.9.16"
  }
 },
 "nbformat": 4,
 "nbformat_minor": 2
}

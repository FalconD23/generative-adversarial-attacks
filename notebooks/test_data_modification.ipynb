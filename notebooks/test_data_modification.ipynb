{
 "cells": [
  {
   "cell_type": "code",
   "execution_count": 1,
   "metadata": {},
   "outputs": [],
   "source": [
    "# changing core directory\n",
    "import os, sys\n",
    "dir2 = os.path.abspath('')\n",
    "dir1 = os.path.dirname(dir2)\n",
    "if not dir1 in sys.path:\n",
    "    sys.path.append(dir1)\n",
    "os.chdir('..')"
   ]
  },
  {
   "cell_type": "code",
   "execution_count": 2,
   "metadata": {},
   "outputs": [],
   "source": [
    "from src.data import *"
   ]
  },
  {
   "cell_type": "code",
   "execution_count": 3,
   "metadata": {},
   "outputs": [],
   "source": [
    "dataset_LSTM = load_data('Ford_A_LSTM')\n",
    "dataset_TS2Vec = load_data('FordA')\n",
    "\n",
    "X_lstm, y_lstm = dataset_LSTM[0], dataset_LSTM[1] \n",
    "X_ts, y_ts = dataset_TS2Vec[0], dataset_TS2Vec[1] "
   ]
  },
  {
   "cell_type": "code",
   "execution_count": null,
   "metadata": {},
   "outputs": [
    {
     "data": {
      "text/plain": [
       "((3601, 500), (3601,))"
      ]
     },
     "execution_count": 4,
     "metadata": {},
     "output_type": "execute_result"
    }
   ],
   "source": [
    "X_lstm.shape, y_lstm.shape"
   ]
  },
  {
   "cell_type": "code",
   "execution_count": 5,
   "metadata": {},
   "outputs": [
    {
     "data": {
      "text/plain": [
       "((3601, 500, 1), (3601,))"
      ]
     },
     "execution_count": 5,
     "metadata": {},
     "output_type": "execute_result"
    }
   ],
   "source": [
    "X_ts.shape, y_ts.shape"
   ]
  },
  {
   "cell_type": "code",
   "execution_count": 12,
   "metadata": {},
   "outputs": [
    {
     "data": {
      "text/plain": [
       "tensor([[0],\n",
       "        [1],\n",
       "        [0],\n",
       "        ...,\n",
       "        [0],\n",
       "        [1],\n",
       "        [0]], dtype=torch.int32)"
      ]
     },
     "execution_count": 12,
     "metadata": {},
     "output_type": "execute_result"
    }
   ],
   "source": [
    "X_train, y_train, X_test, y_test = dataset_TS2Vec\n",
    "\n",
    "# X_train, X_test, y_train, y_test = transform_data(\n",
    "#         X_train, X_test, y_train, y_test,\n",
    "#         slice_data = True,\n",
    "#     )\n",
    "\n",
    "# y_train"
   ]
  },
  {
   "cell_type": "code",
   "execution_count": 11,
   "metadata": {},
   "outputs": [
    {
     "data": {
      "text/plain": [
       "(array([0, 1, 0, ..., 0, 1, 0]), (3601,))"
      ]
     },
     "execution_count": 11,
     "metadata": {},
     "output_type": "execute_result"
    }
   ],
   "source": [
    "slice_data = True\n",
    "window = 50\n",
    "\n",
    "X_train, y_train, X_test, y_test = dataset_LSTM\n",
    "\n",
    "# transform from -1, 1 labels to 0, 1. 0,1 saves as 0,1\n",
    "# y_train = np.array([(int(y)+1) // 2 for y in y_train])\n",
    "# y_test = np.array([(int(y)+1) // 2 for y in y_test])\n",
    "\n",
    "np.unique(y_train)\n",
    "y_train_ = (y_train + 1) // 2\n",
    "y_test_ = (y_test + 1) // 2\n",
    "\n",
    "# if slice_data:\n",
    "#     len_seq = X_train.shape[1]\n",
    "#     n_patches = len_seq//window\n",
    "\n",
    "#     X_train = np.vstack([X_train[:, i:i+window] for i in range(n_patches)])\n",
    "#     X_test = np.vstack([X_test[:, i:i+window] for i in range(n_patches)])\n",
    "\n",
    "#     y_train = np.concatenate([y_train for _ in range(n_patches)])\n",
    "#     y_test = np.concatenate([y_test for _ in range(n_patches)])\n",
    "\n",
    "# X_train.shape, y_train.shape\n",
    "\n",
    "y_train_, y_train.shape"
   ]
  },
  {
   "cell_type": "code",
   "execution_count": 16,
   "metadata": {},
   "outputs": [
    {
     "data": {
      "text/plain": [
       "torch.Size([3601, 1])"
      ]
     },
     "execution_count": 16,
     "metadata": {},
     "output_type": "execute_result"
    }
   ],
   "source": []
  },
  {
   "cell_type": "code",
   "execution_count": 10,
   "metadata": {},
   "outputs": [
    {
     "data": {
      "text/plain": [
       "array([-1,  1])"
      ]
     },
     "execution_count": 10,
     "metadata": {},
     "output_type": "execute_result"
    }
   ],
   "source": [
    "np.unique(y_train)"
   ]
  },
  {
   "cell_type": "code",
   "execution_count": null,
   "metadata": {},
   "outputs": [],
   "source": []
  }
 ],
 "metadata": {
  "kernelspec": {
   "display_name": "base",
   "language": "python",
   "name": "python3"
  },
  "language_info": {
   "codemirror_mode": {
    "name": "ipython",
    "version": 3
   },
   "file_extension": ".py",
   "mimetype": "text/x-python",
   "name": "python",
   "nbconvert_exporter": "python",
   "pygments_lexer": "ipython3",
   "version": "3.9.16"
  }
 },
 "nbformat": 4,
 "nbformat_minor": 2
}

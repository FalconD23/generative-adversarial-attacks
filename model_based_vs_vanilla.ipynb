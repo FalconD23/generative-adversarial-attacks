{
  "cells": [
    {
      "cell_type": "markdown",
      "id": "kgeuhz3EgsmA",
      "metadata": {
        "id": "kgeuhz3EgsmA"
      },
      "source": [
        "# Model-based attacks VS FGSM / iFGSM"
      ]
    },
    {
      "cell_type": "markdown",
      "id": "84b1bc67",
      "metadata": {},
      "source": [
        "## Preprocessing"
      ]
    },
    {
      "cell_type": "code",
      "execution_count": 18,
      "id": "30ad4698",
      "metadata": {},
      "outputs": [],
      "source": [
        "# !pip install tsai\n",
        "# !pip install optuna"
      ]
    },
    {
      "cell_type": "code",
      "execution_count": 97,
      "id": "lYEegFEd-Ta4",
      "metadata": {
        "id": "lYEegFEd-Ta4"
      },
      "outputs": [],
      "source": [
        "SEED = 123\n",
        "import random, os\n",
        "import numpy as np\n",
        "import torch\n",
        "\n",
        "import pandas as pd\n",
        "import matplotlib.pyplot as plt\n",
        "\n",
        "import pandas as pd\n",
        "import numpy as np\n",
        "from pathlib import Path\n",
        "import torch\n",
        "from torch import nn\n",
        "from torch.utils.data import Dataset, DataLoader\n",
        "from sklearn.preprocessing import StandardScaler, LabelEncoder\n",
        "\n",
        "from tsai.models.all import ResCNN\n",
        "import torch, torch.nn as nn, torch.nn.functional as F\n",
        "from collections import defaultdict\n",
        "import optuna\n",
        "\n",
        "from typing import Optional\n",
        "import tsai.models.all as mdls\n",
        "import random\n"
      ]
    },
    {
      "cell_type": "code",
      "execution_count": 16,
      "id": "3f46cb61",
      "metadata": {},
      "outputs": [],
      "source": [
        "\n",
        "random.seed(SEED)\n",
        "os.environ[\"PYTHONHASHSEED\"] = str(SEED)\n",
        "np.random.seed(SEED)\n",
        "torch.manual_seed(SEED)\n",
        "torch.cuda.manual_seed_all(SEED)\n",
        "\n",
        "torch.backends.cudnn.deterministic = True\n",
        "torch.backends.cudnn.benchmark = False"
      ]
    },
    {
      "cell_type": "code",
      "execution_count": 2,
      "id": "71b8a74e",
      "metadata": {},
      "outputs": [],
      "source": [
        "os.environ[\"PYTHONHASHSEED\"] = str(SEED)\n",
        "np.random.seed(SEED)\n",
        "torch.manual_seed(SEED)\n",
        "torch.cuda.manual_seed_all(SEED)\n",
        "\n",
        "torch.backends.cudnn.deterministic = True\n",
        "torch.backends.cudnn.benchmark = False"
      ]
    },
    {
      "cell_type": "markdown",
      "id": "5698e565",
      "metadata": {
        "id": "5698e565"
      },
      "source": [
        "### EarlyStopping utility"
      ]
    },
    {
      "cell_type": "code",
      "execution_count": 3,
      "id": "4c8d9acc",
      "metadata": {
        "id": "4c8d9acc"
      },
      "outputs": [],
      "source": [
        "class EarlyStopping:\n",
        "    def __init__(self, patience=5, min_delta=1e-4, mode='min'):\n",
        "        assert mode in ('min', 'max')\n",
        "        self.patience = patience\n",
        "        self.min_delta = min_delta\n",
        "        self.mode = mode\n",
        "        self.best = None\n",
        "        self.counter = 0\n",
        "        self.should_stop = False\n",
        "\n",
        "    def step(self, metric):\n",
        "        if self.best is None:\n",
        "            self.best = metric\n",
        "            self.counter = 0\n",
        "            return False\n",
        "        improvement = (metric < self.best - self.min_delta) if self.mode == 'min' else (metric > self.best + self.min_delta)\n",
        "        if improvement:\n",
        "            self.best = metric\n",
        "            self.counter = 0\n",
        "        else:\n",
        "            self.counter += 1\n",
        "            if self.counter >= self.patience:\n",
        "                self.should_stop = True\n",
        "        return self.should_stop\n"
      ]
    },
    {
      "cell_type": "markdown",
      "id": "bLFzVkZkg-f9",
      "metadata": {
        "id": "bLFzVkZkg-f9"
      },
      "source": [
        "### Dataset preparation"
      ]
    },
    {
      "cell_type": "code",
      "execution_count": 5,
      "id": "09da18d3",
      "metadata": {
        "id": "09da18d3"
      },
      "outputs": [],
      "source": [
        "TRAIN_PATH = Path('PowerCons_TRAIN.tsv')\n",
        "TEST_PATH = Path('PowerCons_TEST.tsv')\n",
        "BATCH_SIZE = 64\n",
        "# EPOCHS = 50\n",
        "# LR = 1e-3\n",
        "device = 'cuda' if torch.cuda.is_available() else 'cpu'"
      ]
    },
    {
      "cell_type": "code",
      "execution_count": 6,
      "id": "96b46b88",
      "metadata": {
        "id": "96b46b88"
      },
      "outputs": [],
      "source": [
        "def load_powercon(path: Path):\n",
        "    df = pd.read_csv(path, sep='\\t', header=None)\n",
        "    y = df.iloc[:, 0].values\n",
        "    X = df.iloc[:, 1:].values.astype(np.float32)\n",
        "    scaler = StandardScaler()\n",
        "    X = scaler.fit_transform(X)\n",
        "    X = X.reshape(X.shape[0], X.shape[1], 1)\n",
        "    le = LabelEncoder()\n",
        "    y_encoded = le.fit_transform(y).astype(np.int64)\n",
        "    return X, y_encoded, le.classes_"
      ]
    },
    {
      "cell_type": "code",
      "execution_count": 7,
      "id": "faaef73d",
      "metadata": {
        "colab": {
          "base_uri": "https://localhost:8080/"
        },
        "id": "faaef73d",
        "outputId": "742d3128-83e7-4eeb-90b6-d7a2247073d0"
      },
      "outputs": [
        {
          "name": "stdout",
          "output_type": "stream",
          "text": [
            "Train shape: (180, 144, 1) Test shape: (180, 144, 1) n_classes: 2\n"
          ]
        }
      ],
      "source": [
        "X_train, y_train, classes_ = load_powercon(TRAIN_PATH)\n",
        "X_test, y_test, _ = load_powercon(TEST_PATH)\n",
        "n_classes = len(classes_)\n",
        "print('Train shape:', X_train.shape, 'Test shape:', X_test.shape, 'n_classes:', n_classes)"
      ]
    },
    {
      "cell_type": "code",
      "execution_count": 8,
      "id": "b6952fde",
      "metadata": {
        "id": "b6952fde"
      },
      "outputs": [],
      "source": [
        "class PowerConDataset(Dataset):\n",
        "    def __init__(self, X, y):\n",
        "        self.X = torch.tensor(X, dtype=torch.float32)\n",
        "        self.y = torch.tensor(y, dtype=torch.long)\n",
        "    def __len__(self):\n",
        "        return len(self.X)\n",
        "    def __getitem__(self, idx):\n",
        "        return self.X[idx], self.y[idx]\n",
        "\n",
        "train_ds = PowerConDataset(X_train, y_train)\n",
        "test_ds = PowerConDataset(X_test, y_test)\n",
        "train_dl = DataLoader(train_ds, batch_size=BATCH_SIZE, shuffle=True)\n",
        "test_dl = DataLoader(test_ds, batch_size=BATCH_SIZE)"
      ]
    },
    {
      "cell_type": "code",
      "execution_count": 9,
      "id": "655b9572",
      "metadata": {},
      "outputs": [
        {
          "name": "stdout",
          "output_type": "stream",
          "text": [
            "-1.6031435 6.4025993 -1.6804967 5.9844995\n"
          ]
        }
      ],
      "source": [
        "print(X_train.min(), X_train.max(), X_test.min(), X_test.max())"
      ]
    },
    {
      "cell_type": "code",
      "execution_count": 13,
      "id": "1adfe382",
      "metadata": {},
      "outputs": [
        {
          "name": "stdout",
          "output_type": "stream",
          "text": [
            "counts:\n",
            "1    90\n",
            "2    90\n",
            "Name: 0, dtype: int64\n",
            "shares:\n",
            "1    0.5\n",
            "2    0.5\n",
            "Name: 0, dtype: float64\n"
          ]
        },
        {
          "data": {
            "image/png": "[encoded data removed]",
            "text/plain": [
              "<Figure size 640x480 with 1 Axes>"
            ]
          },
          "metadata": {},
          "output_type": "display_data"
        }
      ],
      "source": [
        "# check data-balance\n",
        "\n",
        "df = pd.read_csv(TRAIN_PATH, sep='\\t', header=None)\n",
        "\n",
        "# 1. Считаем количество примеров каждого класса\n",
        "label_counts = df.iloc[:, 0].value_counts().sort_index()\n",
        "print(f'counts:\\n{label_counts}')                # абсолютные значения\n",
        "print(f'shares:\\n{label_counts / len(df)}')      # доли\n",
        "\n",
        "# 2. Быстрый бар-чарт\n",
        "label_counts.plot.bar()\n",
        "plt.title('Class distribution in TRAIN set')\n",
        "plt.xlabel('Class')\n",
        "plt.ylabel('Count')\n",
        "plt.show()\n"
      ]
    },
    {
      "cell_type": "code",
      "execution_count": 14,
      "id": "evY2hOVW-YwX",
      "metadata": {
        "colab": {
          "base_uri": "https://localhost:8080/"
        },
        "id": "evY2hOVW-YwX",
        "outputId": "a265c0af-aaef-4b85-9334-f6e10023d28c"
      },
      "outputs": [],
      "source": [
        "def seed_worker(worker_id):\n",
        "    worker_seed = SEED + worker_id\n",
        "    np.random.seed(worker_seed)\n",
        "    random.seed(worker_seed)\n",
        "\n",
        "g = torch.Generator()\n",
        "g.manual_seed(SEED)\n",
        "train_dl = DataLoader(train_ds, batch_size=BATCH_SIZE, shuffle=True, num_workers=4, worker_init_fn=seed_worker, generator=g)"
      ]
    },
    {
      "cell_type": "markdown",
      "id": "1eb6b862",
      "metadata": {},
      "source": [
        "## Classifiers"
      ]
    },
    {
      "cell_type": "code",
      "execution_count": null,
      "id": "321159ef",
      "metadata": {},
      "outputs": [],
      "source": [
        "def accuracy(logits, target):\n",
        "    return (logits.argmax(1) == target).float().mean().item()"
      ]
    },
    {
      "cell_type": "code",
      "execution_count": 20,
      "id": "71a9b382",
      "metadata": {},
      "outputs": [],
      "source": [
        "class Activation(nn.Module):\n",
        "    def __init__(self, kind='identity'):\n",
        "        super().__init__()\n",
        "        if kind == 'identity':\n",
        "            self.act = nn.Identity()\n",
        "        elif kind == 'relu':\n",
        "            self.act = nn.ReLU()\n",
        "        elif kind == 'tanh':\n",
        "            self.act = nn.Tanh()\n",
        "        else:\n",
        "            raise ValueError(f'Unknown activation {kind}')\n",
        "    def forward(self, x):\n",
        "        return self.act(x)"
      ]
    },
    {
      "cell_type": "markdown",
      "id": "2xywORKmhG9M",
      "metadata": {
        "id": "2xywORKmhG9M"
      },
      "source": [
        "### LSTM Classifier"
      ]
    },
    {
      "cell_type": "code",
      "execution_count": 31,
      "id": "bff920e8",
      "metadata": {
        "id": "bff920e8"
      },
      "outputs": [],
      "source": [
        "class LSTMClassifier(nn.Module):\n",
        "    def __init__(self, n_classes, input_size=1, hidden_size=64, num_layers=2, dropout=0.2):\n",
        "        super().__init__()\n",
        "        self.lstm = nn.LSTM(input_size, hidden_size, num_layers=num_layers, batch_first=True, dropout=dropout)\n",
        "        self.fc = nn.Linear(hidden_size, n_classes)\n",
        "    def forward(self, x):\n",
        "        out, (h_n, _) = self.lstm(x)\n",
        "        return self.fc(h_n[-1])\n"
      ]
    },
    {
      "cell_type": "markdown",
      "id": "8a611c1b",
      "metadata": {},
      "source": [
        "### ResCNN Classifier"
      ]
    },
    {
      "cell_type": "code",
      "execution_count": 32,
      "id": "a7b384c6",
      "metadata": {},
      "outputs": [],
      "source": [
        "class ResCNNClassifier(nn.Module):\n",
        "    def __init__(self, n_classes, x_dim=1, activation_type='identity', rescnn_kwargs=None):\n",
        "        super().__init__()\n",
        "        self.x_dim = x_dim\n",
        "        rescnn_kwargs = rescnn_kwargs or {}\n",
        "\n",
        "        # NN-backbone: tsai.models.ResCNN\n",
        "        self.body = ResCNN(c_in=x_dim, c_out=n_classes, **rescnn_kwargs)\n",
        "        self.fin = Activation(activation_type)\n",
        "\n",
        "    def forward(self, x):\n",
        "        # (B,L,C) or (B,C,L) —> (B,C,L)\n",
        "        if x.ndim == 3 and x.shape[1] != self.x_dim:   # (B,L,C)\n",
        "            x = x.transpose(1, 2)\n",
        "        return self.fin(self.body(x))                  # logits"
      ]
    },
    {
      "cell_type": "markdown",
      "id": "13b3775b",
      "metadata": {},
      "source": [
        "### Training classifiers"
      ]
    },
    {
      "cell_type": "code",
      "execution_count": 22,
      "id": "b648db81",
      "metadata": {},
      "outputs": [],
      "source": [
        "def train_classifier(model,\n",
        "                     train_loader,\n",
        "                     val_loader=None,\n",
        "                     epochs=50,\n",
        "                     lr=1e-3,\n",
        "                     weight_decay=0.,\n",
        "                     device=\"cpu\",\n",
        "                     patience=5,\n",
        "                     verbose_every=3):\n",
        "    \"\"\"\n",
        "    returns: dict(history), best_val_loss, best_state_dict\n",
        "    \"\"\"\n",
        "    model.to(device)\n",
        "    opt      = torch.optim.Adam(model.parameters(), lr=lr, weight_decay=weight_decay)\n",
        "    stopper  = EarlyStopping(patience=patience, mode=\"min\") if val_loader else None\n",
        "    history  = defaultdict(list)\n",
        "    best_wts = model.state_dict()\n",
        "    best_val = float(\"inf\")\n",
        "\n",
        "    for ep in range(1, epochs + 1):\n",
        "        # ----- train -----\n",
        "        model.train()\n",
        "        loss_sum, acc_sum, n = 0., 0., 0\n",
        "        for x, y in train_loader:\n",
        "            x, y = x.to(device), y.to(device)\n",
        "            logits = model(x)\n",
        "            loss   = F.cross_entropy(logits, y)\n",
        "\n",
        "            opt.zero_grad()\n",
        "            loss.backward()\n",
        "            opt.step()\n",
        "\n",
        "            loss_sum += loss.item() * x.size(0)\n",
        "            acc_sum  += (logits.argmax(1) == y).float().sum().item()\n",
        "            n += x.size(0)\n",
        "\n",
        "        train_loss = loss_sum / n\n",
        "        train_acc  = acc_sum  / n\n",
        "        history[\"train_loss\"].append(train_loss)\n",
        "        history[\"train_acc\"].append(train_acc)\n",
        "\n",
        "        # ----- validation -----\n",
        "        if val_loader:\n",
        "            model.eval()\n",
        "            with torch.no_grad():\n",
        "                loss_sum, acc_sum, n = 0., 0., 0\n",
        "                for x, y in val_loader:\n",
        "                    x, y = x.to(device), y.to(device)\n",
        "                    logits = model(x)\n",
        "                    loss   = F.cross_entropy(logits, y)\n",
        "                    loss_sum += loss.item() * x.size(0)\n",
        "                    acc_sum  += (logits.argmax(1) == y).float().sum().item()\n",
        "                    n += x.size(0)\n",
        "\n",
        "            val_loss = loss_sum / n\n",
        "            val_acc  = acc_sum  / n\n",
        "            history[\"val_loss\"].append(val_loss)\n",
        "            history[\"val_acc\"].append(val_acc)\n",
        "\n",
        "            if val_loss < best_val:\n",
        "                best_val = val_loss\n",
        "                best_wts = {k: v.cpu() for k, v in model.state_dict().items()}\n",
        "\n",
        "            if stopper and stopper.step(val_loss):\n",
        "                if verbose_every:\n",
        "                    print(f\"⏹ Early stopping on epoch {ep:02d}\")\n",
        "                break\n",
        "\n",
        "        if verbose_every and ep % verbose_every == 0:\n",
        "            msg = f\"Epoch {ep:02d}: train_loss={train_loss:.4f} acc={train_acc:.4f}\"\n",
        "            if val_loader:\n",
        "                msg += f\" | val_loss={val_loss:.4f} acc={val_acc:.4f}\"\n",
        "            print(msg)\n",
        "\n",
        "    model.load_state_dict(best_wts)\n",
        "    return history, best_val, best_wts\n",
        "\n"
      ]
    },
    {
      "cell_type": "markdown",
      "id": "9c3aa839",
      "metadata": {},
      "source": [
        "#### train clf_LSTM"
      ]
    },
    {
      "cell_type": "code",
      "execution_count": 30,
      "id": "f619dc4b",
      "metadata": {},
      "outputs": [
        {
          "name": "stdout",
          "output_type": "stream",
          "text": [
            "Epoch 01: train_loss=0.7038 acc=0.5000 | val_loss=0.6997 acc=0.5000\n",
            "Epoch 02: train_loss=0.6984 acc=0.5000 | val_loss=0.6964 acc=0.5000\n",
            "Epoch 03: train_loss=0.6951 acc=0.5000 | val_loss=0.6931 acc=0.5000\n",
            "Epoch 04: train_loss=0.6913 acc=0.5000 | val_loss=0.6899 acc=0.5000\n",
            "Epoch 05: train_loss=0.6873 acc=0.5000 | val_loss=0.6866 acc=0.5000\n",
            "Epoch 06: train_loss=0.6840 acc=0.5444 | val_loss=0.6830 acc=0.6056\n",
            "Epoch 07: train_loss=0.6781 acc=0.5722 | val_loss=0.6792 acc=0.5944\n",
            "Epoch 08: train_loss=0.6726 acc=0.6444 | val_loss=0.6743 acc=0.5833\n",
            "Epoch 09: train_loss=0.6658 acc=0.6444 | val_loss=0.6672 acc=0.6000\n",
            "Epoch 10: train_loss=0.6536 acc=0.6333 | val_loss=0.6546 acc=0.6222\n",
            "Epoch 11: train_loss=0.6305 acc=0.6556 | val_loss=0.6259 acc=0.6500\n",
            "Epoch 12: train_loss=0.5806 acc=0.6778 | val_loss=0.5623 acc=0.7000\n",
            "Epoch 13: train_loss=0.5428 acc=0.7222 | val_loss=0.5040 acc=0.7556\n",
            "Epoch 14: train_loss=0.4823 acc=0.7778 | val_loss=0.4681 acc=0.8000\n",
            "Epoch 15: train_loss=0.4233 acc=0.8222 | val_loss=0.4247 acc=0.8722\n",
            "Epoch 16: train_loss=0.3702 acc=0.8889 | val_loss=0.3836 acc=0.8611\n",
            "Epoch 17: train_loss=0.3995 acc=0.8333 | val_loss=0.4012 acc=0.8500\n",
            "Epoch 18: train_loss=0.4104 acc=0.8278 | val_loss=0.3900 acc=0.8389\n",
            "Epoch 19: train_loss=0.3452 acc=0.8556 | val_loss=0.3834 acc=0.8500\n",
            "Epoch 20: train_loss=0.3388 acc=0.9000 | val_loss=0.3757 acc=0.8778\n",
            "Epoch 21: train_loss=0.3375 acc=0.8500 | val_loss=0.3582 acc=0.8500\n",
            "Epoch 22: train_loss=0.3459 acc=0.8500 | val_loss=0.3572 acc=0.8444\n",
            "Epoch 23: train_loss=0.3321 acc=0.8611 | val_loss=0.3769 acc=0.8722\n",
            "Epoch 24: train_loss=0.3219 acc=0.9000 | val_loss=0.3501 acc=0.8833\n",
            "Epoch 25: train_loss=0.2932 acc=0.8944 | val_loss=0.3304 acc=0.8667\n",
            "Epoch 26: train_loss=0.3040 acc=0.8889 | val_loss=0.3528 acc=0.8611\n",
            "Epoch 27: train_loss=0.2984 acc=0.8833 | val_loss=0.3564 acc=0.8556\n",
            "Epoch 28: train_loss=0.2871 acc=0.8944 | val_loss=0.3255 acc=0.8833\n",
            "Epoch 29: train_loss=0.2803 acc=0.9000 | val_loss=0.3125 acc=0.8722\n",
            "Epoch 30: train_loss=0.2935 acc=0.8944 | val_loss=0.3105 acc=0.8722\n",
            "Epoch 31: train_loss=0.2846 acc=0.8889 | val_loss=0.3275 acc=0.8833\n",
            "Epoch 32: train_loss=0.2790 acc=0.8889 | val_loss=0.3121 acc=0.8889\n",
            "Epoch 33: train_loss=0.2681 acc=0.9000 | val_loss=0.2958 acc=0.8667\n",
            "Epoch 34: train_loss=0.2628 acc=0.8944 | val_loss=0.2870 acc=0.8833\n",
            "Epoch 35: train_loss=0.2605 acc=0.9000 | val_loss=0.2855 acc=0.8778\n",
            "Epoch 36: train_loss=0.2503 acc=0.8944 | val_loss=0.2831 acc=0.8889\n",
            "Epoch 37: train_loss=0.2461 acc=0.9056 | val_loss=0.2735 acc=0.8889\n",
            "Epoch 38: train_loss=0.2419 acc=0.9056 | val_loss=0.2630 acc=0.9111\n",
            "Epoch 39: train_loss=0.2375 acc=0.9000 | val_loss=0.2566 acc=0.9111\n",
            "Epoch 40: train_loss=0.2364 acc=0.9111 | val_loss=0.2596 acc=0.8889\n",
            "Epoch 41: train_loss=0.2264 acc=0.9111 | val_loss=0.2449 acc=0.9111\n",
            "Epoch 42: train_loss=0.2209 acc=0.9056 | val_loss=0.2377 acc=0.9111\n",
            "Epoch 43: train_loss=0.2184 acc=0.9056 | val_loss=0.2281 acc=0.9222\n",
            "Epoch 44: train_loss=0.2231 acc=0.9167 | val_loss=0.2399 acc=0.9056\n",
            "Epoch 45: train_loss=0.2082 acc=0.9167 | val_loss=0.2173 acc=0.9111\n",
            "Epoch 46: train_loss=0.2094 acc=0.9167 | val_loss=0.2092 acc=0.9222\n",
            "Epoch 47: train_loss=0.2006 acc=0.9222 | val_loss=0.2062 acc=0.9389\n",
            "Epoch 48: train_loss=0.2091 acc=0.9389 | val_loss=0.2209 acc=0.9167\n",
            "Epoch 49: train_loss=0.2095 acc=0.9167 | val_loss=0.1974 acc=0.9333\n",
            "Epoch 50: train_loss=0.2034 acc=0.9167 | val_loss=0.1892 acc=0.9333\n"
          ]
        }
      ],
      "source": [
        "clf_LSTM = LSTMClassifier(n_classes, hidden_size=50, num_layers=1)\n",
        "\n",
        "history, _, _=  train_classifier(\n",
        "    clf_LSTM,\n",
        "    train_dl,\n",
        "    val_loader=test_dl,\n",
        "    epochs=50,\n",
        "    lr=1e-3,\n",
        "    weight_decay=0.,\n",
        "    device=\"cpu\",\n",
        "    patience=4,\n",
        "    verbose_every=1\n",
        ")"
      ]
    },
    {
      "cell_type": "markdown",
      "id": "9f756779",
      "metadata": {},
      "source": [
        "#### train clf_resCNN"
      ]
    },
    {
      "cell_type": "code",
      "execution_count": 29,
      "id": "0ea983bb",
      "metadata": {},
      "outputs": [
        {
          "name": "stdout",
          "output_type": "stream",
          "text": [
            "Epoch 01: train_loss=0.5544 acc=0.7111 | val_loss=0.5462 acc=0.7278\n",
            "Epoch 02: train_loss=0.3574 acc=0.8333 | val_loss=0.6487 acc=0.5000\n",
            "Epoch 03: train_loss=0.3632 acc=0.8611 | val_loss=0.5445 acc=0.6889\n",
            "Epoch 04: train_loss=0.3204 acc=0.8611 | val_loss=0.3488 acc=0.8611\n",
            "Epoch 05: train_loss=0.3257 acc=0.8500 | val_loss=0.3448 acc=0.8667\n",
            "Epoch 06: train_loss=0.2927 acc=0.8833 | val_loss=0.3620 acc=0.8778\n",
            "Epoch 07: train_loss=0.2881 acc=0.8722 | val_loss=0.3598 acc=0.8778\n",
            "Epoch 08: train_loss=0.2564 acc=0.8889 | val_loss=0.3144 acc=0.8500\n",
            "Epoch 09: train_loss=0.2593 acc=0.8833 | val_loss=0.3088 acc=0.8667\n",
            "Epoch 10: train_loss=0.2433 acc=0.9111 | val_loss=0.3238 acc=0.8611\n"
          ]
        }
      ],
      "source": [
        "clf_resCNN = ResCNNClassifier(n_classes=n_classes, x_dim=1).to(device)\n",
        "\n",
        "history, best_val, best_state = train_classifier(\n",
        "    clf_resCNN,\n",
        "    train_loader=train_dl,\n",
        "    val_loader=test_dl,\n",
        "    epochs=10,\n",
        "    lr=1e-3,\n",
        "    weight_decay=1e-4,\n",
        "    device=device,\n",
        "    patience=10,\n",
        "    verbose_every=1\n",
        ")\n",
        "\n",
        "torch.save(best_state, \"rescnn_classifier_best.pth\")"
      ]
    },
    {
      "cell_type": "markdown",
      "id": "17cad414",
      "metadata": {},
      "source": [
        "#### optuna for LSTM clf"
      ]
    },
    {
      "cell_type": "code",
      "execution_count": 35,
      "id": "badc9924",
      "metadata": {},
      "outputs": [],
      "source": [
        "def objective(trial):\n",
        "    # --- hyperparams ---\n",
        "    lr  = trial.suggest_float(\"lr\",     1e-3, 1e-2,   log=True)\n",
        "    patience  = trial.suggest_int(\"patience\", 3, 10)\n",
        "    dropout    = trial.suggest_float(\"dropout\", 0.1, 0.6, step=0.1)\n",
        "    hidden_dim = trial.suggest_categorical(\"hidden_dim\", [64, 128, 256])\n",
        "\n",
        "    clf_model = LSTMClassifier(n_classes, \n",
        "                               hidden_size=hidden_dim, \n",
        "                               dropout=dropout)\n",
        "\n",
        "    history, _, _=  train_classifier(clf_model,\n",
        "                     train_dl,\n",
        "                     val_loader=test_dl,\n",
        "                     epochs=50,\n",
        "                     lr=lr,\n",
        "                     weight_decay=0.,\n",
        "                     device=\"cpu\",\n",
        "                     patience=patience,\n",
        "                     verbose_every=1)\n",
        "    \n",
        "\n",
        "    return history['val_acc'][-1]\n",
        "\n",
        "\n",
        "# study = optuna.create_study(direction=\"minimize\", sampler=optuna.samplers.TPESampler(),\n",
        "#                             pruner=optuna.pruners.MedianPruner(n_warmup_steps=3))\n",
        "\n",
        "# study.optimize(objective, n_trials=50, timeout=60*60)\n",
        "# print(\"BEST_PARAMS:\", study.best_params)\n"
      ]
    },
    {
      "cell_type": "markdown",
      "id": "9c00b6fc",
      "metadata": {},
      "source": [
        "## Adversarial Attacks"
      ]
    },
    {
      "cell_type": "code",
      "execution_count": 58,
      "id": "18eef1da",
      "metadata": {},
      "outputs": [],
      "source": [
        "class Attack:\n",
        "    def __init__(self, eps: float, clamp=(-1, 1)):\n",
        "        self.eps = eps\n",
        "        self.clamp = clamp\n",
        "\n",
        "# class ModelBasedAttack(Attack):\n",
        "#     def __init__(self, surrogate, eps, clamp=(-1, 1)):\n",
        "#         super().__init__(eps, clamp)\n",
        "#         self.surr = surrogate.eval()\n",
        "\n",
        "#     @torch.no_grad()\n",
        "#     def __call__(self, model, x, y):\n",
        "#         delta = self.eps * torch.tanh(self.surr(x))\n",
        "#         return torch.clamp(x + delta, *self.clamp)\n",
        "\n",
        "class ModelBasedAttack(Attack):\n",
        "    def __init__(self, attacker, eps, clamp=None):\n",
        "        super().__init__(eps, clamp)\n",
        "        self.attacker = attacker.eval()\n",
        "\n",
        "    @torch.no_grad()\n",
        "    def __call__(self, model, x, y):\n",
        "        # delta = self.eps * self.attacker(x).sign()\n",
        "        delta = self.eps * torch.tanh(self.attacker(x))\n",
        "        # print(f\"L2 norm = {torch.norm(delta, p=2)}, L_infty norm = {torch.norm(delta, p=float('inf'))}\")\n",
        "        x_adv = x + delta\n",
        "        if not self.clamp is None:\n",
        "          x_adv = torch.clamp(x_adv, *self.clamp)\n",
        "        return x_adv"
      ]
    },
    {
      "cell_type": "code",
      "execution_count": 75,
      "id": "6de7992d",
      "metadata": {},
      "outputs": [],
      "source": [
        "def train_atk_model(atk_model, \n",
        "                    victim, \n",
        "                    loader, \n",
        "                    eps=0.5, \n",
        "                    epochs=50, \n",
        "                    lr=1e-4, \n",
        "                    alpha_l2=1e-3, \n",
        "                    device='cpu', \n",
        "                    patience=4,\n",
        "                    is_clamped=False,\n",
        "                    is_debugged=False\n",
        "                    ):\n",
        "    atk_model.to(device)\n",
        "    victim.to(device).eval()\n",
        "    opt = torch.optim.Adam(atk_model.parameters(), lr)\n",
        "    stopper = EarlyStopping(patience=patience, mode=\"max\")\n",
        "    for ep in range(1, epochs+1):\n",
        "        atk_model.train()\n",
        "        run_vloss, run_acc, n = 0., 0., 0\n",
        "\n",
        "        \n",
        "        for x, y in loader:\n",
        "            x, y = x.to(device), y.to(device)\n",
        "            delta = eps * torch.tanh(atk_model(x))\n",
        "            if is_clamped:\n",
        "                delta = torch.clamp(delta, -1, 1)\n",
        "\n",
        "            # x_adv = torch.clamp(x + delta, -1, 1)\n",
        "            \n",
        "            x_adv = x + delta\n",
        "            logits = victim(x_adv)\n",
        "\n",
        "            vloss = F.cross_entropy(logits, y)\n",
        "            acc = (logits.argmax(1) == y).float().mean().item()\n",
        "            reg = alpha_l2 * (delta**2).mean()\n",
        "            loss = -(vloss - reg)\n",
        "            if is_debugged:\n",
        "                print(f'\\nx={((x[0].detach().cpu()**2).mean())**0.5}')\n",
        "                print(f'delta={((delta[0].detach().cpu()**2).mean())**0.5}')\n",
        "                print(f'y={y.detach().cpu()[0]}|logits={logits.detach().cpu().argmax(1)[0]}')\n",
        "                print(f'vloss = {vloss}| reg = {reg}')\n",
        "        \n",
        "                with torch.no_grad():\n",
        "                    # ----- (2) % L2-нормы входа -----\n",
        "                    # L2 посчитаем по каждому объекту, затем усредним\n",
        "                    l2_delta = torch.norm(delta.view(delta.size(0), -1), p=2, dim=1)\n",
        "                    l2_x_adv = torch.norm(x_adv.view(x_adv.size(0), -1), p=2, dim=1) + 1e-8\n",
        "                    l2_x     = torch.norm(x.view(x.size(0), -1),     p=2, dim=1) + 1e-8\n",
        "                    perc_l2_x_adv  = (l2_delta / l2_x_adv * 100).mean().item()\n",
        "                    perc_l2_x  = (l2_x_adv / l2_x * 100).mean().item()\n",
        "\n",
        "                print(f'\\nL2:Δ/x_adv: {perc_l2_x_adv:6.2f}%   x_adv/x: {perc_l2_x:6.2f}%')\n",
        "\n",
        "    \n",
        "            opt.zero_grad()\n",
        "            loss.backward()\n",
        "            opt.step()\n",
        "            run_vloss += vloss.item()*x.size(0)\n",
        "            run_acc += acc * x.size(0)\n",
        "            n += x.size(0)\n",
        "        \n",
        "        val_loss = run_vloss / n\n",
        "        print(f'\\nEpoch {ep:02d} | victim‑loss {val_loss:.4f} | acc {run_acc/n:.4f}')\n",
        "        if stopper.step(val_loss):\n",
        "            print(f'⏹ Early stopping at epoch {ep}')\n",
        "            break\n",
        "    torch.save(atk_model.state_dict(), 'surrogate_maxloss.pth')\n",
        "    return val_loss, run_acc/n\n"
      ]
    },
    {
      "cell_type": "markdown",
      "id": "d42be3dc",
      "metadata": {
        "id": "d42be3dc"
      },
      "source": [
        "### LSTM Attack"
      ]
    },
    {
      "cell_type": "code",
      "execution_count": 73,
      "id": "0f056a37",
      "metadata": {
        "id": "0f056a37"
      },
      "outputs": [],
      "source": [
        "class Activation(nn.Module):\n",
        "    def __init__(self, kind='identity'):\n",
        "        super().__init__()\n",
        "        if kind == 'identity':\n",
        "            self.act = nn.Identity()\n",
        "        elif kind == 'relu':\n",
        "            self.act = nn.ReLU()\n",
        "        elif kind == 'tanh':\n",
        "            self.act = nn.Tanh()\n",
        "        else:\n",
        "            raise ValueError(f'Unknown activation {kind}')\n",
        "    def forward(self, x):\n",
        "        return self.act(x)\n",
        "\n",
        "class attack_LSTM(nn.Module):\n",
        "    def __init__(self, hidden_dim=64, x_dim=1, activation_type='identity', dropout=0.25):\n",
        "        super().__init__()\n",
        "        self.rnn_inp = nn.LSTM(x_dim, hidden_dim, num_layers=3, batch_first=True, dropout=dropout)\n",
        "        self.act = Activation(activation_type)\n",
        "        # ! delete fc\n",
        "        self.rnn_out = nn.LSTM(hidden_dim, x_dim, num_layers=3, batch_first=True, dropout=dropout)\n",
        "        # self.fc = nn.Linear(hidden_dim, x_dim)\n",
        "    def forward(self, data):\n",
        "        x, _ = self.rnn_inp(data)\n",
        "        x = self.act(x)\n",
        "        x, _ = self.rnn_out(x)\n",
        "        return x\n"
      ]
    },
    {
      "cell_type": "markdown",
      "id": "caf1ab2c",
      "metadata": {},
      "source": [
        "#### train"
      ]
    },
    {
      "cell_type": "code",
      "execution_count": null,
      "id": "b771fb84",
      "metadata": {},
      "outputs": [],
      "source": [
        "\n",
        "\"\"\"\n",
        "best params:\n",
        "{'eps': 1.371353432117841, 'lr': 0.001749500764834404, \n",
        "'alpha_l2': 0.000686630895888702, 'patience': 9, \n",
        "'hidden_dim': 128, 'dropout': 0.6}\n",
        "\n",
        "\"\"\"\n",
        "atk_LSTM = attack_LSTM(hidden_dim=128, dropout=0.6, x_dim=1, activation_type='tanh').to(device)\n",
        "for p in clf_LSTM.parameters():\n",
        "    p.requires_grad_(False)\n",
        "clf_LSTM.eval()\n",
        "\n",
        "eps_LSTM = 1.371353\n",
        "train_atk_model(atk_LSTM, \n",
        "                clf_LSTM, \n",
        "                train_dl, \n",
        "                eps=eps_LSTM, \n",
        "                epochs=20, \n",
        "                lr=0.01749500, \n",
        "                alpha_l2=0.00068663089588, \n",
        "                device=device, \n",
        "                patience=9\n",
        ")"
      ]
    },
    {
      "cell_type": "markdown",
      "id": "6cb74954",
      "metadata": {},
      "source": [
        "#### optuna"
      ]
    },
    {
      "cell_type": "code",
      "execution_count": 76,
      "id": "48e17f98",
      "metadata": {},
      "outputs": [
        {
          "name": "stderr",
          "output_type": "stream",
          "text": [
            "[I 2025-08-06 16:10:23,258] A new study created in memory with name: no-name-6d203448-a6fb-4e09-8df6-d3dac8acee36\n"
          ]
        },
        {
          "name": "stdout",
          "output_type": "stream",
          "text": [
            "\n",
            "Epoch 01 | victim‑loss 0.6245 | acc 0.7444\n",
            "\n",
            "Epoch 02 | victim‑loss 0.6730 | acc 0.7444\n",
            "\n",
            "Epoch 03 | victim‑loss 0.7288 | acc 0.7278\n",
            "\n",
            "Epoch 04 | victim‑loss 0.7551 | acc 0.7056\n",
            "\n",
            "Epoch 05 | victim‑loss 0.7911 | acc 0.6944\n",
            "\n",
            "Epoch 06 | victim‑loss 0.8210 | acc 0.6778\n",
            "\n",
            "Epoch 07 | victim‑loss 0.8537 | acc 0.6667\n",
            "\n",
            "Epoch 08 | victim‑loss 0.8875 | acc 0.6667\n",
            "\n",
            "Epoch 09 | victim‑loss 0.9215 | acc 0.6556\n",
            "\n",
            "Epoch 10 | victim‑loss 0.9602 | acc 0.6500\n",
            "\n",
            "Epoch 11 | victim‑loss 0.9975 | acc 0.6500\n",
            "\n",
            "Epoch 12 | victim‑loss 1.0382 | acc 0.6389\n",
            "\n",
            "Epoch 13 | victim‑loss 1.0760 | acc 0.6333\n",
            "\n",
            "Epoch 14 | victim‑loss 1.1037 | acc 0.6278\n",
            "\n",
            "Epoch 15 | victim‑loss 1.1414 | acc 0.6278\n",
            "\n",
            "Epoch 16 | victim‑loss 1.1853 | acc 0.6278\n",
            "\n",
            "Epoch 17 | victim‑loss 1.2202 | acc 0.6111\n",
            "\n",
            "Epoch 18 | victim‑loss 1.2555 | acc 0.6167\n",
            "\n",
            "Epoch 19 | victim‑loss 1.2890 | acc 0.5944\n",
            "\n",
            "Epoch 20 | victim‑loss 1.3216 | acc 0.5833\n",
            "\n",
            "Epoch 21 | victim‑loss 1.3638 | acc 0.5556\n",
            "\n",
            "Epoch 22 | victim‑loss 1.3924 | acc 0.5333\n",
            "\n",
            "Epoch 23 | victim‑loss 1.4291 | acc 0.5278\n",
            "\n",
            "Epoch 24 | victim‑loss 1.4603 | acc 0.5222\n",
            "\n",
            "Epoch 25 | victim‑loss 1.4978 | acc 0.5222\n",
            "\n",
            "Epoch 26 | victim‑loss 1.5277 | acc 0.5222\n",
            "\n",
            "Epoch 27 | victim‑loss 1.5557 | acc 0.5222\n",
            "\n",
            "Epoch 28 | victim‑loss 1.5870 | acc 0.5056\n",
            "\n",
            "Epoch 29 | victim‑loss 1.6188 | acc 0.5056\n",
            "\n",
            "Epoch 30 | victim‑loss 1.6459 | acc 0.5000\n",
            "\n",
            "Epoch 31 | victim‑loss 1.6762 | acc 0.5000\n",
            "\n",
            "Epoch 32 | victim‑loss 1.6941 | acc 0.5000\n",
            "\n",
            "Epoch 33 | victim‑loss 1.7247 | acc 0.5000\n",
            "\n",
            "Epoch 34 | victim‑loss 1.7446 | acc 0.5000\n",
            "\n",
            "Epoch 35 | victim‑loss 1.7640 | acc 0.5000\n",
            "\n",
            "Epoch 36 | victim‑loss 1.7828 | acc 0.5000\n",
            "\n",
            "Epoch 37 | victim‑loss 1.7978 | acc 0.5000\n",
            "\n",
            "Epoch 38 | victim‑loss 1.8152 | acc 0.5000\n",
            "\n",
            "Epoch 39 | victim‑loss 1.8297 | acc 0.5000\n",
            "\n",
            "Epoch 40 | victim‑loss 1.8404 | acc 0.5000\n",
            "\n",
            "Epoch 41 | victim‑loss 1.8508 | acc 0.5000\n",
            "\n",
            "Epoch 42 | victim‑loss 1.8608 | acc 0.5000\n",
            "\n",
            "Epoch 43 | victim‑loss 1.8741 | acc 0.5000\n",
            "\n",
            "Epoch 44 | victim‑loss 1.8811 | acc 0.5000\n",
            "\n",
            "Epoch 45 | victim‑loss 1.8863 | acc 0.5000\n",
            "\n",
            "Epoch 46 | victim‑loss 1.8959 | acc 0.5000\n",
            "\n",
            "Epoch 47 | victim‑loss 1.9020 | acc 0.5000\n",
            "\n",
            "Epoch 48 | victim‑loss 1.9101 | acc 0.5000\n",
            "\n",
            "Epoch 49 | victim‑loss 1.9162 | acc 0.5000\n"
          ]
        },
        {
          "name": "stderr",
          "output_type": "stream",
          "text": [
            "[I 2025-08-06 16:12:05,177] Trial 0 finished with value: 0.4999999966886308 and parameters: {'eps': 1.8169467043486052, 'lr': 0.002249736677914726, 'alpha_l2': 0.034796749718056005, 'patience': 8, 'hidden_dim': 64, 'dropout': 0.5}. Best is trial 0 with value: 0.4999999966886308.\n"
          ]
        },
        {
          "name": "stdout",
          "output_type": "stream",
          "text": [
            "\n",
            "Epoch 50 | victim‑loss 1.9213 | acc 0.5000\n",
            "\n",
            "Epoch 01 | victim‑loss 0.2481 | acc 0.8889\n",
            "\n",
            "Epoch 02 | victim‑loss 0.2577 | acc 0.8722\n",
            "\n",
            "Epoch 03 | victim‑loss 0.2780 | acc 0.8667\n",
            "\n",
            "Epoch 04 | victim‑loss 0.2835 | acc 0.8611\n",
            "\n",
            "Epoch 05 | victim‑loss 0.2915 | acc 0.8556\n",
            "\n",
            "Epoch 06 | victim‑loss 0.2985 | acc 0.8500\n",
            "\n",
            "Epoch 07 | victim‑loss 0.3052 | acc 0.8444\n",
            "\n",
            "Epoch 08 | victim‑loss 0.3150 | acc 0.8333\n",
            "\n",
            "Epoch 09 | victim‑loss 0.3218 | acc 0.8278\n",
            "\n",
            "Epoch 10 | victim‑loss 0.3338 | acc 0.8222\n",
            "\n",
            "Epoch 11 | victim‑loss 0.3434 | acc 0.8222\n",
            "\n",
            "Epoch 12 | victim‑loss 0.3557 | acc 0.8167\n",
            "\n",
            "Epoch 13 | victim‑loss 0.3676 | acc 0.8111\n",
            "\n",
            "Epoch 14 | victim‑loss 0.3830 | acc 0.8111\n",
            "\n",
            "Epoch 15 | victim‑loss 0.3970 | acc 0.8111\n",
            "\n",
            "Epoch 16 | victim‑loss 0.4165 | acc 0.8056\n",
            "\n",
            "Epoch 17 | victim‑loss 0.4378 | acc 0.8056\n",
            "\n",
            "Epoch 18 | victim‑loss 0.4661 | acc 0.8056\n",
            "\n",
            "Epoch 19 | victim‑loss 0.4893 | acc 0.7833\n",
            "\n",
            "Epoch 20 | victim‑loss 0.5131 | acc 0.7778\n",
            "\n",
            "Epoch 21 | victim‑loss 0.5469 | acc 0.7722\n",
            "\n",
            "Epoch 22 | victim‑loss 0.5769 | acc 0.7500\n",
            "\n",
            "Epoch 23 | victim‑loss 0.6052 | acc 0.7556\n",
            "\n",
            "Epoch 24 | victim‑loss 0.6436 | acc 0.7444\n",
            "\n",
            "Epoch 25 | victim‑loss 0.6740 | acc 0.7389\n",
            "\n",
            "Epoch 26 | victim‑loss 0.7130 | acc 0.7333\n",
            "\n",
            "Epoch 27 | victim‑loss 0.7450 | acc 0.7278\n",
            "\n",
            "Epoch 28 | victim‑loss 0.7908 | acc 0.7000\n",
            "\n",
            "Epoch 29 | victim‑loss 0.8278 | acc 0.6833\n",
            "\n",
            "Epoch 30 | victim‑loss 0.8622 | acc 0.6667\n",
            "\n",
            "Epoch 31 | victim‑loss 0.9110 | acc 0.6611\n",
            "\n",
            "Epoch 32 | victim‑loss 0.9581 | acc 0.6500\n",
            "\n",
            "Epoch 33 | victim‑loss 1.0055 | acc 0.6500\n",
            "\n",
            "Epoch 34 | victim‑loss 1.0534 | acc 0.6444\n",
            "\n",
            "Epoch 35 | victim‑loss 1.0834 | acc 0.6333\n",
            "\n",
            "Epoch 36 | victim‑loss 1.1265 | acc 0.6389\n",
            "\n",
            "Epoch 37 | victim‑loss 1.1610 | acc 0.6222\n",
            "\n",
            "Epoch 38 | victim‑loss 1.2080 | acc 0.6111\n",
            "\n",
            "Epoch 39 | victim‑loss 1.2245 | acc 0.6278\n",
            "\n",
            "Epoch 40 | victim‑loss 1.2857 | acc 0.5944\n",
            "\n",
            "Epoch 41 | victim‑loss 1.3040 | acc 0.5944\n",
            "\n",
            "Epoch 42 | victim‑loss 1.3405 | acc 0.5722\n",
            "\n",
            "Epoch 43 | victim‑loss 1.3595 | acc 0.5667\n",
            "\n",
            "Epoch 44 | victim‑loss 1.3895 | acc 0.5667\n",
            "\n",
            "Epoch 45 | victim‑loss 1.4109 | acc 0.5389\n",
            "\n",
            "Epoch 46 | victim‑loss 1.4494 | acc 0.5389\n",
            "\n",
            "Epoch 47 | victim‑loss 1.4624 | acc 0.5333\n",
            "\n",
            "Epoch 48 | victim‑loss 1.4764 | acc 0.5278\n",
            "\n",
            "Epoch 49 | victim‑loss 1.4981 | acc 0.5167\n"
          ]
        },
        {
          "name": "stderr",
          "output_type": "stream",
          "text": [
            "[I 2025-08-06 16:14:36,411] Trial 1 finished with value: 0.5222222261958652 and parameters: {'eps': 1.371353432117841, 'lr': 0.001749500764834404, 'alpha_l2': 0.000686630895888702, 'patience': 9, 'hidden_dim': 128, 'dropout': 0.6}. Best is trial 0 with value: 0.4999999966886308.\n"
          ]
        },
        {
          "name": "stdout",
          "output_type": "stream",
          "text": [
            "\n",
            "Epoch 50 | victim‑loss 1.5262 | acc 0.5222\n",
            "\n",
            "Epoch 01 | victim‑loss 1.0953 | acc 0.6778\n",
            "\n",
            "Epoch 02 | victim‑loss 1.1185 | acc 0.6667\n",
            "\n",
            "Epoch 03 | victim‑loss 1.1357 | acc 0.6667\n",
            "\n",
            "Epoch 04 | victim‑loss 1.1476 | acc 0.6667\n",
            "\n",
            "Epoch 05 | victim‑loss 1.1569 | acc 0.6667\n",
            "\n",
            "Epoch 06 | victim‑loss 1.1648 | acc 0.6667\n",
            "\n",
            "Epoch 07 | victim‑loss 1.1704 | acc 0.6667\n",
            "\n",
            "Epoch 08 | victim‑loss 1.1753 | acc 0.6667\n",
            "\n",
            "Epoch 09 | victim‑loss 1.1793 | acc 0.6667\n",
            "\n",
            "Epoch 10 | victim‑loss 1.1824 | acc 0.6667\n",
            "\n",
            "Epoch 11 | victim‑loss 1.1863 | acc 0.6667\n",
            "\n",
            "Epoch 12 | victim‑loss 1.1892 | acc 0.6667\n",
            "\n",
            "Epoch 13 | victim‑loss 1.1914 | acc 0.6667\n",
            "\n",
            "Epoch 14 | victim‑loss 1.1939 | acc 0.6667\n",
            "\n",
            "Epoch 15 | victim‑loss 1.1962 | acc 0.6667\n",
            "\n",
            "Epoch 16 | victim‑loss 1.1974 | acc 0.6667\n",
            "\n",
            "Epoch 17 | victim‑loss 1.1987 | acc 0.6667\n",
            "\n",
            "Epoch 18 | victim‑loss 1.2005 | acc 0.6611\n",
            "\n",
            "Epoch 19 | victim‑loss 1.2016 | acc 0.6611\n",
            "\n",
            "Epoch 20 | victim‑loss 1.2027 | acc 0.6611\n",
            "\n",
            "Epoch 21 | victim‑loss 1.2039 | acc 0.6611\n",
            "\n",
            "Epoch 22 | victim‑loss 1.2055 | acc 0.6611\n",
            "\n",
            "Epoch 23 | victim‑loss 1.2061 | acc 0.6611\n",
            "\n",
            "Epoch 24 | victim‑loss 1.2071 | acc 0.6611\n",
            "\n",
            "Epoch 25 | victim‑loss 1.2087 | acc 0.6611\n",
            "\n",
            "Epoch 26 | victim‑loss 1.2090 | acc 0.6611\n",
            "\n",
            "Epoch 27 | victim‑loss 1.2094 | acc 0.6611\n",
            "\n",
            "Epoch 28 | victim‑loss 1.2100 | acc 0.6611\n",
            "\n",
            "Epoch 29 | victim‑loss 1.2111 | acc 0.6611\n",
            "\n",
            "Epoch 30 | victim‑loss 1.2114 | acc 0.6611\n",
            "\n",
            "Epoch 31 | victim‑loss 1.2123 | acc 0.6611\n",
            "\n",
            "Epoch 32 | victim‑loss 1.2129 | acc 0.6611\n",
            "\n",
            "Epoch 33 | victim‑loss 1.2137 | acc 0.6611\n",
            "\n",
            "Epoch 34 | victim‑loss 1.2137 | acc 0.6611\n",
            "\n",
            "Epoch 35 | victim‑loss 1.2144 | acc 0.6611\n",
            "\n",
            "Epoch 36 | victim‑loss 1.2146 | acc 0.6556\n",
            "\n",
            "Epoch 37 | victim‑loss 1.2154 | acc 0.6556\n",
            "\n",
            "Epoch 38 | victim‑loss 1.2155 | acc 0.6556\n",
            "\n",
            "Epoch 39 | victim‑loss 1.2160 | acc 0.6556\n",
            "\n",
            "Epoch 40 | victim‑loss 1.2165 | acc 0.6556\n",
            "\n",
            "Epoch 41 | victim‑loss 1.2164 | acc 0.6556\n",
            "\n",
            "Epoch 42 | victim‑loss 1.2166 | acc 0.6556\n",
            "\n",
            "Epoch 43 | victim‑loss 1.2174 | acc 0.6556\n",
            "\n",
            "Epoch 44 | victim‑loss 1.2176 | acc 0.6556\n",
            "\n",
            "Epoch 45 | victim‑loss 1.2174 | acc 0.6556\n",
            "\n",
            "Epoch 46 | victim‑loss 1.2183 | acc 0.6556\n",
            "\n",
            "Epoch 47 | victim‑loss 1.2181 | acc 0.6556\n",
            "\n",
            "Epoch 48 | victim‑loss 1.2186 | acc 0.6556\n",
            "\n",
            "Epoch 49 | victim‑loss 1.2190 | acc 0.6556\n"
          ]
        },
        {
          "name": "stderr",
          "output_type": "stream",
          "text": [
            "[I 2025-08-06 16:17:07,243] Trial 2 finished with value: 0.6555555568801033 and parameters: {'eps': 0.9111812645237938, 'lr': 0.006656673070486842, 'alpha_l2': 0.001904821460799289, 'patience': 9, 'hidden_dim': 128, 'dropout': 0.30000000000000004}. Best is trial 0 with value: 0.4999999966886308.\n"
          ]
        },
        {
          "name": "stdout",
          "output_type": "stream",
          "text": [
            "\n",
            "Epoch 50 | victim‑loss 1.2186 | acc 0.6556\n",
            "\n",
            "Epoch 01 | victim‑loss 0.1800 | acc 0.9222\n",
            "\n",
            "Epoch 02 | victim‑loss 0.1821 | acc 0.9222\n",
            "\n",
            "Epoch 03 | victim‑loss 0.1825 | acc 0.9222\n",
            "\n",
            "Epoch 04 | victim‑loss 0.1836 | acc 0.9222\n",
            "\n",
            "Epoch 05 | victim‑loss 0.1815 | acc 0.9278\n",
            "\n",
            "Epoch 06 | victim‑loss 0.1832 | acc 0.9222\n"
          ]
        },
        {
          "name": "stderr",
          "output_type": "stream",
          "text": [
            "[I 2025-08-06 16:17:21,385] Trial 3 finished with value: 0.9277777698304918 and parameters: {'eps': 0.7879720326948566, 'lr': 0.003194537591761808, 'alpha_l2': 1.550978450549172e-05, 'patience': 3, 'hidden_dim': 64, 'dropout': 0.5}. Best is trial 0 with value: 0.4999999966886308.\n"
          ]
        },
        {
          "name": "stdout",
          "output_type": "stream",
          "text": [
            "\n",
            "Epoch 07 | victim‑loss 0.1834 | acc 0.9278\n",
            "⏹ Early stopping at epoch 7\n",
            "\n",
            "Epoch 01 | victim‑loss 0.2359 | acc 0.8833\n",
            "\n",
            "Epoch 02 | victim‑loss 0.2432 | acc 0.8833\n",
            "\n",
            "Epoch 03 | victim‑loss 0.2515 | acc 0.8778\n",
            "\n",
            "Epoch 04 | victim‑loss 0.2615 | acc 0.8722\n",
            "\n",
            "Epoch 05 | victim‑loss 0.2732 | acc 0.8778\n",
            "\n",
            "Epoch 06 | victim‑loss 0.2868 | acc 0.8778\n",
            "\n",
            "Epoch 07 | victim‑loss 0.3002 | acc 0.8667\n",
            "\n",
            "Epoch 08 | victim‑loss 0.3204 | acc 0.8556\n",
            "\n",
            "Epoch 09 | victim‑loss 0.3401 | acc 0.8556\n",
            "\n",
            "Epoch 10 | victim‑loss 0.3630 | acc 0.8556\n",
            "\n",
            "Epoch 11 | victim‑loss 0.3951 | acc 0.8389\n",
            "\n",
            "Epoch 12 | victim‑loss 0.4309 | acc 0.8111\n",
            "\n",
            "Epoch 13 | victim‑loss 0.4755 | acc 0.7944\n",
            "\n",
            "Epoch 14 | victim‑loss 0.5266 | acc 0.7833\n",
            "\n",
            "Epoch 15 | victim‑loss 0.5812 | acc 0.7833\n",
            "\n",
            "Epoch 16 | victim‑loss 0.6336 | acc 0.7833\n",
            "\n",
            "Epoch 17 | victim‑loss 0.6930 | acc 0.7667\n",
            "\n",
            "Epoch 18 | victim‑loss 0.7462 | acc 0.7611\n",
            "\n",
            "Epoch 19 | victim‑loss 0.7918 | acc 0.7500\n",
            "\n",
            "Epoch 20 | victim‑loss 0.8281 | acc 0.7444\n",
            "\n",
            "Epoch 21 | victim‑loss 0.8621 | acc 0.7444\n",
            "\n",
            "Epoch 22 | victim‑loss 0.8832 | acc 0.7389\n",
            "\n",
            "Epoch 23 | victim‑loss 0.8995 | acc 0.7278\n",
            "\n",
            "Epoch 24 | victim‑loss 0.9137 | acc 0.7222\n",
            "\n",
            "Epoch 25 | victim‑loss 0.9235 | acc 0.7222\n",
            "\n",
            "Epoch 26 | victim‑loss 0.9304 | acc 0.7222\n",
            "\n",
            "Epoch 27 | victim‑loss 0.9350 | acc 0.7222\n",
            "\n",
            "Epoch 28 | victim‑loss 0.9385 | acc 0.7222\n",
            "\n",
            "Epoch 29 | victim‑loss 0.9414 | acc 0.7222\n",
            "\n",
            "Epoch 30 | victim‑loss 0.9440 | acc 0.7222\n",
            "\n",
            "Epoch 31 | victim‑loss 0.9453 | acc 0.7222\n",
            "\n",
            "Epoch 32 | victim‑loss 0.9479 | acc 0.7222\n",
            "\n",
            "Epoch 33 | victim‑loss 0.9489 | acc 0.7222\n",
            "\n",
            "Epoch 34 | victim‑loss 0.9501 | acc 0.7222\n",
            "\n",
            "Epoch 35 | victim‑loss 0.9517 | acc 0.7222\n",
            "\n",
            "Epoch 36 | victim‑loss 0.9530 | acc 0.7167\n",
            "\n",
            "Epoch 37 | victim‑loss 0.9538 | acc 0.7167\n",
            "\n",
            "Epoch 38 | victim‑loss 0.9544 | acc 0.7222\n",
            "\n",
            "Epoch 39 | victim‑loss 0.9557 | acc 0.7167\n",
            "\n",
            "Epoch 40 | victim‑loss 0.9554 | acc 0.7167\n"
          ]
        },
        {
          "name": "stderr",
          "output_type": "stream",
          "text": [
            "[W 2025-08-06 16:21:46,880] Trial 4 failed with parameters: {'eps': 0.7214819635967462, 'lr': 0.006255101371387048, 'alpha_l2': 0.002390350478606417, 'patience': 9, 'hidden_dim': 256, 'dropout': 0.1} because of the following error: KeyboardInterrupt().\n",
            "Traceback (most recent call last):\n",
            "  File \"/home/ubnps23/tecHub/AD_intro/advattacks_iitp_summer/a3_env/lib/python3.9/site-packages/optuna/study/_optimize.py\", line 200, in _run_trial\n",
            "    value_or_values = func(trial)\n",
            "  File \"/tmp/ipykernel_2657511/476704915.py\", line 15, in objective\n",
            "    val_loss, val_acc = train_atk_model(\n",
            "  File \"/tmp/ipykernel_2657511/3634958101.py\", line 24, in train_atk_model\n",
            "    delta = eps * torch.tanh(atk_model(x))\n",
            "  File \"/home/ubnps23/tecHub/AD_intro/advattacks_iitp_summer/a3_env/lib/python3.9/site-packages/torch/nn/modules/module.py\", line 1501, in _call_impl\n",
            "    return forward_call(*args, **kwargs)\n",
            "  File \"/tmp/ipykernel_2657511/1461698294.py\", line 24, in forward\n",
            "    x, _ = self.rnn_inp(data)\n",
            "  File \"/home/ubnps23/tecHub/AD_intro/advattacks_iitp_summer/a3_env/lib/python3.9/site-packages/torch/nn/modules/module.py\", line 1501, in _call_impl\n",
            "    return forward_call(*args, **kwargs)\n",
            "  File \"/home/ubnps23/tecHub/AD_intro/advattacks_iitp_summer/a3_env/lib/python3.9/site-packages/torch/nn/modules/rnn.py\", line 812, in forward\n",
            "    result = _VF.lstm(input, hx, self._flat_weights, self.bias, self.num_layers,\n",
            "KeyboardInterrupt\n",
            "[W 2025-08-06 16:21:46,885] Trial 4 failed with value None.\n"
          ]
        },
        {
          "ename": "KeyboardInterrupt",
          "evalue": "",
          "output_type": "error",
          "traceback": [
            "\u001b[0;31m---------------------------------------------------------------------------\u001b[0m",
            "\u001b[0;31mKeyboardInterrupt\u001b[0m                         Traceback (most recent call last)",
            "Cell \u001b[0;32mIn[76], line 26\u001b[0m\n\u001b[1;32m     21\u001b[0m     \u001b[38;5;28;01mreturn\u001b[39;00m val_acc \n\u001b[1;32m     23\u001b[0m study \u001b[38;5;241m=\u001b[39m optuna\u001b[38;5;241m.\u001b[39mcreate_study(direction\u001b[38;5;241m=\u001b[39m\u001b[38;5;124m\"\u001b[39m\u001b[38;5;124mminimize\u001b[39m\u001b[38;5;124m\"\u001b[39m, sampler\u001b[38;5;241m=\u001b[39moptuna\u001b[38;5;241m.\u001b[39msamplers\u001b[38;5;241m.\u001b[39mTPESampler(),\n\u001b[1;32m     24\u001b[0m                             pruner\u001b[38;5;241m=\u001b[39moptuna\u001b[38;5;241m.\u001b[39mpruners\u001b[38;5;241m.\u001b[39mMedianPruner(n_warmup_steps\u001b[38;5;241m=\u001b[39m\u001b[38;5;241m3\u001b[39m))\n\u001b[0;32m---> 26\u001b[0m \u001b[43mstudy\u001b[49m\u001b[38;5;241;43m.\u001b[39;49m\u001b[43moptimize\u001b[49m\u001b[43m(\u001b[49m\u001b[43mobjective\u001b[49m\u001b[43m,\u001b[49m\u001b[43m \u001b[49m\u001b[43mn_trials\u001b[49m\u001b[38;5;241;43m=\u001b[39;49m\u001b[38;5;241;43m50\u001b[39;49m\u001b[43m,\u001b[49m\u001b[43m \u001b[49m\u001b[43mtimeout\u001b[49m\u001b[38;5;241;43m=\u001b[39;49m\u001b[38;5;241;43m60\u001b[39;49m\u001b[38;5;241;43m*\u001b[39;49m\u001b[38;5;241;43m60\u001b[39;49m\u001b[43m)\u001b[49m\n\u001b[1;32m     27\u001b[0m \u001b[38;5;28mprint\u001b[39m(\u001b[38;5;124m\"\u001b[39m\u001b[38;5;124mBEST PARAMS:\u001b[39m\u001b[38;5;124m\"\u001b[39m, study\u001b[38;5;241m.\u001b[39mbest_params)\n",
            "File \u001b[0;32m~/tecHub/AD_intro/advattacks_iitp_summer/a3_env/lib/python3.9/site-packages/optuna/study/study.py:451\u001b[0m, in \u001b[0;36mStudy.optimize\u001b[0;34m(self, func, n_trials, timeout, n_jobs, catch, callbacks, gc_after_trial, show_progress_bar)\u001b[0m\n\u001b[1;32m    348\u001b[0m \u001b[38;5;28;01mdef\u001b[39;00m\u001b[38;5;250m \u001b[39m\u001b[38;5;21moptimize\u001b[39m(\n\u001b[1;32m    349\u001b[0m     \u001b[38;5;28mself\u001b[39m,\n\u001b[1;32m    350\u001b[0m     func: ObjectiveFuncType,\n\u001b[0;32m   (...)\u001b[0m\n\u001b[1;32m    357\u001b[0m     show_progress_bar: \u001b[38;5;28mbool\u001b[39m \u001b[38;5;241m=\u001b[39m \u001b[38;5;28;01mFalse\u001b[39;00m,\n\u001b[1;32m    358\u001b[0m ) \u001b[38;5;241m-\u001b[39m\u001b[38;5;241m>\u001b[39m \u001b[38;5;28;01mNone\u001b[39;00m:\n\u001b[1;32m    359\u001b[0m \u001b[38;5;250m    \u001b[39m\u001b[38;5;124;03m\"\"\"Optimize an objective function.\u001b[39;00m\n\u001b[1;32m    360\u001b[0m \n\u001b[1;32m    361\u001b[0m \u001b[38;5;124;03m    Optimization is done by choosing a suitable set of hyperparameter values from a given\u001b[39;00m\n\u001b[0;32m   (...)\u001b[0m\n\u001b[1;32m    449\u001b[0m \u001b[38;5;124;03m            If nested invocation of this method occurs.\u001b[39;00m\n\u001b[1;32m    450\u001b[0m \u001b[38;5;124;03m    \"\"\"\u001b[39;00m\n\u001b[0;32m--> 451\u001b[0m     \u001b[43m_optimize\u001b[49m\u001b[43m(\u001b[49m\n\u001b[1;32m    452\u001b[0m \u001b[43m        \u001b[49m\u001b[43mstudy\u001b[49m\u001b[38;5;241;43m=\u001b[39;49m\u001b[38;5;28;43mself\u001b[39;49m\u001b[43m,\u001b[49m\n\u001b[1;32m    453\u001b[0m \u001b[43m        \u001b[49m\u001b[43mfunc\u001b[49m\u001b[38;5;241;43m=\u001b[39;49m\u001b[43mfunc\u001b[49m\u001b[43m,\u001b[49m\n\u001b[1;32m    454\u001b[0m \u001b[43m        \u001b[49m\u001b[43mn_trials\u001b[49m\u001b[38;5;241;43m=\u001b[39;49m\u001b[43mn_trials\u001b[49m\u001b[43m,\u001b[49m\n\u001b[1;32m    455\u001b[0m \u001b[43m        \u001b[49m\u001b[43mtimeout\u001b[49m\u001b[38;5;241;43m=\u001b[39;49m\u001b[43mtimeout\u001b[49m\u001b[43m,\u001b[49m\n\u001b[1;32m    456\u001b[0m \u001b[43m        \u001b[49m\u001b[43mn_jobs\u001b[49m\u001b[38;5;241;43m=\u001b[39;49m\u001b[43mn_jobs\u001b[49m\u001b[43m,\u001b[49m\n\u001b[1;32m    457\u001b[0m \u001b[43m        \u001b[49m\u001b[43mcatch\u001b[49m\u001b[38;5;241;43m=\u001b[39;49m\u001b[38;5;28;43mtuple\u001b[39;49m\u001b[43m(\u001b[49m\u001b[43mcatch\u001b[49m\u001b[43m)\u001b[49m\u001b[43m \u001b[49m\u001b[38;5;28;43;01mif\u001b[39;49;00m\u001b[43m \u001b[49m\u001b[38;5;28;43misinstance\u001b[39;49m\u001b[43m(\u001b[49m\u001b[43mcatch\u001b[49m\u001b[43m,\u001b[49m\u001b[43m \u001b[49m\u001b[43mIterable\u001b[49m\u001b[43m)\u001b[49m\u001b[43m \u001b[49m\u001b[38;5;28;43;01melse\u001b[39;49;00m\u001b[43m \u001b[49m\u001b[43m(\u001b[49m\u001b[43mcatch\u001b[49m\u001b[43m,\u001b[49m\u001b[43m)\u001b[49m\u001b[43m,\u001b[49m\n\u001b[1;32m    458\u001b[0m \u001b[43m        \u001b[49m\u001b[43mcallbacks\u001b[49m\u001b[38;5;241;43m=\u001b[39;49m\u001b[43mcallbacks\u001b[49m\u001b[43m,\u001b[49m\n\u001b[1;32m    459\u001b[0m \u001b[43m        \u001b[49m\u001b[43mgc_after_trial\u001b[49m\u001b[38;5;241;43m=\u001b[39;49m\u001b[43mgc_after_trial\u001b[49m\u001b[43m,\u001b[49m\n\u001b[1;32m    460\u001b[0m \u001b[43m        \u001b[49m\u001b[43mshow_progress_bar\u001b[49m\u001b[38;5;241;43m=\u001b[39;49m\u001b[43mshow_progress_bar\u001b[49m\u001b[43m,\u001b[49m\n\u001b[1;32m    461\u001b[0m \u001b[43m    \u001b[49m\u001b[43m)\u001b[49m\n",
            "File \u001b[0;32m~/tecHub/AD_intro/advattacks_iitp_summer/a3_env/lib/python3.9/site-packages/optuna/study/_optimize.py:66\u001b[0m, in \u001b[0;36m_optimize\u001b[0;34m(study, func, n_trials, timeout, n_jobs, catch, callbacks, gc_after_trial, show_progress_bar)\u001b[0m\n\u001b[1;32m     64\u001b[0m \u001b[38;5;28;01mtry\u001b[39;00m:\n\u001b[1;32m     65\u001b[0m     \u001b[38;5;28;01mif\u001b[39;00m n_jobs \u001b[38;5;241m==\u001b[39m \u001b[38;5;241m1\u001b[39m:\n\u001b[0;32m---> 66\u001b[0m         \u001b[43m_optimize_sequential\u001b[49m\u001b[43m(\u001b[49m\n\u001b[1;32m     67\u001b[0m \u001b[43m            \u001b[49m\u001b[43mstudy\u001b[49m\u001b[43m,\u001b[49m\n\u001b[1;32m     68\u001b[0m \u001b[43m            \u001b[49m\u001b[43mfunc\u001b[49m\u001b[43m,\u001b[49m\n\u001b[1;32m     69\u001b[0m \u001b[43m            \u001b[49m\u001b[43mn_trials\u001b[49m\u001b[43m,\u001b[49m\n\u001b[1;32m     70\u001b[0m \u001b[43m            \u001b[49m\u001b[43mtimeout\u001b[49m\u001b[43m,\u001b[49m\n\u001b[1;32m     71\u001b[0m \u001b[43m            \u001b[49m\u001b[43mcatch\u001b[49m\u001b[43m,\u001b[49m\n\u001b[1;32m     72\u001b[0m \u001b[43m            \u001b[49m\u001b[43mcallbacks\u001b[49m\u001b[43m,\u001b[49m\n\u001b[1;32m     73\u001b[0m \u001b[43m            \u001b[49m\u001b[43mgc_after_trial\u001b[49m\u001b[43m,\u001b[49m\n\u001b[1;32m     74\u001b[0m \u001b[43m            \u001b[49m\u001b[43mreseed_sampler_rng\u001b[49m\u001b[38;5;241;43m=\u001b[39;49m\u001b[38;5;28;43;01mFalse\u001b[39;49;00m\u001b[43m,\u001b[49m\n\u001b[1;32m     75\u001b[0m \u001b[43m            \u001b[49m\u001b[43mtime_start\u001b[49m\u001b[38;5;241;43m=\u001b[39;49m\u001b[38;5;28;43;01mNone\u001b[39;49;00m\u001b[43m,\u001b[49m\n\u001b[1;32m     76\u001b[0m \u001b[43m            \u001b[49m\u001b[43mprogress_bar\u001b[49m\u001b[38;5;241;43m=\u001b[39;49m\u001b[43mprogress_bar\u001b[49m\u001b[43m,\u001b[49m\n\u001b[1;32m     77\u001b[0m \u001b[43m        \u001b[49m\u001b[43m)\u001b[49m\n\u001b[1;32m     78\u001b[0m     \u001b[38;5;28;01melse\u001b[39;00m:\n\u001b[1;32m     79\u001b[0m         \u001b[38;5;28;01mif\u001b[39;00m n_jobs \u001b[38;5;241m==\u001b[39m \u001b[38;5;241m-\u001b[39m\u001b[38;5;241m1\u001b[39m:\n",
            "File \u001b[0;32m~/tecHub/AD_intro/advattacks_iitp_summer/a3_env/lib/python3.9/site-packages/optuna/study/_optimize.py:163\u001b[0m, in \u001b[0;36m_optimize_sequential\u001b[0;34m(study, func, n_trials, timeout, catch, callbacks, gc_after_trial, reseed_sampler_rng, time_start, progress_bar)\u001b[0m\n\u001b[1;32m    160\u001b[0m         \u001b[38;5;28;01mbreak\u001b[39;00m\n\u001b[1;32m    162\u001b[0m \u001b[38;5;28;01mtry\u001b[39;00m:\n\u001b[0;32m--> 163\u001b[0m     frozen_trial \u001b[38;5;241m=\u001b[39m \u001b[43m_run_trial\u001b[49m\u001b[43m(\u001b[49m\u001b[43mstudy\u001b[49m\u001b[43m,\u001b[49m\u001b[43m \u001b[49m\u001b[43mfunc\u001b[49m\u001b[43m,\u001b[49m\u001b[43m \u001b[49m\u001b[43mcatch\u001b[49m\u001b[43m)\u001b[49m\n\u001b[1;32m    164\u001b[0m \u001b[38;5;28;01mfinally\u001b[39;00m:\n\u001b[1;32m    165\u001b[0m     \u001b[38;5;66;03m# The following line mitigates memory problems that can be occurred in some\u001b[39;00m\n\u001b[1;32m    166\u001b[0m     \u001b[38;5;66;03m# environments (e.g., services that use computing containers such as GitHub Actions).\u001b[39;00m\n\u001b[1;32m    167\u001b[0m     \u001b[38;5;66;03m# Please refer to the following PR for further details:\u001b[39;00m\n\u001b[1;32m    168\u001b[0m     \u001b[38;5;66;03m# https://github.com/optuna/optuna/pull/325.\u001b[39;00m\n\u001b[1;32m    169\u001b[0m     \u001b[38;5;28;01mif\u001b[39;00m gc_after_trial:\n",
            "File \u001b[0;32m~/tecHub/AD_intro/advattacks_iitp_summer/a3_env/lib/python3.9/site-packages/optuna/study/_optimize.py:251\u001b[0m, in \u001b[0;36m_run_trial\u001b[0;34m(study, func, catch)\u001b[0m\n\u001b[1;32m    244\u001b[0m         \u001b[38;5;28;01massert\u001b[39;00m \u001b[38;5;28;01mFalse\u001b[39;00m, \u001b[38;5;124m\"\u001b[39m\u001b[38;5;124mShould not reach.\u001b[39m\u001b[38;5;124m\"\u001b[39m\n\u001b[1;32m    246\u001b[0m \u001b[38;5;28;01mif\u001b[39;00m (\n\u001b[1;32m    247\u001b[0m     frozen_trial\u001b[38;5;241m.\u001b[39mstate \u001b[38;5;241m==\u001b[39m TrialState\u001b[38;5;241m.\u001b[39mFAIL\n\u001b[1;32m    248\u001b[0m     \u001b[38;5;129;01mand\u001b[39;00m func_err \u001b[38;5;129;01mis\u001b[39;00m \u001b[38;5;129;01mnot\u001b[39;00m \u001b[38;5;28;01mNone\u001b[39;00m\n\u001b[1;32m    249\u001b[0m     \u001b[38;5;129;01mand\u001b[39;00m \u001b[38;5;129;01mnot\u001b[39;00m \u001b[38;5;28misinstance\u001b[39m(func_err, catch)\n\u001b[1;32m    250\u001b[0m ):\n\u001b[0;32m--> 251\u001b[0m     \u001b[38;5;28;01mraise\u001b[39;00m func_err\n\u001b[1;32m    252\u001b[0m \u001b[38;5;28;01mreturn\u001b[39;00m frozen_trial\n",
            "File \u001b[0;32m~/tecHub/AD_intro/advattacks_iitp_summer/a3_env/lib/python3.9/site-packages/optuna/study/_optimize.py:200\u001b[0m, in \u001b[0;36m_run_trial\u001b[0;34m(study, func, catch)\u001b[0m\n\u001b[1;32m    198\u001b[0m \u001b[38;5;28;01mwith\u001b[39;00m get_heartbeat_thread(trial\u001b[38;5;241m.\u001b[39m_trial_id, study\u001b[38;5;241m.\u001b[39m_storage):\n\u001b[1;32m    199\u001b[0m     \u001b[38;5;28;01mtry\u001b[39;00m:\n\u001b[0;32m--> 200\u001b[0m         value_or_values \u001b[38;5;241m=\u001b[39m \u001b[43mfunc\u001b[49m\u001b[43m(\u001b[49m\u001b[43mtrial\u001b[49m\u001b[43m)\u001b[49m\n\u001b[1;32m    201\u001b[0m     \u001b[38;5;28;01mexcept\u001b[39;00m exceptions\u001b[38;5;241m.\u001b[39mTrialPruned \u001b[38;5;28;01mas\u001b[39;00m e:\n\u001b[1;32m    202\u001b[0m         \u001b[38;5;66;03m# TODO(mamu): Handle multi-objective cases.\u001b[39;00m\n\u001b[1;32m    203\u001b[0m         state \u001b[38;5;241m=\u001b[39m TrialState\u001b[38;5;241m.\u001b[39mPRUNED\n",
            "Cell \u001b[0;32mIn[76], line 15\u001b[0m, in \u001b[0;36mobjective\u001b[0;34m(trial)\u001b[0m\n\u001b[1;32m      8\u001b[0m dropout \u001b[38;5;241m=\u001b[39m trial\u001b[38;5;241m.\u001b[39msuggest_float(\u001b[38;5;124m\"\u001b[39m\u001b[38;5;124mdropout\u001b[39m\u001b[38;5;124m\"\u001b[39m, \u001b[38;5;241m0.1\u001b[39m, \u001b[38;5;241m0.6\u001b[39m, step\u001b[38;5;241m=\u001b[39m\u001b[38;5;241m0.1\u001b[39m)\n\u001b[1;32m     10\u001b[0m atk_model \u001b[38;5;241m=\u001b[39m attack_LSTM(\n\u001b[1;32m     11\u001b[0m     hidden_dim\u001b[38;5;241m=\u001b[39mhidden_dim, x_dim\u001b[38;5;241m=\u001b[39m\u001b[38;5;241m1\u001b[39m, \n\u001b[1;32m     12\u001b[0m     activation_type\u001b[38;5;241m=\u001b[39m\u001b[38;5;124m'\u001b[39m\u001b[38;5;124mtanh\u001b[39m\u001b[38;5;124m'\u001b[39m, dropout\u001b[38;5;241m=\u001b[39mdropout\n\u001b[1;32m     13\u001b[0m )\n\u001b[0;32m---> 15\u001b[0m val_loss, val_acc \u001b[38;5;241m=\u001b[39m \u001b[43mtrain_atk_model\u001b[49m\u001b[43m(\u001b[49m\n\u001b[1;32m     16\u001b[0m \u001b[43m    \u001b[49m\u001b[43matk_model\u001b[49m\u001b[43m,\u001b[49m\u001b[43m \u001b[49m\u001b[43mclf_LSTM\u001b[49m\u001b[43m,\u001b[49m\u001b[43m \u001b[49m\u001b[43mtrain_dl\u001b[49m\u001b[43m,\u001b[49m\n\u001b[1;32m     17\u001b[0m \u001b[43m    \u001b[49m\u001b[43meps\u001b[49m\u001b[38;5;241;43m=\u001b[39;49m\u001b[43meps\u001b[49m\u001b[43m,\u001b[49m\u001b[43m  \u001b[49m\u001b[43mepochs\u001b[49m\u001b[38;5;241;43m=\u001b[39;49m\u001b[38;5;241;43m50\u001b[39;49m\u001b[43m,\u001b[49m\u001b[43m \u001b[49m\u001b[43mlr\u001b[49m\u001b[38;5;241;43m=\u001b[39;49m\u001b[43mlr\u001b[49m\u001b[43m,\u001b[49m\u001b[43m \u001b[49m\u001b[43malpha_l2\u001b[49m\u001b[38;5;241;43m=\u001b[39;49m\u001b[43malpha_l2\u001b[49m\u001b[43m,\u001b[49m\n\u001b[1;32m     18\u001b[0m \u001b[43m    \u001b[49m\u001b[43mdevice\u001b[49m\u001b[38;5;241;43m=\u001b[39;49m\u001b[43mdevice\u001b[49m\u001b[43m,\u001b[49m\u001b[43m \u001b[49m\u001b[43mpatience\u001b[49m\u001b[38;5;241;43m=\u001b[39;49m\u001b[43mpatience\u001b[49m\n\u001b[1;32m     19\u001b[0m \u001b[43m\u001b[49m\u001b[43m)\u001b[49m\n\u001b[1;32m     21\u001b[0m \u001b[38;5;28;01mreturn\u001b[39;00m val_acc\n",
            "Cell \u001b[0;32mIn[75], line 24\u001b[0m, in \u001b[0;36mtrain_atk_model\u001b[0;34m(atk_model, victim, loader, eps, epochs, lr, alpha_l2, device, patience, is_clamped, is_debugged)\u001b[0m\n\u001b[1;32m     22\u001b[0m \u001b[38;5;28;01mfor\u001b[39;00m x, y \u001b[38;5;129;01min\u001b[39;00m loader:\n\u001b[1;32m     23\u001b[0m     x, y \u001b[38;5;241m=\u001b[39m x\u001b[38;5;241m.\u001b[39mto(device), y\u001b[38;5;241m.\u001b[39mto(device)\n\u001b[0;32m---> 24\u001b[0m     delta \u001b[38;5;241m=\u001b[39m eps \u001b[38;5;241m*\u001b[39m torch\u001b[38;5;241m.\u001b[39mtanh(\u001b[43matk_model\u001b[49m\u001b[43m(\u001b[49m\u001b[43mx\u001b[49m\u001b[43m)\u001b[49m)\n\u001b[1;32m     25\u001b[0m     \u001b[38;5;28;01mif\u001b[39;00m is_clamped:\n\u001b[1;32m     26\u001b[0m         delta \u001b[38;5;241m=\u001b[39m torch\u001b[38;5;241m.\u001b[39mclamp(delta, \u001b[38;5;241m-\u001b[39m\u001b[38;5;241m1\u001b[39m, \u001b[38;5;241m1\u001b[39m)\n",
            "File \u001b[0;32m~/tecHub/AD_intro/advattacks_iitp_summer/a3_env/lib/python3.9/site-packages/torch/nn/modules/module.py:1501\u001b[0m, in \u001b[0;36mModule._call_impl\u001b[0;34m(self, *args, **kwargs)\u001b[0m\n\u001b[1;32m   1496\u001b[0m \u001b[38;5;66;03m# If we don't have any hooks, we want to skip the rest of the logic in\u001b[39;00m\n\u001b[1;32m   1497\u001b[0m \u001b[38;5;66;03m# this function, and just call forward.\u001b[39;00m\n\u001b[1;32m   1498\u001b[0m \u001b[38;5;28;01mif\u001b[39;00m \u001b[38;5;129;01mnot\u001b[39;00m (\u001b[38;5;28mself\u001b[39m\u001b[38;5;241m.\u001b[39m_backward_hooks \u001b[38;5;129;01mor\u001b[39;00m \u001b[38;5;28mself\u001b[39m\u001b[38;5;241m.\u001b[39m_backward_pre_hooks \u001b[38;5;129;01mor\u001b[39;00m \u001b[38;5;28mself\u001b[39m\u001b[38;5;241m.\u001b[39m_forward_hooks \u001b[38;5;129;01mor\u001b[39;00m \u001b[38;5;28mself\u001b[39m\u001b[38;5;241m.\u001b[39m_forward_pre_hooks\n\u001b[1;32m   1499\u001b[0m         \u001b[38;5;129;01mor\u001b[39;00m _global_backward_pre_hooks \u001b[38;5;129;01mor\u001b[39;00m _global_backward_hooks\n\u001b[1;32m   1500\u001b[0m         \u001b[38;5;129;01mor\u001b[39;00m _global_forward_hooks \u001b[38;5;129;01mor\u001b[39;00m _global_forward_pre_hooks):\n\u001b[0;32m-> 1501\u001b[0m     \u001b[38;5;28;01mreturn\u001b[39;00m \u001b[43mforward_call\u001b[49m\u001b[43m(\u001b[49m\u001b[38;5;241;43m*\u001b[39;49m\u001b[43margs\u001b[49m\u001b[43m,\u001b[49m\u001b[43m \u001b[49m\u001b[38;5;241;43m*\u001b[39;49m\u001b[38;5;241;43m*\u001b[39;49m\u001b[43mkwargs\u001b[49m\u001b[43m)\u001b[49m\n\u001b[1;32m   1502\u001b[0m \u001b[38;5;66;03m# Do not call functions when jit is used\u001b[39;00m\n\u001b[1;32m   1503\u001b[0m full_backward_hooks, non_full_backward_hooks \u001b[38;5;241m=\u001b[39m [], []\n",
            "Cell \u001b[0;32mIn[73], line 24\u001b[0m, in \u001b[0;36mattack_LSTM.forward\u001b[0;34m(self, data)\u001b[0m\n\u001b[1;32m     23\u001b[0m \u001b[38;5;28;01mdef\u001b[39;00m\u001b[38;5;250m \u001b[39m\u001b[38;5;21mforward\u001b[39m(\u001b[38;5;28mself\u001b[39m, data):\n\u001b[0;32m---> 24\u001b[0m     x, _ \u001b[38;5;241m=\u001b[39m \u001b[38;5;28;43mself\u001b[39;49m\u001b[38;5;241;43m.\u001b[39;49m\u001b[43mrnn_inp\u001b[49m\u001b[43m(\u001b[49m\u001b[43mdata\u001b[49m\u001b[43m)\u001b[49m\n\u001b[1;32m     25\u001b[0m     x \u001b[38;5;241m=\u001b[39m \u001b[38;5;28mself\u001b[39m\u001b[38;5;241m.\u001b[39mact(x)\n\u001b[1;32m     26\u001b[0m     x, _ \u001b[38;5;241m=\u001b[39m \u001b[38;5;28mself\u001b[39m\u001b[38;5;241m.\u001b[39mrnn_out(x)\n",
            "File \u001b[0;32m~/tecHub/AD_intro/advattacks_iitp_summer/a3_env/lib/python3.9/site-packages/torch/nn/modules/module.py:1501\u001b[0m, in \u001b[0;36mModule._call_impl\u001b[0;34m(self, *args, **kwargs)\u001b[0m\n\u001b[1;32m   1496\u001b[0m \u001b[38;5;66;03m# If we don't have any hooks, we want to skip the rest of the logic in\u001b[39;00m\n\u001b[1;32m   1497\u001b[0m \u001b[38;5;66;03m# this function, and just call forward.\u001b[39;00m\n\u001b[1;32m   1498\u001b[0m \u001b[38;5;28;01mif\u001b[39;00m \u001b[38;5;129;01mnot\u001b[39;00m (\u001b[38;5;28mself\u001b[39m\u001b[38;5;241m.\u001b[39m_backward_hooks \u001b[38;5;129;01mor\u001b[39;00m \u001b[38;5;28mself\u001b[39m\u001b[38;5;241m.\u001b[39m_backward_pre_hooks \u001b[38;5;129;01mor\u001b[39;00m \u001b[38;5;28mself\u001b[39m\u001b[38;5;241m.\u001b[39m_forward_hooks \u001b[38;5;129;01mor\u001b[39;00m \u001b[38;5;28mself\u001b[39m\u001b[38;5;241m.\u001b[39m_forward_pre_hooks\n\u001b[1;32m   1499\u001b[0m         \u001b[38;5;129;01mor\u001b[39;00m _global_backward_pre_hooks \u001b[38;5;129;01mor\u001b[39;00m _global_backward_hooks\n\u001b[1;32m   1500\u001b[0m         \u001b[38;5;129;01mor\u001b[39;00m _global_forward_hooks \u001b[38;5;129;01mor\u001b[39;00m _global_forward_pre_hooks):\n\u001b[0;32m-> 1501\u001b[0m     \u001b[38;5;28;01mreturn\u001b[39;00m \u001b[43mforward_call\u001b[49m\u001b[43m(\u001b[49m\u001b[38;5;241;43m*\u001b[39;49m\u001b[43margs\u001b[49m\u001b[43m,\u001b[49m\u001b[43m \u001b[49m\u001b[38;5;241;43m*\u001b[39;49m\u001b[38;5;241;43m*\u001b[39;49m\u001b[43mkwargs\u001b[49m\u001b[43m)\u001b[49m\n\u001b[1;32m   1502\u001b[0m \u001b[38;5;66;03m# Do not call functions when jit is used\u001b[39;00m\n\u001b[1;32m   1503\u001b[0m full_backward_hooks, non_full_backward_hooks \u001b[38;5;241m=\u001b[39m [], []\n",
            "File \u001b[0;32m~/tecHub/AD_intro/advattacks_iitp_summer/a3_env/lib/python3.9/site-packages/torch/nn/modules/rnn.py:812\u001b[0m, in \u001b[0;36mLSTM.forward\u001b[0;34m(self, input, hx)\u001b[0m\n\u001b[1;32m    810\u001b[0m \u001b[38;5;28mself\u001b[39m\u001b[38;5;241m.\u001b[39mcheck_forward_args(\u001b[38;5;28minput\u001b[39m, hx, batch_sizes)\n\u001b[1;32m    811\u001b[0m \u001b[38;5;28;01mif\u001b[39;00m batch_sizes \u001b[38;5;129;01mis\u001b[39;00m \u001b[38;5;28;01mNone\u001b[39;00m:\n\u001b[0;32m--> 812\u001b[0m     result \u001b[38;5;241m=\u001b[39m \u001b[43m_VF\u001b[49m\u001b[38;5;241;43m.\u001b[39;49m\u001b[43mlstm\u001b[49m\u001b[43m(\u001b[49m\u001b[38;5;28;43minput\u001b[39;49m\u001b[43m,\u001b[49m\u001b[43m \u001b[49m\u001b[43mhx\u001b[49m\u001b[43m,\u001b[49m\u001b[43m \u001b[49m\u001b[38;5;28;43mself\u001b[39;49m\u001b[38;5;241;43m.\u001b[39;49m\u001b[43m_flat_weights\u001b[49m\u001b[43m,\u001b[49m\u001b[43m \u001b[49m\u001b[38;5;28;43mself\u001b[39;49m\u001b[38;5;241;43m.\u001b[39;49m\u001b[43mbias\u001b[49m\u001b[43m,\u001b[49m\u001b[43m \u001b[49m\u001b[38;5;28;43mself\u001b[39;49m\u001b[38;5;241;43m.\u001b[39;49m\u001b[43mnum_layers\u001b[49m\u001b[43m,\u001b[49m\n\u001b[1;32m    813\u001b[0m \u001b[43m                      \u001b[49m\u001b[38;5;28;43mself\u001b[39;49m\u001b[38;5;241;43m.\u001b[39;49m\u001b[43mdropout\u001b[49m\u001b[43m,\u001b[49m\u001b[43m \u001b[49m\u001b[38;5;28;43mself\u001b[39;49m\u001b[38;5;241;43m.\u001b[39;49m\u001b[43mtraining\u001b[49m\u001b[43m,\u001b[49m\u001b[43m \u001b[49m\u001b[38;5;28;43mself\u001b[39;49m\u001b[38;5;241;43m.\u001b[39;49m\u001b[43mbidirectional\u001b[49m\u001b[43m,\u001b[49m\u001b[43m \u001b[49m\u001b[38;5;28;43mself\u001b[39;49m\u001b[38;5;241;43m.\u001b[39;49m\u001b[43mbatch_first\u001b[49m\u001b[43m)\u001b[49m\n\u001b[1;32m    814\u001b[0m \u001b[38;5;28;01melse\u001b[39;00m:\n\u001b[1;32m    815\u001b[0m     result \u001b[38;5;241m=\u001b[39m _VF\u001b[38;5;241m.\u001b[39mlstm(\u001b[38;5;28minput\u001b[39m, batch_sizes, hx, \u001b[38;5;28mself\u001b[39m\u001b[38;5;241m.\u001b[39m_flat_weights, \u001b[38;5;28mself\u001b[39m\u001b[38;5;241m.\u001b[39mbias,\n\u001b[1;32m    816\u001b[0m                       \u001b[38;5;28mself\u001b[39m\u001b[38;5;241m.\u001b[39mnum_layers, \u001b[38;5;28mself\u001b[39m\u001b[38;5;241m.\u001b[39mdropout, \u001b[38;5;28mself\u001b[39m\u001b[38;5;241m.\u001b[39mtraining, \u001b[38;5;28mself\u001b[39m\u001b[38;5;241m.\u001b[39mbidirectional)\n",
            "\u001b[0;31mKeyboardInterrupt\u001b[0m: "
          ]
        }
      ],
      "source": [
        "def objective(trial):\n",
        "    # --- гиперпараметры ---\n",
        "    eps = trial.suggest_float(\"eps\",    0.5, 2.0,    log=True)\n",
        "    lr  = trial.suggest_float(\"lr\",     1e-3, 1e-2,   log=True)\n",
        "    alpha_l2  = trial.suggest_float(\"alpha_l2\", 1e-5, 1e-1, log=True)\n",
        "    patience  = trial.suggest_int(\"patience\", 3, 10)\n",
        "    hidden_dim = trial.suggest_categorical(\"hidden_dim\", [64, 128, 256])\n",
        "    dropout = trial.suggest_float(\"dropout\", 0.1, 0.6, step=0.1)\n",
        "    \n",
        "    atk_model = attack_LSTM(\n",
        "        hidden_dim=hidden_dim, x_dim=1, \n",
        "        activation_type='tanh', dropout=dropout\n",
        "    )\n",
        "\n",
        "    val_loss, val_acc = train_atk_model(\n",
        "        atk_model, clf_LSTM, train_dl,\n",
        "        eps=eps,  epochs=50, lr=lr, alpha_l2=alpha_l2,\n",
        "        device=device, patience=patience\n",
        "    )\n",
        "\n",
        "    return val_acc \n",
        "\n",
        "study = optuna.create_study(direction=\"minimize\", sampler=optuna.samplers.TPESampler(),\n",
        "                            pruner=optuna.pruners.MedianPruner(n_warmup_steps=3))\n",
        "\n",
        "study.optimize(objective, n_trials=50, timeout=60*60)\n",
        "print(\"BEST PARAMS:\", study.best_params)\n"
      ]
    },
    {
      "cell_type": "markdown",
      "id": "270c0873",
      "metadata": {},
      "source": [
        "### ResCNN Attack"
      ]
    },
    {
      "cell_type": "code",
      "execution_count": 59,
      "id": "2b7ea2c5",
      "metadata": {
        "id": "2b7ea2c5"
      },
      "outputs": [],
      "source": [
        "class ResCNNModel(nn.Module):\n",
        "    def __init__(self, x_dim=1, output_dim=n_classes,\n",
        "                 activation_type='identity',\n",
        "                 rescnn_kwargs=None):\n",
        "        super().__init__()\n",
        "        self.x_dim = x_dim\n",
        "        rescnn_kwargs = rescnn_kwargs or {}\n",
        "        self.body = ResCNN(c_in=x_dim, c_out=output_dim, **rescnn_kwargs)\n",
        "        self.fin = Activation(activation_type)\n",
        "    def forward(self, x):\n",
        "        if x.ndim == 3 and x.shape[1] != self.x_dim:\n",
        "            x = x.transpose(1, 2)\n",
        "        return self.fin(self.body(x))\n",
        "\n",
        "class AttackCNN(nn.Module):\n",
        "    def __init__(self, hidden_dim=128, x_dim=1, activation_type='tanh'):\n",
        "        super().__init__()\n",
        "        self.step_cnn = ResCNNModel(x_dim=x_dim, output_dim=hidden_dim, activation_type='identity')\n",
        "        self.fc = nn.Linear(hidden_dim, x_dim)\n",
        "        self.act = Activation(activation_type)\n",
        "    def forward(self, x):\n",
        "        B, L, C = x.shape\n",
        "        x_flat = x.contiguous().view(B * L, 1, C)\n",
        "        h = self.step_cnn(x_flat)\n",
        "        h = h.view(B, L, -1)\n",
        "        return self.fc(self.act(h))\n",
        "        # return self.act(h)\n"
      ]
    },
    {
      "cell_type": "markdown",
      "id": "17fcb432",
      "metadata": {},
      "source": [
        "#### train"
      ]
    },
    {
      "cell_type": "code",
      "execution_count": 93,
      "id": "944bd8be",
      "metadata": {},
      "outputs": [
        {
          "name": "stdout",
          "output_type": "stream",
          "text": [
            "\n",
            "Epoch 01 | victim‑loss 1.9133 | acc 0.3389\n"
          ]
        },
        {
          "data": {
            "text/plain": [
              "(1.9133474561903212, 0.33888889153798424)"
            ]
          },
          "execution_count": 93,
          "metadata": {},
          "output_type": "execute_result"
        }
      ],
      "source": [
        "atk_resCNN = AttackCNN().to(device)\n",
        "atk_resCNN = AttackCNN(hidden_dim=64, x_dim=1, activation_type='tanh').to(device)\n",
        "\n",
        "''' \n",
        "#! training is very sensitive to random-seed\n",
        "weights were obtained with the parameters:\n",
        "{'eps': 1.9910549963365909, 'lr': 0.0021041627898080928,\n",
        "'alpha_l2': 4.549583575912758e-05, 'patience': 6}\n",
        "'''\n",
        "weights_path = 'weights/surr_resCNNfc_CPU_0.28.pth'\n",
        "atk_resCNN.load_state_dict(torch.load(weights_path, map_location=device))\n",
        "\n",
        "eps_resCNN = 1.9910549963365909\n",
        "train_atk_model(atk_resCNN, clf_resCNN, train_dl,\n",
        "                eps=eps_resCNN, \n",
        "                epochs=1, lr=0.00021041627898080928, alpha_l2=4.549583575912758e-05, \n",
        "                device=device, patience=6, is_debugged=False)"
      ]
    },
    {
      "cell_type": "markdown",
      "id": "91e39460",
      "metadata": {},
      "source": [
        "#### optuna"
      ]
    },
    {
      "cell_type": "code",
      "execution_count": 65,
      "id": "067eb0c9",
      "metadata": {},
      "outputs": [],
      "source": [
        "def objective(trial):\n",
        "    eps = trial.suggest_float(\"eps\",    0.5, 2.0,    log=True)\n",
        "    lr  = trial.suggest_float(\"lr\",     1e-3, 1e-2,   log=True)\n",
        "    alpha_l2  = trial.suggest_float(\"alpha_l2\", 1e-5, 1e-1, log=True)\n",
        "    patience  = trial.suggest_int(\"patience\", 3, 10)\n",
        "\n",
        "    atk_model = AttackCNN(hidden_dim=64, x_dim=1, activation_type='tanh')\n",
        "\n",
        "    val_loss, val_acc = train_atk_model(\n",
        "        atk_model, clf_LSTM, train_dl,\n",
        "        eps=eps,  epochs=50, lr=lr, alpha_l2=alpha_l2,\n",
        "        device=device, patience=patience\n",
        "    )\n",
        "\n",
        "    return val_acc\n",
        "\n",
        "# study = optuna.create_study(direction=\"minimize\", sampler=optuna.samplers.TPESampler(),\n",
        "#                             pruner=optuna.pruners.MedianPruner(n_warmup_steps=3))\n",
        "# study.optimize(objective, n_trials=50, timeout=60*60)\n",
        "# print(\"BEST PARAMS:\", study.best_params)\n"
      ]
    },
    {
      "cell_type": "markdown",
      "id": "1b9d8e12",
      "metadata": {},
      "source": [
        "### PatchTST Attack"
      ]
    },
    {
      "cell_type": "code",
      "execution_count": 77,
      "id": "1732b3b1",
      "metadata": {},
      "outputs": [
        {
          "name": "stdout",
          "output_type": "stream",
          "text": [
            "Sequence length = 144\n"
          ]
        }
      ],
      "source": [
        "loader = train_dl\n",
        "x, _ = next(iter(loader))\n",
        "seq_len = x.size(1)           # длина последовательности\n",
        "print(\"Sequence length =\", seq_len)\n"
      ]
    },
    {
      "cell_type": "code",
      "execution_count": 80,
      "id": "f72c8c50",
      "metadata": {
        "id": "f72c8c50"
      },
      "outputs": [],
      "source": [
        "class BaseModel(torch.nn.Module):\n",
        "    def __init__(self, *args, **kwargs) -> None:\n",
        "        super().__init__()\n",
        "        self.self_supervised = False\n",
        "\n",
        "class PatchTST(BaseModel):\n",
        "    def __init__(self, activation_type: str = \"sigmoid\", **kwargs) -> None:\n",
        "        super().__init__()\n",
        "        self.model = mdls.PatchTST(**kwargs).float()\n",
        "        self.final_activation = Activation(activation_type)\n",
        "\n",
        "    def forward(self, X: torch.Tensor) -> torch.Tensor:\n",
        "        X = X.transpose(1, 2)\n",
        "        output = self.model(X)\n",
        "        return self.final_activation(output).squeeze(-1)\n",
        "\n",
        "\n",
        "class AttackPatchTST(nn.Module):\n",
        "    def __init__(\n",
        "        self,\n",
        "        hidden_dim: int = 128,\n",
        "        x_dim: int = 1,\n",
        "        activation_type: str = \"tanh\",\n",
        "        patch_kwargs: Optional[dict] = None,\n",
        "    ):\n",
        "        super().__init__()\n",
        "\n",
        "        patch_kwargs = patch_kwargs or {}\n",
        "        # гарантируем нужный выход PatchTST\n",
        "        patch_kwargs.update(dict(c_in=x_dim,\n",
        "                                 c_out=hidden_dim,\n",
        "                                 pred_dim=hidden_dim))\n",
        "\n",
        "        self.step_model = PatchTST(activation_type=\"identity\", **patch_kwargs)\n",
        "        self.fc        = nn.Linear(hidden_dim, x_dim)\n",
        "        self.act       = Activation(activation_type)\n",
        "\n",
        "    def forward(self, x: torch.Tensor) -> torch.Tensor:\n",
        "        B, L, _ = x.shape\n",
        "        h = self.step_model(x)          # (B, 1, 1, hidden_dim)\n",
        "\n",
        "        h = h.view(B, -1)\n",
        "        # либо h = h.squeeze(1).squeeze(1)\n",
        "\n",
        "        h = h.unsqueeze(1).expand(-1, L, -1)   # (B, L, hidden_dim)\n",
        "        return self.fc(self.act(h))            # (B, L, C)\n"
      ]
    },
    {
      "cell_type": "markdown",
      "id": "ff082ca8",
      "metadata": {},
      "source": [
        "#### train"
      ]
    },
    {
      "cell_type": "code",
      "execution_count": 96,
      "id": "fdfb70b1",
      "metadata": {
        "colab": {
          "base_uri": "https://localhost:8080/"
        },
        "id": "fdfb70b1",
        "outputId": "cae76ed3-078f-4108-eaa4-f6efb8bd3294"
      },
      "outputs": [
        {
          "name": "stdout",
          "output_type": "stream",
          "text": [
            "\n",
            "Epoch 01 | victim‑loss 1.8540 | acc 0.6111\n",
            "\n",
            "Epoch 02 | victim‑loss 4.4021 | acc 0.3611\n",
            "\n",
            "Epoch 03 | victim‑loss 5.0330 | acc 0.2889\n",
            "\n",
            "Epoch 04 | victim‑loss 5.3508 | acc 0.2667\n",
            "\n",
            "Epoch 05 | victim‑loss 5.5228 | acc 0.2444\n",
            "\n",
            "Epoch 06 | victim‑loss 5.5586 | acc 0.2333\n",
            "\n",
            "Epoch 07 | victim‑loss 5.6052 | acc 0.2167\n",
            "\n",
            "Epoch 08 | victim‑loss 5.6341 | acc 0.2167\n",
            "\n",
            "Epoch 09 | victim‑loss 5.6838 | acc 0.1944\n",
            "\n",
            "Epoch 10 | victim‑loss 5.8215 | acc 0.1778\n",
            "\n",
            "Epoch 11 | victim‑loss 5.8359 | acc 0.1778\n",
            "\n",
            "Epoch 12 | victim‑loss 5.9873 | acc 0.1222\n",
            "\n",
            "Epoch 13 | victim‑loss 6.1531 | acc 0.0889\n",
            "\n",
            "Epoch 14 | victim‑loss 6.1499 | acc 0.0889\n",
            "\n",
            "Epoch 15 | victim‑loss 6.2843 | acc 0.0667\n",
            "\n",
            "Epoch 16 | victim‑loss 6.2096 | acc 0.0778\n",
            "\n",
            "Epoch 17 | victim‑loss 6.3128 | acc 0.0667\n",
            "\n",
            "Epoch 18 | victim‑loss 6.2822 | acc 0.0722\n",
            "\n",
            "Epoch 19 | victim‑loss 6.2859 | acc 0.0778\n",
            "\n",
            "Epoch 20 | victim‑loss 6.2994 | acc 0.0667\n",
            "\n",
            "Epoch 21 | victim‑loss 6.2927 | acc 0.0778\n",
            "\n",
            "Epoch 22 | victim‑loss 6.2913 | acc 0.0722\n",
            "\n",
            "Epoch 23 | victim‑loss 6.2964 | acc 0.0778\n",
            "\n",
            "Epoch 24 | victim‑loss 6.3046 | acc 0.0722\n",
            "\n",
            "Epoch 25 | victim‑loss 6.2977 | acc 0.0667\n",
            "⏹ Early stopping at epoch 25\n"
          ]
        },
        {
          "data": {
            "text/plain": [
              "(6.297706656985813, 0.06666666674945089)"
            ]
          },
          "execution_count": 96,
          "metadata": {},
          "output_type": "execute_result"
        }
      ],
      "source": [
        "patch_params = dict(\n",
        "    seq_len=144,\n",
        "    n_layers=3,\n",
        "    n_heads=8,\n",
        "    d_model=512,\n",
        "    d_ff=2048,\n",
        "    dropout=0.4,\n",
        "    attn_dropout=0.0,\n",
        "    patch_len=28,\n",
        "    stride=24,\n",
        "    padding_patch=True,\n",
        "    revin=True,\n",
        "    affine=False,\n",
        "    individual=False,\n",
        "    subtract_last=False,\n",
        "    decomposition=False,\n",
        "    kernel_size=25,\n",
        "    activation=\"gelu\",\n",
        "    norm=\"BatchNorm\",\n",
        "    pre_norm=False,\n",
        "    res_attention=True,\n",
        "    store_attn=False,\n",
        ")\n",
        "\n",
        "atk_PatchTST = AttackPatchTST(\n",
        "    hidden_dim=256,\n",
        "    x_dim=1,\n",
        "    activation_type=\"tanh\",\n",
        "    patch_kwargs=patch_params,\n",
        ")\n",
        "\n",
        "eps_PatchTST = 1.52738926\n",
        "train_atk_model(atk_PatchTST, clf_resCNN, train_dl,\n",
        "                eps=eps_PatchTST, \n",
        "                epochs=50, lr=0.000202314, alpha_l2=0.000114732, \n",
        "                device=device, patience=8, is_debugged=False)"
      ]
    },
    {
      "cell_type": "markdown",
      "id": "96440164",
      "metadata": {},
      "source": [
        "#### optuna"
      ]
    },
    {
      "cell_type": "code",
      "execution_count": 83,
      "id": "28317248",
      "metadata": {},
      "outputs": [],
      "source": [
        "SEQ_LEN  = 144\n",
        "X_DIM    = 1\n",
        "DEVICE   = device\n",
        "VICTIM   = clf_resCNN\n",
        "TRAIN_DL = train_dl\n",
        "\n",
        "def objective(trial: optuna.Trial):\n",
        "\n",
        "    # atk params\n",
        "    eps        = trial.suggest_float(\"eps\",        0.5, 2.0,    log=True)\n",
        "    lr         = trial.suggest_float(\"lr\",         1e-4, 1e-2,  log=True)\n",
        "    alpha_l2   = trial.suggest_float(\"alpha_l2\",   1e-5, 1e-2,  log=True)\n",
        "    patience   = trial.suggest_int  (\"patience\",   3, 10)\n",
        "\n",
        "    # architecture\n",
        "    hidden_dim = trial.suggest_categorical(\"hidden_dim\", [64, 128, 256])\n",
        "\n",
        "    # main hyperparams \n",
        "    patch_len  = trial.suggest_int(\"patch_len\", 8, 32, step=4)\n",
        "    stride_max = patch_len                      # stride не может превышать patch_len\n",
        "    stride     = trial.suggest_int(\"stride\",    4, stride_max, step=4)\n",
        "    n_layers   = trial.suggest_int(\"n_layers\",  1, 4)\n",
        "    d_model    = trial.suggest_categorical(\"d_model\", [256, 512, 768])\n",
        "    dropout    = trial.suggest_float(\"dropout\", 0.1, 0.6, step=0.1)\n",
        "\n",
        "    # подготовим patch-kwargs\n",
        "    patch_kwargs = dict(\n",
        "        seq_len       = SEQ_LEN,\n",
        "        n_layers      = n_layers,\n",
        "        n_heads       = 8,\n",
        "        d_model       = d_model,\n",
        "        d_ff          = 4 * d_model,\n",
        "        dropout       = dropout,\n",
        "        attn_dropout  = 0.0,\n",
        "        patch_len     = patch_len,\n",
        "        stride        = stride,\n",
        "        padding_patch = True,\n",
        "        revin         = True,\n",
        "        affine        = False,\n",
        "        individual    = False,\n",
        "        subtract_last = False,\n",
        "        decomposition = False,\n",
        "        kernel_size   = 25,\n",
        "        activation    = \"gelu\",\n",
        "        norm          = \"BatchNorm\",\n",
        "        pre_norm      = False,\n",
        "        res_attention = True,\n",
        "        store_attn    = False,\n",
        "    )\n",
        "\n",
        "    surrogate = AttackPatchTST(\n",
        "        hidden_dim     = hidden_dim,\n",
        "        x_dim          = X_DIM,\n",
        "        activation_type= \"tanh\",\n",
        "        patch_kwargs   = patch_kwargs\n",
        "    )\n",
        "\n",
        "    val_loss, val_acc = train_atk_model(\n",
        "        surrogate, VICTIM, TRAIN_DL,\n",
        "        eps=eps, epochs=50, lr=lr, alpha_l2=alpha_l2,\n",
        "        device=DEVICE, patience=patience\n",
        "    )\n",
        "\n",
        "    return val_acc\n",
        "\n",
        "\n",
        "# sampler = optuna.samplers.TPESampler()\n",
        "# pruner  = optuna.pruners.MedianPruner(n_warmup_steps=3)\n",
        "\n",
        "# study = optuna.create_study(direction=\"minimize\", sampler=sampler, pruner=pruner)\n",
        "# study.optimize(objective, n_trials=50, timeout=60*60)\n",
        "\n",
        "# print(\"BEST PARAMS:\", study.best_params)\n"
      ]
    },
    {
      "cell_type": "markdown",
      "id": "_EF_3eeThs72",
      "metadata": {
        "id": "_EF_3eeThs72"
      },
      "source": [
        "### FGSM && iFGSM"
      ]
    },
    {
      "cell_type": "code",
      "execution_count": 26,
      "id": "7cab5923",
      "metadata": {
        "id": "7cab5923"
      },
      "outputs": [],
      "source": [
        "# class FGSMAttack(Attack):\n",
        "#     def __call__(self, model, x, y):\n",
        "#         x_req = x.clone().detach().requires_grad_(True)\n",
        "#         loss = F.cross_entropy(model(x_req), y)\n",
        "#         loss.backward()\n",
        "#         delta = self.eps * x_req.grad.sign()\n",
        "#         x_adv = torch.clamp(x + delta, *self.clamp)\n",
        "#         return x_adv.detach()\n",
        "\n",
        "# class iFGSMAttack(Attack):\n",
        "#     def __init__(self, eps, n_iter=10, alpha=None, clamp=(-1, 1), rand_init=True):\n",
        "#         super().__init__(eps, clamp)\n",
        "#         self.n_iter = n_iter\n",
        "#         self.alpha = alpha if alpha is not None else 1.25 * eps / n_iter\n",
        "#         self.rand_init = rand_init\n",
        "\n",
        "#     def _clip(self, x_adv, x_orig):\n",
        "#         delta = torch.clamp(x_adv - x_orig, min=-self.eps, max=self.eps)\n",
        "#         return torch.clamp(x_orig + delta, *self.clamp)\n",
        "\n",
        "#     def __call__(self, model, x, y):\n",
        "#         model.eval()\n",
        "#         if self.rand_init:\n",
        "#             x_adv = x + torch.empty_like(x).uniform_(-self.eps, self.eps)\n",
        "#             x_adv = self._clip(x_adv, x).detach()\n",
        "#         else:\n",
        "#             x_adv = x.clone().detach()\n",
        "\n",
        "#         for _ in range(self.n_iter):\n",
        "#             x_adv.requires_grad_(True)\n",
        "#             loss = F.cross_entropy(model(x_adv), y)\n",
        "#             model.zero_grad()\n",
        "#             loss.backward()\n",
        "#             grad_sign = x_adv.grad.sign()\n",
        "#             x_adv = x_adv + self.alpha * grad_sign\n",
        "#             x_adv = self._clip(x_adv, x).detach()\n",
        "#         return x_adv\n",
        "\n"
      ]
    },
    {
      "cell_type": "code",
      "execution_count": 110,
      "id": "42ac3b0e",
      "metadata": {
        "id": "42ac3b0e"
      },
      "outputs": [],
      "source": [
        "class FGSMAttack(Attack):\n",
        "    def __call__(self, model, x, y):\n",
        "        x_req = x.clone().detach().requires_grad_(True)\n",
        "        loss = F.cross_entropy(model(x_req), y)\n",
        "        loss.backward()\n",
        "        delta = self.eps * x_req.grad.sign()\n",
        "        # print(f\"FGSM L2 norm = {torch.norm(delta, p=2)}, L_infty norm = {torch.norm(delta, p=float('inf'))}\")\n",
        "        x_adv = x + delta\n",
        "        if not self.clamp is None:\n",
        "          x_adv = torch.clamp(x_adv, *self.clamp)\n",
        "        return x_adv.detach()\n",
        "\n",
        "class iFGSMAttack(Attack):\n",
        "    def __init__(self, eps, n_iter=20, alpha=None, clamp=None,\n",
        "                 rand_init=True, momentum=0.9):\n",
        "        super().__init__(eps, clamp)\n",
        "        self.n_iter, self.alpha = n_iter, alpha or 1.5*eps/n_iter\n",
        "        self.rand_init, self.mu = rand_init, momentum\n",
        "\n",
        "    def __call__(self, model, x, y):\n",
        "        x_adv = x.detach()\n",
        "        if self.rand_init:\n",
        "            x_adv = x_adv + torch.empty_like(x).uniform_(-self.eps, self.eps)\n",
        "            if not self.clamp is None:\n",
        "              x_adv = torch.clamp(x_adv, *self.clamp)\n",
        "        g = torch.zeros_like(x)\n",
        "        for _ in range(self.n_iter):\n",
        "            x_adv.requires_grad_(True)\n",
        "            loss = F.cross_entropy(model(x_adv), y)\n",
        "            model.zero_grad(); loss.backward()\n",
        "            grad = x_adv.grad / x_adv.grad.abs().mean(dim=(1,2), keepdim=True)\n",
        "            g = self.mu * g + grad\n",
        "            x_adv = x_adv + self.alpha * g.sign()\n",
        "            delta = torch.clamp(x_adv - x, min=-self.eps, max=self.eps)\n",
        "            x_adv = x + delta\n",
        "            if not self.clamp is None:\n",
        "              x_adv = torch.clamp(x_adv, *self.clamp)\n",
        "            x_adv = x_adv.detach()\n",
        "        # print(f\"iFGSM L2 norm = {torch.norm(x_adv - x, p=2)}, L_infty norm = {torch.norm(x_adv - x, p=float('inf'))}\")\n",
        "        return x_adv"
      ]
    },
    {
      "cell_type": "code",
      "execution_count": null,
      "id": "dLGgPAuoKMLm",
      "metadata": {
        "colab": {
          "base_uri": "https://localhost:8080/"
        },
        "id": "dLGgPAuoKMLm",
        "outputId": "471bd8e1-33b9-49fb-959b-3baf4c1ec131"
      },
      "outputs": [],
      "source": []
    },
    {
      "cell_type": "code",
      "execution_count": 97,
      "id": "be570aea",
      "metadata": {},
      "outputs": [],
      "source": []
    },
    {
      "cell_type": "markdown",
      "id": "Bvem0V2fh_3P",
      "metadata": {
        "id": "Bvem0V2fh_3P"
      },
      "source": [
        "## Сomparison of attacks"
      ]
    },
    {
      "cell_type": "markdown",
      "id": "db625761",
      "metadata": {},
      "source": [
        "### Metrics"
      ]
    },
    {
      "cell_type": "code",
      "execution_count": 111,
      "id": "06a33e27",
      "metadata": {},
      "outputs": [],
      "source": [
        "def preds_to_labels(logits: torch.Tensor) -> torch.Tensor:\n",
        "    return logits.argmax(dim=1)\n",
        "\n",
        "def fooling_rate(model, loader, attack, device='cpu'):\n",
        "    model.eval()\n",
        "    fooled, total = 0, 0\n",
        "    with torch.no_grad():\n",
        "        for x, y in loader:\n",
        "            x, y = x.to(device), y.to(device)\n",
        "            preds_orig = preds_to_labels(model(x))\n",
        "    fooled, total = 0, 0\n",
        "    for x, y in loader:\n",
        "        x, y = x.to(device), y.to(device)\n",
        "        preds_orig = preds_to_labels(model(x).detach())\n",
        "        x_adv = attack(model, x, y)\n",
        "        preds_adv = preds_to_labels(model(x_adv).detach())\n",
        "        fooled += (preds_adv != preds_orig).sum().item()\n",
        "        total += x.size(0)\n",
        "    return fooled / total\n",
        "\n",
        "def efficiency_rate(model, loader, attack, device='cpu'):\n",
        "    model.eval()\n",
        "    true_positives = 0\n",
        "    false_positives = 0\n",
        "    false_negatives = 0\n",
        "\n",
        "    for x, y in loader:\n",
        "        x, y = x.to(device), y.to(device)\n",
        "        x_adv = attack(model, x, y)\n",
        "\n",
        "        with torch.no_grad():\n",
        "            logits_adv = model(x_adv)\n",
        "            preds_adv = logits_adv.argmax(dim=1)\n",
        "\n",
        "        true_positives += ((preds_adv == 1) & (y == 1)).sum().item()\n",
        "        false_positives += ((preds_adv == 1) & (y == 0)).sum().item()\n",
        "        false_negatives += ((preds_adv == 0) & (y == 1)).sum().item()\n",
        "\n",
        "    precision = true_positives / (true_positives + false_positives + 1e-10)\n",
        "    recall = true_positives / (true_positives + false_negatives + 1e-10)\n",
        "\n",
        "    f1 = 2 * (precision * recall) / (precision + recall + 1e-10)\n",
        "    return 1 - f1\n"
      ]
    },
    {
      "cell_type": "code",
      "execution_count": 112,
      "id": "d32221d5",
      "metadata": {},
      "outputs": [],
      "source": [
        "\n",
        "def accuracy_after_attack(model, loader, attack, device='cpu'):\n",
        "    model.eval()\n",
        "    correct = 0\n",
        "    total = 0\n",
        "\n",
        "    for x, y in loader:\n",
        "        x, y = x.to(device), y.to(device)\n",
        "        x_adv = attack(model, x, y)\n",
        "\n",
        "        with torch.no_grad():\n",
        "            logits_adv = model(x_adv)\n",
        "            preds_adv = logits_adv.argmax(dim=1)\n",
        "\n",
        "        correct += (preds_adv == y).sum().item()\n",
        "        total += y.size(0)\n",
        "\n",
        "    accuracy = correct / total\n",
        "    return accuracy\n",
        "\n"
      ]
    },
    {
      "cell_type": "code",
      "execution_count": 113,
      "id": "9012376a",
      "metadata": {},
      "outputs": [],
      "source": [
        "eps_FGSM = 1\n",
        "fgsm_attack  = FGSMAttack(eps_FGSM)\n",
        "ifgsm_attack = iFGSMAttack(eps=eps_FGSM, n_iter=60)\n",
        "\n",
        "mba_LSTM = ModelBasedAttack(atk_LSTM, eps_LSTM)\n",
        "mba_resCNN = ModelBasedAttack(atk_resCNN, eps_resCNN)\n",
        "mba_PatchTST = ModelBasedAttack(atk_PatchTST, eps_PatchTST)\n",
        "\n"
      ]
    },
    {
      "cell_type": "code",
      "execution_count": null,
      "id": "48475259",
      "metadata": {},
      "outputs": [
        {
          "name": "stdout",
          "output_type": "stream",
          "text": [
            "Unattacked   fooling rate:  0.000,  efficiency metric:  0.065,  target accuracy after attack:  0.933\n",
            "FGSM         fooling rate:  0.839,  efficiency metric:  0.905,  target accuracy after attack:  0.050\n",
            "iFGSM10nonrand02 fooling rate:  0.828,  efficiency metric:  0.885,  target accuracy after attack:  0.061\n",
            "LSTM         fooling rate:  0.417,  efficiency metric:  0.818,  target accuracy after attack:  0.550\n",
            "resCNN       fooling rate:  0.883,  efficiency metric:  0.756,  target accuracy after attack:  0.172\n",
            "PatchTST     fooling rate:  0.822,  efficiency metric:  0.799,  target accuracy after attack:  0.161\n"
          ]
        }
      ],
      "source": [
        "# print(f'eps = {EPS}')\n",
        "\n",
        "test_loader = test_dl\n",
        "\n",
        "attacks = {'Unattacked': lambda model, x, y: x, \n",
        "           'FGSM': fgsm_attack,\n",
        "           'iFGSM10nonrand02': iFGSMAttack(eps=eps_FGSM, n_iter=10, rand_init=False, momentum=0.2),\n",
        "           'LSTM': mba_LSTM,\n",
        "           'resCNN': mba_resCNN,\n",
        "           'PatchTST': mba_PatchTST}\n",
        "\n",
        "clf_model = clf_LSTM\n",
        "for name, atk in attacks.items():\n",
        "    fl_rate = fooling_rate(clf_model, test_loader, atk, device=device)\n",
        "    ef_rate = efficiency_rate(clf_model, test_dl, atk, device=device)\n",
        "    acc = accuracy_after_attack(clf_model, test_dl, atk, device=device)\n",
        "    print(f'{name:<12} fooling rate:  {fl_rate:.3f},  efficiency metric:  {ef_rate:.3f},  target accuracy after attack:  {acc:.3f}')"
      ]
    },
    {
      "cell_type": "code",
      "execution_count": 23,
      "id": "s0BXdVddVqAq",
      "metadata": {
        "colab": {
          "base_uri": "https://localhost:8080/"
        },
        "id": "s0BXdVddVqAq",
        "outputId": "9908044c-ff95-4948-ac42-c891bf8e187a"
      },
      "outputs": [
        {
          "name": "stdout",
          "output_type": "stream",
          "text": [
            "Fooling rate FGSM  : 0.133\n",
            "Fooling rate iFGSM : 0.156\n",
            "Fooling rate LSTM  : 0.144\n",
            "Fooling rate CNN   : 0.144\n"
          ]
        }
      ],
      "source": []
    },
    {
      "cell_type": "markdown",
      "id": "c47ed63f",
      "metadata": {},
      "source": [
        "### Vizualization of adversarial samples"
      ]
    },
    {
      "cell_type": "code",
      "execution_count": 106,
      "id": "858a6b6a",
      "metadata": {},
      "outputs": [
        {
          "data": {
            "image/png": "[encoded data removed]",
            "text/plain": [
              "<Figure size 800x300 with 1 Axes>"
            ]
          },
          "metadata": {},
          "output_type": "display_data"
        },
        {
          "data": {
            "image/png": "[encoded data removed]",
            "text/plain": [
              "<Figure size 800x300 with 1 Axes>"
            ]
          },
          "metadata": {},
          "output_type": "display_data"
        },
        {
          "data": {
            "image/png": "[encoded data removed]",
            "text/plain": [
              "<Figure size 800x300 with 1 Axes>"
            ]
          },
          "metadata": {},
          "output_type": "display_data"
        }
      ],
      "source": [
        "N_EXAMPLES = 3\n",
        "FILTER = [2]\n",
        "SURR_MODELS = [[atk_LSTM, atk_resCNN, atk_PatchTST][i] for i in FILTER]\n",
        "EPS_LIST    = [[eps_LSTM, eps_resCNN, eps_PatchTST][i] for i in FILTER]\n",
        "\n",
        "\n",
        "\n",
        "# выбираем batch-и, вытаскиваем по одному примеру\n",
        "chosen = []\n",
        "for xb, yb in test_dl:\n",
        "    for i in range(xb.size(0)):\n",
        "        chosen.append((xb[i], yb[i]))\n",
        "    if len(chosen) >= 50:       # достаточно выборки для случайного выбора\n",
        "        break\n",
        "\n",
        "examples = random.sample(chosen, N_EXAMPLES)\n",
        "\n",
        "\n",
        "for sample_idx, (x_orig, y_lbl) in enumerate(examples, 1):\n",
        "    x_orig = x_orig.to(device).unsqueeze(0)\n",
        "    x_np      = x_orig.squeeze().cpu().numpy()\n",
        "    x_adv_np_list = []\n",
        "    for i, atk_model in enumerate(SURR_MODELS):\n",
        "        atk_model.eval()\n",
        "        with torch.no_grad():\n",
        "            delta = EPS_LIST[i] * torch.tanh(atk_model(x_orig))\n",
        "            x_adv = x_orig + delta\n",
        "            x_adv_np_list.append(x_adv.squeeze().cpu().numpy())\n",
        "\n",
        "    plt.figure(figsize=(8, 3))\n",
        "    plt.plot(x_np,     label='Orig', linewidth=1)\n",
        "    for i, x_adv_np in enumerate(x_adv_np_list):\n",
        "        plt.plot(x_adv_np, label=f'{SURR_MODELS[i].__class__.__name__}', linewidth=1)\n",
        "    plt.title(f'Sample {sample_idx} (label={int(y_lbl)})')\n",
        "    plt.xlabel('Time step')\n",
        "    plt.ylabel('Value')\n",
        "    plt.legend()\n",
        "    plt.tight_layout()\n",
        "    plt.show()\n"
      ]
    }
  ],
  "metadata": {
    "colab": {
      "provenance": []
    },
    "kernelspec": {
      "display_name": "a3_env",
      "language": "python",
      "name": "python3"
    },
    "language_info": {
      "codemirror_mode": {
        "name": "ipython",
        "version": 3
      },
      "file_extension": ".py",
      "mimetype": "text/x-python",
      "name": "python",
      "nbconvert_exporter": "python",
      "pygments_lexer": "ipython3",
      "version": "3.9.23"
    }
  },
  "nbformat": 4,
  "nbformat_minor": 5
}
